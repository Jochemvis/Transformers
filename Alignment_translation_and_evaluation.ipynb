{
  "cells": [
    {
      "cell_type": "code",
      "execution_count": null,
      "metadata": {
        "colab": {
          "base_uri": "https://localhost:8080/"
        },
        "id": "PGm7Zqjys1Gw",
        "outputId": "253e877c-8c94-441a-bad9-e8e87fe8e1d3"
      },
      "outputs": [
        {
          "name": "stdout",
          "output_type": "stream",
          "text": [
            "Requirement already satisfied: unbabel-comet in /usr/local/lib/python3.11/dist-packages (2.2.5)\n",
            "Requirement already satisfied: entmax<2.0,>=1.1 in /usr/local/lib/python3.11/dist-packages (from unbabel-comet) (1.3)\n",
            "Requirement already satisfied: huggingface-hub<1.0,>=0.19.3 in /usr/local/lib/python3.11/dist-packages (from unbabel-comet) (0.30.1)\n",
            "Requirement already satisfied: jsonargparse==3.13.1 in /usr/local/lib/python3.11/dist-packages (from unbabel-comet) (3.13.1)\n",
            "Requirement already satisfied: numpy<2.0.0,>=1.20.0 in /usr/local/lib/python3.11/dist-packages (from unbabel-comet) (1.26.4)\n",
            "Requirement already satisfied: pandas>=1.4.1 in /usr/local/lib/python3.11/dist-packages (from unbabel-comet) (2.2.2)\n",
            "Requirement already satisfied: protobuf<5.0.0,>=4.24.4 in /usr/local/lib/python3.11/dist-packages (from unbabel-comet) (4.25.6)\n",
            "Requirement already satisfied: pytorch-lightning<3.0.0,>=2.0.0 in /usr/local/lib/python3.11/dist-packages (from unbabel-comet) (2.5.1)\n",
            "Requirement already satisfied: sacrebleu<3.0.0,>=2.0.0 in /usr/local/lib/python3.11/dist-packages (from unbabel-comet) (2.5.1)\n",
            "Requirement already satisfied: scipy<2.0.0,>=1.5.4 in /usr/local/lib/python3.11/dist-packages (from unbabel-comet) (1.14.1)\n",
            "Requirement already satisfied: sentencepiece<0.3.0,>=0.2.0 in /usr/local/lib/python3.11/dist-packages (from unbabel-comet) (0.2.0)\n",
            "Requirement already satisfied: torch>=1.6.0 in /usr/local/lib/python3.11/dist-packages (from unbabel-comet) (2.6.0+cu124)\n",
            "Requirement already satisfied: torchmetrics<0.11.0,>=0.10.2 in /usr/local/lib/python3.11/dist-packages (from unbabel-comet) (0.10.3)\n",
            "Requirement already satisfied: transformers<5.0,>=4.17 in /usr/local/lib/python3.11/dist-packages (from unbabel-comet) (4.50.3)\n",
            "Requirement already satisfied: PyYAML>=3.13 in /usr/local/lib/python3.11/dist-packages (from jsonargparse==3.13.1->unbabel-comet) (6.0.2)\n",
            "Requirement already satisfied: filelock in /usr/local/lib/python3.11/dist-packages (from huggingface-hub<1.0,>=0.19.3->unbabel-comet) (3.18.0)\n",
            "Requirement already satisfied: fsspec>=2023.5.0 in /usr/local/lib/python3.11/dist-packages (from huggingface-hub<1.0,>=0.19.3->unbabel-comet) (2025.3.2)\n",
            "Requirement already satisfied: packaging>=20.9 in /usr/local/lib/python3.11/dist-packages (from huggingface-hub<1.0,>=0.19.3->unbabel-comet) (24.2)\n",
            "Requirement already satisfied: requests in /usr/local/lib/python3.11/dist-packages (from huggingface-hub<1.0,>=0.19.3->unbabel-comet) (2.32.3)\n",
            "Requirement already satisfied: tqdm>=4.42.1 in /usr/local/lib/python3.11/dist-packages (from huggingface-hub<1.0,>=0.19.3->unbabel-comet) (4.67.1)\n",
            "Requirement already satisfied: typing-extensions>=3.7.4.3 in /usr/local/lib/python3.11/dist-packages (from huggingface-hub<1.0,>=0.19.3->unbabel-comet) (4.13.0)\n",
            "Requirement already satisfied: python-dateutil>=2.8.2 in /usr/local/lib/python3.11/dist-packages (from pandas>=1.4.1->unbabel-comet) (2.8.2)\n",
            "Requirement already satisfied: pytz>=2020.1 in /usr/local/lib/python3.11/dist-packages (from pandas>=1.4.1->unbabel-comet) (2025.2)\n",
            "Requirement already satisfied: tzdata>=2022.7 in /usr/local/lib/python3.11/dist-packages (from pandas>=1.4.1->unbabel-comet) (2025.2)\n",
            "Requirement already satisfied: lightning-utilities>=0.10.0 in /usr/local/lib/python3.11/dist-packages (from pytorch-lightning<3.0.0,>=2.0.0->unbabel-comet) (0.14.3)\n",
            "Requirement already satisfied: portalocker in /usr/local/lib/python3.11/dist-packages (from sacrebleu<3.0.0,>=2.0.0->unbabel-comet) (3.1.1)\n",
            "Requirement already satisfied: regex in /usr/local/lib/python3.11/dist-packages (from sacrebleu<3.0.0,>=2.0.0->unbabel-comet) (2024.11.6)\n",
            "Requirement already satisfied: tabulate>=0.8.9 in /usr/local/lib/python3.11/dist-packages (from sacrebleu<3.0.0,>=2.0.0->unbabel-comet) (0.9.0)\n",
            "Requirement already satisfied: colorama in /usr/local/lib/python3.11/dist-packages (from sacrebleu<3.0.0,>=2.0.0->unbabel-comet) (0.4.6)\n",
            "Requirement already satisfied: lxml in /usr/local/lib/python3.11/dist-packages (from sacrebleu<3.0.0,>=2.0.0->unbabel-comet) (5.3.1)\n",
            "Requirement already satisfied: networkx in /usr/local/lib/python3.11/dist-packages (from torch>=1.6.0->unbabel-comet) (3.4.2)\n",
            "Requirement already satisfied: jinja2 in /usr/local/lib/python3.11/dist-packages (from torch>=1.6.0->unbabel-comet) (3.1.6)\n",
            "Requirement already satisfied: nvidia-cuda-nvrtc-cu12==12.4.127 in /usr/local/lib/python3.11/dist-packages (from torch>=1.6.0->unbabel-comet) (12.4.127)\n",
            "Requirement already satisfied: nvidia-cuda-runtime-cu12==12.4.127 in /usr/local/lib/python3.11/dist-packages (from torch>=1.6.0->unbabel-comet) (12.4.127)\n",
            "Requirement already satisfied: nvidia-cuda-cupti-cu12==12.4.127 in /usr/local/lib/python3.11/dist-packages (from torch>=1.6.0->unbabel-comet) (12.4.127)\n",
            "Requirement already satisfied: nvidia-cudnn-cu12==9.1.0.70 in /usr/local/lib/python3.11/dist-packages (from torch>=1.6.0->unbabel-comet) (9.1.0.70)\n",
            "Requirement already satisfied: nvidia-cublas-cu12==12.4.5.8 in /usr/local/lib/python3.11/dist-packages (from torch>=1.6.0->unbabel-comet) (12.4.5.8)\n",
            "Requirement already satisfied: nvidia-cufft-cu12==11.2.1.3 in /usr/local/lib/python3.11/dist-packages (from torch>=1.6.0->unbabel-comet) (11.2.1.3)\n",
            "Requirement already satisfied: nvidia-curand-cu12==10.3.5.147 in /usr/local/lib/python3.11/dist-packages (from torch>=1.6.0->unbabel-comet) (10.3.5.147)\n",
            "Requirement already satisfied: nvidia-cusolver-cu12==11.6.1.9 in /usr/local/lib/python3.11/dist-packages (from torch>=1.6.0->unbabel-comet) (11.6.1.9)\n",
            "Requirement already satisfied: nvidia-cusparse-cu12==12.3.1.170 in /usr/local/lib/python3.11/dist-packages (from torch>=1.6.0->unbabel-comet) (12.3.1.170)\n",
            "Requirement already satisfied: nvidia-cusparselt-cu12==0.6.2 in /usr/local/lib/python3.11/dist-packages (from torch>=1.6.0->unbabel-comet) (0.6.2)\n",
            "Requirement already satisfied: nvidia-nccl-cu12==2.21.5 in /usr/local/lib/python3.11/dist-packages (from torch>=1.6.0->unbabel-comet) (2.21.5)\n",
            "Requirement already satisfied: nvidia-nvtx-cu12==12.4.127 in /usr/local/lib/python3.11/dist-packages (from torch>=1.6.0->unbabel-comet) (12.4.127)\n",
            "Requirement already satisfied: nvidia-nvjitlink-cu12==12.4.127 in /usr/local/lib/python3.11/dist-packages (from torch>=1.6.0->unbabel-comet) (12.4.127)\n",
            "Requirement already satisfied: triton==3.2.0 in /usr/local/lib/python3.11/dist-packages (from torch>=1.6.0->unbabel-comet) (3.2.0)\n",
            "Requirement already satisfied: sympy==1.13.1 in /usr/local/lib/python3.11/dist-packages (from torch>=1.6.0->unbabel-comet) (1.13.1)\n",
            "Requirement already satisfied: mpmath<1.4,>=1.1.0 in /usr/local/lib/python3.11/dist-packages (from sympy==1.13.1->torch>=1.6.0->unbabel-comet) (1.3.0)\n",
            "Requirement already satisfied: tokenizers<0.22,>=0.21 in /usr/local/lib/python3.11/dist-packages (from transformers<5.0,>=4.17->unbabel-comet) (0.21.1)\n",
            "Requirement already satisfied: safetensors>=0.4.3 in /usr/local/lib/python3.11/dist-packages (from transformers<5.0,>=4.17->unbabel-comet) (0.5.3)\n",
            "Requirement already satisfied: aiohttp!=4.0.0a0,!=4.0.0a1 in /usr/local/lib/python3.11/dist-packages (from fsspec[http]>=2022.5.0->pytorch-lightning<3.0.0,>=2.0.0->unbabel-comet) (3.11.15)\n",
            "Requirement already satisfied: setuptools in /usr/local/lib/python3.11/dist-packages (from lightning-utilities>=0.10.0->pytorch-lightning<3.0.0,>=2.0.0->unbabel-comet) (75.2.0)\n",
            "Requirement already satisfied: six>=1.5 in /usr/local/lib/python3.11/dist-packages (from python-dateutil>=2.8.2->pandas>=1.4.1->unbabel-comet) (1.17.0)\n",
            "Requirement already satisfied: MarkupSafe>=2.0 in /usr/local/lib/python3.11/dist-packages (from jinja2->torch>=1.6.0->unbabel-comet) (3.0.2)\n",
            "Requirement already satisfied: charset-normalizer<4,>=2 in /usr/local/lib/python3.11/dist-packages (from requests->huggingface-hub<1.0,>=0.19.3->unbabel-comet) (3.4.1)\n",
            "Requirement already satisfied: idna<4,>=2.5 in /usr/local/lib/python3.11/dist-packages (from requests->huggingface-hub<1.0,>=0.19.3->unbabel-comet) (3.10)\n",
            "Requirement already satisfied: urllib3<3,>=1.21.1 in /usr/local/lib/python3.11/dist-packages (from requests->huggingface-hub<1.0,>=0.19.3->unbabel-comet) (2.3.0)\n",
            "Requirement already satisfied: certifi>=2017.4.17 in /usr/local/lib/python3.11/dist-packages (from requests->huggingface-hub<1.0,>=0.19.3->unbabel-comet) (2025.1.31)\n",
            "Requirement already satisfied: aiohappyeyeballs>=2.3.0 in /usr/local/lib/python3.11/dist-packages (from aiohttp!=4.0.0a0,!=4.0.0a1->fsspec[http]>=2022.5.0->pytorch-lightning<3.0.0,>=2.0.0->unbabel-comet) (2.6.1)\n",
            "Requirement already satisfied: aiosignal>=1.1.2 in /usr/local/lib/python3.11/dist-packages (from aiohttp!=4.0.0a0,!=4.0.0a1->fsspec[http]>=2022.5.0->pytorch-lightning<3.0.0,>=2.0.0->unbabel-comet) (1.3.2)\n",
            "Requirement already satisfied: attrs>=17.3.0 in /usr/local/lib/python3.11/dist-packages (from aiohttp!=4.0.0a0,!=4.0.0a1->fsspec[http]>=2022.5.0->pytorch-lightning<3.0.0,>=2.0.0->unbabel-comet) (25.3.0)\n",
            "Requirement already satisfied: frozenlist>=1.1.1 in /usr/local/lib/python3.11/dist-packages (from aiohttp!=4.0.0a0,!=4.0.0a1->fsspec[http]>=2022.5.0->pytorch-lightning<3.0.0,>=2.0.0->unbabel-comet) (1.5.0)\n",
            "Requirement already satisfied: multidict<7.0,>=4.5 in /usr/local/lib/python3.11/dist-packages (from aiohttp!=4.0.0a0,!=4.0.0a1->fsspec[http]>=2022.5.0->pytorch-lightning<3.0.0,>=2.0.0->unbabel-comet) (6.3.0)\n",
            "Requirement already satisfied: propcache>=0.2.0 in /usr/local/lib/python3.11/dist-packages (from aiohttp!=4.0.0a0,!=4.0.0a1->fsspec[http]>=2022.5.0->pytorch-lightning<3.0.0,>=2.0.0->unbabel-comet) (0.3.1)\n",
            "Requirement already satisfied: yarl<2.0,>=1.17.0 in /usr/local/lib/python3.11/dist-packages (from aiohttp!=4.0.0a0,!=4.0.0a1->fsspec[http]>=2022.5.0->pytorch-lightning<3.0.0,>=2.0.0->unbabel-comet) (1.18.3)\n"
          ]
        }
      ],
      "source": [
        "# Install COMET\n",
        "\n",
        "pip install unbabel-comet"
      ]
    },
    {
      "cell_type": "code",
      "execution_count": null,
      "metadata": {
        "colab": {
          "base_uri": "https://localhost:8080/"
        },
        "id": "P_f_9BiiNQzk",
        "outputId": "c3d82a8e-e9e9-404a-a8cf-28b76d0bd4a0"
      },
      "outputs": [
        {
          "name": "stdout",
          "output_type": "stream",
          "text": [
            "Found existing installation: transformers 4.50.3\n",
            "Uninstalling transformers-4.50.3:\n",
            "  Successfully uninstalled transformers-4.50.3\n"
          ]
        }
      ],
      "source": [
        "# In case of an error in importing transformers run these two lines of code\n",
        "\n",
        "pip uninstall transformers -y"
      ]
    },
    {
      "cell_type": "code",
      "execution_count": null,
      "metadata": {
        "colab": {
          "base_uri": "https://localhost:8080/",
          "height": 515
        },
        "id": "g4_C06WhNW79",
        "outputId": "6ec25a2f-ef58-4993-d878-86a7ab53260f"
      },
      "outputs": [
        {
          "name": "stdout",
          "output_type": "stream",
          "text": [
            "Collecting transformers\n",
            "  Downloading transformers-4.50.3-py3-none-any.whl.metadata (39 kB)\n",
            "Requirement already satisfied: filelock in /usr/local/lib/python3.11/dist-packages (from transformers) (3.18.0)\n",
            "Requirement already satisfied: huggingface-hub<1.0,>=0.26.0 in /usr/local/lib/python3.11/dist-packages (from transformers) (0.30.1)\n",
            "Requirement already satisfied: numpy>=1.17 in /usr/local/lib/python3.11/dist-packages (from transformers) (1.26.4)\n",
            "Requirement already satisfied: packaging>=20.0 in /usr/local/lib/python3.11/dist-packages (from transformers) (24.2)\n",
            "Requirement already satisfied: pyyaml>=5.1 in /usr/local/lib/python3.11/dist-packages (from transformers) (6.0.2)\n",
            "Requirement already satisfied: regex!=2019.12.17 in /usr/local/lib/python3.11/dist-packages (from transformers) (2024.11.6)\n",
            "Requirement already satisfied: requests in /usr/local/lib/python3.11/dist-packages (from transformers) (2.32.3)\n",
            "Requirement already satisfied: tokenizers<0.22,>=0.21 in /usr/local/lib/python3.11/dist-packages (from transformers) (0.21.1)\n",
            "Requirement already satisfied: safetensors>=0.4.3 in /usr/local/lib/python3.11/dist-packages (from transformers) (0.5.3)\n",
            "Requirement already satisfied: tqdm>=4.27 in /usr/local/lib/python3.11/dist-packages (from transformers) (4.67.1)\n",
            "Requirement already satisfied: fsspec>=2023.5.0 in /usr/local/lib/python3.11/dist-packages (from huggingface-hub<1.0,>=0.26.0->transformers) (2025.3.2)\n",
            "Requirement already satisfied: typing-extensions>=3.7.4.3 in /usr/local/lib/python3.11/dist-packages (from huggingface-hub<1.0,>=0.26.0->transformers) (4.13.0)\n",
            "Requirement already satisfied: charset-normalizer<4,>=2 in /usr/local/lib/python3.11/dist-packages (from requests->transformers) (3.4.1)\n",
            "Requirement already satisfied: idna<4,>=2.5 in /usr/local/lib/python3.11/dist-packages (from requests->transformers) (3.10)\n",
            "Requirement already satisfied: urllib3<3,>=1.21.1 in /usr/local/lib/python3.11/dist-packages (from requests->transformers) (2.3.0)\n",
            "Requirement already satisfied: certifi>=2017.4.17 in /usr/local/lib/python3.11/dist-packages (from requests->transformers) (2025.1.31)\n",
            "Downloading transformers-4.50.3-py3-none-any.whl (10.2 MB)\n",
            "\u001b[2K   \u001b[90m━━━━━━━━━━━━━━━━━━━━━━━━━━━━━━━━━━━━━━━━\u001b[0m \u001b[32m10.2/10.2 MB\u001b[0m \u001b[31m54.7 MB/s\u001b[0m eta \u001b[36m0:00:00\u001b[0m\n",
            "\u001b[?25hInstalling collected packages: transformers\n",
            "Successfully installed transformers-4.50.3\n"
          ]
        },
        {
          "data": {
            "application/vnd.colab-display-data+json": {
              "id": "f9f6e31e482345deb79e53376e156262",
              "pip_warning": {
                "packages": [
                  "transformers"
                ]
              }
            }
          },
          "metadata": {},
          "output_type": "display_data"
        }
      ],
      "source": [
        "# Reinstall\n",
        "\n",
        "pip install transformers"
      ]
    },
    {
      "cell_type": "code",
      "execution_count": null,
      "metadata": {
        "colab": {
          "base_uri": "https://localhost:8080/",
          "height": 1000,
          "referenced_widgets": [
            "ea2308af37e24640be18172f3cb4cd3d",
            "5fbb44f5998248e0af12a1053acf5853",
            "df5e4219809a47858e4e8f9198949205",
            "363cf3b1b3a54507acfba8c3e3343049",
            "2af27885ee9c49a3927f88ee286e9c1a",
            "f977833c61ac4e7497674cf37acb8c92",
            "7a67a06b71ef4f34ab1a1ba501bcba1f",
            "e3fbd7cdf7c14ec69537ed01d238a3b8",
            "dcd363e2695642bdbfd98d3bdf89fd8c",
            "fc5bca0be4cd4df5b3ff81a3d222d947",
            "f735d3b4c32f4f71b29c9b305bcd6f50"
          ]
        },
        "id": "ecuM2yn9JfdZ",
        "outputId": "f222faf4-6438-4081-cf0a-353b4c5df657"
      },
      "outputs": [
        {
          "data": {
            "application/vnd.jupyter.widget-view+json": {
              "model_id": "ea2308af37e24640be18172f3cb4cd3d",
              "version_major": 2,
              "version_minor": 0
            },
            "text/plain": [
              "Fetching 5 files:   0%|          | 0/5 [00:00<?, ?it/s]"
            ]
          },
          "metadata": {},
          "output_type": "display_data"
        },
        {
          "name": "stderr",
          "output_type": "stream",
          "text": [
            "INFO:pytorch_lightning.utilities.migration.utils:Lightning automatically upgraded your loaded checkpoint from v1.8.3.post1 to v2.5.1. To apply the upgrade to your files permanently, run `python -m pytorch_lightning.utilities.upgrade_checkpoint ../root/.cache/huggingface/hub/models--Unbabel--wmt22-comet-da/snapshots/2760a223ac957f30acfb18c8aa649b01cf1d75f2/checkpoints/model.ckpt`\n",
            "/usr/local/lib/python3.11/dist-packages/pytorch_lightning/core/saving.py:195: Found keys that are not in the model state dict but in the checkpoint: ['encoder.model.embeddings.position_ids']\n",
            "Processing links:   0%|          | 0/62202 [00:00<?, ?it/s]INFO:pytorch_lightning.utilities.rank_zero:You are using the plain ModelCheckpoint callback. Consider using LitModelCheckpoint which with seamless uploading to Model registry.\n",
            "INFO:pytorch_lightning.utilities.rank_zero:GPU available: False, used: False\n",
            "INFO:pytorch_lightning.utilities.rank_zero:TPU available: False, using: 0 TPU cores\n",
            "INFO:pytorch_lightning.utilities.rank_zero:HPU available: False, using: 0 HPUs\n",
            "Predicting DataLoader 0: 100%|██████████| 1/1 [00:01<00:00,  1.31s/it]\n",
            "Processing links:   0%|          | 1/62202 [00:19<339:04:52, 19.62s/it]"
          ]
        },
        {
          "name": "stdout",
          "output_type": "stream",
          "text": [
            "{'English Sentence Numbers': 'b.GEN.1.1.1', 'Dutch Sentence Numbers': 'b.GEN.1.1.1', 'Dutch Source': 'В начале сотворил Бог небо и землю .', 'Reference English': 'In the beginning God created the heaven and the earth .', 'Translated English': 'In the beginning God created heaven and earth.', 'COMET Score': 0.9306, 'SacreBLEU Score': 45.81, 'CHRF Score': 75.89}\n"
          ]
        },
        {
          "name": "stderr",
          "output_type": "stream",
          "text": [
            "INFO:pytorch_lightning.utilities.rank_zero:You are using the plain ModelCheckpoint callback. Consider using LitModelCheckpoint which with seamless uploading to Model registry.\n",
            "INFO:pytorch_lightning.utilities.rank_zero:GPU available: False, used: False\n",
            "INFO:pytorch_lightning.utilities.rank_zero:TPU available: False, using: 0 TPU cores\n",
            "INFO:pytorch_lightning.utilities.rank_zero:HPU available: False, using: 0 HPUs\n",
            "Predicting DataLoader 0: 100%|██████████| 1/1 [00:01<00:00,  1.87s/it]\n",
            "Processing links:   0%|          | 2/62202 [00:36<309:39:18, 17.92s/it]"
          ]
        },
        {
          "name": "stdout",
          "output_type": "stream",
          "text": [
            "{'English Sentence Numbers': 'b.GEN.1.2.1, b.GEN.1.2.2, b.GEN.1.2.3', 'Dutch Sentence Numbers': 'b.GEN.1.2.1', 'Dutch Source': 'Земля же была безвидна и пуста , и тьма над бездною , и Дух Божий носился над водою .', 'Reference English': 'And the earth was without form , and void ; and darkness was upon the face of the deep . And the Spirit of God moved upon the face of the waters .', 'Translated English': 'But the earth was invisible and empty, and darkness over the desert, and the Spirit of God was over the water.', 'COMET Score': 0.7758, 'SacreBLEU Score': 12.88, 'CHRF Score': 42.4}\n"
          ]
        },
        {
          "name": "stderr",
          "output_type": "stream",
          "text": [
            "INFO:pytorch_lightning.utilities.rank_zero:You are using the plain ModelCheckpoint callback. Consider using LitModelCheckpoint which with seamless uploading to Model registry.\n",
            "INFO:pytorch_lightning.utilities.rank_zero:GPU available: False, used: False\n",
            "INFO:pytorch_lightning.utilities.rank_zero:TPU available: False, using: 0 TPU cores\n",
            "INFO:pytorch_lightning.utilities.rank_zero:HPU available: False, using: 0 HPUs\n",
            "Predicting DataLoader 0: 100%|██████████| 1/1 [00:01<00:00,  1.87s/it]\n",
            "Processing links:   0%|          | 3/62202 [00:44<235:05:52, 13.61s/it]"
          ]
        },
        {
          "name": "stdout",
          "output_type": "stream",
          "text": [
            "{'English Sentence Numbers': 'b.GEN.1.3.1', 'Dutch Sentence Numbers': 'b.GEN.1.3.1, b.GEN.1.3.2', 'Dutch Source': 'И сказал Бог : да будет свет . И сталсвет .', 'Reference English': 'And God said , Let there be light : and there was light .', 'Translated English': 'And God said, Let there be light and light.', 'COMET Score': 0.7984, 'SacreBLEU Score': 57.85, 'CHRF Score': 70.17}\n"
          ]
        },
        {
          "name": "stderr",
          "output_type": "stream",
          "text": [
            "INFO:pytorch_lightning.utilities.rank_zero:You are using the plain ModelCheckpoint callback. Consider using LitModelCheckpoint which with seamless uploading to Model registry.\n",
            "INFO:pytorch_lightning.utilities.rank_zero:GPU available: False, used: False\n",
            "INFO:pytorch_lightning.utilities.rank_zero:TPU available: False, using: 0 TPU cores\n",
            "INFO:pytorch_lightning.utilities.rank_zero:HPU available: False, using: 0 HPUs\n",
            "Predicting DataLoader 0: 100%|██████████| 1/1 [00:01<00:00,  1.48s/it]\n",
            "Processing links:   0%|          | 4/62202 [00:54<209:54:42, 12.15s/it]"
          ]
        },
        {
          "name": "stdout",
          "output_type": "stream",
          "text": [
            "{'English Sentence Numbers': 'b.GEN.1.4.1, b.GEN.1.4.2', 'Dutch Sentence Numbers': 'b.GEN.1.4.1', 'Dutch Source': 'И увидел Бог свет , что он хорош , и отделил Бог свет от тьмы .', 'Reference English': 'And God saw the light , that it was good : and God divided the light from the darkness .', 'Translated English': 'And God saw the light that it was good, and God separated the light from the dark.', 'COMET Score': 0.8643, 'SacreBLEU Score': 46.21, 'CHRF Score': 72.07}\n"
          ]
        },
        {
          "name": "stderr",
          "output_type": "stream",
          "text": [
            "INFO:pytorch_lightning.utilities.rank_zero:You are using the plain ModelCheckpoint callback. Consider using LitModelCheckpoint which with seamless uploading to Model registry.\n",
            "INFO:pytorch_lightning.utilities.rank_zero:GPU available: False, used: False\n",
            "INFO:pytorch_lightning.utilities.rank_zero:TPU available: False, using: 0 TPU cores\n",
            "INFO:pytorch_lightning.utilities.rank_zero:HPU available: False, using: 0 HPUs\n",
            "Predicting DataLoader 0: 100%|██████████| 1/1 [00:01<00:00,  1.85s/it]\n",
            "Processing links:   0%|          | 5/62202 [01:08<219:38:47, 12.71s/it]"
          ]
        },
        {
          "name": "stdout",
          "output_type": "stream",
          "text": [
            "{'English Sentence Numbers': 'b.GEN.1.5.1, b.GEN.1.5.2', 'Dutch Sentence Numbers': 'b.GEN.1.5.1, b.GEN.1.5.2', 'Dutch Source': 'И назвал Бог свет днем , а тьму ночью . И был вечер , и было утро : день один .', 'Reference English': 'And God called the light Day , and the darkness he called Night . And the evening and the morning were the first day .', 'Translated English': 'And God called the light day, and the darkness night; and it was evening, and it was morning, one day.', 'COMET Score': 0.8016, 'SacreBLEU Score': 27.27, 'CHRF Score': 53.29}\n"
          ]
        },
        {
          "name": "stderr",
          "output_type": "stream",
          "text": [
            "INFO:pytorch_lightning.utilities.rank_zero:You are using the plain ModelCheckpoint callback. Consider using LitModelCheckpoint which with seamless uploading to Model registry.\n",
            "INFO:pytorch_lightning.utilities.rank_zero:GPU available: False, used: False\n",
            "INFO:pytorch_lightning.utilities.rank_zero:TPU available: False, using: 0 TPU cores\n",
            "INFO:pytorch_lightning.utilities.rank_zero:HPU available: False, using: 0 HPUs\n",
            "Predicting DataLoader 0: 100%|██████████| 1/1 [00:01<00:00,  1.66s/it]\n",
            "Processing links:   0%|          | 6/62202 [01:20<214:51:00, 12.44s/it]"
          ]
        },
        {
          "name": "stdout",
          "output_type": "stream",
          "text": [
            "{'English Sentence Numbers': 'b.GEN.1.6.1', 'Dutch Sentence Numbers': 'b.GEN.1.6.1', 'Dutch Source': 'И сказал Бог : да будет твердь посреди воды , и да отделяет она воду от воды .', 'Reference English': 'And God said , Let there be a firmament in the midst of the waters , and let it divide the waters from the waters .', 'Translated English': 'And God said, Let it be hard in the middle of the water, and let it separate the water from the water.', 'COMET Score': 0.6238, 'SacreBLEU Score': 29.5, 'CHRF Score': 58.22}\n"
          ]
        },
        {
          "name": "stderr",
          "output_type": "stream",
          "text": [
            "INFO:pytorch_lightning.utilities.rank_zero:You are using the plain ModelCheckpoint callback. Consider using LitModelCheckpoint which with seamless uploading to Model registry.\n",
            "INFO:pytorch_lightning.utilities.rank_zero:GPU available: False, used: False\n",
            "INFO:pytorch_lightning.utilities.rank_zero:TPU available: False, using: 0 TPU cores\n",
            "INFO:pytorch_lightning.utilities.rank_zero:HPU available: False, using: 0 HPUs\n",
            "Predicting DataLoader 0: 100%|██████████| 1/1 [00:01<00:00,  1.85s/it]\n",
            "Processing links:   0%|          | 7/62202 [01:32<213:41:11, 12.37s/it]"
          ]
        },
        {
          "name": "stdout",
          "output_type": "stream",
          "text": [
            "{'English Sentence Numbers': 'b.GEN.1.7.1', 'Dutch Sentence Numbers': 'b.GEN.1.7.1, b.GEN.1.7.2', 'Dutch Source': 'И создал Бог твердь , и отделил воду , которая подтвердью , от воды , которая над твердью . И стало так .', 'Reference English': 'And God made the firmament , and divided the waters which were under the firmament from the waters which were above the firmament : and it was so .', 'Translated English': 'And God created a firmness, and separated the water which I confirm from the water which is above the firmness.', 'COMET Score': 0.6315, 'SacreBLEU Score': 5.56, 'CHRF Score': 39.92}\n"
          ]
        },
        {
          "name": "stderr",
          "output_type": "stream",
          "text": [
            "INFO:pytorch_lightning.utilities.rank_zero:You are using the plain ModelCheckpoint callback. Consider using LitModelCheckpoint which with seamless uploading to Model registry.\n",
            "INFO:pytorch_lightning.utilities.rank_zero:GPU available: False, used: False\n",
            "INFO:pytorch_lightning.utilities.rank_zero:TPU available: False, using: 0 TPU cores\n",
            "INFO:pytorch_lightning.utilities.rank_zero:HPU available: False, using: 0 HPUs\n",
            "Predicting DataLoader 0: 100%|██████████| 1/1 [00:01<00:00,  1.44s/it]\n",
            "Processing links:   0%|          | 8/62202 [01:43<207:12:23, 11.99s/it]"
          ]
        },
        {
          "name": "stdout",
          "output_type": "stream",
          "text": [
            "{'English Sentence Numbers': 'b.GEN.1.8.1, b.GEN.1.8.2', 'Dutch Sentence Numbers': 'b.GEN.1.8.1, b.GEN.1.8.2', 'Dutch Source': 'И назвал Бог твердь небом . И был вечер , и было утро : день второй .', 'Reference English': 'And God called the firmament Heaven . And the evening and the morning were the second day .', 'Translated English': 'And God called the firm heaven, and it was evening, and it was morning, the second day.', 'COMET Score': 0.7172, 'SacreBLEU Score': 24.62, 'CHRF Score': 57.47}\n"
          ]
        },
        {
          "name": "stderr",
          "output_type": "stream",
          "text": [
            "INFO:pytorch_lightning.utilities.rank_zero:You are using the plain ModelCheckpoint callback. Consider using LitModelCheckpoint which with seamless uploading to Model registry.\n",
            "INFO:pytorch_lightning.utilities.rank_zero:GPU available: False, used: False\n",
            "INFO:pytorch_lightning.utilities.rank_zero:TPU available: False, using: 0 TPU cores\n",
            "INFO:pytorch_lightning.utilities.rank_zero:HPU available: False, using: 0 HPUs\n",
            "Predicting DataLoader 0: 100%|██████████| 1/1 [00:01<00:00,  1.82s/it]\n",
            "Processing links:   0%|          | 9/62202 [01:56<213:04:04, 12.33s/it]"
          ]
        },
        {
          "name": "stdout",
          "output_type": "stream",
          "text": [
            "{'English Sentence Numbers': 'b.GEN.1.9.1', 'Dutch Sentence Numbers': 'b.GEN.1.9.1, b.GEN.1.9.2', 'Dutch Source': 'И сказал Бог : да соберется вода , которая под небом , в одно место , и да явится суша . И стало так .', 'Reference English': 'And God said , Let the waters under the heaven be gathered together unto one place , and let the dry land appear : and it was so .', 'Translated English': 'And God said, May the water that is under the sky be gathered in one place, and the soil appear.', 'COMET Score': 0.7401, 'SacreBLEU Score': 20.3, 'CHRF Score': 47.34}\n"
          ]
        },
        {
          "name": "stderr",
          "output_type": "stream",
          "text": [
            "INFO:pytorch_lightning.utilities.rank_zero:You are using the plain ModelCheckpoint callback. Consider using LitModelCheckpoint which with seamless uploading to Model registry.\n",
            "INFO:pytorch_lightning.utilities.rank_zero:GPU available: False, used: False\n",
            "INFO:pytorch_lightning.utilities.rank_zero:TPU available: False, using: 0 TPU cores\n",
            "INFO:pytorch_lightning.utilities.rank_zero:HPU available: False, using: 0 HPUs\n",
            "Predicting DataLoader 0: 100%|██████████| 1/1 [00:01<00:00,  1.74s/it]\n",
            "Processing links:   0%|          | 10/62202 [02:10<221:10:00, 12.80s/it]"
          ]
        },
        {
          "name": "stdout",
          "output_type": "stream",
          "text": [
            "{'English Sentence Numbers': 'b.GEN.1.10.1, b.GEN.1.10.2', 'Dutch Sentence Numbers': 'b.GEN.1.10.1, b.GEN.1.10.2', 'Dutch Source': 'И назвал Бог сушу землею , а собрание вод назвал морями . И увидел Бог , что это хорошо .', 'Reference English': 'And God called the dry land Earth ; and the gathering together of the waters called he Seas : and God saw that it was good .', 'Translated English': 'And God called the land a land, and the assembly of the waters called the seas, and God saw that it was good.', 'COMET Score': 0.7909, 'SacreBLEU Score': 45.93, 'CHRF Score': 59.45}\n"
          ]
        },
        {
          "name": "stderr",
          "output_type": "stream",
          "text": [
            "INFO:pytorch_lightning.utilities.rank_zero:You are using the plain ModelCheckpoint callback. Consider using LitModelCheckpoint which with seamless uploading to Model registry.\n",
            "INFO:pytorch_lightning.utilities.rank_zero:GPU available: False, used: False\n",
            "INFO:pytorch_lightning.utilities.rank_zero:TPU available: False, using: 0 TPU cores\n",
            "INFO:pytorch_lightning.utilities.rank_zero:HPU available: False, using: 0 HPUs\n",
            "Predicting DataLoader 0: 100%|██████████| 1/1 [00:03<00:00,  3.12s/it]\n",
            "Processing links:   0%|          | 11/62202 [02:39<304:11:15, 17.61s/it]"
          ]
        },
        {
          "name": "stdout",
          "output_type": "stream",
          "text": [
            "{'English Sentence Numbers': 'b.GEN.1.11.1', 'Dutch Sentence Numbers': 'b.GEN.1.11.1, b.GEN.1.11.2', 'Dutch Source': 'И сказал Бог : да произрастит земля зелень , траву , сеющую семя дерево плодовитое , приносящее по роду своему плод , в котором семя его на земле . И стало так .', 'Reference English': 'And God said , Let the earth bring forth grass , the herb yielding seed , and the fruit tree yielding fruit after his kind , whose seed is in itself , upon the earth : and it was so .', 'Translated English': 'And God said, Let the earth grow green, and the grass, and the seed of the fruitful tree, and the fruit of the fruit of the fruit of the fruit of the fruit of the fruit of the fruit of the fruit of the fruit of the fruit of the fruit of the fruit of the fruit of the fruit.', 'COMET Score': 0.4561, 'SacreBLEU Score': 14.58, 'CHRF Score': 34.18}\n"
          ]
        },
        {
          "name": "stderr",
          "output_type": "stream",
          "text": [
            "INFO:pytorch_lightning.utilities.rank_zero:You are using the plain ModelCheckpoint callback. Consider using LitModelCheckpoint which with seamless uploading to Model registry.\n",
            "INFO:pytorch_lightning.utilities.rank_zero:GPU available: False, used: False\n",
            "INFO:pytorch_lightning.utilities.rank_zero:TPU available: False, using: 0 TPU cores\n",
            "INFO:pytorch_lightning.utilities.rank_zero:HPU available: False, using: 0 HPUs\n",
            "Predicting DataLoader 0: 100%|██████████| 1/1 [00:02<00:00,  2.52s/it]\n",
            "Processing links:   0%|          | 12/62202 [02:59<318:53:31, 18.46s/it]"
          ]
        },
        {
          "name": "stdout",
          "output_type": "stream",
          "text": [
            "{'English Sentence Numbers': 'b.GEN.1.12.1', 'Dutch Sentence Numbers': 'b.GEN.1.12.1, b.GEN.1.12.2', 'Dutch Source': 'И произвела земля зелень , траву , сеющую семя по роду ее , и дерево , приносящее плод , в котором семя его по роду его . И увидел Бог , что это хорошо .', 'Reference English': 'And the earth brought forth grass , and herb yielding seed after his kind , and the tree yielding fruit , whose seed was in itself , after his kind : and God saw that it was good .', 'Translated English': 'And the earth made greens, and the grass that seed its seed, and the tree that yield its fruit, in which its seed its seed, and God saw that it was good.', 'COMET Score': 0.6509, 'SacreBLEU Score': 30.99, 'CHRF Score': 45.65}\n"
          ]
        },
        {
          "name": "stderr",
          "output_type": "stream",
          "text": [
            "INFO:pytorch_lightning.utilities.rank_zero:You are using the plain ModelCheckpoint callback. Consider using LitModelCheckpoint which with seamless uploading to Model registry.\n",
            "INFO:pytorch_lightning.utilities.rank_zero:GPU available: False, used: False\n",
            "INFO:pytorch_lightning.utilities.rank_zero:TPU available: False, using: 0 TPU cores\n",
            "INFO:pytorch_lightning.utilities.rank_zero:HPU available: False, using: 0 HPUs\n",
            "Predicting DataLoader 0: 100%|██████████| 1/1 [00:01<00:00,  1.60s/it]\n",
            "Processing links:   0%|          | 13/62202 [03:08<266:14:24, 15.41s/it]"
          ]
        },
        {
          "name": "stdout",
          "output_type": "stream",
          "text": [
            "{'English Sentence Numbers': 'b.GEN.1.13.1', 'Dutch Sentence Numbers': 'b.GEN.1.13.1', 'Dutch Source': 'И был вечер , и было утро : день третий .', 'Reference English': 'And the evening and the morning were the third day .', 'Translated English': 'And it was evening, and it was morning: the third day.', 'COMET Score': 0.7962, 'SacreBLEU Score': 21.14, 'CHRF Score': 51.87}\n"
          ]
        },
        {
          "name": "stderr",
          "output_type": "stream",
          "text": [
            "INFO:pytorch_lightning.utilities.rank_zero:You are using the plain ModelCheckpoint callback. Consider using LitModelCheckpoint which with seamless uploading to Model registry.\n",
            "INFO:pytorch_lightning.utilities.rank_zero:GPU available: False, used: False\n",
            "INFO:pytorch_lightning.utilities.rank_zero:TPU available: False, using: 0 TPU cores\n",
            "INFO:pytorch_lightning.utilities.rank_zero:HPU available: False, using: 0 HPUs\n",
            "Predicting DataLoader 0: 100%|██████████| 1/1 [00:02<00:00,  2.12s/it]\n",
            "Processing links:   0%|          | 14/62202 [03:25<275:52:29, 15.97s/it]"
          ]
        },
        {
          "name": "stdout",
          "output_type": "stream",
          "text": [
            "{'English Sentence Numbers': 'b.GEN.1.14.1', 'Dutch Sentence Numbers': 'b.GEN.1.14.1', 'Dutch Source': 'И сказал Бог : да будут светила на тверди небесной для отделения дня от ночи , и для знамений , и времен , и дней , и годов ;', 'Reference English': 'And God said , Let there be lights in the firmament of the heaven to divide the day from the night ; and let them be for signs , and for seasons , and for days , and years :', 'Translated English': 'And God said, Let them shine on the heavens for the separation of day from night, and for signs, and times, and days, and years.', 'COMET Score': 0.7882, 'SacreBLEU Score': 25.36, 'CHRF Score': 49.19}\n"
          ]
        },
        {
          "name": "stderr",
          "output_type": "stream",
          "text": [
            "INFO:pytorch_lightning.utilities.rank_zero:You are using the plain ModelCheckpoint callback. Consider using LitModelCheckpoint which with seamless uploading to Model registry.\n",
            "INFO:pytorch_lightning.utilities.rank_zero:GPU available: False, used: False\n",
            "INFO:pytorch_lightning.utilities.rank_zero:TPU available: False, using: 0 TPU cores\n",
            "INFO:pytorch_lightning.utilities.rank_zero:HPU available: False, using: 0 HPUs\n",
            "Predicting DataLoader 0: 100%|██████████| 1/1 [00:02<00:00,  2.06s/it]\n",
            "Processing links:   0%|          | 15/62202 [03:36<250:05:32, 14.48s/it]"
          ]
        },
        {
          "name": "stdout",
          "output_type": "stream",
          "text": [
            "{'English Sentence Numbers': 'b.GEN.1.15.1', 'Dutch Sentence Numbers': 'b.GEN.1.15.1, b.GEN.1.15.2', 'Dutch Source': 'и да будут они светильниками на тверди небесной , чтобы светить на землю . И стало так .', 'Reference English': 'And let them be for lights in the firmament of the heaven to give light upon the earth : and it was so .', 'Translated English': 'And they shall be lamps on the firmness of the heavens, to shine on the earth.', 'COMET Score': 0.6606, 'SacreBLEU Score': 5.33, 'CHRF Score': 37.87}\n"
          ]
        },
        {
          "name": "stderr",
          "output_type": "stream",
          "text": [
            "INFO:pytorch_lightning.utilities.rank_zero:You are using the plain ModelCheckpoint callback. Consider using LitModelCheckpoint which with seamless uploading to Model registry.\n",
            "INFO:pytorch_lightning.utilities.rank_zero:GPU available: False, used: False\n",
            "INFO:pytorch_lightning.utilities.rank_zero:TPU available: False, using: 0 TPU cores\n",
            "INFO:pytorch_lightning.utilities.rank_zero:HPU available: False, using: 0 HPUs\n",
            "Predicting DataLoader 0: 100%|██████████| 1/1 [00:02<00:00,  2.08s/it]\n",
            "Processing links:   0%|          | 16/62202 [03:50<248:58:30, 14.41s/it]"
          ]
        },
        {
          "name": "stdout",
          "output_type": "stream",
          "text": [
            "{'English Sentence Numbers': 'b.GEN.1.16.1, b.GEN.1.16.2', 'Dutch Sentence Numbers': 'b.GEN.1.16.1', 'Dutch Source': 'И создал Бог два светила великие : светило большее , для управления днем , и светило меньшее , для управления ночью , и звезды ;', 'Reference English': 'And God made two great lights ; the greater light to rule the day , and the lesser light to rule the night : he made the stars also .', 'Translated English': 'And God created two great lights: the great lights to control the day, and the small lights to control the night, and the stars.', 'COMET Score': 0.8165, 'SacreBLEU Score': 21.39, 'CHRF Score': 51.46}\n"
          ]
        },
        {
          "name": "stderr",
          "output_type": "stream",
          "text": [
            "INFO:pytorch_lightning.utilities.rank_zero:You are using the plain ModelCheckpoint callback. Consider using LitModelCheckpoint which with seamless uploading to Model registry.\n",
            "INFO:pytorch_lightning.utilities.rank_zero:GPU available: False, used: False\n",
            "INFO:pytorch_lightning.utilities.rank_zero:TPU available: False, using: 0 TPU cores\n",
            "INFO:pytorch_lightning.utilities.rank_zero:HPU available: False, using: 0 HPUs\n",
            "Predicting DataLoader 0: 100%|██████████| 1/1 [00:01<00:00,  1.33s/it]\n",
            "Processing links:   0%|          | 17/62202 [03:58<214:46:56, 12.43s/it]"
          ]
        },
        {
          "name": "stdout",
          "output_type": "stream",
          "text": [
            "{'English Sentence Numbers': 'b.GEN.1.17.1', 'Dutch Sentence Numbers': 'b.GEN.1.17.1', 'Dutch Source': 'и поставил их Бог на тверди небесной , чтобы светить на землю ,', 'Reference English': 'And God set them in the firmament of the heaven to give light upon the earth ,', 'Translated English': 'And God put them on the firm heavens to shine on the earth.', 'COMET Score': 0.656, 'SacreBLEU Score': 7.46, 'CHRF Score': 42.8}\n"
          ]
        },
        {
          "name": "stderr",
          "output_type": "stream",
          "text": [
            "INFO:pytorch_lightning.utilities.rank_zero:You are using the plain ModelCheckpoint callback. Consider using LitModelCheckpoint which with seamless uploading to Model registry.\n",
            "INFO:pytorch_lightning.utilities.rank_zero:GPU available: False, used: False\n",
            "INFO:pytorch_lightning.utilities.rank_zero:TPU available: False, using: 0 TPU cores\n",
            "INFO:pytorch_lightning.utilities.rank_zero:HPU available: False, using: 0 HPUs\n",
            "Predicting DataLoader 0: 100%|██████████| 1/1 [00:01<00:00,  1.64s/it]\n",
            "Processing links:   0%|          | 18/62202 [04:09<210:06:29, 12.16s/it]"
          ]
        },
        {
          "name": "stdout",
          "output_type": "stream",
          "text": [
            "{'English Sentence Numbers': 'b.GEN.1.18.1, b.GEN.1.18.2', 'Dutch Sentence Numbers': 'b.GEN.1.18.1, b.GEN.1.18.2', 'Dutch Source': 'и управлять днем и ночью , и отделять свет от тьмы . И увидел Бог , что это хорошо .', 'Reference English': 'And to rule over the day and over the night , and to divide the light from the darkness : and God saw that it was good .', 'Translated English': 'and to govern day and night, and to separate light from darkness; and God saw that it was good.', 'COMET Score': 0.8317, 'SacreBLEU Score': 37.53, 'CHRF Score': 56.26}\n"
          ]
        },
        {
          "name": "stderr",
          "output_type": "stream",
          "text": [
            "INFO:pytorch_lightning.utilities.rank_zero:You are using the plain ModelCheckpoint callback. Consider using LitModelCheckpoint which with seamless uploading to Model registry.\n",
            "INFO:pytorch_lightning.utilities.rank_zero:GPU available: False, used: False\n",
            "INFO:pytorch_lightning.utilities.rank_zero:TPU available: False, using: 0 TPU cores\n",
            "INFO:pytorch_lightning.utilities.rank_zero:HPU available: False, using: 0 HPUs\n",
            "Predicting DataLoader 0: 100%|██████████| 1/1 [00:01<00:00,  1.23s/it]\n",
            "Processing links:   0%|          | 19/62202 [04:18<192:53:40, 11.17s/it]"
          ]
        },
        {
          "name": "stdout",
          "output_type": "stream",
          "text": [
            "{'English Sentence Numbers': 'b.GEN.1.19.1', 'Dutch Sentence Numbers': 'b.GEN.1.19.1', 'Dutch Source': 'И был вечер , и было утро : день четвертый .', 'Reference English': 'And the evening and the morning were the fourth day .', 'Translated English': 'And it was evening, and it was morning: the fourth day.', 'COMET Score': 0.7979, 'SacreBLEU Score': 21.14, 'CHRF Score': 53.07}\n"
          ]
        },
        {
          "name": "stderr",
          "output_type": "stream",
          "text": [
            "INFO:pytorch_lightning.utilities.rank_zero:You are using the plain ModelCheckpoint callback. Consider using LitModelCheckpoint which with seamless uploading to Model registry.\n",
            "INFO:pytorch_lightning.utilities.rank_zero:GPU available: False, used: False\n",
            "INFO:pytorch_lightning.utilities.rank_zero:TPU available: False, using: 0 TPU cores\n",
            "INFO:pytorch_lightning.utilities.rank_zero:HPU available: False, using: 0 HPUs\n",
            "Predicting DataLoader 0: 100%|██████████| 1/1 [00:01<00:00,  2.00s/it]\n",
            "Processing links:   0%|          | 20/62202 [04:34<217:13:53, 12.58s/it]"
          ]
        },
        {
          "name": "stdout",
          "output_type": "stream",
          "text": [
            "{'English Sentence Numbers': 'b.GEN.1.20.1', 'Dutch Sentence Numbers': 'b.GEN.1.20.1', 'Dutch Source': 'И сказал Бог : да произведет вода пресмыкающихся , душу живую ; и птицы да полетят над землею , по тверди небесной .', 'Reference English': 'And God said , Let the waters bring forth abundantly the moving creature that hath life , and fowl that may fly above the earth in the open firmament of heaven .', 'Translated English': 'And God said, let the water of the swallowers produce a living soul, and the birds fly over the earth, by the firmness of the heavens.', 'COMET Score': 0.6433, 'SacreBLEU Score': 11.3, 'CHRF Score': 34.31}\n"
          ]
        },
        {
          "name": "stderr",
          "output_type": "stream",
          "text": [
            "INFO:pytorch_lightning.utilities.rank_zero:You are using the plain ModelCheckpoint callback. Consider using LitModelCheckpoint which with seamless uploading to Model registry.\n",
            "INFO:pytorch_lightning.utilities.rank_zero:GPU available: False, used: False\n",
            "INFO:pytorch_lightning.utilities.rank_zero:TPU available: False, using: 0 TPU cores\n",
            "INFO:pytorch_lightning.utilities.rank_zero:HPU available: False, using: 0 HPUs\n",
            "Predicting DataLoader 0: 100%|██████████| 1/1 [00:02<00:00,  2.59s/it]\n",
            "Processing links:   0%|          | 21/62202 [04:57<270:29:03, 15.66s/it]"
          ]
        },
        {
          "name": "stdout",
          "output_type": "stream",
          "text": [
            "{'English Sentence Numbers': 'b.GEN.1.21.1, b.GEN.1.21.2', 'Dutch Sentence Numbers': 'b.GEN.1.21.1, b.GEN.1.21.2', 'Dutch Source': 'И сотворил Бог рыб больших и всякую душу животных пресмыкающихся , которых произвела вода , по роду их , и всякую птицу пернатую по роду ее . И увидел Бог , что это хорошо .', 'Reference English': 'And God created great whales , and every living creature that moveth , which the waters brought forth abundantly , after their kind , and every winged fowl after his kind : and God saw that it was good .', 'Translated English': 'And God created the fish of the great, and all the souls of the swallowing animals, whom the water has produced according to their species, and all the birds that are swallowed according to their species.', 'COMET Score': 0.5819, 'SacreBLEU Score': 5.87, 'CHRF Score': 30.42}\n"
          ]
        },
        {
          "name": "stderr",
          "output_type": "stream",
          "text": [
            "INFO:pytorch_lightning.utilities.rank_zero:You are using the plain ModelCheckpoint callback. Consider using LitModelCheckpoint which with seamless uploading to Model registry.\n",
            "INFO:pytorch_lightning.utilities.rank_zero:GPU available: False, used: False\n",
            "INFO:pytorch_lightning.utilities.rank_zero:TPU available: False, using: 0 TPU cores\n",
            "INFO:pytorch_lightning.utilities.rank_zero:HPU available: False, using: 0 HPUs\n",
            "Predicting DataLoader 0: 100%|██████████| 1/1 [00:02<00:00,  2.03s/it]\n",
            "Processing links:   0%|          | 22/62202 [05:12<268:55:04, 15.57s/it]"
          ]
        },
        {
          "name": "stdout",
          "output_type": "stream",
          "text": [
            "{'English Sentence Numbers': 'b.GEN.1.22.1', 'Dutch Sentence Numbers': 'b.GEN.1.22.1', 'Dutch Source': 'И благословил их Бог , говоря : плодитесь и размножайтесь , и наполняйте воды в морях , и птицы да размножаются на земле .', 'Reference English': 'And God blessed them , saying , Be fruitful , and multiply , and fill the waters in the seas , and let fowl multiply in the earth .', 'Translated English': 'And God blessed them, saying, Fruit and multiply, and fill the waters in the seas, and let the birds multiply on the earth.', 'COMET Score': 0.786, 'SacreBLEU Score': 67.0, 'CHRF Score': 78.96}\n"
          ]
        },
        {
          "name": "stderr",
          "output_type": "stream",
          "text": [
            "INFO:pytorch_lightning.utilities.rank_zero:You are using the plain ModelCheckpoint callback. Consider using LitModelCheckpoint which with seamless uploading to Model registry.\n",
            "INFO:pytorch_lightning.utilities.rank_zero:GPU available: False, used: False\n",
            "INFO:pytorch_lightning.utilities.rank_zero:TPU available: False, using: 0 TPU cores\n",
            "INFO:pytorch_lightning.utilities.rank_zero:HPU available: False, using: 0 HPUs\n",
            "Predicting DataLoader 0: 100%|██████████| 1/1 [00:01<00:00,  1.35s/it]\n",
            "Processing links:   0%|          | 23/62202 [05:22<236:07:41, 13.67s/it]"
          ]
        },
        {
          "name": "stdout",
          "output_type": "stream",
          "text": [
            "{'English Sentence Numbers': 'b.GEN.1.23.1', 'Dutch Sentence Numbers': 'b.GEN.1.23.1', 'Dutch Source': 'И был вечер , и было утро : день пятый .', 'Reference English': 'And the evening and the morning were the fifth day .', 'Translated English': 'And it was evening, and it was morning: the fifth day.', 'COMET Score': 0.8085, 'SacreBLEU Score': 21.14, 'CHRF Score': 51.87}\n"
          ]
        },
        {
          "name": "stderr",
          "output_type": "stream",
          "text": [
            "INFO:pytorch_lightning.utilities.rank_zero:You are using the plain ModelCheckpoint callback. Consider using LitModelCheckpoint which with seamless uploading to Model registry.\n",
            "INFO:pytorch_lightning.utilities.rank_zero:GPU available: False, used: False\n",
            "INFO:pytorch_lightning.utilities.rank_zero:TPU available: False, using: 0 TPU cores\n",
            "INFO:pytorch_lightning.utilities.rank_zero:HPU available: False, using: 0 HPUs\n",
            "Predicting DataLoader 0: 100%|██████████| 1/1 [00:02<00:00,  2.14s/it]\n",
            "Processing links:   0%|          | 24/62202 [05:38<251:45:40, 14.58s/it]"
          ]
        },
        {
          "name": "stdout",
          "output_type": "stream",
          "text": [
            "{'English Sentence Numbers': 'b.GEN.1.24.1', 'Dutch Sentence Numbers': 'b.GEN.1.24.1, b.GEN.1.24.2', 'Dutch Source': 'И сказал Бог : да произведет земля душу живую по роду ее , скотов , и гадов , и зверей земных по роду их . И стало так .', 'Reference English': 'And God said , Let the earth bring forth the living creature after his kind , cattle , and creeping thing , and beast of the earth after his kind : and it was so .', 'Translated English': 'And God said, Let the earth produce a living soul according to its species, the sheep, and the sheep, and the beasts of the earth according to their species.', 'COMET Score': 0.6456, 'SacreBLEU Score': 23.53, 'CHRF Score': 39.64}\n"
          ]
        },
        {
          "name": "stderr",
          "output_type": "stream",
          "text": [
            "INFO:pytorch_lightning.utilities.rank_zero:You are using the plain ModelCheckpoint callback. Consider using LitModelCheckpoint which with seamless uploading to Model registry.\n",
            "INFO:pytorch_lightning.utilities.rank_zero:GPU available: False, used: False\n",
            "INFO:pytorch_lightning.utilities.rank_zero:TPU available: False, using: 0 TPU cores\n",
            "INFO:pytorch_lightning.utilities.rank_zero:HPU available: False, using: 0 HPUs\n",
            "Predicting DataLoader 0: 100%|██████████| 1/1 [00:02<00:00,  2.63s/it]\n",
            "Processing links:   0%|          | 25/62202 [05:58<280:21:45, 16.23s/it]"
          ]
        },
        {
          "name": "stdout",
          "output_type": "stream",
          "text": [
            "{'English Sentence Numbers': 'b.GEN.1.25.1, b.GEN.1.25.2', 'Dutch Sentence Numbers': 'b.GEN.1.25.1, b.GEN.1.25.2', 'Dutch Source': 'И создал Бог зверей земных по роду их , и скот по роду его , и всехгадов земных по роду их . И увидел Бог , что это хорошо .', 'Reference English': 'And God made the beast of the earth after his kind , and cattle after their kind , and every thing that creepeth upon the earth after his kind : and God saw that it was good .', 'Translated English': 'And God created the beasts of the earth according to their species, and the sheep according to their species, and all the species of the earth according to their species, and God saw that it was good.', 'COMET Score': 0.7754, 'SacreBLEU Score': 25.04, 'CHRF Score': 44.77}\n"
          ]
        },
        {
          "name": "stderr",
          "output_type": "stream",
          "text": [
            "INFO:pytorch_lightning.utilities.rank_zero:You are using the plain ModelCheckpoint callback. Consider using LitModelCheckpoint which with seamless uploading to Model registry.\n",
            "INFO:pytorch_lightning.utilities.rank_zero:GPU available: False, used: False\n",
            "INFO:pytorch_lightning.utilities.rank_zero:TPU available: False, using: 0 TPU cores\n",
            "INFO:pytorch_lightning.utilities.rank_zero:HPU available: False, using: 0 HPUs\n",
            "Predicting DataLoader 0: 100%|██████████| 1/1 [00:03<00:00,  3.92s/it]\n",
            "Processing links:   0%|          | 26/62202 [06:32<370:15:32, 21.44s/it]"
          ]
        },
        {
          "name": "stdout",
          "output_type": "stream",
          "text": [
            "{'English Sentence Numbers': 'b.GEN.1.26.1', 'Dutch Sentence Numbers': 'b.GEN.1.26.1', 'Dutch Source': 'И сказал Бог : сотворим человека по образу Нашему по подобию Нашему , и да владычествуют они над рыбами морскими , и над птицами небесными , и над скотом , и над всею землею , и над всеми гадами , пресмыкающимися по земле .', 'Reference English': 'And God said , Let us make man in our image , after our likeness : and let them have dominion over the fish of the sea , and over the fowl of the air , and over the cattle , and over all the earth , and over every creeping thing that creepeth upon the earth .', 'Translated English': 'And God said, Let us make man as our image as our image, and that they may rule over the fish of the sea, and over the birds of the heavens, and over the beast, and over the whole earth, and over all the wicked wicked wicked in the earth.', 'COMET Score': 0.6957, 'SacreBLEU Score': 46.86, 'CHRF Score': 56.75}\n"
          ]
        },
        {
          "name": "stderr",
          "output_type": "stream",
          "text": [
            "INFO:pytorch_lightning.utilities.rank_zero:You are using the plain ModelCheckpoint callback. Consider using LitModelCheckpoint which with seamless uploading to Model registry.\n",
            "INFO:pytorch_lightning.utilities.rank_zero:GPU available: False, used: False\n",
            "INFO:pytorch_lightning.utilities.rank_zero:TPU available: False, using: 0 TPU cores\n",
            "INFO:pytorch_lightning.utilities.rank_zero:HPU available: False, using: 0 HPUs\n",
            "Predicting DataLoader 0: 100%|██████████| 1/1 [00:01<00:00,  1.68s/it]\n",
            "Processing links:   0%|          | 27/62202 [06:44<323:10:56, 18.71s/it]"
          ]
        },
        {
          "name": "stdout",
          "output_type": "stream",
          "text": [
            "{'English Sentence Numbers': 'b.GEN.1.27.1, b.GEN.1.27.2', 'Dutch Sentence Numbers': 'b.GEN.1.27.1', 'Dutch Source': 'И сотворил Бог человека по образу Своему , по образу Божию сотворил его ; мужчину и женщину сотворил их .', 'Reference English': 'So God created man in his own image , in the image of God created he him ; male and female created he them .', 'Translated English': 'And God created man according to His image, and God created him according to His image, and man and woman created them.', 'COMET Score': 0.7316, 'SacreBLEU Score': 10.17, 'CHRF Score': 43.9}\n"
          ]
        },
        {
          "name": "stderr",
          "output_type": "stream",
          "text": [
            "INFO:pytorch_lightning.utilities.rank_zero:You are using the plain ModelCheckpoint callback. Consider using LitModelCheckpoint which with seamless uploading to Model registry.\n",
            "INFO:pytorch_lightning.utilities.rank_zero:GPU available: False, used: False\n",
            "INFO:pytorch_lightning.utilities.rank_zero:TPU available: False, using: 0 TPU cores\n",
            "INFO:pytorch_lightning.utilities.rank_zero:HPU available: False, using: 0 HPUs\n",
            "Predicting DataLoader 0: 100%|██████████| 1/1 [00:03<00:00,  3.62s/it]\n",
            "Processing links:   0%|          | 28/62202 [07:12<369:22:19, 21.39s/it]"
          ]
        },
        {
          "name": "stdout",
          "output_type": "stream",
          "text": [
            "{'English Sentence Numbers': 'b.GEN.1.28.1, b.GEN.1.28.2, b.GEN.1.28.3', 'Dutch Sentence Numbers': 'b.GEN.1.28.1', 'Dutch Source': 'И благословил их Бог , и сказал им Бог : плодитесь и размножайтесь , и наполняйте землю , и обладайте ею , и владычествуйте над рыбами морскими и над птицами небесными , и над всяким животным , пресмыкающимся по земле .', 'Reference English': 'And God blessed them , and God said unto them , Be fruitful , and multiply , and replenish the earth , and subdue it : and have dominion over the fish of the sea , and over the fowl of the air , and over every living thing that moveth upon the earth .', 'Translated English': 'And God blessed them, and God said to them, Fruit and multiply, and fill the earth, and possess it, and rule over the fish of the sea, and over the birds of the heavens, and over all the beasts that shrink on the earth.', 'COMET Score': 0.756, 'SacreBLEU Score': 44.63, 'CHRF Score': 57.76}\n"
          ]
        },
        {
          "name": "stderr",
          "output_type": "stream",
          "text": [
            "INFO:pytorch_lightning.utilities.rank_zero:You are using the plain ModelCheckpoint callback. Consider using LitModelCheckpoint which with seamless uploading to Model registry.\n",
            "INFO:pytorch_lightning.utilities.rank_zero:GPU available: False, used: False\n",
            "INFO:pytorch_lightning.utilities.rank_zero:TPU available: False, using: 0 TPU cores\n",
            "INFO:pytorch_lightning.utilities.rank_zero:HPU available: False, using: 0 HPUs\n",
            "Predicting DataLoader 0: 100%|██████████| 1/1 [00:03<00:00,  3.31s/it]\n",
            "Processing links:   0%|          | 29/62202 [07:36<381:48:56, 22.11s/it]"
          ]
        },
        {
          "name": "stdout",
          "output_type": "stream",
          "text": [
            "{'English Sentence Numbers': 'b.GEN.1.29.1, b.GEN.1.29.2', 'Dutch Sentence Numbers': 'b.GEN.1.29.1', 'Dutch Source': 'И сказал Бог : вот , Я дал вам всякую траву , сеющую семя , какая есть на всей земле , и всякое дерево , у которого плод древесный , сеющий семя ; – вам сие будет в пищу ;', 'Reference English': 'And God said , Behold , I have given you every herb bearing seed , which is upon the face of all the earth , and every tree , in the which is the fruit of a tree yielding seed ; to you it shall be for meat .', 'Translated English': 'And God said, Behold, I have given you all the grass that seeds the seed that is on the whole earth, and all the tree that has the fruit of the tree that seeds the seed, it will be to you to eat.', 'COMET Score': 0.6678, 'SacreBLEU Score': 28.76, 'CHRF Score': 46.81}\n"
          ]
        },
        {
          "name": "stderr",
          "output_type": "stream",
          "text": [
            "INFO:pytorch_lightning.utilities.rank_zero:You are using the plain ModelCheckpoint callback. Consider using LitModelCheckpoint which with seamless uploading to Model registry.\n",
            "INFO:pytorch_lightning.utilities.rank_zero:GPU available: False, used: False\n",
            "INFO:pytorch_lightning.utilities.rank_zero:TPU available: False, using: 0 TPU cores\n",
            "INFO:pytorch_lightning.utilities.rank_zero:HPU available: False, using: 0 HPUs\n",
            "Predicting DataLoader 0: 100%|██████████| 1/1 [00:03<00:00,  3.85s/it]\n",
            "Processing links:   0%|          | 30/62202 [07:59<385:53:43, 22.34s/it]"
          ]
        },
        {
          "name": "stdout",
          "output_type": "stream",
          "text": [
            "{'English Sentence Numbers': 'b.GEN.1.30.1', 'Dutch Sentence Numbers': 'b.GEN.1.30.1, b.GEN.1.30.2', 'Dutch Source': 'а всем зверям земным , и всем птицам небесным , и всякому пресмыкающемуся по земле , вкотором душа живая , дал Я всю зелень травную в пищу . И стало так .', 'Reference English': 'And to every beast of the earth , and to every fowl of the air , and to every thing that creepeth upon the earth , wherein there is life , I have given every green herb for meat : and it was so .', 'Translated English': 'And to all the beasts of the earth, and to all the birds of the heavens, and to all the beasts of the earth, whose soul is alive, I gave all the greens of the grain to food.', 'COMET Score': 0.6494, 'SacreBLEU Score': 18.65, 'CHRF Score': 35.26}\n"
          ]
        },
        {
          "name": "stderr",
          "output_type": "stream",
          "text": [
            "INFO:pytorch_lightning.utilities.rank_zero:You are using the plain ModelCheckpoint callback. Consider using LitModelCheckpoint which with seamless uploading to Model registry.\n",
            "INFO:pytorch_lightning.utilities.rank_zero:GPU available: False, used: False\n",
            "INFO:pytorch_lightning.utilities.rank_zero:TPU available: False, using: 0 TPU cores\n",
            "INFO:pytorch_lightning.utilities.rank_zero:HPU available: False, using: 0 HPUs\n",
            "Predicting DataLoader 0: 100%|██████████| 1/1 [00:02<00:00,  2.07s/it]\n",
            "Processing links:   0%|          | 31/62202 [08:13<344:21:00, 19.94s/it]"
          ]
        },
        {
          "name": "stdout",
          "output_type": "stream",
          "text": [
            "{'English Sentence Numbers': 'b.GEN.1.31.1, b.GEN.1.31.2', 'Dutch Sentence Numbers': 'b.GEN.1.31.1, b.GEN.1.31.2', 'Dutch Source': 'И увидел Бог все , что Он создал , и вот , хорошо весьма . И был вечер , и было утро : день шестой .', 'Reference English': 'And God saw every thing that he had made , and , behold , it was very good . And the evening and the morning were the sixth day .', 'Translated English': 'And God saw all that He created, and behold, it was very good; and it was evening, and it was morning, the sixth day.', 'COMET Score': 0.8235, 'SacreBLEU Score': 31.11, 'CHRF Score': 51.46}\n"
          ]
        },
        {
          "name": "stderr",
          "output_type": "stream",
          "text": [
            "INFO:pytorch_lightning.utilities.rank_zero:You are using the plain ModelCheckpoint callback. Consider using LitModelCheckpoint which with seamless uploading to Model registry.\n",
            "INFO:pytorch_lightning.utilities.rank_zero:GPU available: False, used: False\n",
            "INFO:pytorch_lightning.utilities.rank_zero:TPU available: False, using: 0 TPU cores\n",
            "INFO:pytorch_lightning.utilities.rank_zero:HPU available: False, using: 0 HPUs\n",
            "Predicting DataLoader 0: 100%|██████████| 1/1 [00:01<00:00,  1.27s/it]\n",
            "Processing links:   0%|          | 32/62202 [08:21<283:00:40, 16.39s/it]"
          ]
        },
        {
          "name": "stdout",
          "output_type": "stream",
          "text": [
            "{'English Sentence Numbers': 'b.GEN.2.1.1', 'Dutch Sentence Numbers': 'b.GEN.2.1.1', 'Dutch Source': 'Так совершены небо и земля и все воинство их .', 'Reference English': 'Thus the heavens and the earth were finished , and all the host of them .', 'Translated English': 'This is how heaven and earth and all their armies are accomplished.', 'COMET Score': 0.5812, 'SacreBLEU Score': 6.17, 'CHRF Score': 34.14}\n"
          ]
        },
        {
          "name": "stderr",
          "output_type": "stream",
          "text": [
            "INFO:pytorch_lightning.utilities.rank_zero:You are using the plain ModelCheckpoint callback. Consider using LitModelCheckpoint which with seamless uploading to Model registry.\n",
            "INFO:pytorch_lightning.utilities.rank_zero:GPU available: False, used: False\n",
            "INFO:pytorch_lightning.utilities.rank_zero:TPU available: False, using: 0 TPU cores\n",
            "INFO:pytorch_lightning.utilities.rank_zero:HPU available: False, using: 0 HPUs\n",
            "Predicting DataLoader 0: 100%|██████████| 1/1 [00:02<00:00,  2.65s/it]\n",
            "Processing links:   0%|          | 33/62202 [08:37<278:55:11, 16.15s/it]"
          ]
        },
        {
          "name": "stdout",
          "output_type": "stream",
          "text": [
            "{'English Sentence Numbers': 'b.GEN.2.2.1', 'Dutch Sentence Numbers': 'b.GEN.2.2.1', 'Dutch Source': 'И совершил Бог к седьмому дню дела Свои , которые Он делал , и почил в день седьмый от всех дел Своих , которые делал .', 'Reference English': 'And on the seventh day God ended his work which he had made ; and he rested on the seventh day from all his work which he had made .', 'Translated English': 'And God did his works on the seventh day, which He did, and began on the seventh day of all His works, which He did.', 'COMET Score': 0.6287, 'SacreBLEU Score': 18.51, 'CHRF Score': 46.15}\n"
          ]
        },
        {
          "name": "stderr",
          "output_type": "stream",
          "text": [
            "INFO:pytorch_lightning.utilities.rank_zero:You are using the plain ModelCheckpoint callback. Consider using LitModelCheckpoint which with seamless uploading to Model registry.\n",
            "INFO:pytorch_lightning.utilities.rank_zero:GPU available: False, used: False\n",
            "INFO:pytorch_lightning.utilities.rank_zero:TPU available: False, using: 0 TPU cores\n",
            "INFO:pytorch_lightning.utilities.rank_zero:HPU available: False, using: 0 HPUs\n",
            "Predicting DataLoader 0: 100%|██████████| 1/1 [00:02<00:00,  2.31s/it]\n",
            "Processing links:   0%|          | 34/62202 [08:52<274:12:21, 15.88s/it]"
          ]
        },
        {
          "name": "stdout",
          "output_type": "stream",
          "text": [
            "{'English Sentence Numbers': 'b.GEN.2.3.1', 'Dutch Sentence Numbers': 'b.GEN.2.3.1', 'Dutch Source': 'И благословил Бог седьмой день , и освятил его , ибо в оный почил от всех дел Своих , которые Бог творил и созидал .', 'Reference English': 'And God blessed the seventh day , and sanctified it : because that in it he had rested from all his work which God created and made .', 'Translated English': 'And God blessed the seventh day, and he sanctified it, for in it he began from all His works, which God created and created.', 'COMET Score': 0.7613, 'SacreBLEU Score': 41.88, 'CHRF Score': 65.64}\n"
          ]
        },
        {
          "name": "stderr",
          "output_type": "stream",
          "text": [
            "INFO:pytorch_lightning.utilities.rank_zero:You are using the plain ModelCheckpoint callback. Consider using LitModelCheckpoint which with seamless uploading to Model registry.\n",
            "INFO:pytorch_lightning.utilities.rank_zero:GPU available: False, used: False\n",
            "INFO:pytorch_lightning.utilities.rank_zero:TPU available: False, using: 0 TPU cores\n",
            "INFO:pytorch_lightning.utilities.rank_zero:HPU available: False, using: 0 HPUs\n",
            "Predicting DataLoader 0: 100%|██████████| 1/1 [00:02<00:00,  2.25s/it]\n",
            "Processing links:   0%|          | 35/62202 [09:04<256:11:08, 14.84s/it]"
          ]
        },
        {
          "name": "stdout",
          "output_type": "stream",
          "text": [
            "{'English Sentence Numbers': 'b.GEN.2.4.1', 'Dutch Sentence Numbers': 'b.GEN.2.4.1', 'Dutch Source': 'Вот происхождение неба и земли , при сотворении их , в то время , когда Господь Бог создал землю и небо ,', 'Reference English': 'These are the generations of the heavens and of the earth when they were created , in the day that the LORD God made the earth and the heavens ,', 'Translated English': 'This is the origin of heaven and earth, when the Lord God created the earth and the heavens.', 'COMET Score': 0.6822, 'SacreBLEU Score': 14.06, 'CHRF Score': 38.51}\n"
          ]
        },
        {
          "name": "stderr",
          "output_type": "stream",
          "text": [
            "INFO:pytorch_lightning.utilities.rank_zero:You are using the plain ModelCheckpoint callback. Consider using LitModelCheckpoint which with seamless uploading to Model registry.\n",
            "INFO:pytorch_lightning.utilities.rank_zero:GPU available: False, used: False\n",
            "INFO:pytorch_lightning.utilities.rank_zero:TPU available: False, using: 0 TPU cores\n",
            "INFO:pytorch_lightning.utilities.rank_zero:HPU available: False, using: 0 HPUs\n",
            "Predicting DataLoader 0: 100%|██████████| 1/1 [00:02<00:00,  2.87s/it]\n",
            "Processing links:   0%|          | 36/62202 [09:25<287:52:44, 16.67s/it]"
          ]
        },
        {
          "name": "stdout",
          "output_type": "stream",
          "text": [
            "{'English Sentence Numbers': 'b.GEN.2.5.1, b.GEN.2.5.2', 'Dutch Sentence Numbers': 'b.GEN.2.5.1', 'Dutch Source': 'и всякий полевой кустарник , которого еще не было на земле , и всякую полевую траву , которая еще не росла , ибо Господь Бог не посылал дождя на землю , и не было человека для возделывания земли ,', 'Reference English': 'And every plant of the field before it was in the earth , and every herb of the field before it grew : for the LORD God had not caused it to rain upon the earth , and there was not a man to till the ground .', 'Translated English': 'And every field grain which has not yet been on the earth, and every field grass which has not yet grown, for the Lord God has not sent rain on the earth, and there is no man to grow the earth.', 'COMET Score': 0.7132, 'SacreBLEU Score': 19.19, 'CHRF Score': 43.66}\n"
          ]
        },
        {
          "name": "stderr",
          "output_type": "stream",
          "text": [
            "INFO:pytorch_lightning.utilities.rank_zero:You are using the plain ModelCheckpoint callback. Consider using LitModelCheckpoint which with seamless uploading to Model registry.\n",
            "INFO:pytorch_lightning.utilities.rank_zero:GPU available: False, used: False\n",
            "INFO:pytorch_lightning.utilities.rank_zero:TPU available: False, using: 0 TPU cores\n",
            "INFO:pytorch_lightning.utilities.rank_zero:HPU available: False, using: 0 HPUs\n",
            "Predicting DataLoader 0: 100%|██████████| 1/1 [00:01<00:00,  1.40s/it]\n",
            "Processing links:   0%|          | 37/62202 [09:35<250:20:45, 14.50s/it]"
          ]
        },
        {
          "name": "stdout",
          "output_type": "stream",
          "text": [
            "{'English Sentence Numbers': 'b.GEN.2.6.1', 'Dutch Sentence Numbers': 'b.GEN.2.6.1', 'Dutch Source': 'но пар поднимался с земли и орошал все лице земли .', 'Reference English': 'But there went up a mist from the earth , and watered the whole face of the ground .', 'Translated English': 'But the couple went up from the earth and worn the whole face of the earth.', 'COMET Score': 0.4606, 'SacreBLEU Score': 29.87, 'CHRF Score': 56.29}\n"
          ]
        },
        {
          "name": "stderr",
          "output_type": "stream",
          "text": [
            "INFO:pytorch_lightning.utilities.rank_zero:You are using the plain ModelCheckpoint callback. Consider using LitModelCheckpoint which with seamless uploading to Model registry.\n",
            "INFO:pytorch_lightning.utilities.rank_zero:GPU available: False, used: False\n",
            "INFO:pytorch_lightning.utilities.rank_zero:TPU available: False, using: 0 TPU cores\n",
            "INFO:pytorch_lightning.utilities.rank_zero:HPU available: False, using: 0 HPUs\n",
            "Predicting DataLoader 0: 100%|██████████| 1/1 [00:01<00:00,  1.87s/it]\n",
            "Processing links:   0%|          | 38/62202 [09:50<252:04:53, 14.60s/it]"
          ]
        },
        {
          "name": "stdout",
          "output_type": "stream",
          "text": [
            "{'English Sentence Numbers': 'b.GEN.2.7.1', 'Dutch Sentence Numbers': 'b.GEN.2.7.1', 'Dutch Source': 'И создал Господь Бог человека из праха земного , и вдунул в лице его дыхание жизни , и стал человек душею живою .', 'Reference English': 'And the LORD God formed man of the dust of the ground , and breathed into his nostrils the breath of life ; and man became a living soul .', 'Translated English': 'And the LORD God created man from the dust of the earth, and the breath of life went into his face, and man became a living soul.', 'COMET Score': 0.8461, 'SacreBLEU Score': 46.75, 'CHRF Score': 62.77}\n"
          ]
        },
        {
          "name": "stderr",
          "output_type": "stream",
          "text": [
            "INFO:pytorch_lightning.utilities.rank_zero:You are using the plain ModelCheckpoint callback. Consider using LitModelCheckpoint which with seamless uploading to Model registry.\n",
            "INFO:pytorch_lightning.utilities.rank_zero:GPU available: False, used: False\n",
            "INFO:pytorch_lightning.utilities.rank_zero:TPU available: False, using: 0 TPU cores\n",
            "INFO:pytorch_lightning.utilities.rank_zero:HPU available: False, using: 0 HPUs\n",
            "Predicting DataLoader 0: 100%|██████████| 1/1 [00:01<00:00,  1.74s/it]\n",
            "Processing links:   0%|          | 39/62202 [10:02<241:18:56, 13.98s/it]"
          ]
        },
        {
          "name": "stdout",
          "output_type": "stream",
          "text": [
            "{'English Sentence Numbers': 'b.GEN.2.8.1', 'Dutch Sentence Numbers': 'b.GEN.2.8.1', 'Dutch Source': 'И насадил Господь Бог рай в Едеме на востоке , и поместил там человека , которого создал .', 'Reference English': 'And the LORD God planted a garden eastward in Eden ; and there he put the man whom he had formed .', 'Translated English': 'And the LORD God planted the paradise in Eden in the east, and placed there the man he created.', 'COMET Score': 0.8285, 'SacreBLEU Score': 22.78, 'CHRF Score': 47.21}\n"
          ]
        },
        {
          "name": "stderr",
          "output_type": "stream",
          "text": [
            "INFO:pytorch_lightning.utilities.rank_zero:You are using the plain ModelCheckpoint callback. Consider using LitModelCheckpoint which with seamless uploading to Model registry.\n",
            "INFO:pytorch_lightning.utilities.rank_zero:GPU available: False, used: False\n",
            "INFO:pytorch_lightning.utilities.rank_zero:TPU available: False, using: 0 TPU cores\n",
            "INFO:pytorch_lightning.utilities.rank_zero:HPU available: False, using: 0 HPUs\n",
            "Predicting DataLoader 0: 100%|██████████| 1/1 [00:02<00:00,  2.87s/it]\n",
            "Processing links:   0%|          | 40/62202 [10:24<280:26:36, 16.24s/it]"
          ]
        },
        {
          "name": "stdout",
          "output_type": "stream",
          "text": [
            "{'English Sentence Numbers': 'b.GEN.2.9.1', 'Dutch Sentence Numbers': 'b.GEN.2.9.1', 'Dutch Source': 'И произрастил Господь Бог из земли всякое дерево , приятное на вид и хорошее для пищи , и дерево жизни посреди рая , и дерево познания добра и зла .', 'Reference English': 'And out of the ground made the LORD God to grow every tree that is pleasant to the sight , and good for food ; the tree of life also in the midst of the garden , and the tree of knowledge of good and evil .', 'Translated English': 'And the LORD God raised out of the earth every tree, which is pleasant for sight and good for food, and the tree of life in the midst of heaven, and the tree of knowledge of good and evil.', 'COMET Score': 0.8054, 'SacreBLEU Score': 44.93, 'CHRF Score': 66.52}\n"
          ]
        },
        {
          "name": "stderr",
          "output_type": "stream",
          "text": [
            "INFO:pytorch_lightning.utilities.rank_zero:You are using the plain ModelCheckpoint callback. Consider using LitModelCheckpoint which with seamless uploading to Model registry.\n",
            "INFO:pytorch_lightning.utilities.rank_zero:GPU available: False, used: False\n",
            "INFO:pytorch_lightning.utilities.rank_zero:TPU available: False, using: 0 TPU cores\n",
            "INFO:pytorch_lightning.utilities.rank_zero:HPU available: False, using: 0 HPUs\n",
            "Predicting DataLoader 0: 100%|██████████| 1/1 [00:02<00:00,  2.19s/it]\n",
            "Processing links:   0%|          | 41/62202 [10:36<259:18:40, 15.02s/it]"
          ]
        },
        {
          "name": "stdout",
          "output_type": "stream",
          "text": [
            "{'English Sentence Numbers': 'b.GEN.2.10.1', 'Dutch Sentence Numbers': 'b.GEN.2.10.1', 'Dutch Source': 'Из Едема выходила река для орошения рая ; и потом разделялась на четыре реки .', 'Reference English': 'And a river went out of Eden to water the garden ; and from thence it was parted , and became into four heads .', 'Translated English': 'The river came out of Eden to irrigate the paradise, and then it was divided into four rivers.', 'COMET Score': 0.6653, 'SacreBLEU Score': 14.9, 'CHRF Score': 36.91}\n"
          ]
        },
        {
          "name": "stderr",
          "output_type": "stream",
          "text": [
            "INFO:pytorch_lightning.utilities.rank_zero:You are using the plain ModelCheckpoint callback. Consider using LitModelCheckpoint which with seamless uploading to Model registry.\n",
            "INFO:pytorch_lightning.utilities.rank_zero:GPU available: False, used: False\n",
            "INFO:pytorch_lightning.utilities.rank_zero:TPU available: False, using: 0 TPU cores\n",
            "INFO:pytorch_lightning.utilities.rank_zero:HPU available: False, using: 0 HPUs\n",
            "Predicting DataLoader 0: 100%|██████████| 1/1 [00:02<00:00,  2.39s/it]\n",
            "Processing links:   0%|          | 42/62202 [10:48<242:36:20, 14.05s/it]"
          ]
        },
        {
          "name": "stdout",
          "output_type": "stream",
          "text": [
            "{'English Sentence Numbers': 'b.GEN.2.11.1', 'Dutch Sentence Numbers': 'b.GEN.2.11.1', 'Dutch Source': 'Имя одной Фисон : она обтекает всю землю Хавила , ту , где золото ;', 'Reference English': 'The name of the first is Pison : that is it which compasseth the whole land of Havilah , where there is gold ;', 'Translated English': 'The name of one is Physon, which flows around the whole land of Havil, where the gold is.', 'COMET Score': 0.6461, 'SacreBLEU Score': 17.74, 'CHRF Score': 45.9}\n"
          ]
        },
        {
          "name": "stderr",
          "output_type": "stream",
          "text": [
            "INFO:pytorch_lightning.utilities.rank_zero:You are using the plain ModelCheckpoint callback. Consider using LitModelCheckpoint which with seamless uploading to Model registry.\n",
            "INFO:pytorch_lightning.utilities.rank_zero:GPU available: False, used: False\n",
            "INFO:pytorch_lightning.utilities.rank_zero:TPU available: False, using: 0 TPU cores\n",
            "INFO:pytorch_lightning.utilities.rank_zero:HPU available: False, using: 0 HPUs\n",
            "Predicting DataLoader 0: 100%|██████████| 1/1 [00:01<00:00,  1.46s/it]\n",
            "Processing links:   0%|          | 43/62202 [10:58<226:27:36, 13.12s/it]"
          ]
        },
        {
          "name": "stdout",
          "output_type": "stream",
          "text": [
            "{'English Sentence Numbers': 'b.GEN.2.12.1, b.GEN.2.12.2', 'Dutch Sentence Numbers': 'b.GEN.2.12.1', 'Dutch Source': 'и золото той земли хорошее ; там бдолах и камень оникс .', 'Reference English': 'And the gold of that land is good : there is bdellium and the onyx stone .', 'Translated English': 'And the gold of that earth is good; there are the bridges and the stone of onics.', 'COMET Score': 0.7115, 'SacreBLEU Score': 26.1, 'CHRF Score': 47.78}\n"
          ]
        },
        {
          "name": "stderr",
          "output_type": "stream",
          "text": [
            "INFO:pytorch_lightning.utilities.rank_zero:You are using the plain ModelCheckpoint callback. Consider using LitModelCheckpoint which with seamless uploading to Model registry.\n",
            "INFO:pytorch_lightning.utilities.rank_zero:GPU available: False, used: False\n",
            "INFO:pytorch_lightning.utilities.rank_zero:TPU available: False, using: 0 TPU cores\n",
            "INFO:pytorch_lightning.utilities.rank_zero:HPU available: False, using: 0 HPUs\n",
            "Predicting DataLoader 0: 100%|██████████| 1/1 [00:01<00:00,  1.44s/it]\n",
            "Processing links:   0%|          | 44/62202 [11:09<211:42:43, 12.26s/it]"
          ]
        },
        {
          "name": "stdout",
          "output_type": "stream",
          "text": [
            "{'English Sentence Numbers': 'b.GEN.2.13.1', 'Dutch Sentence Numbers': 'b.GEN.2.13.1', 'Dutch Source': 'Имя второй реки Гихон : она обтекает всю землю Куш .', 'Reference English': 'And the name of the second river is Gihon : the same is it that compasseth the whole land of Ethiopia .', 'Translated English': 'The name of the second river Gihon: it flows around the whole land of Kush.', 'COMET Score': 0.74, 'SacreBLEU Score': 30.29, 'CHRF Score': 50.02}\n"
          ]
        },
        {
          "name": "stderr",
          "output_type": "stream",
          "text": [
            "INFO:pytorch_lightning.utilities.rank_zero:You are using the plain ModelCheckpoint callback. Consider using LitModelCheckpoint which with seamless uploading to Model registry.\n",
            "INFO:pytorch_lightning.utilities.rank_zero:GPU available: False, used: False\n",
            "INFO:pytorch_lightning.utilities.rank_zero:TPU available: False, using: 0 TPU cores\n",
            "INFO:pytorch_lightning.utilities.rank_zero:HPU available: False, using: 0 HPUs\n",
            "Predicting DataLoader 0: 100%|██████████| 1/1 [00:01<00:00,  1.75s/it]\n",
            "Processing links:   0%|          | 45/62202 [11:20<208:28:14, 12.07s/it]"
          ]
        },
        {
          "name": "stdout",
          "output_type": "stream",
          "text": [
            "{'English Sentence Numbers': 'b.GEN.2.14.1, b.GEN.2.14.2', 'Dutch Sentence Numbers': 'b.GEN.2.14.1, b.GEN.2.14.2', 'Dutch Source': 'Имя третьей реки Хиддекель : она протекает пред Ассириею . Четвертая река Евфрат .', 'Reference English': 'And the name of the third river is Hiddekel : that is it which goeth toward the east of Assyria . And the fourth river is Euphrates .', 'Translated English': 'The name of the third river Hiddekel: it flows in front of Assyria.', 'COMET Score': 0.6662, 'SacreBLEU Score': 15.57, 'CHRF Score': 38.26}\n"
          ]
        },
        {
          "name": "stderr",
          "output_type": "stream",
          "text": [
            "INFO:pytorch_lightning.utilities.rank_zero:You are using the plain ModelCheckpoint callback. Consider using LitModelCheckpoint which with seamless uploading to Model registry.\n",
            "INFO:pytorch_lightning.utilities.rank_zero:GPU available: False, used: False\n",
            "INFO:pytorch_lightning.utilities.rank_zero:TPU available: False, using: 0 TPU cores\n",
            "INFO:pytorch_lightning.utilities.rank_zero:HPU available: False, using: 0 HPUs\n",
            "Predicting DataLoader 0: 100%|██████████| 1/1 [00:01<00:00,  1.70s/it]\n",
            "Processing links:   0%|          | 46/62202 [11:33<211:30:13, 12.25s/it]"
          ]
        },
        {
          "name": "stdout",
          "output_type": "stream",
          "text": [
            "{'English Sentence Numbers': 'b.GEN.2.15.1', 'Dutch Sentence Numbers': 'b.GEN.2.15.1', 'Dutch Source': 'И взял Господь Бог человека , и поселил его в саду Едемском , чтобы возделывать его и хранить его .', 'Reference English': 'And the LORD God took the man , and put him into the garden of Eden to dress it and to keep it .', 'Translated English': 'And the LORD God took man, and settled him in the garden of Eden, to grow and keep him.', 'COMET Score': 0.7325, 'SacreBLEU Score': 32.31, 'CHRF Score': 56.75}\n"
          ]
        },
        {
          "name": "stderr",
          "output_type": "stream",
          "text": [
            "INFO:pytorch_lightning.utilities.rank_zero:You are using the plain ModelCheckpoint callback. Consider using LitModelCheckpoint which with seamless uploading to Model registry.\n",
            "INFO:pytorch_lightning.utilities.rank_zero:GPU available: False, used: False\n",
            "INFO:pytorch_lightning.utilities.rank_zero:TPU available: False, using: 0 TPU cores\n",
            "INFO:pytorch_lightning.utilities.rank_zero:HPU available: False, using: 0 HPUs\n",
            "Predicting DataLoader 0: 100%|██████████| 1/1 [00:01<00:00,  1.55s/it]\n",
            "Processing links:   0%|          | 47/62202 [11:44<204:39:45, 11.85s/it]"
          ]
        },
        {
          "name": "stdout",
          "output_type": "stream",
          "text": [
            "{'English Sentence Numbers': 'b.GEN.2.16.1', 'Dutch Sentence Numbers': 'b.GEN.2.16.1', 'Dutch Source': 'И заповедал Господь Бог человеку , говоря : от всякого дерева в саду ты будешь есть ,', 'Reference English': 'And the LORD God commanded the man , saying , Of every tree of the garden thou mayest freely eat :', 'Translated English': 'And the LORD God commanded man, saying, From every tree in the garden you will eat.', 'COMET Score': 0.8144, 'SacreBLEU Score': 33.98, 'CHRF Score': 59.13}\n"
          ]
        },
        {
          "name": "stderr",
          "output_type": "stream",
          "text": [
            "INFO:pytorch_lightning.utilities.rank_zero:You are using the plain ModelCheckpoint callback. Consider using LitModelCheckpoint which with seamless uploading to Model registry.\n",
            "INFO:pytorch_lightning.utilities.rank_zero:GPU available: False, used: False\n",
            "INFO:pytorch_lightning.utilities.rank_zero:TPU available: False, using: 0 TPU cores\n",
            "INFO:pytorch_lightning.utilities.rank_zero:HPU available: False, using: 0 HPUs\n",
            "Predicting DataLoader 0: 100%|██████████| 1/1 [00:01<00:00,  1.95s/it]\n",
            "Processing links:   0%|          | 48/62202 [11:59<219:37:57, 12.72s/it]"
          ]
        },
        {
          "name": "stdout",
          "output_type": "stream",
          "text": [
            "{'English Sentence Numbers': 'b.GEN.2.17.1', 'Dutch Sentence Numbers': 'b.GEN.2.17.1', 'Dutch Source': 'а от дерева познания добра и зла не ешь от него , ибо в день , в который ты вкусишь от него , смертью умрешь .', 'Reference English': 'But of the tree of the knowledge of good and evil , thou shalt not eat of it : for in the day that thou eatest thereof thou shalt surely die .', 'Translated English': 'But from the tree of knowledge of good and evil do not eat from it, for on the day that you taste it, you will die by death.', 'COMET Score': 0.6496, 'SacreBLEU Score': 21.12, 'CHRF Score': 44.82}\n"
          ]
        },
        {
          "name": "stderr",
          "output_type": "stream",
          "text": [
            "INFO:pytorch_lightning.utilities.rank_zero:You are using the plain ModelCheckpoint callback. Consider using LitModelCheckpoint which with seamless uploading to Model registry.\n",
            "INFO:pytorch_lightning.utilities.rank_zero:GPU available: False, used: False\n",
            "INFO:pytorch_lightning.utilities.rank_zero:TPU available: False, using: 0 TPU cores\n",
            "INFO:pytorch_lightning.utilities.rank_zero:HPU available: False, using: 0 HPUs\n",
            "Predicting DataLoader 0: 100%|██████████| 1/1 [00:01<00:00,  1.68s/it]\n",
            "Processing links:   0%|          | 49/62202 [12:13<225:32:28, 13.06s/it]"
          ]
        },
        {
          "name": "stdout",
          "output_type": "stream",
          "text": [
            "{'English Sentence Numbers': 'b.GEN.2.18.1', 'Dutch Sentence Numbers': 'b.GEN.2.18.1', 'Dutch Source': 'И сказал Господь Бог : не хорошо быть человеку одному ; сотворим ему помощника , соответственного ему .', 'Reference English': 'And the LORD God said , It is not good that the man should be alone ; I will make him an help meet for him .', 'Translated English': 'And the LORD God said, It is not good for a man to be alone; We will make him a assistant, which is appropriate to him.', 'COMET Score': 0.7923, 'SacreBLEU Score': 41.55, 'CHRF Score': 58.12}\n"
          ]
        },
        {
          "name": "stderr",
          "output_type": "stream",
          "text": [
            "INFO:pytorch_lightning.utilities.rank_zero:You are using the plain ModelCheckpoint callback. Consider using LitModelCheckpoint which with seamless uploading to Model registry.\n",
            "INFO:pytorch_lightning.utilities.rank_zero:GPU available: False, used: False\n",
            "INFO:pytorch_lightning.utilities.rank_zero:TPU available: False, using: 0 TPU cores\n",
            "INFO:pytorch_lightning.utilities.rank_zero:HPU available: False, using: 0 HPUs\n",
            "Predicting DataLoader 0: 100%|██████████| 1/1 [00:03<00:00,  3.29s/it]\n",
            "Processing links:   0%|          | 50/62202 [12:36<280:02:24, 16.22s/it]"
          ]
        },
        {
          "name": "stdout",
          "output_type": "stream",
          "text": [
            "{'English Sentence Numbers': 'b.GEN.2.19.1, b.GEN.2.19.2', 'Dutch Sentence Numbers': 'b.GEN.2.19.1', 'Dutch Source': 'Господь Бог образовал из земли всех животных полевых и всех птицнебесных , и привел к человеку , чтобы видеть , как он назовет их , и чтобы , как наречет человек всякую душу живую , так и было имя ей .', 'Reference English': 'And out of the ground the LORD God formed every beast of the field , and every fowl of the air ; and brought them unto Adam to see what he would call them : and whatsoever Adam called every living creature , that was the name thereof .', 'Translated English': 'The Lord God created all the animals of the field and all the birds of heaven from the earth, and brought to man to see how he will call them, and that, as man will call every soul alive, the name of it will be.', 'COMET Score': 0.6508, 'SacreBLEU Score': 6.31, 'CHRF Score': 35.05}\n"
          ]
        },
        {
          "name": "stderr",
          "output_type": "stream",
          "text": [
            "INFO:pytorch_lightning.utilities.rank_zero:You are using the plain ModelCheckpoint callback. Consider using LitModelCheckpoint which with seamless uploading to Model registry.\n",
            "INFO:pytorch_lightning.utilities.rank_zero:GPU available: False, used: False\n",
            "INFO:pytorch_lightning.utilities.rank_zero:TPU available: False, using: 0 TPU cores\n",
            "INFO:pytorch_lightning.utilities.rank_zero:HPU available: False, using: 0 HPUs\n",
            "Predicting DataLoader 0: 100%|██████████| 1/1 [00:02<00:00,  2.03s/it]\n",
            "Processing links:   0%|          | 51/62202 [12:52<280:15:05, 16.23s/it]"
          ]
        },
        {
          "name": "stdout",
          "output_type": "stream",
          "text": [
            "{'English Sentence Numbers': 'b.GEN.2.20.1', 'Dutch Sentence Numbers': 'b.GEN.2.20.1', 'Dutch Source': 'И нарек человек имена всем скотам и птицам небесным и всем зверямполевым ; но для человека не нашлось помощника , подобного ему .', 'Reference English': 'And Adam gave names to all cattle , and to the fowl of the air , and to every beast of the field ; but for Adam there was not found an help meet for him .', 'Translated English': 'And man gave names to all the sheep and birds in the heavens and to all the beasts; but there was no help for man like him.', 'COMET Score': 0.7199, 'SacreBLEU Score': 11.15, 'CHRF Score': 35.32}\n"
          ]
        },
        {
          "name": "stderr",
          "output_type": "stream",
          "text": [
            "INFO:pytorch_lightning.utilities.rank_zero:You are using the plain ModelCheckpoint callback. Consider using LitModelCheckpoint which with seamless uploading to Model registry.\n",
            "INFO:pytorch_lightning.utilities.rank_zero:GPU available: False, used: False\n",
            "INFO:pytorch_lightning.utilities.rank_zero:TPU available: False, using: 0 TPU cores\n",
            "INFO:pytorch_lightning.utilities.rank_zero:HPU available: False, using: 0 HPUs\n",
            "Predicting DataLoader 0: 100%|██████████| 1/1 [00:01<00:00,  1.93s/it]\n",
            "Processing links:   0%|          | 52/62202 [13:08<276:30:13, 16.02s/it]"
          ]
        },
        {
          "name": "stdout",
          "output_type": "stream",
          "text": [
            "{'English Sentence Numbers': 'b.GEN.2.21.1', 'Dutch Sentence Numbers': 'b.GEN.2.21.1', 'Dutch Source': 'И навел Господь Бог на человека крепкий сон ; и , когда он уснул , взял одно из ребр его , и закрыл то место плотию .', 'Reference English': 'And the LORD God caused a deep sleep to fall upon Adam and he slept : and he took one of his ribs , and closed up the flesh instead thereof ;', 'Translated English': 'And the LORD God brought a strong sleep on man; and when he slept, he took one of his ribs, and closed the place with flesh.', 'COMET Score': 0.7487, 'SacreBLEU Score': 36.87, 'CHRF Score': 50.7}\n"
          ]
        },
        {
          "name": "stderr",
          "output_type": "stream",
          "text": [
            "INFO:pytorch_lightning.utilities.rank_zero:You are using the plain ModelCheckpoint callback. Consider using LitModelCheckpoint which with seamless uploading to Model registry.\n",
            "INFO:pytorch_lightning.utilities.rank_zero:GPU available: False, used: False\n",
            "INFO:pytorch_lightning.utilities.rank_zero:TPU available: False, using: 0 TPU cores\n",
            "INFO:pytorch_lightning.utilities.rank_zero:HPU available: False, using: 0 HPUs\n",
            "Predicting DataLoader 0: 100%|██████████| 1/1 [00:01<00:00,  1.63s/it]\n",
            "Processing links:   0%|          | 53/62202 [13:19<250:03:33, 14.48s/it]"
          ]
        },
        {
          "name": "stdout",
          "output_type": "stream",
          "text": [
            "{'English Sentence Numbers': 'b.GEN.2.22.1', 'Dutch Sentence Numbers': 'b.GEN.2.22.1', 'Dutch Source': 'И создал Господь Бог из ребра , взятого у человека , жену , и привел ее к человеку .', 'Reference English': 'And the rib , which the LORD God had taken from man , made he a woman , and brought her unto the man .', 'Translated English': 'And the LORD God created from the edge taken from man a wife, and brought her to man.', 'COMET Score': 0.5841, 'SacreBLEU Score': 20.33, 'CHRF Score': 50.42}\n"
          ]
        },
        {
          "name": "stderr",
          "output_type": "stream",
          "text": [
            "INFO:pytorch_lightning.utilities.rank_zero:You are using the plain ModelCheckpoint callback. Consider using LitModelCheckpoint which with seamless uploading to Model registry.\n",
            "INFO:pytorch_lightning.utilities.rank_zero:GPU available: False, used: False\n",
            "INFO:pytorch_lightning.utilities.rank_zero:TPU available: False, using: 0 TPU cores\n",
            "INFO:pytorch_lightning.utilities.rank_zero:HPU available: False, using: 0 HPUs\n",
            "Predicting DataLoader 0: 100%|██████████| 1/1 [00:02<00:00,  2.04s/it]\n",
            "Processing links:   0%|          | 54/62202 [13:36<262:55:03, 15.23s/it]"
          ]
        },
        {
          "name": "stdout",
          "output_type": "stream",
          "text": [
            "{'English Sentence Numbers': 'b.GEN.2.23.1, b.GEN.2.23.2', 'Dutch Sentence Numbers': 'b.GEN.2.23.1', 'Dutch Source': 'И сказал человек : вот , это кость от костей моих и плоть от плоти моей ; она будет называться женою , ибо взята от мужа .', 'Reference English': 'And Adam said , This is now bone of my bones , and flesh of my flesh : she shall be called Woman , because she was taken out of Man .', 'Translated English': 'And the man said, Behold, this is a bone from my bones and a flesh from my flesh; it will be called a wife, for it is taken from my husband.', 'COMET Score': 0.7497, 'SacreBLEU Score': 4.95, 'CHRF Score': 37.35}\n"
          ]
        },
        {
          "name": "stderr",
          "output_type": "stream",
          "text": [
            "INFO:pytorch_lightning.utilities.rank_zero:You are using the plain ModelCheckpoint callback. Consider using LitModelCheckpoint which with seamless uploading to Model registry.\n",
            "INFO:pytorch_lightning.utilities.rank_zero:GPU available: False, used: False\n",
            "INFO:pytorch_lightning.utilities.rank_zero:TPU available: False, using: 0 TPU cores\n",
            "INFO:pytorch_lightning.utilities.rank_zero:HPU available: False, using: 0 HPUs\n",
            "Predicting DataLoader 0: 100%|██████████| 1/1 [00:01<00:00,  1.64s/it]\n",
            "Processing links:   0%|          | 55/62202 [13:49<250:17:34, 14.50s/it]"
          ]
        },
        {
          "name": "stdout",
          "output_type": "stream",
          "text": [
            "{'English Sentence Numbers': 'b.GEN.2.24.1', 'Dutch Sentence Numbers': 'b.GEN.2.24.1', 'Dutch Source': 'Потому оставит человек отца своего и мать свою и прилепится к жене своей ; и будут одна плоть .', 'Reference English': 'Therefore shall a man leave his father and his mother , and shall cleave unto his wife : and they shall be one flesh .', 'Translated English': 'Therefore the man will leave his father and his mother, and cling to his wife, and they will be one flesh.', 'COMET Score': 0.633, 'SacreBLEU Score': 43.07, 'CHRF Score': 64.48}\n"
          ]
        },
        {
          "name": "stderr",
          "output_type": "stream",
          "text": [
            "INFO:pytorch_lightning.utilities.rank_zero:You are using the plain ModelCheckpoint callback. Consider using LitModelCheckpoint which with seamless uploading to Model registry.\n",
            "INFO:pytorch_lightning.utilities.rank_zero:GPU available: False, used: False\n",
            "INFO:pytorch_lightning.utilities.rank_zero:TPU available: False, using: 0 TPU cores\n",
            "INFO:pytorch_lightning.utilities.rank_zero:HPU available: False, using: 0 HPUs\n",
            "Predicting DataLoader 0: 100%|██████████| 1/1 [00:01<00:00,  1.45s/it]\n",
            "Processing links:   0%|          | 56/62202 [13:59<227:03:55, 13.15s/it]"
          ]
        },
        {
          "name": "stdout",
          "output_type": "stream",
          "text": [
            "{'English Sentence Numbers': 'b.GEN.2.25.1', 'Dutch Sentence Numbers': 'b.GEN.2.25.1', 'Dutch Source': 'И были оба наги , Адам и жена его , и не стыдились .', 'Reference English': 'And they were both naked , the man and his wife , and were not ashamed .', 'Translated English': 'And they were both naked, Adam and his wife, and they were not ashamed.', 'COMET Score': 0.8701, 'SacreBLEU Score': 64.23, 'CHRF Score': 81.62}\n"
          ]
        },
        {
          "name": "stderr",
          "output_type": "stream",
          "text": [
            "INFO:pytorch_lightning.utilities.rank_zero:You are using the plain ModelCheckpoint callback. Consider using LitModelCheckpoint which with seamless uploading to Model registry.\n",
            "INFO:pytorch_lightning.utilities.rank_zero:GPU available: False, used: False\n",
            "INFO:pytorch_lightning.utilities.rank_zero:TPU available: False, using: 0 TPU cores\n",
            "INFO:pytorch_lightning.utilities.rank_zero:HPU available: False, using: 0 HPUs\n",
            "Predicting DataLoader 0: 100%|██████████| 1/1 [00:02<00:00,  2.14s/it]\n",
            "Processing links:   0%|          | 57/62202 [14:13<234:29:39, 13.58s/it]"
          ]
        },
        {
          "name": "stdout",
          "output_type": "stream",
          "text": [
            "{'English Sentence Numbers': 'b.GEN.3.1.1, b.GEN.3.1.2', 'Dutch Sentence Numbers': 'b.GEN.3.1.1, b.GEN.3.1.2', 'Dutch Source': 'Змей был хитрее всех зверей полевых , которых создал Господь Бог . И сказал змей жене : подлинно ли сказал Бог : не ешьте ни от какого дерева в раю ?', 'Reference English': 'Now the serpent was more subtil than any beast of the field which the LORD God had made . And he said unto the woman , Yea , hath God said , Ye shall not eat of every tree of the garden ?', 'Translated English': 'And the serpent said to the woman, Is it true that God said, Do you not eat any of the trees in the paradise?', 'COMET Score': 0.6525, 'SacreBLEU Score': 7.17, 'CHRF Score': 30.39}\n"
          ]
        },
        {
          "name": "stderr",
          "output_type": "stream",
          "text": [
            "INFO:pytorch_lightning.utilities.rank_zero:You are using the plain ModelCheckpoint callback. Consider using LitModelCheckpoint which with seamless uploading to Model registry.\n",
            "INFO:pytorch_lightning.utilities.rank_zero:GPU available: False, used: False\n",
            "INFO:pytorch_lightning.utilities.rank_zero:TPU available: False, using: 0 TPU cores\n",
            "INFO:pytorch_lightning.utilities.rank_zero:HPU available: False, using: 0 HPUs\n",
            "Predicting DataLoader 0: 100%|██████████| 1/1 [00:01<00:00,  1.41s/it]\n",
            "Processing links:   0%|          | 58/62202 [14:23<212:54:57, 12.33s/it]"
          ]
        },
        {
          "name": "stdout",
          "output_type": "stream",
          "text": [
            "{'English Sentence Numbers': 'b.GEN.3.2.1', 'Dutch Sentence Numbers': 'b.GEN.3.2.1', 'Dutch Source': 'И сказала жена змею : плоды с дерев мы можем есть ,', 'Reference English': 'And the woman said unto the serpent , We may eat of the fruit of the trees of the garden :', 'Translated English': 'And the wife said to the dragon, We can eat the fruit of the tree.', 'COMET Score': 0.6553, 'SacreBLEU Score': 16.56, 'CHRF Score': 42.07}\n"
          ]
        },
        {
          "name": "stderr",
          "output_type": "stream",
          "text": [
            "INFO:pytorch_lightning.utilities.rank_zero:You are using the plain ModelCheckpoint callback. Consider using LitModelCheckpoint which with seamless uploading to Model registry.\n",
            "INFO:pytorch_lightning.utilities.rank_zero:GPU available: False, used: False\n",
            "INFO:pytorch_lightning.utilities.rank_zero:TPU available: False, using: 0 TPU cores\n",
            "INFO:pytorch_lightning.utilities.rank_zero:HPU available: False, using: 0 HPUs\n",
            "Predicting DataLoader 0: 100%|██████████| 1/1 [00:02<00:00,  2.09s/it]\n",
            "Processing links:   0%|          | 59/62202 [14:38<231:18:19, 13.40s/it]"
          ]
        },
        {
          "name": "stdout",
          "output_type": "stream",
          "text": [
            "{'English Sentence Numbers': 'b.GEN.3.3.1', 'Dutch Sentence Numbers': 'b.GEN.3.3.1', 'Dutch Source': 'только плодов дерева , которое среди рая , сказал Бог , не ешьте их и не прикасайтесь к ним , чтобы вам не умереть .', 'Reference English': 'But of the fruit of the tree which is in the midst of the garden , God hath said , Ye shall not eat of it , neither shall ye touch it , lest ye die .', 'Translated English': 'Only the fruit of the tree that is in the midst of heaven, God said, do not eat them, and do not touch them, so that you may not die.', 'COMET Score': 0.6701, 'SacreBLEU Score': 24.88, 'CHRF Score': 42.95}\n"
          ]
        },
        {
          "name": "stderr",
          "output_type": "stream",
          "text": [
            "INFO:pytorch_lightning.utilities.rank_zero:You are using the plain ModelCheckpoint callback. Consider using LitModelCheckpoint which with seamless uploading to Model registry.\n",
            "INFO:pytorch_lightning.utilities.rank_zero:GPU available: False, used: False\n",
            "INFO:pytorch_lightning.utilities.rank_zero:TPU available: False, using: 0 TPU cores\n",
            "INFO:pytorch_lightning.utilities.rank_zero:HPU available: False, using: 0 HPUs\n",
            "Predicting DataLoader 0: 100%|██████████| 1/1 [00:01<00:00,  1.25s/it]\n",
            "Processing links:   0%|          | 60/62202 [14:47<208:12:53, 12.06s/it]"
          ]
        },
        {
          "name": "stdout",
          "output_type": "stream",
          "text": [
            "{'English Sentence Numbers': 'b.GEN.3.4.1', 'Dutch Sentence Numbers': 'b.GEN.3.4.1', 'Dutch Source': 'И сказал змей жене : нет , не умрете ,', 'Reference English': 'And the serpent said unto the woman , Ye shall not surely die :', 'Translated English': 'And the serpent said to his wife, No, do not die.', 'COMET Score': 0.6478, 'SacreBLEU Score': 20.45, 'CHRF Score': 39.3}\n"
          ]
        },
        {
          "name": "stderr",
          "output_type": "stream",
          "text": [
            "INFO:pytorch_lightning.utilities.rank_zero:You are using the plain ModelCheckpoint callback. Consider using LitModelCheckpoint which with seamless uploading to Model registry.\n",
            "INFO:pytorch_lightning.utilities.rank_zero:GPU available: False, used: False\n",
            "INFO:pytorch_lightning.utilities.rank_zero:TPU available: False, using: 0 TPU cores\n",
            "INFO:pytorch_lightning.utilities.rank_zero:HPU available: False, using: 0 HPUs\n",
            "Predicting DataLoader 0: 100%|██████████| 1/1 [00:02<00:00,  2.09s/it]\n",
            "Processing links:   0%|          | 61/62202 [15:03<223:48:07, 12.97s/it]"
          ]
        },
        {
          "name": "stdout",
          "output_type": "stream",
          "text": [
            "{'English Sentence Numbers': 'b.GEN.3.5.1', 'Dutch Sentence Numbers': 'b.GEN.3.5.1', 'Dutch Source': 'но знает Бог , что в день , в который вы вкусите их , откроются глаза ваши , и вы будете , как боги , знающие добро и зло .', 'Reference English': 'For God doth know that in the day ye eat thereof , then your eyes shall be opened , and ye shall be as gods , knowing good and evil .', 'Translated English': 'But God knows that on the day you taste them, your eyes will be opened, and you will be like gods who know good and evil.', 'COMET Score': 0.7221, 'SacreBLEU Score': 19.79, 'CHRF Score': 46.25}\n"
          ]
        },
        {
          "name": "stderr",
          "output_type": "stream",
          "text": [
            "INFO:pytorch_lightning.utilities.rank_zero:You are using the plain ModelCheckpoint callback. Consider using LitModelCheckpoint which with seamless uploading to Model registry.\n",
            "INFO:pytorch_lightning.utilities.rank_zero:GPU available: False, used: False\n",
            "INFO:pytorch_lightning.utilities.rank_zero:TPU available: False, using: 0 TPU cores\n",
            "INFO:pytorch_lightning.utilities.rank_zero:HPU available: False, using: 0 HPUs\n",
            "Predicting DataLoader 0: 100%|██████████| 1/1 [00:04<00:00,  4.05s/it]\n",
            "Processing links:   0%|          | 62/62202 [15:26<279:43:54, 16.21s/it]"
          ]
        },
        {
          "name": "stdout",
          "output_type": "stream",
          "text": [
            "{'English Sentence Numbers': 'b.GEN.3.6.1', 'Dutch Sentence Numbers': 'b.GEN.3.6.1', 'Dutch Source': 'И увидела жена , что дерево хорошо для пищи , и что оно приятно дляглаз и вожделенно , потому что дает знание ; и взяла плодов его и ела ; и дала также мужу своему , и он ел .', 'Reference English': 'And when the woman saw that the tree was good for food , and that it was pleasant to the eyes , and a tree to be desired to make one wise , she took of the fruit thereof , and did eat , and gave also unto her husband with her ; and he did eat .', 'Translated English': 'And the wife saw that the tree was good for food, and that it was pleasant for sight and desire, because it gives knowledge; and she took the fruit of it and ate it; and she also gave it to her husband, and he ate.', 'COMET Score': 0.7231, 'SacreBLEU Score': 30.32, 'CHRF Score': 52.47}\n"
          ]
        },
        {
          "name": "stderr",
          "output_type": "stream",
          "text": [
            "INFO:pytorch_lightning.utilities.rank_zero:You are using the plain ModelCheckpoint callback. Consider using LitModelCheckpoint which with seamless uploading to Model registry.\n",
            "INFO:pytorch_lightning.utilities.rank_zero:GPU available: False, used: False\n",
            "INFO:pytorch_lightning.utilities.rank_zero:TPU available: False, using: 0 TPU cores\n",
            "INFO:pytorch_lightning.utilities.rank_zero:HPU available: False, using: 0 HPUs\n",
            "Predicting DataLoader 0: 100%|██████████| 1/1 [00:01<00:00,  1.99s/it]\n",
            "Processing links:   0%|          | 63/62202 [15:43<281:20:08, 16.30s/it]"
          ]
        },
        {
          "name": "stdout",
          "output_type": "stream",
          "text": [
            "{'English Sentence Numbers': 'b.GEN.3.7.1, b.GEN.3.7.2', 'Dutch Sentence Numbers': 'b.GEN.3.7.1', 'Dutch Source': 'И открылись глаза у них обоих , и узнали они , что наги , и сшили смоковные листья , и сделали себе опоясания .', 'Reference English': 'And the eyes of them both were opened , and they knew that they were naked ; and they sewed fig leaves together , and made themselves aprons .', 'Translated English': 'And they opened their eyes among them both, and they learned that they were naked, and they shed the fistle leaves, and they made themselves obsessions.', 'COMET Score': 0.5546, 'SacreBLEU Score': 17.14, 'CHRF Score': 56.67}\n"
          ]
        },
        {
          "name": "stderr",
          "output_type": "stream",
          "text": [
            "INFO:pytorch_lightning.utilities.rank_zero:You are using the plain ModelCheckpoint callback. Consider using LitModelCheckpoint which with seamless uploading to Model registry.\n",
            "INFO:pytorch_lightning.utilities.rank_zero:GPU available: False, used: False\n",
            "INFO:pytorch_lightning.utilities.rank_zero:TPU available: False, using: 0 TPU cores\n",
            "INFO:pytorch_lightning.utilities.rank_zero:HPU available: False, using: 0 HPUs\n",
            "Predicting DataLoader 0: 100%|██████████| 1/1 [00:02<00:00,  2.60s/it]\n",
            "Processing links:   0%|          | 64/62202 [16:03<299:47:34, 17.37s/it]"
          ]
        },
        {
          "name": "stdout",
          "output_type": "stream",
          "text": [
            "{'English Sentence Numbers': 'b.GEN.3.8.1', 'Dutch Sentence Numbers': 'b.GEN.3.8.1', 'Dutch Source': 'И услышали голос Господа Бога , ходящего в раю во время прохлады дня ; и скрылся Адам и жена его от лица Господа Бога между деревьями рая .', 'Reference English': 'And they heard the voice of the LORD God walking in the garden in the cool of the day : and Adam and his wife hid themselves from the presence of the LORD God amongst the trees of the garden .', 'Translated English': 'And they heard the voice of the Lord God walking to the paradise in the cold of the day, and Adam and his wife escaped from the face of the Lord God among the trees of the paradise.', 'COMET Score': 0.7571, 'SacreBLEU Score': 36.68, 'CHRF Score': 59.33}\n"
          ]
        },
        {
          "name": "stderr",
          "output_type": "stream",
          "text": [
            "INFO:pytorch_lightning.utilities.rank_zero:You are using the plain ModelCheckpoint callback. Consider using LitModelCheckpoint which with seamless uploading to Model registry.\n",
            "INFO:pytorch_lightning.utilities.rank_zero:GPU available: False, used: False\n",
            "INFO:pytorch_lightning.utilities.rank_zero:TPU available: False, using: 0 TPU cores\n",
            "INFO:pytorch_lightning.utilities.rank_zero:HPU available: False, using: 0 HPUs\n",
            "Predicting DataLoader 0: 100%|██████████| 1/1 [00:01<00:00,  1.37s/it]\n",
            "Processing links:   0%|          | 65/62202 [16:11<255:05:04, 14.78s/it]"
          ]
        },
        {
          "name": "stdout",
          "output_type": "stream",
          "text": [
            "{'English Sentence Numbers': 'b.GEN.3.9.1', 'Dutch Sentence Numbers': 'b.GEN.3.9.1', 'Dutch Source': 'И воззвал Господь Бог к Адаму и сказал ему : где ты ?', 'Reference English': 'And the LORD God called unto Adam , and said unto him , Where art thou ?', 'Translated English': 'And the LORD God called to Adam and said to him, Where are you?', 'COMET Score': 0.847, 'SacreBLEU Score': 33.08, 'CHRF Score': 68.41}\n"
          ]
        },
        {
          "name": "stderr",
          "output_type": "stream",
          "text": [
            "INFO:pytorch_lightning.utilities.rank_zero:You are using the plain ModelCheckpoint callback. Consider using LitModelCheckpoint which with seamless uploading to Model registry.\n",
            "INFO:pytorch_lightning.utilities.rank_zero:GPU available: False, used: False\n",
            "INFO:pytorch_lightning.utilities.rank_zero:TPU available: False, using: 0 TPU cores\n",
            "INFO:pytorch_lightning.utilities.rank_zero:HPU available: False, using: 0 HPUs\n",
            "Predicting DataLoader 0: 100%|██████████| 1/1 [00:01<00:00,  1.70s/it]\n",
            "Processing links:   0%|          | 66/62202 [16:24<246:24:53, 14.28s/it]"
          ]
        },
        {
          "name": "stdout",
          "output_type": "stream",
          "text": [
            "{'English Sentence Numbers': 'b.GEN.3.10.1', 'Dutch Sentence Numbers': 'b.GEN.3.10.1', 'Dutch Source': 'Он сказал : голос Твой я услышал в раю , и убоялся , потому что я наг , и скрылся .', 'Reference English': 'And he said , I heard thy voice in the garden , and I was afraid , because I was naked ; and I hid myself .', 'Translated English': 'He said, \"I heard your voice in heaven, and I was afraid, because I was naked and escaped.', 'COMET Score': 0.6585, 'SacreBLEU Score': 41.05, 'CHRF Score': 58.03}\n"
          ]
        },
        {
          "name": "stderr",
          "output_type": "stream",
          "text": [
            "INFO:pytorch_lightning.utilities.rank_zero:You are using the plain ModelCheckpoint callback. Consider using LitModelCheckpoint which with seamless uploading to Model registry.\n",
            "INFO:pytorch_lightning.utilities.rank_zero:GPU available: False, used: False\n",
            "INFO:pytorch_lightning.utilities.rank_zero:TPU available: False, using: 0 TPU cores\n",
            "INFO:pytorch_lightning.utilities.rank_zero:HPU available: False, using: 0 HPUs\n",
            "Predicting DataLoader 0: 100%|██████████| 1/1 [00:01<00:00,  1.85s/it]\n",
            "Processing links:   0%|          | 67/62202 [16:38<244:29:15, 14.17s/it]"
          ]
        },
        {
          "name": "stdout",
          "output_type": "stream",
          "text": [
            "{'English Sentence Numbers': 'b.GEN.3.11.1, b.GEN.3.11.2', 'Dutch Sentence Numbers': 'b.GEN.3.11.1', 'Dutch Source': 'И сказал : кто сказал тебе , что ты наг ? не ел ли ты от дерева , с которого Я запретил тебе есть ?', 'Reference English': 'And he said , Who told thee that thou wast naked ? Hast thou eaten of the tree , whereof I commanded thee that thou shouldest not eat ?', 'Translated English': 'And he said, Who said to you that you are naked? did you not eat from the tree that I have forbidden you to eat?', 'COMET Score': 0.6623, 'SacreBLEU Score': 18.88, 'CHRF Score': 34.76}\n"
          ]
        },
        {
          "name": "stderr",
          "output_type": "stream",
          "text": [
            "INFO:pytorch_lightning.utilities.rank_zero:You are using the plain ModelCheckpoint callback. Consider using LitModelCheckpoint which with seamless uploading to Model registry.\n",
            "INFO:pytorch_lightning.utilities.rank_zero:GPU available: False, used: False\n",
            "INFO:pytorch_lightning.utilities.rank_zero:TPU available: False, using: 0 TPU cores\n",
            "INFO:pytorch_lightning.utilities.rank_zero:HPU available: False, using: 0 HPUs\n",
            "Predicting DataLoader 0: 100%|██████████| 1/1 [00:01<00:00,  1.62s/it]\n",
            "Processing links:   0%|          | 68/62202 [16:49<227:20:01, 13.17s/it]"
          ]
        },
        {
          "name": "stdout",
          "output_type": "stream",
          "text": [
            "{'English Sentence Numbers': 'b.GEN.3.12.1', 'Dutch Sentence Numbers': 'b.GEN.3.12.1', 'Dutch Source': 'Адам сказал : жена , которую Ты мне дал , она дала мне от дерева , и я ел .', 'Reference English': 'And the man said , The woman whom thou gavest to be with me , she gave me of the tree , and I did eat .', 'Translated English': 'Adam said, “The wife you gave me, she gave me from the tree, and I ate.”', 'COMET Score': 0.575, 'SacreBLEU Score': 28.1, 'CHRF Score': 42.63}\n"
          ]
        },
        {
          "name": "stderr",
          "output_type": "stream",
          "text": [
            "INFO:pytorch_lightning.utilities.rank_zero:You are using the plain ModelCheckpoint callback. Consider using LitModelCheckpoint which with seamless uploading to Model registry.\n",
            "INFO:pytorch_lightning.utilities.rank_zero:GPU available: False, used: False\n",
            "INFO:pytorch_lightning.utilities.rank_zero:TPU available: False, using: 0 TPU cores\n",
            "INFO:pytorch_lightning.utilities.rank_zero:HPU available: False, using: 0 HPUs\n",
            "Predicting DataLoader 0: 100%|██████████| 1/1 [00:01<00:00,  1.90s/it]\n",
            "Processing links:   0%|          | 69/62202 [17:05<241:17:36, 13.98s/it]"
          ]
        },
        {
          "name": "stdout",
          "output_type": "stream",
          "text": [
            "{'English Sentence Numbers': 'b.GEN.3.13.1, b.GEN.3.13.2', 'Dutch Sentence Numbers': 'b.GEN.3.13.1, b.GEN.3.13.2', 'Dutch Source': 'И сказал Господь Бог жене : что ты это сделала ? Жена сказала : змей обольстил меня , и я ела .', 'Reference English': 'And the LORD God said unto the woman , What is this that thou hast done ? And the woman said , The serpent beguiled me , and I did eat .', 'Translated English': 'And the LORD God said to his wife, What did you do this? and the woman said, The serpent has shaken me, and I have eaten.', 'COMET Score': 0.6478, 'SacreBLEU Score': 36.19, 'CHRF Score': 53.66}\n"
          ]
        },
        {
          "name": "stderr",
          "output_type": "stream",
          "text": [
            "INFO:pytorch_lightning.utilities.rank_zero:You are using the plain ModelCheckpoint callback. Consider using LitModelCheckpoint which with seamless uploading to Model registry.\n",
            "INFO:pytorch_lightning.utilities.rank_zero:GPU available: False, used: False\n",
            "INFO:pytorch_lightning.utilities.rank_zero:TPU available: False, using: 0 TPU cores\n",
            "INFO:pytorch_lightning.utilities.rank_zero:HPU available: False, using: 0 HPUs\n",
            "Predicting DataLoader 0: 100%|██████████| 1/1 [00:03<00:00,  3.32s/it]\n",
            "Processing links:   0%|          | 70/62202 [17:30<300:18:29, 17.40s/it]"
          ]
        },
        {
          "name": "stdout",
          "output_type": "stream",
          "text": [
            "{'English Sentence Numbers': 'b.GEN.3.14.1, b.GEN.3.14.2', 'Dutch Sentence Numbers': 'b.GEN.3.14.1', 'Dutch Source': 'И сказал Господь Бог змею : за то , что ты сделал это , проклят ты пред всеми скотами и пред всеми зверями полевыми ; ты будешь ходить на чреве твоем , и будешь есть прах во все днижизни твоей ;', 'Reference English': 'And the LORD God said unto the serpent , Because thou hast done this , thou art cursed above all cattle , and above every beast of the field ; upon thy belly shalt thou go , and dust shalt thou eat all the days of thy life :', 'Translated English': 'And the LORD God said to the serpent, because you have done this, you will be cursed before all the beasts and before all the beasts of the field; you will walk on your intestine, and you will eat dust in all your days.', 'COMET Score': 0.7169, 'SacreBLEU Score': 19.14, 'CHRF Score': 44.07}\n"
          ]
        },
        {
          "name": "stderr",
          "output_type": "stream",
          "text": [
            "INFO:pytorch_lightning.utilities.rank_zero:You are using the plain ModelCheckpoint callback. Consider using LitModelCheckpoint which with seamless uploading to Model registry.\n",
            "INFO:pytorch_lightning.utilities.rank_zero:GPU available: False, used: False\n",
            "INFO:pytorch_lightning.utilities.rank_zero:TPU available: False, using: 0 TPU cores\n",
            "INFO:pytorch_lightning.utilities.rank_zero:HPU available: False, using: 0 HPUs\n",
            "Predicting DataLoader 0: 100%|██████████| 1/1 [00:03<00:00,  3.31s/it]\n",
            "Processing links:   0%|          | 71/62202 [17:50<313:28:26, 18.16s/it]"
          ]
        },
        {
          "name": "stdout",
          "output_type": "stream",
          "text": [
            "{'English Sentence Numbers': 'b.GEN.3.15.1, b.GEN.3.15.2', 'Dutch Sentence Numbers': 'b.GEN.3.15.1', 'Dutch Source': 'и вражду положу между тобою и между женою , и между семенем твоим и между семенем ее ; оно будет поражать тебя в голову , а ты будешь жалить его в пяту .', 'Reference English': 'And I will put enmity between thee and the woman , and between thy seed and her seed ; it shall bruise thy head , and thou shalt bruise his heel .', 'Translated English': 'And the enemy I will place between you and between your wife, and between your seed and between its seed; it will hit you in the head, and you will regret it in the fifth.', 'COMET Score': 0.5447, 'SacreBLEU Score': 10.23, 'CHRF Score': 40.86}\n"
          ]
        },
        {
          "name": "stderr",
          "output_type": "stream",
          "text": [
            "INFO:pytorch_lightning.utilities.rank_zero:You are using the plain ModelCheckpoint callback. Consider using LitModelCheckpoint which with seamless uploading to Model registry.\n",
            "INFO:pytorch_lightning.utilities.rank_zero:GPU available: False, used: False\n",
            "INFO:pytorch_lightning.utilities.rank_zero:TPU available: False, using: 0 TPU cores\n",
            "INFO:pytorch_lightning.utilities.rank_zero:HPU available: False, using: 0 HPUs\n",
            "Predicting DataLoader 0: 100%|██████████| 1/1 [00:02<00:00,  2.33s/it]\n",
            "Processing links:   0%|          | 72/62202 [18:10<322:02:23, 18.66s/it]"
          ]
        },
        {
          "name": "stdout",
          "output_type": "stream",
          "text": [
            "{'English Sentence Numbers': 'b.GEN.3.16.1, b.GEN.3.16.2, b.GEN.3.16.3', 'Dutch Sentence Numbers': 'b.GEN.3.16.1', 'Dutch Source': 'Жене сказал : умножая умножу скорбь твою в беременности твоей ; в болезни будешь рождать детей ; и к мужу твоему влечение твое , и он будет господствовать над тобою .', 'Reference English': 'Unto the woman he said , I will greatly multiply thy sorrow and thy conception ; in sorrow thou shalt bring forth children ; and thy desire shall be to thy husband , and he shall rule over thee .', 'Translated English': 'He said to the woman, “I will multiply your sorrow in your pregnancy; in your illness you will give birth to children; and to your husband your attraction, and he will rule over you.”', 'COMET Score': 0.5805, 'SacreBLEU Score': 8.94, 'CHRF Score': 40.26}\n"
          ]
        },
        {
          "name": "stderr",
          "output_type": "stream",
          "text": [
            "INFO:pytorch_lightning.utilities.rank_zero:You are using the plain ModelCheckpoint callback. Consider using LitModelCheckpoint which with seamless uploading to Model registry.\n",
            "INFO:pytorch_lightning.utilities.rank_zero:GPU available: False, used: False\n",
            "INFO:pytorch_lightning.utilities.rank_zero:TPU available: False, using: 0 TPU cores\n",
            "INFO:pytorch_lightning.utilities.rank_zero:HPU available: False, using: 0 HPUs\n",
            "Predicting DataLoader 0: 100%|██████████| 1/1 [00:03<00:00,  3.63s/it]\n",
            "Processing links:   0%|          | 73/62202 [18:37<363:23:30, 21.06s/it]"
          ]
        },
        {
          "name": "stdout",
          "output_type": "stream",
          "text": [
            "{'English Sentence Numbers': 'b.GEN.3.17.1, b.GEN.3.17.2', 'Dutch Sentence Numbers': 'b.GEN.3.17.1', 'Dutch Source': 'Адаму же сказал : за то , что ты послушал голоса жены твоей и ел от дерева , о котором Я заповедал тебе , сказав : не ешь от него , проклята земля за тебя ; со скорбью будешь питаться от нее во все дни жизни твоей ;', 'Reference English': 'And unto Adam he said , Because thou hast hearkened unto the voice of thy wife , and hast eaten of the tree , of which I commanded thee , saying , Thou shalt not eat of it : cursed is the ground for thy sake ; in sorrow shalt thou eat of it all the days of thy life ;', 'Translated English': 'And Adam said to him, because you have heard the voice of your wife and have eaten from the tree that I have commanded you, he said, Do not eat of it; the land is forbidden for you; you will eat it with sorrow all the days of your life.', 'COMET Score': 0.6252, 'SacreBLEU Score': 13.74, 'CHRF Score': 38.71}\n"
          ]
        },
        {
          "name": "stderr",
          "output_type": "stream",
          "text": [
            "INFO:pytorch_lightning.utilities.rank_zero:You are using the plain ModelCheckpoint callback. Consider using LitModelCheckpoint which with seamless uploading to Model registry.\n",
            "INFO:pytorch_lightning.utilities.rank_zero:GPU available: False, used: False\n",
            "INFO:pytorch_lightning.utilities.rank_zero:TPU available: False, using: 0 TPU cores\n",
            "INFO:pytorch_lightning.utilities.rank_zero:HPU available: False, using: 0 HPUs\n",
            "Predicting DataLoader 0: 100%|██████████| 1/1 [00:01<00:00,  1.52s/it]\n",
            "Processing links:   0%|          | 74/62202 [18:48<309:52:59, 17.96s/it]"
          ]
        },
        {
          "name": "stdout",
          "output_type": "stream",
          "text": [
            "{'English Sentence Numbers': 'b.GEN.3.18.1', 'Dutch Sentence Numbers': 'b.GEN.3.18.1', 'Dutch Source': 'терния и волчцы произрастит она тебе ; и будешь питаться полевою травою ;', 'Reference English': 'Thorns also and thistles shall it bring forth to thee ; and thou shalt eat the herb of the field ;', 'Translated English': 'Thorn and wolves will grow up for you, and you will eat the grass of the field.', 'COMET Score': 0.479, 'SacreBLEU Score': 9.28, 'CHRF Score': 28.07}\n"
          ]
        },
        {
          "name": "stderr",
          "output_type": "stream",
          "text": [
            "INFO:pytorch_lightning.utilities.rank_zero:You are using the plain ModelCheckpoint callback. Consider using LitModelCheckpoint which with seamless uploading to Model registry.\n",
            "INFO:pytorch_lightning.utilities.rank_zero:GPU available: False, used: False\n",
            "INFO:pytorch_lightning.utilities.rank_zero:TPU available: False, using: 0 TPU cores\n",
            "INFO:pytorch_lightning.utilities.rank_zero:HPU available: False, using: 0 HPUs\n",
            "Predicting DataLoader 0: 100%|██████████| 1/1 [00:02<00:00,  2.23s/it]\n",
            "Processing links:   0%|          | 75/62202 [19:04<303:21:44, 17.58s/it]"
          ]
        },
        {
          "name": "stdout",
          "output_type": "stream",
          "text": [
            "{'English Sentence Numbers': 'b.GEN.3.19.1, b.GEN.3.19.2', 'Dutch Sentence Numbers': 'b.GEN.3.19.1', 'Dutch Source': 'в поте лица твоего будешь есть хлеб , доколе не возвратишься в землю , из которой ты взят , ибо прах ты и в прах возвратишься .', 'Reference English': 'In the sweat of thy face shalt thou eat bread , till thou return unto the ground ; for out of it wast thou taken : for dust thou art , and unto dust shalt thou return .', 'Translated English': 'In the sweat of your face you will eat bread until you return to the land from which you are taken, for you are dust and you will return to dust.', 'COMET Score': 0.5253, 'SacreBLEU Score': 9.32, 'CHRF Score': 39.21}\n"
          ]
        },
        {
          "name": "stderr",
          "output_type": "stream",
          "text": [
            "INFO:pytorch_lightning.utilities.rank_zero:You are using the plain ModelCheckpoint callback. Consider using LitModelCheckpoint which with seamless uploading to Model registry.\n",
            "INFO:pytorch_lightning.utilities.rank_zero:GPU available: False, used: False\n",
            "INFO:pytorch_lightning.utilities.rank_zero:TPU available: False, using: 0 TPU cores\n",
            "INFO:pytorch_lightning.utilities.rank_zero:HPU available: False, using: 0 HPUs\n",
            "Predicting DataLoader 0: 100%|██████████| 1/1 [00:01<00:00,  1.47s/it]\n",
            "Processing links:   0%|          | 76/62202 [19:15<268:00:32, 15.53s/it]"
          ]
        },
        {
          "name": "stdout",
          "output_type": "stream",
          "text": [
            "{'English Sentence Numbers': 'b.GEN.3.20.1', 'Dutch Sentence Numbers': 'b.GEN.3.20.1', 'Dutch Source': 'И нарек Адам имя жене своей : Ева , ибо она стала матерью всех живущих .', 'Reference English': \"And Adam called his wife 's name Eve ; because she was the mother of all living .\", 'Translated English': 'And Adam called the name of his wife, Eve, for she became the mother of all the living.', 'COMET Score': 0.8476, 'SacreBLEU Score': 21.27, 'CHRF Score': 57.73}\n"
          ]
        },
        {
          "name": "stderr",
          "output_type": "stream",
          "text": [
            "INFO:pytorch_lightning.utilities.rank_zero:You are using the plain ModelCheckpoint callback. Consider using LitModelCheckpoint which with seamless uploading to Model registry.\n",
            "INFO:pytorch_lightning.utilities.rank_zero:GPU available: False, used: False\n",
            "INFO:pytorch_lightning.utilities.rank_zero:TPU available: False, using: 0 TPU cores\n",
            "INFO:pytorch_lightning.utilities.rank_zero:HPU available: False, using: 0 HPUs\n",
            "Predicting DataLoader 0: 100%|██████████| 1/1 [00:01<00:00,  1.50s/it]\n",
            "Processing links:   0%|          | 77/62202 [19:26<244:52:01, 14.19s/it]"
          ]
        },
        {
          "name": "stdout",
          "output_type": "stream",
          "text": [
            "{'English Sentence Numbers': 'b.GEN.3.21.1', 'Dutch Sentence Numbers': 'b.GEN.3.21.1', 'Dutch Source': 'И сделал Господь Бог Адаму и жене его одежды кожаные и одел их .', 'Reference English': 'Unto Adam also and to his wife did the LORD God make coats of skins , and clothed them .', 'Translated English': 'And the LORD God made the clothes of Adam and his wife skin and dressed them.', 'COMET Score': 0.6679, 'SacreBLEU Score': 11.74, 'CHRF Score': 47.33}\n"
          ]
        },
        {
          "name": "stderr",
          "output_type": "stream",
          "text": [
            "INFO:pytorch_lightning.utilities.rank_zero:You are using the plain ModelCheckpoint callback. Consider using LitModelCheckpoint which with seamless uploading to Model registry.\n",
            "INFO:pytorch_lightning.utilities.rank_zero:GPU available: False, used: False\n",
            "INFO:pytorch_lightning.utilities.rank_zero:TPU available: False, using: 0 TPU cores\n",
            "INFO:pytorch_lightning.utilities.rank_zero:HPU available: False, using: 0 HPUs\n",
            "Predicting DataLoader 0: 100%|██████████| 1/1 [00:03<00:00,  3.48s/it]\n",
            "Processing links:   0%|          | 78/62202 [19:50<297:25:42, 17.24s/it]"
          ]
        },
        {
          "name": "stdout",
          "output_type": "stream",
          "text": [
            "{'English Sentence Numbers': 'b.GEN.3.22.1, b.GEN.3.22.2', 'Dutch Sentence Numbers': 'b.GEN.3.22.1', 'Dutch Source': 'И сказал Господь Бог : вот , Адам стал как один из Нас , зная добро и зло ; и теперь как бы не простер он руки своей , и не взял также от дерева жизни , и не вкусил , и не стал жить вечно .', 'Reference English': 'And the LORD God said , Behold , the man is become as one of us , to know good and evil : and now , lest he put forth his hand , and take also of the tree of life , and eat , and live for ever :', 'Translated English': 'And the LORD God said, Behold, Adam became like one of us, knowing good and evil; and now how could he not stretch his hands, and not take from the tree of life, and not eat, and not live forever.', 'COMET Score': 0.6821, 'SacreBLEU Score': 35.2, 'CHRF Score': 58.22}\n"
          ]
        },
        {
          "name": "stderr",
          "output_type": "stream",
          "text": [
            "INFO:pytorch_lightning.utilities.rank_zero:You are using the plain ModelCheckpoint callback. Consider using LitModelCheckpoint which with seamless uploading to Model registry.\n",
            "INFO:pytorch_lightning.utilities.rank_zero:GPU available: False, used: False\n",
            "INFO:pytorch_lightning.utilities.rank_zero:TPU available: False, using: 0 TPU cores\n",
            "INFO:pytorch_lightning.utilities.rank_zero:HPU available: False, using: 0 HPUs\n",
            "Predicting DataLoader 0: 100%|██████████| 1/1 [00:02<00:00,  2.00s/it]\n",
            "Processing links:   0%|          | 79/62202 [20:02<269:58:19, 15.64s/it]"
          ]
        },
        {
          "name": "stdout",
          "output_type": "stream",
          "text": [
            "{'English Sentence Numbers': 'b.GEN.3.23.1', 'Dutch Sentence Numbers': 'b.GEN.3.23.1', 'Dutch Source': 'И выслал его Господь Бог из сада Едемского , чтобы возделывать землю , из которой он взят .', 'Reference English': 'Therefore the LORD God sent him forth from the garden of Eden , to till the ground from whence he was taken .', 'Translated English': 'And the LORD God sent him out of the garden of Eden to build the land from which he will be taken.', 'COMET Score': 0.7153, 'SacreBLEU Score': 30.34, 'CHRF Score': 49.99}\n"
          ]
        },
        {
          "name": "stderr",
          "output_type": "stream",
          "text": [
            "INFO:pytorch_lightning.utilities.rank_zero:You are using the plain ModelCheckpoint callback. Consider using LitModelCheckpoint which with seamless uploading to Model registry.\n",
            "INFO:pytorch_lightning.utilities.rank_zero:GPU available: False, used: False\n",
            "INFO:pytorch_lightning.utilities.rank_zero:TPU available: False, using: 0 TPU cores\n",
            "INFO:pytorch_lightning.utilities.rank_zero:HPU available: False, using: 0 HPUs\n",
            "Predicting DataLoader 0: 100%|██████████| 1/1 [00:02<00:00,  2.21s/it]\n",
            "Processing links:   0%|          | 80/62202 [20:20<281:33:17, 16.32s/it]"
          ]
        },
        {
          "name": "stdout",
          "output_type": "stream",
          "text": [
            "{'English Sentence Numbers': 'b.GEN.3.24.1', 'Dutch Sentence Numbers': 'b.GEN.3.24.1', 'Dutch Source': 'И изгнал Адама , и поставил на востоке у сада Едемского Херувима и пламенный меч обращающийся , чтобы охранять путь к дереву жизни .', 'Reference English': 'So he drove out the man ; and he placed at the east of the garden of Eden Cherubims , and a flaming sword which turned every way , to keep the way of the tree of life .', 'Translated English': 'And he thrown out of Adam, and put in the east to the garden of Jerubim of Eden, and a flame sword that turned to protect the way to the tree of life.', 'COMET Score': 0.6187, 'SacreBLEU Score': 19.32, 'CHRF Score': 45.68}\n"
          ]
        },
        {
          "name": "stderr",
          "output_type": "stream",
          "text": [
            "INFO:pytorch_lightning.utilities.rank_zero:You are using the plain ModelCheckpoint callback. Consider using LitModelCheckpoint which with seamless uploading to Model registry.\n",
            "INFO:pytorch_lightning.utilities.rank_zero:GPU available: False, used: False\n",
            "INFO:pytorch_lightning.utilities.rank_zero:TPU available: False, using: 0 TPU cores\n",
            "INFO:pytorch_lightning.utilities.rank_zero:HPU available: False, using: 0 HPUs\n",
            "Predicting DataLoader 0: 100%|██████████| 1/1 [00:02<00:00,  2.00s/it]\n",
            "Processing links:   0%|          | 81/62202 [20:36<276:14:39, 16.01s/it]"
          ]
        },
        {
          "name": "stdout",
          "output_type": "stream",
          "text": [
            "{'English Sentence Numbers': 'b.GEN.4.1.1, b.GEN.4.1.2', 'Dutch Sentence Numbers': 'b.GEN.4.1.1', 'Dutch Source': 'Адам познал Еву , жену свою ; и она зачала , и родила Каина , и сказала : приобрела я человека от Господа .', 'Reference English': 'And Adam knew Eve his wife ; and she conceived , and bare Cain , and said , I have gotten a man from the LORD .', 'Translated English': 'Adam knew Eve, his wife; and she conceived, and gave birth to Cain, and said, I have acquired a man from the LORD.', 'COMET Score': 0.8032, 'SacreBLEU Score': 63.41, 'CHRF Score': 75.89}\n"
          ]
        },
        {
          "name": "stderr",
          "output_type": "stream",
          "text": [
            "INFO:pytorch_lightning.utilities.rank_zero:You are using the plain ModelCheckpoint callback. Consider using LitModelCheckpoint which with seamless uploading to Model registry.\n",
            "INFO:pytorch_lightning.utilities.rank_zero:GPU available: False, used: False\n",
            "INFO:pytorch_lightning.utilities.rank_zero:TPU available: False, using: 0 TPU cores\n",
            "INFO:pytorch_lightning.utilities.rank_zero:HPU available: False, using: 0 HPUs\n",
            "Predicting DataLoader 0: 100%|██████████| 1/1 [00:01<00:00,  1.76s/it]\n",
            "Processing links:   0%|          | 82/62202 [20:50<266:54:17, 15.47s/it]"
          ]
        },
        {
          "name": "stdout",
          "output_type": "stream",
          "text": [
            "{'English Sentence Numbers': 'b.GEN.4.2.1, b.GEN.4.2.2', 'Dutch Sentence Numbers': 'b.GEN.4.2.1, b.GEN.4.2.2', 'Dutch Source': 'И еще родила брата его , Авеля . И был Авель пастырь овец , а Каин был земледелец .', 'Reference English': 'And she again bare his brother Abel . And Abel was a keeper of sheep , but Cain was a tiller of the ground .', 'Translated English': 'And she gave birth to his brother, Abel; and Abel was a sheep shepherd, and Cain was a farmer.', 'COMET Score': 0.7031, 'SacreBLEU Score': 12.93, 'CHRF Score': 41.91}\n"
          ]
        },
        {
          "name": "stderr",
          "output_type": "stream",
          "text": [
            "INFO:pytorch_lightning.utilities.rank_zero:You are using the plain ModelCheckpoint callback. Consider using LitModelCheckpoint which with seamless uploading to Model registry.\n",
            "INFO:pytorch_lightning.utilities.rank_zero:GPU available: False, used: False\n",
            "INFO:pytorch_lightning.utilities.rank_zero:TPU available: False, using: 0 TPU cores\n",
            "INFO:pytorch_lightning.utilities.rank_zero:HPU available: False, using: 0 HPUs\n",
            "Predicting DataLoader 0: 100%|██████████| 1/1 [00:01<00:00,  1.49s/it]\n",
            "Processing links:   0%|          | 83/62202 [21:00<239:10:08, 13.86s/it]"
          ]
        },
        {
          "name": "stdout",
          "output_type": "stream",
          "text": [
            "{'English Sentence Numbers': 'b.GEN.4.3.1', 'Dutch Sentence Numbers': 'b.GEN.4.3.1', 'Dutch Source': 'Спустя несколько времени , Каин принес от плодов земли дар Господу ,', 'Reference English': 'And in process of time it came to pass , that Cain brought of the fruit of the ground an offering unto the LORD .', 'Translated English': 'After some time, Cain brought the gift to the Lord from the fruits of the earth.', 'COMET Score': 0.7112, 'SacreBLEU Score': 5.18, 'CHRF Score': 34.49}\n"
          ]
        },
        {
          "name": "stderr",
          "output_type": "stream",
          "text": [
            "INFO:pytorch_lightning.utilities.rank_zero:You are using the plain ModelCheckpoint callback. Consider using LitModelCheckpoint which with seamless uploading to Model registry.\n",
            "INFO:pytorch_lightning.utilities.rank_zero:GPU available: False, used: False\n",
            "INFO:pytorch_lightning.utilities.rank_zero:TPU available: False, using: 0 TPU cores\n",
            "INFO:pytorch_lightning.utilities.rank_zero:HPU available: False, using: 0 HPUs\n",
            "Predicting DataLoader 0: 100%|██████████| 1/1 [00:01<00:00,  1.79s/it]\n",
            "Processing links:   0%|          | 84/62202 [21:13<235:23:12, 13.64s/it]"
          ]
        },
        {
          "name": "stdout",
          "output_type": "stream",
          "text": [
            "{'English Sentence Numbers': 'b.GEN.4.4.1, b.GEN.4.4.2', 'Dutch Sentence Numbers': 'b.GEN.4.4.1, b.GEN.4.4.2', 'Dutch Source': 'и Авель также принес от первородных стада своего и от тука их . И призрел Господь на Авеля и на дар его ,', 'Reference English': 'And Abel , he also brought of the firstlings of his flock and of the fat thereof . And the LORD had respect unto Abel and to his offering :', 'Translated English': 'And Abel also brought them from his primitive sheep and from here; and the LORD looked upon Abel and his gift.', 'COMET Score': 0.6272, 'SacreBLEU Score': 5.38, 'CHRF Score': 34.94}\n"
          ]
        },
        {
          "name": "stderr",
          "output_type": "stream",
          "text": [
            "INFO:pytorch_lightning.utilities.rank_zero:You are using the plain ModelCheckpoint callback. Consider using LitModelCheckpoint which with seamless uploading to Model registry.\n",
            "INFO:pytorch_lightning.utilities.rank_zero:GPU available: False, used: False\n",
            "INFO:pytorch_lightning.utilities.rank_zero:TPU available: False, using: 0 TPU cores\n",
            "INFO:pytorch_lightning.utilities.rank_zero:HPU available: False, using: 0 HPUs\n",
            "Predicting DataLoader 0: 100%|██████████| 1/1 [00:01<00:00,  1.76s/it]\n",
            "Processing links:   0%|          | 85/62202 [21:25<225:54:04, 13.09s/it]"
          ]
        },
        {
          "name": "stdout",
          "output_type": "stream",
          "text": [
            "{'English Sentence Numbers': 'b.GEN.4.5.1, b.GEN.4.5.2', 'Dutch Sentence Numbers': 'b.GEN.4.5.1, b.GEN.4.5.2', 'Dutch Source': 'а на Каина и на дар его не призрел . Каин сильно огорчился , и поникло лице его .', 'Reference English': 'But unto Cain and to his offering he had not respect . And Cain was very wroth , and his countenance fell .', 'Translated English': 'But Cain did not fear his gift, and Cain was very angry, and his face broke up.', 'COMET Score': 0.5019, 'SacreBLEU Score': 12.27, 'CHRF Score': 32.04}\n"
          ]
        },
        {
          "name": "stderr",
          "output_type": "stream",
          "text": [
            "INFO:pytorch_lightning.utilities.rank_zero:You are using the plain ModelCheckpoint callback. Consider using LitModelCheckpoint which with seamless uploading to Model registry.\n",
            "INFO:pytorch_lightning.utilities.rank_zero:GPU available: False, used: False\n",
            "INFO:pytorch_lightning.utilities.rank_zero:TPU available: False, using: 0 TPU cores\n",
            "INFO:pytorch_lightning.utilities.rank_zero:HPU available: False, using: 0 HPUs\n",
            "Predicting DataLoader 0: 100%|██████████| 1/1 [00:01<00:00,  1.53s/it]\n",
            "Processing links:   0%|          | 86/62202 [21:37<219:33:57, 12.73s/it]"
          ]
        },
        {
          "name": "stdout",
          "output_type": "stream",
          "text": [
            "{'English Sentence Numbers': 'b.GEN.4.6.1, b.GEN.4.6.2', 'Dutch Sentence Numbers': 'b.GEN.4.6.1', 'Dutch Source': 'И сказал Господь Каину : почему ты огорчился ? и отчего поникло лице твое ?', 'Reference English': 'And the LORD said unto Cain , Why art thou wroth ? and why is thy countenance fallen ?', 'Translated English': 'And the LORD said to Cain, Why are you angry? and why is your face angry?', 'COMET Score': 0.7366, 'SacreBLEU Score': 31.87, 'CHRF Score': 48.19}\n"
          ]
        },
        {
          "name": "stderr",
          "output_type": "stream",
          "text": [
            "INFO:pytorch_lightning.utilities.rank_zero:You are using the plain ModelCheckpoint callback. Consider using LitModelCheckpoint which with seamless uploading to Model registry.\n",
            "INFO:pytorch_lightning.utilities.rank_zero:GPU available: False, used: False\n",
            "INFO:pytorch_lightning.utilities.rank_zero:TPU available: False, using: 0 TPU cores\n",
            "INFO:pytorch_lightning.utilities.rank_zero:HPU available: False, using: 0 HPUs\n",
            "Predicting DataLoader 0: 100%|██████████| 1/1 [00:03<00:00,  3.31s/it]\n",
            "Processing links:   0%|          | 87/62202 [21:57<256:12:28, 14.85s/it]"
          ]
        },
        {
          "name": "stdout",
          "output_type": "stream",
          "text": [
            "{'English Sentence Numbers': 'b.GEN.4.7.1, b.GEN.4.7.2, b.GEN.4.7.3', 'Dutch Sentence Numbers': 'b.GEN.4.7.1', 'Dutch Source': 'если делаешь доброе , то не поднимаешь ли лица ? а если не делаешь доброго , то у дверей грех лежит ; он влечет тебя к себе , но ты господствуй над ним .', 'Reference English': 'If thou doest well , shalt thou not be accepted ? and if thou doest not well , sin lieth at the door . And unto thee shall be his desire , and thou shalt rule over him .', 'Translated English': 'If you do the good, do you not lift your face up? and if you do the good, the sin lies at the doors; it draws you to himself, but you rule over it.', 'COMET Score': 0.4706, 'SacreBLEU Score': 5.98, 'CHRF Score': 29.16}\n"
          ]
        },
        {
          "name": "stderr",
          "output_type": "stream",
          "text": [
            "INFO:pytorch_lightning.utilities.rank_zero:You are using the plain ModelCheckpoint callback. Consider using LitModelCheckpoint which with seamless uploading to Model registry.\n",
            "INFO:pytorch_lightning.utilities.rank_zero:GPU available: False, used: False\n",
            "INFO:pytorch_lightning.utilities.rank_zero:TPU available: False, using: 0 TPU cores\n",
            "INFO:pytorch_lightning.utilities.rank_zero:HPU available: False, using: 0 HPUs\n",
            "Predicting DataLoader 0: 100%|██████████| 1/1 [00:02<00:00,  2.54s/it]\n",
            "Processing links:   0%|          | 88/62202 [22:14<270:19:56, 15.67s/it]"
          ]
        },
        {
          "name": "stdout",
          "output_type": "stream",
          "text": [
            "{'English Sentence Numbers': 'b.GEN.4.8.1, b.GEN.4.8.2', 'Dutch Sentence Numbers': 'b.GEN.4.8.1, b.GEN.4.8.2', 'Dutch Source': 'И сказал Каин Авелю , брату своему . И когда они были в поле , восстал Каин на Авеля , брата своего , и убил его .', 'Reference English': 'And Cain talked with Abel his brother : and it came to pass , when they were in the field , that Cain rose up against Abel his brother , and slew him .', 'Translated English': 'And Cain said to Abel, his brother; and when they were in the field, Cain rebelled against Abel, his brother, and killed him.', 'COMET Score': 0.813, 'SacreBLEU Score': 31.31, 'CHRF Score': 55.32}\n"
          ]
        },
        {
          "name": "stderr",
          "output_type": "stream",
          "text": [
            "INFO:pytorch_lightning.utilities.rank_zero:You are using the plain ModelCheckpoint callback. Consider using LitModelCheckpoint which with seamless uploading to Model registry.\n",
            "INFO:pytorch_lightning.utilities.rank_zero:GPU available: False, used: False\n",
            "INFO:pytorch_lightning.utilities.rank_zero:TPU available: False, using: 0 TPU cores\n",
            "INFO:pytorch_lightning.utilities.rank_zero:HPU available: False, using: 0 HPUs\n",
            "Predicting DataLoader 0: 100%|██████████| 1/1 [00:01<00:00,  1.80s/it]\n",
            "Processing links:   0%|          | 89/62202 [22:30<270:15:31, 15.66s/it]"
          ]
        },
        {
          "name": "stdout",
          "output_type": "stream",
          "text": [
            "{'English Sentence Numbers': 'b.GEN.4.9.1, b.GEN.4.9.2, b.GEN.4.9.3', 'Dutch Sentence Numbers': 'b.GEN.4.9.1, b.GEN.4.9.2', 'Dutch Source': 'И сказал Господь Каину : где Авель , брат твой ? Он сказал : не знаю ; разве я сторож брату моему ?', 'Reference English': \"And the LORD said unto Cain , Where is Abel thy brother ? And he said , I know not : Am I my brother 's keeper ?\", 'Translated English': \"And the LORD said to Cain, Where is your brother Abel? he said, I don't know, am I the guard of my brother?\", 'COMET Score': 0.7923, 'SacreBLEU Score': 29.96, 'CHRF Score': 56.01}\n"
          ]
        },
        {
          "name": "stderr",
          "output_type": "stream",
          "text": [
            "INFO:pytorch_lightning.utilities.rank_zero:You are using the plain ModelCheckpoint callback. Consider using LitModelCheckpoint which with seamless uploading to Model registry.\n",
            "INFO:pytorch_lightning.utilities.rank_zero:GPU available: False, used: False\n",
            "INFO:pytorch_lightning.utilities.rank_zero:TPU available: False, using: 0 TPU cores\n",
            "INFO:pytorch_lightning.utilities.rank_zero:HPU available: False, using: 0 HPUs\n",
            "Predicting DataLoader 0: 100%|██████████| 1/1 [00:01<00:00,  1.58s/it]\n",
            "Processing links:   0%|          | 90/62202 [22:42<252:29:27, 14.63s/it]"
          ]
        },
        {
          "name": "stdout",
          "output_type": "stream",
          "text": [
            "{'English Sentence Numbers': 'b.GEN.4.10.1, b.GEN.4.10.2', 'Dutch Sentence Numbers': 'b.GEN.4.10.1', 'Dutch Source': 'И сказал : что ты сделал ? голос крови брата твоего вопиет ко Мне от земли ;', 'Reference English': \"And he said , What hast thou done ? the voice of thy brother 's blood crieth unto me from the ground .\", 'Translated English': 'And he said, What have you done? the voice of your brother’s blood will drink to me from the earth.', 'COMET Score': 0.6244, 'SacreBLEU Score': 37.49, 'CHRF Score': 60.34}\n"
          ]
        },
        {
          "name": "stderr",
          "output_type": "stream",
          "text": [
            "INFO:pytorch_lightning.utilities.rank_zero:You are using the plain ModelCheckpoint callback. Consider using LitModelCheckpoint which with seamless uploading to Model registry.\n",
            "INFO:pytorch_lightning.utilities.rank_zero:GPU available: False, used: False\n",
            "INFO:pytorch_lightning.utilities.rank_zero:TPU available: False, using: 0 TPU cores\n",
            "INFO:pytorch_lightning.utilities.rank_zero:HPU available: False, using: 0 HPUs\n",
            "Predicting DataLoader 0: 100%|██████████| 1/1 [00:01<00:00,  1.62s/it]\n",
            "Processing links:   0%|          | 91/62202 [22:56<247:43:40, 14.36s/it]"
          ]
        },
        {
          "name": "stdout",
          "output_type": "stream",
          "text": [
            "{'English Sentence Numbers': 'b.GEN.4.11.1', 'Dutch Sentence Numbers': 'b.GEN.4.11.1', 'Dutch Source': 'и ныне проклят ты от земли , которая отверзла уста свои принять кровь брата твоего от руки твоей ;', 'Reference English': \"And now art thou cursed from the earth , which hath opened her mouth to receive thy brother 's blood from thy hand ;\", 'Translated English': 'And now you will be cursed from the land that has opened its mouth to take the blood of your brother from your hand.', 'COMET Score': 0.6471, 'SacreBLEU Score': 9.43, 'CHRF Score': 42.13}\n"
          ]
        },
        {
          "name": "stderr",
          "output_type": "stream",
          "text": [
            "INFO:pytorch_lightning.utilities.rank_zero:You are using the plain ModelCheckpoint callback. Consider using LitModelCheckpoint which with seamless uploading to Model registry.\n",
            "INFO:pytorch_lightning.utilities.rank_zero:GPU available: False, used: False\n",
            "INFO:pytorch_lightning.utilities.rank_zero:TPU available: False, using: 0 TPU cores\n",
            "INFO:pytorch_lightning.utilities.rank_zero:HPU available: False, using: 0 HPUs\n",
            "Predicting DataLoader 0: 100%|██████████| 1/1 [00:01<00:00,  1.93s/it]\n",
            "Processing links:   0%|          | 92/62202 [23:10<247:19:11, 14.34s/it]"
          ]
        },
        {
          "name": "stdout",
          "output_type": "stream",
          "text": [
            "{'English Sentence Numbers': 'b.GEN.4.12.1, b.GEN.4.12.2', 'Dutch Sentence Numbers': 'b.GEN.4.12.1', 'Dutch Source': 'когда ты будешь возделывать землю , она не станет более давать силы своей для тебя ; ты будешь изгнанникоми скитальцем на земле .', 'Reference English': 'When thou tillest the ground , it shall not henceforth yield unto thee her strength ; a fugitive and a vagabond shalt thou be in the earth .', 'Translated English': 'When you build up the earth, it will no longer give its strength to you; you will be expelled by a scatter on the earth.', 'COMET Score': 0.4306, 'SacreBLEU Score': 7.61, 'CHRF Score': 30.44}\n"
          ]
        },
        {
          "name": "stderr",
          "output_type": "stream",
          "text": [
            "INFO:pytorch_lightning.utilities.rank_zero:You are using the plain ModelCheckpoint callback. Consider using LitModelCheckpoint which with seamless uploading to Model registry.\n",
            "INFO:pytorch_lightning.utilities.rank_zero:GPU available: False, used: False\n",
            "INFO:pytorch_lightning.utilities.rank_zero:TPU available: False, using: 0 TPU cores\n",
            "INFO:pytorch_lightning.utilities.rank_zero:HPU available: False, using: 0 HPUs\n",
            "Predicting DataLoader 0: 100%|██████████| 1/1 [00:01<00:00,  1.42s/it]\n",
            "Processing links:   0%|          | 93/62202 [23:21<229:46:39, 13.32s/it]"
          ]
        },
        {
          "name": "stdout",
          "output_type": "stream",
          "text": [
            "{'English Sentence Numbers': 'b.GEN.4.13.1', 'Dutch Sentence Numbers': 'b.GEN.4.13.1', 'Dutch Source': 'И сказал Каин Господу : наказание мое больше , нежели снести можно ;', 'Reference English': 'And Cain said unto the LORD , My punishment is greater than I can bear .', 'Translated English': 'And Cain said to the LORD, My punishment is greater than can be removed.', 'COMET Score': 0.845, 'SacreBLEU Score': 55.33, 'CHRF Score': 79.6}\n"
          ]
        },
        {
          "name": "stderr",
          "output_type": "stream",
          "text": [
            "INFO:pytorch_lightning.utilities.rank_zero:You are using the plain ModelCheckpoint callback. Consider using LitModelCheckpoint which with seamless uploading to Model registry.\n",
            "INFO:pytorch_lightning.utilities.rank_zero:GPU available: False, used: False\n",
            "INFO:pytorch_lightning.utilities.rank_zero:TPU available: False, using: 0 TPU cores\n",
            "INFO:pytorch_lightning.utilities.rank_zero:HPU available: False, using: 0 HPUs\n",
            "Predicting DataLoader 0: 100%|██████████| 1/1 [00:04<00:00,  4.65s/it]\n",
            "Processing links:   0%|          | 94/62202 [24:21<471:14:55, 27.32s/it]"
          ]
        },
        {
          "name": "stdout",
          "output_type": "stream",
          "text": [
            "{'English Sentence Numbers': 'b.GEN.4.14.1, b.GEN.4.14.2, b.GEN.4.14.3', 'Dutch Sentence Numbers': 'b.GEN.4.14.1', 'Dutch Source': 'вот , Ты теперь сгоняешь меня с лица земли , и от лица Твоего я скроюсь , и буду изгнанником и скитальцем на земле ; и всякий , ктовстретится со мною , убьет меня .', 'Reference English': 'Behold , thou hast driven me out this day from the face of the earth ; and from thy face shall I be hid ; and I shall be a fugitive and a vagabond in the earth ; and it shall come to pass , that every one that findeth me shall slay me .', 'Translated English': 'Here, now thou thou thou thou thou thou thou thou thou thou thou thou thou thou thou thou thou thou thou thou thou thou thou thou thou thou thou thou thou thou thou thou thou thou thou thou thou thou thou thou thou thou thou thou thou thou thou thou thou thou thou thou thou thou thou thou thou thou thou thou thou thou thou thou thou thou thou thou thou thou thou thou thou thou thou thou', 'COMET Score': 0.1676, 'SacreBLEU Score': 0.54, 'CHRF Score': 6.02}\n"
          ]
        },
        {
          "name": "stderr",
          "output_type": "stream",
          "text": [
            "INFO:pytorch_lightning.utilities.rank_zero:You are using the plain ModelCheckpoint callback. Consider using LitModelCheckpoint which with seamless uploading to Model registry.\n",
            "INFO:pytorch_lightning.utilities.rank_zero:GPU available: False, used: False\n",
            "INFO:pytorch_lightning.utilities.rank_zero:TPU available: False, using: 0 TPU cores\n",
            "INFO:pytorch_lightning.utilities.rank_zero:HPU available: False, using: 0 HPUs\n",
            "Predicting DataLoader 0: 100%|██████████| 1/1 [00:02<00:00,  2.88s/it]\n",
            "Processing links:   0%|          | 95/62202 [24:43<445:53:47, 25.85s/it]"
          ]
        },
        {
          "name": "stdout",
          "output_type": "stream",
          "text": [
            "{'English Sentence Numbers': 'b.GEN.4.15.1, b.GEN.4.15.2', 'Dutch Sentence Numbers': 'b.GEN.4.15.1, b.GEN.4.15.2', 'Dutch Source': 'И сказал ему Господь : за то всякому , кто убьет Каина , отмстится всемеро . И сделал Господь Каину знамение , чтобы никто , встретившись с ним , не убил его .', 'Reference English': 'And the LORD said unto him , Therefore whosoever slayeth Cain , vengeance shall be taken on him sevenfold . And the LORD set a mark upon Cain , lest any finding him should kill him .', 'Translated English': 'And the LORD said to him, Thus everyone who kills Cain will be rejected all the way, and the LORD has made a sign to Cain, so that no one, having met him, will kill him.', 'COMET Score': 0.6819, 'SacreBLEU Score': 11.26, 'CHRF Score': 37.41}\n"
          ]
        },
        {
          "name": "stderr",
          "output_type": "stream",
          "text": [
            "INFO:pytorch_lightning.utilities.rank_zero:You are using the plain ModelCheckpoint callback. Consider using LitModelCheckpoint which with seamless uploading to Model registry.\n",
            "INFO:pytorch_lightning.utilities.rank_zero:GPU available: False, used: False\n",
            "INFO:pytorch_lightning.utilities.rank_zero:TPU available: False, using: 0 TPU cores\n",
            "INFO:pytorch_lightning.utilities.rank_zero:HPU available: False, using: 0 HPUs\n",
            "Predicting DataLoader 0: 100%|██████████| 1/1 [00:01<00:00,  1.71s/it]\n",
            "Processing links:   0%|          | 96/62202 [24:56<379:06:53, 21.98s/it]"
          ]
        },
        {
          "name": "stdout",
          "output_type": "stream",
          "text": [
            "{'English Sentence Numbers': 'b.GEN.4.16.1', 'Dutch Sentence Numbers': 'b.GEN.4.16.1', 'Dutch Source': 'И пошел Каин от лица Господня и поселился в земле Нод , на восток от Едема .', 'Reference English': 'And Cain went out from the presence of the LORD , and dwelt in the land of Nod , on the east of Eden .', 'Translated English': 'And Cain went away from the face of the Lord and settled in the land of Node, east of Eden.', 'COMET Score': 0.8153, 'SacreBLEU Score': 27.37, 'CHRF Score': 55.72}\n"
          ]
        },
        {
          "name": "stderr",
          "output_type": "stream",
          "text": [
            "INFO:pytorch_lightning.utilities.rank_zero:You are using the plain ModelCheckpoint callback. Consider using LitModelCheckpoint which with seamless uploading to Model registry.\n",
            "INFO:pytorch_lightning.utilities.rank_zero:GPU available: False, used: False\n",
            "INFO:pytorch_lightning.utilities.rank_zero:TPU available: False, using: 0 TPU cores\n",
            "INFO:pytorch_lightning.utilities.rank_zero:HPU available: False, using: 0 HPUs\n",
            "Predicting DataLoader 0: 100%|██████████| 1/1 [00:02<00:00,  2.16s/it]\n",
            "Processing links:   0%|          | 97/62202 [25:13<354:06:44, 20.53s/it]"
          ]
        },
        {
          "name": "stdout",
          "output_type": "stream",
          "text": [
            "{'English Sentence Numbers': 'b.GEN.4.17.1, b.GEN.4.17.2, b.GEN.4.17.3', 'Dutch Sentence Numbers': 'b.GEN.4.17.1, b.GEN.4.17.2', 'Dutch Source': 'И познал Каин жену свою ; и она зачала и родила Еноха . И построил он город ; и назвал город по имени сына своего : Енох .', 'Reference English': 'And Cain knew his wife ; and she conceived , and bare Enoch : and he builded a city , and called the name of the city , after the name of his son , Enoch .', 'Translated English': 'And Cain knew his wife; and she conceived and gave birth to Enoch; and he built a city; and he called the city by the name of his son: Enoch.', 'COMET Score': 0.8241, 'SacreBLEU Score': 39.05, 'CHRF Score': 63.79}\n"
          ]
        },
        {
          "name": "stderr",
          "output_type": "stream",
          "text": [
            "INFO:pytorch_lightning.utilities.rank_zero:You are using the plain ModelCheckpoint callback. Consider using LitModelCheckpoint which with seamless uploading to Model registry.\n",
            "INFO:pytorch_lightning.utilities.rank_zero:GPU available: False, used: False\n",
            "INFO:pytorch_lightning.utilities.rank_zero:TPU available: False, using: 0 TPU cores\n",
            "INFO:pytorch_lightning.utilities.rank_zero:HPU available: False, using: 0 HPUs\n",
            "Predicting DataLoader 0: 100%|██████████| 1/1 [00:02<00:00,  2.94s/it]\n",
            "Processing links:   0%|          | 98/62202 [25:32<341:53:11, 19.82s/it]"
          ]
        },
        {
          "name": "stdout",
          "output_type": "stream",
          "text": [
            "{'English Sentence Numbers': 'b.GEN.4.18.1, b.GEN.4.18.2, b.GEN.4.18.3, b.GEN.4.18.4', 'Dutch Sentence Numbers': 'b.GEN.4.18.1', 'Dutch Source': 'У Еноха родился Ирад ; Ирад родил Мехиаеля ; Мехиаель родил Мафусала ; Мафусал родил Ламеха .', 'Reference English': 'And unto Enoch was born Irad : and Irad begat Mehujael : and Mehujael begat Methusael : and Methusael begat Lamech .', 'Translated English': 'Herod was born to Enoch; Herod was born to Mechiel; Mechiel was born to Mafusa; Mafusa was born to Lamech.', 'COMET Score': 0.6574, 'SacreBLEU Score': 4.71, 'CHRF Score': 24.26}\n"
          ]
        },
        {
          "name": "stderr",
          "output_type": "stream",
          "text": [
            "INFO:pytorch_lightning.utilities.rank_zero:You are using the plain ModelCheckpoint callback. Consider using LitModelCheckpoint which with seamless uploading to Model registry.\n",
            "INFO:pytorch_lightning.utilities.rank_zero:GPU available: False, used: False\n",
            "INFO:pytorch_lightning.utilities.rank_zero:TPU available: False, using: 0 TPU cores\n",
            "INFO:pytorch_lightning.utilities.rank_zero:HPU available: False, using: 0 HPUs\n",
            "Predicting DataLoader 0: 100%|██████████| 1/1 [00:02<00:00,  2.36s/it]\n",
            "Processing links:   0%|          | 99/62202 [25:44<306:07:52, 17.75s/it]"
          ]
        },
        {
          "name": "stdout",
          "output_type": "stream",
          "text": [
            "{'English Sentence Numbers': 'b.GEN.4.19.1', 'Dutch Sentence Numbers': 'b.GEN.4.19.1', 'Dutch Source': 'И взял себе Ламех две жены : имя одной : Ада , и имя второй : Цилла .', 'Reference English': 'And Lamech took unto him two wives : the name of the one was Adah , and the name of the other Zillah .', 'Translated English': 'And Lamech took for himself two wives: the name of one: Hell, and the name of the other: Cila.', 'COMET Score': 0.7185, 'SacreBLEU Score': 50.34, 'CHRF Score': 63.64}\n"
          ]
        },
        {
          "name": "stderr",
          "output_type": "stream",
          "text": [
            "INFO:pytorch_lightning.utilities.rank_zero:You are using the plain ModelCheckpoint callback. Consider using LitModelCheckpoint which with seamless uploading to Model registry.\n",
            "INFO:pytorch_lightning.utilities.rank_zero:GPU available: False, used: False\n",
            "INFO:pytorch_lightning.utilities.rank_zero:TPU available: False, using: 0 TPU cores\n",
            "INFO:pytorch_lightning.utilities.rank_zero:HPU available: False, using: 0 HPUs\n",
            "Predicting DataLoader 0: 100%|██████████| 1/1 [00:01<00:00,  1.51s/it]\n",
            "Processing links:   0%|          | 100/62202 [25:53<257:47:52, 14.94s/it]"
          ]
        },
        {
          "name": "stdout",
          "output_type": "stream",
          "text": [
            "{'English Sentence Numbers': 'b.GEN.4.20.1', 'Dutch Sentence Numbers': 'b.GEN.4.20.1', 'Dutch Source': 'Ада родила Иавала : он был отец живущих в шатрах со стадами .', 'Reference English': 'And Adah bare Jabal : he was the father of such as dwell in tents , and of such as have cattle .', 'Translated English': 'He was the father of the living in the tents with the trees.', 'COMET Score': 0.519, 'SacreBLEU Score': 10.75, 'CHRF Score': 28.83}\n"
          ]
        },
        {
          "name": "stderr",
          "output_type": "stream",
          "text": [
            "INFO:pytorch_lightning.utilities.rank_zero:You are using the plain ModelCheckpoint callback. Consider using LitModelCheckpoint which with seamless uploading to Model registry.\n",
            "INFO:pytorch_lightning.utilities.rank_zero:GPU available: False, used: False\n",
            "INFO:pytorch_lightning.utilities.rank_zero:TPU available: False, using: 0 TPU cores\n",
            "INFO:pytorch_lightning.utilities.rank_zero:HPU available: False, using: 0 HPUs\n",
            "Predicting DataLoader 0: 100%|██████████| 1/1 [00:01<00:00,  1.52s/it]\n",
            "Processing links:   0%|          | 101/62202 [26:04<236:36:43, 13.72s/it]"
          ]
        },
        {
          "name": "stdout",
          "output_type": "stream",
          "text": [
            "{'English Sentence Numbers': 'b.GEN.4.21.1', 'Dutch Sentence Numbers': 'b.GEN.4.21.1', 'Dutch Source': 'Имя брату его Иувал : он был отец всех играющих на гуслях и свирели .', 'Reference English': \"And his brother 's name was Jubal : he was the father of all such as handle the harp and organ .\", 'Translated English': 'His brother’s name was Yuval: He was the father of all the players and players.', 'COMET Score': 0.5876, 'SacreBLEU Score': 20.54, 'CHRF Score': 45.51}\n"
          ]
        },
        {
          "name": "stderr",
          "output_type": "stream",
          "text": [
            "INFO:pytorch_lightning.utilities.rank_zero:You are using the plain ModelCheckpoint callback. Consider using LitModelCheckpoint which with seamless uploading to Model registry.\n",
            "INFO:pytorch_lightning.utilities.rank_zero:GPU available: False, used: False\n",
            "INFO:pytorch_lightning.utilities.rank_zero:TPU available: False, using: 0 TPU cores\n",
            "INFO:pytorch_lightning.utilities.rank_zero:HPU available: False, using: 0 HPUs\n",
            "Predicting DataLoader 0: 100%|██████████| 1/1 [00:02<00:00,  2.43s/it]\n",
            "Processing links:   0%|          | 102/62202 [26:22<257:47:32, 14.94s/it]"
          ]
        },
        {
          "name": "stdout",
          "output_type": "stream",
          "text": [
            "{'English Sentence Numbers': 'b.GEN.4.22.1, b.GEN.4.22.2', 'Dutch Sentence Numbers': 'b.GEN.4.22.1, b.GEN.4.22.2', 'Dutch Source': 'Цилла также родила Тувалкаина , который был ковачом всех орудий из меди и железа . И сестра Тувалкаина Ноема .', 'Reference English': 'And Zillah , she also bare Tubal-cain , an instructer of every artificer in brass and iron : and the sister of Tubal-cain was Naamah .', 'Translated English': 'Cila also gave birth to Tuvalkain, who was the covacher of all the instruments of bak and iron, and to the sister of Tuvalkain Noem.', 'COMET Score': 0.6042, 'SacreBLEU Score': 7.78, 'CHRF Score': 33.36}\n"
          ]
        },
        {
          "name": "stderr",
          "output_type": "stream",
          "text": [
            "INFO:pytorch_lightning.utilities.rank_zero:You are using the plain ModelCheckpoint callback. Consider using LitModelCheckpoint which with seamless uploading to Model registry.\n",
            "INFO:pytorch_lightning.utilities.rank_zero:GPU available: False, used: False\n",
            "INFO:pytorch_lightning.utilities.rank_zero:TPU available: False, using: 0 TPU cores\n",
            "INFO:pytorch_lightning.utilities.rank_zero:HPU available: False, using: 0 HPUs\n",
            "Predicting DataLoader 0: 100%|██████████| 1/1 [00:02<00:00,  2.77s/it]\n",
            "Processing links:   0%|          | 103/62202 [26:43<293:51:13, 17.04s/it]"
          ]
        },
        {
          "name": "stdout",
          "output_type": "stream",
          "text": [
            "{'English Sentence Numbers': 'b.GEN.4.23.1, b.GEN.4.23.2', 'Dutch Sentence Numbers': 'b.GEN.4.23.1', 'Dutch Source': 'И сказал Ламех женам своим : Ада и Цилла ! послушайте голоса моего ; жены Ламеховы ! внимайте словам моим : я убил мужа в язву мне и отрока в рану мне ;', 'Reference English': 'And Lamech said unto his wives , Adah and Zillah , Hear my voice ; ye wives of Lamech , hearken unto my speech : for I have slain a man to my wounding , and a young man to my hurt .', 'Translated English': \"And Lamech said to his wives: Hell and Zila, listen to my voice; Lamech's wives, watch my words: I killed my husband in my wound, and the kid in my wound.\", 'COMET Score': 0.5443, 'SacreBLEU Score': 8.75, 'CHRF Score': 39.94}\n"
          ]
        },
        {
          "name": "stderr",
          "output_type": "stream",
          "text": [
            "INFO:pytorch_lightning.utilities.rank_zero:You are using the plain ModelCheckpoint callback. Consider using LitModelCheckpoint which with seamless uploading to Model registry.\n",
            "INFO:pytorch_lightning.utilities.rank_zero:GPU available: False, used: False\n",
            "INFO:pytorch_lightning.utilities.rank_zero:TPU available: False, using: 0 TPU cores\n",
            "INFO:pytorch_lightning.utilities.rank_zero:HPU available: False, using: 0 HPUs\n",
            "Predicting DataLoader 0: 100%|██████████| 1/1 [00:01<00:00,  1.49s/it]\n",
            "Processing links:   0%|          | 104/62202 [26:55<263:30:53, 15.28s/it]"
          ]
        },
        {
          "name": "stdout",
          "output_type": "stream",
          "text": [
            "{'English Sentence Numbers': 'b.GEN.4.24.1', 'Dutch Sentence Numbers': 'b.GEN.4.24.1', 'Dutch Source': 'если за Каина отмстится всемеро , то за Ламеха в семьдесят раз всемеро .', 'Reference English': 'If Cain shall be avenged sevenfold , truly Lamech seventy and sevenfold .', 'Translated English': 'If Cain is repented all the time, then Lamech is repented 70 times.', 'COMET Score': 0.5394, 'SacreBLEU Score': 6.61, 'CHRF Score': 22.14}\n"
          ]
        },
        {
          "name": "stderr",
          "output_type": "stream",
          "text": [
            "INFO:pytorch_lightning.utilities.rank_zero:You are using the plain ModelCheckpoint callback. Consider using LitModelCheckpoint which with seamless uploading to Model registry.\n",
            "INFO:pytorch_lightning.utilities.rank_zero:GPU available: False, used: False\n",
            "INFO:pytorch_lightning.utilities.rank_zero:TPU available: False, using: 0 TPU cores\n",
            "INFO:pytorch_lightning.utilities.rank_zero:HPU available: False, using: 0 HPUs\n",
            "Predicting DataLoader 0: 100%|██████████| 1/1 [00:03<00:00,  3.07s/it]\n",
            "Processing links:   0%|          | 105/62202 [27:15<288:02:00, 16.70s/it]"
          ]
        },
        {
          "name": "stdout",
          "output_type": "stream",
          "text": [
            "{'English Sentence Numbers': 'b.GEN.4.25.1, b.GEN.4.25.2', 'Dutch Sentence Numbers': 'b.GEN.4.25.1', 'Dutch Source': 'И познал Адам еще жену свою , и она родила сына , и нарекла ему имя : Сиф , потому что , говорила она , Бог положил мне другое семя , вместо Авеля , которого убил Каин .', 'Reference English': 'And Adam knew his wife again ; and she bare a son , and called his name Seth : For God , said she , hath appointed me another seed instead of Abel , whom Cain slew .', 'Translated English': 'And Adam knew his wife, and she gave birth to a son, and called him Sif, because, she said, God gave me another seed, instead of Abel, whom Cain killed.', 'COMET Score': 0.7317, 'SacreBLEU Score': 37.02, 'CHRF Score': 57.36}\n"
          ]
        },
        {
          "name": "stderr",
          "output_type": "stream",
          "text": [
            "INFO:pytorch_lightning.utilities.rank_zero:You are using the plain ModelCheckpoint callback. Consider using LitModelCheckpoint which with seamless uploading to Model registry.\n",
            "INFO:pytorch_lightning.utilities.rank_zero:GPU available: False, used: False\n",
            "INFO:pytorch_lightning.utilities.rank_zero:TPU available: False, using: 0 TPU cores\n",
            "INFO:pytorch_lightning.utilities.rank_zero:HPU available: False, using: 0 HPUs\n",
            "Predicting DataLoader 0: 100%|██████████| 1/1 [00:02<00:00,  2.45s/it]\n",
            "Processing links:   0%|          | 106/62202 [27:28<270:53:33, 15.70s/it]"
          ]
        },
        {
          "name": "stdout",
          "output_type": "stream",
          "text": [
            "{'English Sentence Numbers': 'b.GEN.4.26.1, b.GEN.4.26.2', 'Dutch Sentence Numbers': 'b.GEN.4.26.1', 'Dutch Source': 'У Сифа также родился сын , и он нарек ему имя : Енос ; тогда начали призывать имя Господа .', 'Reference English': 'And to Seth , to him also there was born a son ; and he called his name Enos : then began men to call upon the name of the LORD .', 'Translated English': 'Sifa also gave birth to a son, and he named him Enos; and they began to call the name of the Lord.', 'COMET Score': 0.8231, 'SacreBLEU Score': 12.83, 'CHRF Score': 37.2}\n"
          ]
        },
        {
          "name": "stderr",
          "output_type": "stream",
          "text": [
            "INFO:pytorch_lightning.utilities.rank_zero:You are using the plain ModelCheckpoint callback. Consider using LitModelCheckpoint which with seamless uploading to Model registry.\n",
            "INFO:pytorch_lightning.utilities.rank_zero:GPU available: False, used: False\n",
            "INFO:pytorch_lightning.utilities.rank_zero:TPU available: False, using: 0 TPU cores\n",
            "INFO:pytorch_lightning.utilities.rank_zero:HPU available: False, using: 0 HPUs\n",
            "Predicting DataLoader 0: 100%|██████████| 1/1 [00:01<00:00,  1.65s/it]\n",
            "Processing links:   0%|          | 107/62202 [27:37<236:04:04, 13.69s/it]"
          ]
        },
        {
          "name": "stdout",
          "output_type": "stream",
          "text": [
            "{'English Sentence Numbers': 'b.GEN.5.1.1, b.GEN.5.1.2', 'Dutch Sentence Numbers': 'b.GEN.5.1.1', 'Dutch Source': 'Вот родословие Адама : когда Бог сотворил человека , по подобию Божию создал его ,', 'Reference English': 'This is the book of the generations of Adam . In the day that God created man , in the likeness of God made he him ;', 'Translated English': 'Thus, when God created man, God created him in the form of God.', 'COMET Score': 0.5848, 'SacreBLEU Score': 11.0, 'CHRF Score': 26.48}\n"
          ]
        },
        {
          "name": "stderr",
          "output_type": "stream",
          "text": [
            "INFO:pytorch_lightning.utilities.rank_zero:You are using the plain ModelCheckpoint callback. Consider using LitModelCheckpoint which with seamless uploading to Model registry.\n",
            "INFO:pytorch_lightning.utilities.rank_zero:GPU available: False, used: False\n",
            "INFO:pytorch_lightning.utilities.rank_zero:TPU available: False, using: 0 TPU cores\n",
            "INFO:pytorch_lightning.utilities.rank_zero:HPU available: False, using: 0 HPUs\n",
            "Predicting DataLoader 0: 100%|██████████| 1/1 [00:01<00:00,  1.76s/it]\n",
            "Processing links:   0%|          | 108/62202 [27:49<229:35:21, 13.31s/it]"
          ]
        },
        {
          "name": "stdout",
          "output_type": "stream",
          "text": [
            "{'English Sentence Numbers': 'b.GEN.5.2.1', 'Dutch Sentence Numbers': 'b.GEN.5.2.1', 'Dutch Source': 'мужчину и женщину сотворил их , и благословил их , и нарек им имя : человек , в день сотворения их .', 'Reference English': 'Male and female created he them ; and blessed them , and called their name Adam , in the day when they were created .', 'Translated English': 'He created men and women, and blessed them, and named them man on the day of their creation.', 'COMET Score': 0.7856, 'SacreBLEU Score': 18.87, 'CHRF Score': 43.77}\n"
          ]
        },
        {
          "name": "stderr",
          "output_type": "stream",
          "text": [
            "INFO:pytorch_lightning.utilities.rank_zero:You are using the plain ModelCheckpoint callback. Consider using LitModelCheckpoint which with seamless uploading to Model registry.\n",
            "INFO:pytorch_lightning.utilities.rank_zero:GPU available: False, used: False\n",
            "INFO:pytorch_lightning.utilities.rank_zero:TPU available: False, using: 0 TPU cores\n",
            "INFO:pytorch_lightning.utilities.rank_zero:HPU available: False, using: 0 HPUs\n",
            "Predicting DataLoader 0: 100%|██████████| 1/1 [00:01<00:00,  1.76s/it]\n",
            "Processing links:   0%|          | 109/62202 [28:03<230:42:12, 13.38s/it]"
          ]
        },
        {
          "name": "stdout",
          "output_type": "stream",
          "text": [
            "{'English Sentence Numbers': 'b.GEN.5.3.1', 'Dutch Sentence Numbers': 'b.GEN.5.3.1', 'Dutch Source': 'Адам жил сто тридцать лет и родил сына по подобию своему по образу своему , и нарек ему имя : Сиф .', 'Reference English': 'And Adam lived an hundred and thirty years , and begat a son in his own likeness , after his image ; and called his name Seth :', 'Translated English': 'Adam lived a hundred and thirty years, and gave birth to a son according to his image, and he called him Sif.', 'COMET Score': 0.7487, 'SacreBLEU Score': 23.28, 'CHRF Score': 50.37}\n"
          ]
        },
        {
          "name": "stderr",
          "output_type": "stream",
          "text": [
            "INFO:pytorch_lightning.utilities.rank_zero:You are using the plain ModelCheckpoint callback. Consider using LitModelCheckpoint which with seamless uploading to Model registry.\n",
            "INFO:pytorch_lightning.utilities.rank_zero:GPU available: False, used: False\n",
            "INFO:pytorch_lightning.utilities.rank_zero:TPU available: False, using: 0 TPU cores\n",
            "INFO:pytorch_lightning.utilities.rank_zero:HPU available: False, using: 0 HPUs\n",
            "Predicting DataLoader 0: 100%|██████████| 1/1 [00:01<00:00,  1.67s/it]\n",
            "Processing links:   0%|          | 110/62202 [28:16<230:57:37, 13.39s/it]"
          ]
        },
        {
          "name": "stdout",
          "output_type": "stream",
          "text": [
            "{'English Sentence Numbers': 'b.GEN.5.4.1', 'Dutch Sentence Numbers': 'b.GEN.5.4.1', 'Dutch Source': 'Дней Адама по рождении им Сифа было восемьсот лет , и родил он сынов и дочерей .', 'Reference English': 'And the days of Adam after he had begotten Seth were eight hundred years : and he begat sons and daughters :', 'Translated English': 'The day of Adam when Sifa was born to them was eight hundred years old, and he gave birth to sons and daughters.', 'COMET Score': 0.6094, 'SacreBLEU Score': 11.86, 'CHRF Score': 50.16}\n"
          ]
        },
        {
          "name": "stderr",
          "output_type": "stream",
          "text": [
            "INFO:pytorch_lightning.utilities.rank_zero:You are using the plain ModelCheckpoint callback. Consider using LitModelCheckpoint which with seamless uploading to Model registry.\n",
            "INFO:pytorch_lightning.utilities.rank_zero:GPU available: False, used: False\n",
            "INFO:pytorch_lightning.utilities.rank_zero:TPU available: False, using: 0 TPU cores\n",
            "INFO:pytorch_lightning.utilities.rank_zero:HPU available: False, using: 0 HPUs\n",
            "Predicting DataLoader 0: 100%|██████████| 1/1 [00:01<00:00,  1.46s/it]\n",
            "Processing links:   0%|          | 111/62202 [28:28<219:04:26, 12.70s/it]"
          ]
        },
        {
          "name": "stdout",
          "output_type": "stream",
          "text": [
            "{'English Sentence Numbers': 'b.GEN.5.5.1', 'Dutch Sentence Numbers': 'b.GEN.5.5.1', 'Dutch Source': 'Всех же дней жизни Адамовой было девятьсот тридцать лет ; и он умер .', 'Reference English': 'And all the days that Adam lived were nine hundred and thirty years : and he died .', 'Translated English': \"All the days of Adam's life were nine hundred and thirty years, and he died.\", 'COMET Score': 0.7775, 'SacreBLEU Score': 43.52, 'CHRF Score': 68.3}\n"
          ]
        },
        {
          "name": "stderr",
          "output_type": "stream",
          "text": [
            "INFO:pytorch_lightning.utilities.rank_zero:You are using the plain ModelCheckpoint callback. Consider using LitModelCheckpoint which with seamless uploading to Model registry.\n",
            "INFO:pytorch_lightning.utilities.rank_zero:GPU available: False, used: False\n",
            "INFO:pytorch_lightning.utilities.rank_zero:TPU available: False, using: 0 TPU cores\n",
            "INFO:pytorch_lightning.utilities.rank_zero:HPU available: False, using: 0 HPUs\n",
            "Predicting DataLoader 0: 100%|██████████| 1/1 [00:01<00:00,  1.35s/it]\n",
            "Processing links:   0%|          | 112/62202 [28:37<201:25:49, 11.68s/it]"
          ]
        },
        {
          "name": "stdout",
          "output_type": "stream",
          "text": [
            "{'English Sentence Numbers': 'b.GEN.5.6.1', 'Dutch Sentence Numbers': 'b.GEN.5.6.1', 'Dutch Source': 'Сиф жил сто пять лет и родил Еноса .', 'Reference English': 'And Seth lived an hundred and five years , and begat Enos :', 'Translated English': 'Sif lived a hundred and five years and gave birth to Enos.', 'COMET Score': 0.7078, 'SacreBLEU Score': 22.24, 'CHRF Score': 54.06}\n"
          ]
        },
        {
          "name": "stderr",
          "output_type": "stream",
          "text": [
            "INFO:pytorch_lightning.utilities.rank_zero:You are using the plain ModelCheckpoint callback. Consider using LitModelCheckpoint which with seamless uploading to Model registry.\n",
            "INFO:pytorch_lightning.utilities.rank_zero:GPU available: False, used: False\n",
            "INFO:pytorch_lightning.utilities.rank_zero:TPU available: False, using: 0 TPU cores\n",
            "INFO:pytorch_lightning.utilities.rank_zero:HPU available: False, using: 0 HPUs\n",
            "Predicting DataLoader 0: 100%|██████████| 1/1 [00:01<00:00,  1.72s/it]\n",
            "Processing links:   0%|          | 113/62202 [28:50<208:20:56, 12.08s/it]"
          ]
        },
        {
          "name": "stdout",
          "output_type": "stream",
          "text": [
            "{'English Sentence Numbers': 'b.GEN.5.7.1', 'Dutch Sentence Numbers': 'b.GEN.5.7.1', 'Dutch Source': 'По рождении Еноса Сиф жил восемьсот семь лет и родил сынов и дочерей .', 'Reference English': 'And Seth lived after he begat Enos eight hundred and seven years , and begat sons and daughters :', 'Translated English': 'By the birth of Enos, Sif lived eight hundred and seven years and gave birth to sons and daughters.', 'COMET Score': 0.6816, 'SacreBLEU Score': 25.16, 'CHRF Score': 57.97}\n"
          ]
        },
        {
          "name": "stderr",
          "output_type": "stream",
          "text": [
            "INFO:pytorch_lightning.utilities.rank_zero:You are using the plain ModelCheckpoint callback. Consider using LitModelCheckpoint which with seamless uploading to Model registry.\n",
            "INFO:pytorch_lightning.utilities.rank_zero:GPU available: False, used: False\n",
            "INFO:pytorch_lightning.utilities.rank_zero:TPU available: False, using: 0 TPU cores\n",
            "INFO:pytorch_lightning.utilities.rank_zero:HPU available: False, using: 0 HPUs\n",
            "Predicting DataLoader 0: 100%|██████████| 1/1 [00:01<00:00,  1.87s/it]\n",
            "Processing links:   0%|          | 114/62202 [29:00<198:47:33, 11.53s/it]"
          ]
        },
        {
          "name": "stdout",
          "output_type": "stream",
          "text": [
            "{'English Sentence Numbers': 'b.GEN.5.8.1', 'Dutch Sentence Numbers': 'b.GEN.5.8.1', 'Dutch Source': 'Всех же дней Сифовых было девятьсот двенадцать лет ; и он умер .', 'Reference English': 'And all the days of Seth were nine hundred and twelve years : and he died .', 'Translated English': 'All the days of Sith were nine hundred and twelve years; and he died.', 'COMET Score': 0.7775, 'SacreBLEU Score': 50.47, 'CHRF Score': 81.48}\n"
          ]
        },
        {
          "name": "stderr",
          "output_type": "stream",
          "text": [
            "INFO:pytorch_lightning.utilities.rank_zero:You are using the plain ModelCheckpoint callback. Consider using LitModelCheckpoint which with seamless uploading to Model registry.\n",
            "INFO:pytorch_lightning.utilities.rank_zero:GPU available: False, used: False\n",
            "INFO:pytorch_lightning.utilities.rank_zero:TPU available: False, using: 0 TPU cores\n",
            "INFO:pytorch_lightning.utilities.rank_zero:HPU available: False, using: 0 HPUs\n",
            "Predicting DataLoader 0: 100%|██████████| 1/1 [00:01<00:00,  1.23s/it]\n",
            "Processing links:   0%|          | 115/62202 [29:08<181:22:01, 10.52s/it]"
          ]
        },
        {
          "name": "stdout",
          "output_type": "stream",
          "text": [
            "{'English Sentence Numbers': 'b.GEN.5.9.1', 'Dutch Sentence Numbers': 'b.GEN.5.9.1', 'Dutch Source': 'Енос жил девяносто лет и родил Каинана .', 'Reference English': 'And Enos lived ninety years , and begat Cainan :', 'Translated English': 'Enos lived ninety years and gave birth to Cainana.', 'COMET Score': 0.6687, 'SacreBLEU Score': 27.78, 'CHRF Score': 61.4}\n"
          ]
        },
        {
          "name": "stderr",
          "output_type": "stream",
          "text": [
            "INFO:pytorch_lightning.utilities.rank_zero:You are using the plain ModelCheckpoint callback. Consider using LitModelCheckpoint which with seamless uploading to Model registry.\n",
            "INFO:pytorch_lightning.utilities.rank_zero:GPU available: False, used: False\n",
            "INFO:pytorch_lightning.utilities.rank_zero:TPU available: False, using: 0 TPU cores\n",
            "INFO:pytorch_lightning.utilities.rank_zero:HPU available: False, using: 0 HPUs\n",
            "Predicting DataLoader 0: 100%|██████████| 1/1 [00:01<00:00,  1.64s/it]\n",
            "Processing links:   0%|          | 116/62202 [29:22<197:43:16, 11.46s/it]"
          ]
        },
        {
          "name": "stdout",
          "output_type": "stream",
          "text": [
            "{'English Sentence Numbers': 'b.GEN.5.10.1', 'Dutch Sentence Numbers': 'b.GEN.5.10.1', 'Dutch Source': 'По рождении Каинана Енос жил восемьсот пятнадцать лет и родил сынов и дочерей .', 'Reference English': 'And Enos lived after he begat Cainan eight hundred and fifteen years , and begat sons and daughters :', 'Translated English': 'When Cainane was born, Enos lived eight hundred and fifteen years and gave birth to sons and daughters.', 'COMET Score': 0.706, 'SacreBLEU Score': 27.57, 'CHRF Score': 64.67}\n"
          ]
        },
        {
          "name": "stderr",
          "output_type": "stream",
          "text": [
            "INFO:pytorch_lightning.utilities.rank_zero:You are using the plain ModelCheckpoint callback. Consider using LitModelCheckpoint which with seamless uploading to Model registry.\n",
            "INFO:pytorch_lightning.utilities.rank_zero:GPU available: False, used: False\n",
            "INFO:pytorch_lightning.utilities.rank_zero:TPU available: False, using: 0 TPU cores\n",
            "INFO:pytorch_lightning.utilities.rank_zero:HPU available: False, using: 0 HPUs\n",
            "Predicting DataLoader 0: 100%|██████████| 1/1 [00:01<00:00,  1.43s/it]\n",
            "Processing links:   0%|          | 117/62202 [29:32<190:38:57, 11.05s/it]"
          ]
        },
        {
          "name": "stdout",
          "output_type": "stream",
          "text": [
            "{'English Sentence Numbers': 'b.GEN.5.11.1', 'Dutch Sentence Numbers': 'b.GEN.5.11.1', 'Dutch Source': 'Всех же дней Еноса было девятьсот пять лет ; и он умер .', 'Reference English': 'And all the days of Enos were nine hundred and five years : and he died .', 'Translated English': 'All the days of Enos was nine hundred and five years old, and he died.', 'COMET Score': 0.7695, 'SacreBLEU Score': 50.24, 'CHRF Score': 77.09}\n"
          ]
        },
        {
          "name": "stderr",
          "output_type": "stream",
          "text": [
            "INFO:pytorch_lightning.utilities.rank_zero:You are using the plain ModelCheckpoint callback. Consider using LitModelCheckpoint which with seamless uploading to Model registry.\n",
            "INFO:pytorch_lightning.utilities.rank_zero:GPU available: False, used: False\n",
            "INFO:pytorch_lightning.utilities.rank_zero:TPU available: False, using: 0 TPU cores\n",
            "INFO:pytorch_lightning.utilities.rank_zero:HPU available: False, using: 0 HPUs\n",
            "Predicting DataLoader 0: 100%|██████████| 1/1 [00:01<00:00,  1.75s/it]\n",
            "Processing links:   0%|          | 118/62202 [29:41<180:39:21, 10.48s/it]"
          ]
        },
        {
          "name": "stdout",
          "output_type": "stream",
          "text": [
            "{'English Sentence Numbers': 'b.GEN.5.12.1', 'Dutch Sentence Numbers': 'b.GEN.5.12.1', 'Dutch Source': 'Каинан жил семьдесят лет и родил Малелеила .', 'Reference English': 'And Cainan lived seventy years , and begat Mahalaleel :', 'Translated English': 'Cainan lived seventy years and gave birth to Maleila.', 'COMET Score': 0.639, 'SacreBLEU Score': 27.78, 'CHRF Score': 56.09}\n"
          ]
        },
        {
          "name": "stderr",
          "output_type": "stream",
          "text": [
            "INFO:pytorch_lightning.utilities.rank_zero:You are using the plain ModelCheckpoint callback. Consider using LitModelCheckpoint which with seamless uploading to Model registry.\n",
            "INFO:pytorch_lightning.utilities.rank_zero:GPU available: False, used: False\n",
            "INFO:pytorch_lightning.utilities.rank_zero:TPU available: False, using: 0 TPU cores\n",
            "INFO:pytorch_lightning.utilities.rank_zero:HPU available: False, using: 0 HPUs\n",
            "Predicting DataLoader 0: 100%|██████████| 1/1 [00:02<00:00,  2.26s/it]\n",
            "Processing links:   0%|          | 119/62202 [29:54<194:25:36, 11.27s/it]"
          ]
        },
        {
          "name": "stdout",
          "output_type": "stream",
          "text": [
            "{'English Sentence Numbers': 'b.GEN.5.13.1', 'Dutch Sentence Numbers': 'b.GEN.5.13.1', 'Dutch Source': 'По рождении Малелеила Каинан жил восемьсот сорок лет и родил сынов и дочерей .', 'Reference English': 'And Cainan lived after he begat Mahalaleel eight hundred and forty years , and begat sons and daughters :', 'Translated English': 'At the birth of Maleil Cainan lived eight hundred and forty years and gave birth to sons and daughters.', 'COMET Score': 0.6535, 'SacreBLEU Score': 26.98, 'CHRF Score': 59.39}\n"
          ]
        },
        {
          "name": "stderr",
          "output_type": "stream",
          "text": [
            "INFO:pytorch_lightning.utilities.rank_zero:You are using the plain ModelCheckpoint callback. Consider using LitModelCheckpoint which with seamless uploading to Model registry.\n",
            "INFO:pytorch_lightning.utilities.rank_zero:GPU available: False, used: False\n",
            "INFO:pytorch_lightning.utilities.rank_zero:TPU available: False, using: 0 TPU cores\n",
            "INFO:pytorch_lightning.utilities.rank_zero:HPU available: False, using: 0 HPUs\n",
            "Predicting DataLoader 0: 100%|██████████| 1/1 [00:01<00:00,  1.38s/it]\n",
            "Processing links:   0%|          | 120/62202 [30:03<183:09:29, 10.62s/it]"
          ]
        },
        {
          "name": "stdout",
          "output_type": "stream",
          "text": [
            "{'English Sentence Numbers': 'b.GEN.5.14.1', 'Dutch Sentence Numbers': 'b.GEN.5.14.1', 'Dutch Source': 'Всех же дней Каинана было девятьсот десять лет ; и он умер .', 'Reference English': 'And all the days of Cainan were nine hundred and ten years : and he died .', 'Translated English': 'All the days of Cain was nine hundred ten years, and he died.', 'COMET Score': 0.7623, 'SacreBLEU Score': 25.36, 'CHRF Score': 65.73}\n"
          ]
        },
        {
          "name": "stderr",
          "output_type": "stream",
          "text": [
            "INFO:pytorch_lightning.utilities.rank_zero:You are using the plain ModelCheckpoint callback. Consider using LitModelCheckpoint which with seamless uploading to Model registry.\n",
            "INFO:pytorch_lightning.utilities.rank_zero:GPU available: False, used: False\n",
            "INFO:pytorch_lightning.utilities.rank_zero:TPU available: False, using: 0 TPU cores\n",
            "INFO:pytorch_lightning.utilities.rank_zero:HPU available: False, using: 0 HPUs\n",
            "Predicting DataLoader 0: 100%|██████████| 1/1 [00:01<00:00,  1.31s/it]\n",
            "Processing links:   0%|          | 121/62202 [30:14<181:13:01, 10.51s/it]"
          ]
        },
        {
          "name": "stdout",
          "output_type": "stream",
          "text": [
            "{'English Sentence Numbers': 'b.GEN.5.15.1', 'Dutch Sentence Numbers': 'b.GEN.5.15.1', 'Dutch Source': 'Малелеил жил шестьдесят пять лет и родил Иареда .', 'Reference English': 'And Mahalaleel lived sixty and five years , and begat Jared :', 'Translated English': 'Maleil lived six hundred and fifty years and gave birth to Jared.', 'COMET Score': 0.6907, 'SacreBLEU Score': 4.62, 'CHRF Score': 38.45}\n"
          ]
        },
        {
          "name": "stderr",
          "output_type": "stream",
          "text": [
            "INFO:pytorch_lightning.utilities.rank_zero:You are using the plain ModelCheckpoint callback. Consider using LitModelCheckpoint which with seamless uploading to Model registry.\n",
            "INFO:pytorch_lightning.utilities.rank_zero:GPU available: False, used: False\n",
            "INFO:pytorch_lightning.utilities.rank_zero:TPU available: False, using: 0 TPU cores\n",
            "INFO:pytorch_lightning.utilities.rank_zero:HPU available: False, using: 0 HPUs\n",
            "Predicting DataLoader 0: 100%|██████████| 1/1 [00:01<00:00,  1.66s/it]\n",
            "Processing links:   0%|          | 122/62202 [30:27<195:46:36, 11.35s/it]"
          ]
        },
        {
          "name": "stdout",
          "output_type": "stream",
          "text": [
            "{'English Sentence Numbers': 'b.GEN.5.16.1', 'Dutch Sentence Numbers': 'b.GEN.5.16.1', 'Dutch Source': 'По рождении Иареда Малелеил жил восемьсот тридцать лет и родил сынов и дочерей .', 'Reference English': 'And Mahalaleel lived after he begat Jared eight hundred and thirty years , and begat sons and daughters :', 'Translated English': 'At the birth of Jared, Maleil lived eight hundred and thirty years and gave birth to sons and daughters.', 'COMET Score': 0.6484, 'SacreBLEU Score': 25.16, 'CHRF Score': 59.03}\n"
          ]
        },
        {
          "name": "stderr",
          "output_type": "stream",
          "text": [
            "INFO:pytorch_lightning.utilities.rank_zero:You are using the plain ModelCheckpoint callback. Consider using LitModelCheckpoint which with seamless uploading to Model registry.\n",
            "INFO:pytorch_lightning.utilities.rank_zero:GPU available: False, used: False\n",
            "INFO:pytorch_lightning.utilities.rank_zero:TPU available: False, using: 0 TPU cores\n",
            "INFO:pytorch_lightning.utilities.rank_zero:HPU available: False, using: 0 HPUs\n",
            "Predicting DataLoader 0: 100%|██████████| 1/1 [00:01<00:00,  1.56s/it]\n",
            "Processing links:   0%|          | 123/62202 [30:38<196:03:40, 11.37s/it]"
          ]
        },
        {
          "name": "stdout",
          "output_type": "stream",
          "text": [
            "{'English Sentence Numbers': 'b.GEN.5.17.1', 'Dutch Sentence Numbers': 'b.GEN.5.17.1', 'Dutch Source': 'Всех же дней Малелеила было восемьсот девяносто пять лет ; и онумер .', 'Reference English': 'And all the days of Mahalaleel were eight hundred ninety and five years : and he died .', 'Translated English': 'All the days of Maleil were eight hundred ninety-five years; and the number was one.', 'COMET Score': 0.6006, 'SacreBLEU Score': 14.94, 'CHRF Score': 60.67}\n"
          ]
        },
        {
          "name": "stderr",
          "output_type": "stream",
          "text": [
            "INFO:pytorch_lightning.utilities.rank_zero:You are using the plain ModelCheckpoint callback. Consider using LitModelCheckpoint which with seamless uploading to Model registry.\n",
            "INFO:pytorch_lightning.utilities.rank_zero:GPU available: False, used: False\n",
            "INFO:pytorch_lightning.utilities.rank_zero:TPU available: False, using: 0 TPU cores\n",
            "INFO:pytorch_lightning.utilities.rank_zero:HPU available: False, using: 0 HPUs\n",
            "Predicting DataLoader 0: 100%|██████████| 1/1 [00:01<00:00,  1.33s/it]\n",
            "Processing links:   0%|          | 124/62202 [30:49<191:41:18, 11.12s/it]"
          ]
        },
        {
          "name": "stdout",
          "output_type": "stream",
          "text": [
            "{'English Sentence Numbers': 'b.GEN.5.18.1', 'Dutch Sentence Numbers': 'b.GEN.5.18.1', 'Dutch Source': 'Иаред жил сто шестьдесят два года и родил Еноха .', 'Reference English': 'And Jared lived an hundred sixty and two years , and he begat Enoch :', 'Translated English': 'Yared lived a hundred and sixty two years and gave birth to Enoch.', 'COMET Score': 0.7422, 'SacreBLEU Score': 7.48, 'CHRF Score': 50.92}\n"
          ]
        },
        {
          "name": "stderr",
          "output_type": "stream",
          "text": [
            "INFO:pytorch_lightning.utilities.rank_zero:You are using the plain ModelCheckpoint callback. Consider using LitModelCheckpoint which with seamless uploading to Model registry.\n",
            "INFO:pytorch_lightning.utilities.rank_zero:GPU available: False, used: False\n",
            "INFO:pytorch_lightning.utilities.rank_zero:TPU available: False, using: 0 TPU cores\n",
            "INFO:pytorch_lightning.utilities.rank_zero:HPU available: False, using: 0 HPUs\n",
            "Predicting DataLoader 0: 100%|██████████| 1/1 [00:01<00:00,  1.64s/it]\n",
            "Processing links:   0%|          | 125/62202 [31:01<195:58:13, 11.36s/it]"
          ]
        },
        {
          "name": "stdout",
          "output_type": "stream",
          "text": [
            "{'English Sentence Numbers': 'b.GEN.5.19.1', 'Dutch Sentence Numbers': 'b.GEN.5.19.1', 'Dutch Source': 'По рождении Еноха Иаред жил восемьсот лет и родил сынов и дочерей .', 'Reference English': 'And Jared lived after he begat Enoch eight hundred years , and begat sons and daughters :', 'Translated English': 'When Enoch was born, Jared lived eight hundred years and gave birth to sons and daughters.', 'COMET Score': 0.7135, 'SacreBLEU Score': 16.54, 'CHRF Score': 58.41}\n"
          ]
        },
        {
          "name": "stderr",
          "output_type": "stream",
          "text": [
            "INFO:pytorch_lightning.utilities.rank_zero:You are using the plain ModelCheckpoint callback. Consider using LitModelCheckpoint which with seamless uploading to Model registry.\n",
            "INFO:pytorch_lightning.utilities.rank_zero:GPU available: False, used: False\n",
            "INFO:pytorch_lightning.utilities.rank_zero:TPU available: False, using: 0 TPU cores\n",
            "INFO:pytorch_lightning.utilities.rank_zero:HPU available: False, using: 0 HPUs\n",
            "Predicting DataLoader 0: 100%|██████████| 1/1 [00:02<00:00,  2.24s/it]\n",
            "Processing links:   0%|          | 126/62202 [31:12<196:32:21, 11.40s/it]"
          ]
        },
        {
          "name": "stdout",
          "output_type": "stream",
          "text": [
            "{'English Sentence Numbers': 'b.GEN.5.20.1', 'Dutch Sentence Numbers': 'b.GEN.5.20.1', 'Dutch Source': 'Всех же дней Иареда было девятьсот шестьдесят два года ; и онумер .', 'Reference English': 'And all the days of Jared were nine hundred sixty and two years : and he died .', 'Translated English': 'All the days of Jared were nine hundred and sixty two years; and the number was one.', 'COMET Score': 0.639, 'SacreBLEU Score': 37.4, 'CHRF Score': 67.72}\n"
          ]
        },
        {
          "name": "stderr",
          "output_type": "stream",
          "text": [
            "INFO:pytorch_lightning.utilities.rank_zero:You are using the plain ModelCheckpoint callback. Consider using LitModelCheckpoint which with seamless uploading to Model registry.\n",
            "INFO:pytorch_lightning.utilities.rank_zero:GPU available: False, used: False\n",
            "INFO:pytorch_lightning.utilities.rank_zero:TPU available: False, using: 0 TPU cores\n",
            "INFO:pytorch_lightning.utilities.rank_zero:HPU available: False, using: 0 HPUs\n",
            "Predicting DataLoader 0: 100%|██████████| 1/1 [00:01<00:00,  1.32s/it]\n",
            "Processing links:   0%|          | 127/62202 [31:21<184:16:02, 10.69s/it]"
          ]
        },
        {
          "name": "stdout",
          "output_type": "stream",
          "text": [
            "{'English Sentence Numbers': 'b.GEN.5.21.1', 'Dutch Sentence Numbers': 'b.GEN.5.21.1', 'Dutch Source': 'Енох жил шестьдесят пять лет и родил Мафусала .', 'Reference English': 'And Enoch lived sixty and five years , and begat Methuselah :', 'Translated English': 'Enoch lived sixteen and five years and gave birth to Mafusala.', 'COMET Score': 0.6079, 'SacreBLEU Score': 16.59, 'CHRF Score': 51.96}\n"
          ]
        },
        {
          "name": "stderr",
          "output_type": "stream",
          "text": [
            "INFO:pytorch_lightning.utilities.rank_zero:You are using the plain ModelCheckpoint callback. Consider using LitModelCheckpoint which with seamless uploading to Model registry.\n",
            "INFO:pytorch_lightning.utilities.rank_zero:GPU available: False, used: False\n",
            "INFO:pytorch_lightning.utilities.rank_zero:TPU available: False, using: 0 TPU cores\n",
            "INFO:pytorch_lightning.utilities.rank_zero:HPU available: False, using: 0 HPUs\n",
            "Predicting DataLoader 0: 100%|██████████| 1/1 [00:01<00:00,  1.74s/it]\n",
            "Processing links:   0%|          | 128/62202 [31:35<201:58:43, 11.71s/it]"
          ]
        },
        {
          "name": "stdout",
          "output_type": "stream",
          "text": [
            "{'English Sentence Numbers': 'b.GEN.5.22.1', 'Dutch Sentence Numbers': 'b.GEN.5.22.1', 'Dutch Source': 'И ходил Енох пред Богом , по рождении Мафусала , триста лет и родил сынов и дочерей .', 'Reference English': 'And Enoch walked with God after he begat Methuselah three hundred years , and begat sons and daughters :', 'Translated English': 'And Enoch walked before God, after the birth of Maphusal, three hundred years, and gave birth to sons and daughters.', 'COMET Score': 0.7184, 'SacreBLEU Score': 25.27, 'CHRF Score': 61.52}\n"
          ]
        },
        {
          "name": "stderr",
          "output_type": "stream",
          "text": [
            "INFO:pytorch_lightning.utilities.rank_zero:You are using the plain ModelCheckpoint callback. Consider using LitModelCheckpoint which with seamless uploading to Model registry.\n",
            "INFO:pytorch_lightning.utilities.rank_zero:GPU available: False, used: False\n",
            "INFO:pytorch_lightning.utilities.rank_zero:TPU available: False, using: 0 TPU cores\n",
            "INFO:pytorch_lightning.utilities.rank_zero:HPU available: False, using: 0 HPUs\n",
            "Predicting DataLoader 0: 100%|██████████| 1/1 [00:01<00:00,  1.29s/it]\n",
            "Processing links:   0%|          | 129/62202 [31:45<189:56:53, 11.02s/it]"
          ]
        },
        {
          "name": "stdout",
          "output_type": "stream",
          "text": [
            "{'English Sentence Numbers': 'b.GEN.5.23.1', 'Dutch Sentence Numbers': 'b.GEN.5.23.1', 'Dutch Source': 'Всех же дней Еноха было триста шестьдесят пять лет .', 'Reference English': 'And all the days of Enoch were three hundred sixty and five years :', 'Translated English': 'All the days of Enoch were thirty-six-five years.', 'COMET Score': 0.766, 'SacreBLEU Score': 26.8, 'CHRF Score': 56.36}\n"
          ]
        },
        {
          "name": "stderr",
          "output_type": "stream",
          "text": [
            "INFO:pytorch_lightning.utilities.rank_zero:You are using the plain ModelCheckpoint callback. Consider using LitModelCheckpoint which with seamless uploading to Model registry.\n",
            "INFO:pytorch_lightning.utilities.rank_zero:GPU available: False, used: False\n",
            "INFO:pytorch_lightning.utilities.rank_zero:TPU available: False, using: 0 TPU cores\n",
            "INFO:pytorch_lightning.utilities.rank_zero:HPU available: False, using: 0 HPUs\n",
            "Predicting DataLoader 0: 100%|██████████| 1/1 [00:01<00:00,  1.37s/it]\n",
            "Processing links:   0%|          | 130/62202 [31:55<183:27:39, 10.64s/it]"
          ]
        },
        {
          "name": "stdout",
          "output_type": "stream",
          "text": [
            "{'English Sentence Numbers': 'b.GEN.5.24.1', 'Dutch Sentence Numbers': 'b.GEN.5.24.1', 'Dutch Source': 'И ходил Енох пред Богом ; и не стало его , потому что Бог взял его .', 'Reference English': 'And Enoch walked with God : and he was not ; for God took him .', 'Translated English': 'And Enoch walked before God; and he was not, because God took him.', 'COMET Score': 0.8176, 'SacreBLEU Score': 39.28, 'CHRF Score': 65.17}\n"
          ]
        },
        {
          "name": "stderr",
          "output_type": "stream",
          "text": [
            "INFO:pytorch_lightning.utilities.rank_zero:You are using the plain ModelCheckpoint callback. Consider using LitModelCheckpoint which with seamless uploading to Model registry.\n",
            "INFO:pytorch_lightning.utilities.rank_zero:GPU available: False, used: False\n",
            "INFO:pytorch_lightning.utilities.rank_zero:TPU available: False, using: 0 TPU cores\n",
            "INFO:pytorch_lightning.utilities.rank_zero:HPU available: False, using: 0 HPUs\n",
            "Predicting DataLoader 0: 100%|██████████| 1/1 [00:01<00:00,  1.91s/it]\n",
            "Processing links:   0%|          | 131/62202 [32:06<186:39:36, 10.83s/it]"
          ]
        },
        {
          "name": "stdout",
          "output_type": "stream",
          "text": [
            "{'English Sentence Numbers': 'b.GEN.5.25.1', 'Dutch Sentence Numbers': 'b.GEN.5.25.1', 'Dutch Source': 'Мафусал жил сто восемьдесят семь лет и родил Ламеха .', 'Reference English': 'And Methuselah lived an hundred eighty and seven years , and begat Lamech :', 'Translated English': 'Mafussal lived a hundred eighty-seven years and gave birth to Lamech.', 'COMET Score': 0.7135, 'SacreBLEU Score': 4.29, 'CHRF Score': 48.42}\n"
          ]
        },
        {
          "name": "stderr",
          "output_type": "stream",
          "text": [
            "INFO:pytorch_lightning.utilities.rank_zero:You are using the plain ModelCheckpoint callback. Consider using LitModelCheckpoint which with seamless uploading to Model registry.\n",
            "INFO:pytorch_lightning.utilities.rank_zero:GPU available: False, used: False\n",
            "INFO:pytorch_lightning.utilities.rank_zero:TPU available: False, using: 0 TPU cores\n",
            "INFO:pytorch_lightning.utilities.rank_zero:HPU available: False, using: 0 HPUs\n",
            "Predicting DataLoader 0: 100%|██████████| 1/1 [00:01<00:00,  1.86s/it]\n",
            "Processing links:   0%|          | 132/62202 [32:20<202:52:26, 11.77s/it]"
          ]
        },
        {
          "name": "stdout",
          "output_type": "stream",
          "text": [
            "{'English Sentence Numbers': 'b.GEN.5.26.1', 'Dutch Sentence Numbers': 'b.GEN.5.26.1', 'Dutch Source': 'По рождении Ламеха Мафусал жил семьсот восемьдесят два года и родил сынов и дочерей .', 'Reference English': 'And Methuselah lived after he begat Lamech seven hundred eighty and two years , and begat sons and daughters :', 'Translated English': 'At the birth of Lamech, Mafusal lived seven hundred eighty two years and gave birth to sons and daughters.', 'COMET Score': 0.6783, 'SacreBLEU Score': 14.3, 'CHRF Score': 52.57}\n"
          ]
        },
        {
          "name": "stderr",
          "output_type": "stream",
          "text": [
            "INFO:pytorch_lightning.utilities.rank_zero:You are using the plain ModelCheckpoint callback. Consider using LitModelCheckpoint which with seamless uploading to Model registry.\n",
            "INFO:pytorch_lightning.utilities.rank_zero:GPU available: False, used: False\n",
            "INFO:pytorch_lightning.utilities.rank_zero:TPU available: False, using: 0 TPU cores\n",
            "INFO:pytorch_lightning.utilities.rank_zero:HPU available: False, using: 0 HPUs\n",
            "Predicting DataLoader 0: 100%|██████████| 1/1 [00:02<00:00,  2.03s/it]\n",
            "Processing links:   0%|          | 133/62202 [32:32<206:04:20, 11.95s/it]"
          ]
        },
        {
          "name": "stdout",
          "output_type": "stream",
          "text": [
            "{'English Sentence Numbers': 'b.GEN.5.27.1', 'Dutch Sentence Numbers': 'b.GEN.5.27.1', 'Dutch Source': 'Всех же дней Мафусала было девятьсот шестьдесят девять лет ; ион умер .', 'Reference English': 'And all the days of Methuselah were nine hundred sixty and nine years : and he died .', 'Translated English': 'All the days of Maphusala were nine hundred and six hundred and nine years old; and John died.', 'COMET Score': 0.6519, 'SacreBLEU Score': 18.14, 'CHRF Score': 58.73}\n"
          ]
        },
        {
          "name": "stderr",
          "output_type": "stream",
          "text": [
            "INFO:pytorch_lightning.utilities.rank_zero:You are using the plain ModelCheckpoint callback. Consider using LitModelCheckpoint which with seamless uploading to Model registry.\n",
            "INFO:pytorch_lightning.utilities.rank_zero:GPU available: False, used: False\n",
            "INFO:pytorch_lightning.utilities.rank_zero:TPU available: False, using: 0 TPU cores\n",
            "INFO:pytorch_lightning.utilities.rank_zero:HPU available: False, using: 0 HPUs\n",
            "Predicting DataLoader 0: 100%|██████████| 1/1 [00:01<00:00,  1.29s/it]\n",
            "Processing links:   0%|          | 134/62202 [32:42<192:50:48, 11.19s/it]"
          ]
        },
        {
          "name": "stdout",
          "output_type": "stream",
          "text": [
            "{'English Sentence Numbers': 'b.GEN.5.28.1', 'Dutch Sentence Numbers': 'b.GEN.5.28.1', 'Dutch Source': 'Ламех жил сто восемьдесят два года и родил сына ,', 'Reference English': 'And Lamech lived an hundred eighty and two years , and begat a son :', 'Translated English': 'Lamech lived a hundred eighty two years and gave birth to a son.', 'COMET Score': 0.748, 'SacreBLEU Score': 10.89, 'CHRF Score': 56.55}\n"
          ]
        },
        {
          "name": "stderr",
          "output_type": "stream",
          "text": [
            "INFO:pytorch_lightning.utilities.rank_zero:You are using the plain ModelCheckpoint callback. Consider using LitModelCheckpoint which with seamless uploading to Model registry.\n",
            "INFO:pytorch_lightning.utilities.rank_zero:GPU available: False, used: False\n",
            "INFO:pytorch_lightning.utilities.rank_zero:TPU available: False, using: 0 TPU cores\n",
            "INFO:pytorch_lightning.utilities.rank_zero:HPU available: False, using: 0 HPUs\n",
            "Predicting DataLoader 0: 100%|██████████| 1/1 [00:02<00:00,  2.38s/it]\n",
            "Processing links:   0%|          | 135/62202 [32:59<226:21:06, 13.13s/it]"
          ]
        },
        {
          "name": "stdout",
          "output_type": "stream",
          "text": [
            "{'English Sentence Numbers': 'b.GEN.5.29.1', 'Dutch Sentence Numbers': 'b.GEN.5.29.1', 'Dutch Source': 'и нарек ему имя : Ной , сказав : он утешит нас в работе нашей и в трудах рук наших при возделывании земли , которую проклял Господь .', 'Reference English': 'And he called his name Noah , saying , This same shall comfort us concerning our work and toil of our hands , because of the ground which the LORD hath cursed .', 'Translated English': 'Noah said, “He will comfort us in the work of our hands and in the work of our hands, when the land which the LORD has forgiven is destroyed.”', 'COMET Score': 0.6266, 'SacreBLEU Score': 13.29, 'CHRF Score': 38.44}\n"
          ]
        },
        {
          "name": "stderr",
          "output_type": "stream",
          "text": [
            "INFO:pytorch_lightning.utilities.rank_zero:You are using the plain ModelCheckpoint callback. Consider using LitModelCheckpoint which with seamless uploading to Model registry.\n",
            "INFO:pytorch_lightning.utilities.rank_zero:GPU available: False, used: False\n",
            "INFO:pytorch_lightning.utilities.rank_zero:TPU available: False, using: 0 TPU cores\n",
            "INFO:pytorch_lightning.utilities.rank_zero:HPU available: False, using: 0 HPUs\n",
            "Predicting DataLoader 0: 100%|██████████| 1/1 [00:01<00:00,  1.69s/it]\n",
            "Processing links:   0%|          | 136/62202 [33:13<230:57:28, 13.40s/it]"
          ]
        },
        {
          "name": "stdout",
          "output_type": "stream",
          "text": [
            "{'English Sentence Numbers': 'b.GEN.5.30.1', 'Dutch Sentence Numbers': 'b.GEN.5.30.1', 'Dutch Source': 'И жил Ламех по рождении Ноя пятьсот девяносто пять лет и родил сынов и дочерей .', 'Reference English': 'And Lamech lived after he begat Noah five hundred ninety and five years , and begat sons and daughters :', 'Translated English': 'And Lamech lived five hundred and ninety-five years after Noah was born, and gave birth to sons and daughters.', 'COMET Score': 0.7376, 'SacreBLEU Score': 15.55, 'CHRF Score': 63.98}\n"
          ]
        },
        {
          "name": "stderr",
          "output_type": "stream",
          "text": [
            "INFO:pytorch_lightning.utilities.rank_zero:You are using the plain ModelCheckpoint callback. Consider using LitModelCheckpoint which with seamless uploading to Model registry.\n",
            "INFO:pytorch_lightning.utilities.rank_zero:GPU available: False, used: False\n",
            "INFO:pytorch_lightning.utilities.rank_zero:TPU available: False, using: 0 TPU cores\n",
            "INFO:pytorch_lightning.utilities.rank_zero:HPU available: False, using: 0 HPUs\n",
            "Predicting DataLoader 0: 100%|██████████| 1/1 [00:01<00:00,  1.98s/it]\n",
            "Processing links:   0%|          | 137/62202 [33:24<218:45:09, 12.69s/it]"
          ]
        },
        {
          "name": "stdout",
          "output_type": "stream",
          "text": [
            "{'English Sentence Numbers': 'b.GEN.5.31.1', 'Dutch Sentence Numbers': 'b.GEN.5.31.1', 'Dutch Source': 'Всех же дней Ламеха было семьсот семьдесят семь лет ; и он умер .', 'Reference English': 'And all the days of Lamech were seven hundred seventy and seven years : and he died .', 'Translated English': 'All the days of Lamech were seven hundred and seventy years, and he died.', 'COMET Score': 0.7739, 'SacreBLEU Score': 49.75, 'CHRF Score': 75.39}\n"
          ]
        },
        {
          "name": "stderr",
          "output_type": "stream",
          "text": [
            "INFO:pytorch_lightning.utilities.rank_zero:You are using the plain ModelCheckpoint callback. Consider using LitModelCheckpoint which with seamless uploading to Model registry.\n",
            "INFO:pytorch_lightning.utilities.rank_zero:GPU available: False, used: False\n",
            "INFO:pytorch_lightning.utilities.rank_zero:TPU available: False, using: 0 TPU cores\n",
            "INFO:pytorch_lightning.utilities.rank_zero:HPU available: False, using: 0 HPUs\n",
            "Predicting DataLoader 0: 100%|██████████| 1/1 [00:02<00:00,  2.24s/it]\n",
            "Processing links:   0%|          | 138/62202 [33:36<213:27:40, 12.38s/it]"
          ]
        },
        {
          "name": "stdout",
          "output_type": "stream",
          "text": [
            "{'English Sentence Numbers': 'b.GEN.5.32.1', 'Dutch Sentence Numbers': 'b.GEN.5.32.1', 'Dutch Source': 'Ною было пятьсот лет и родил Ной Сима , Хама и Иафета .', 'Reference English': 'And Noah was five hundred years old : and Noah begat Shem , Ham , and Japheth .', 'Translated English': 'Noah was five hundred years old, and Noah gave birth to Sima, Hama and Yafet.', 'COMET Score': 0.7157, 'SacreBLEU Score': 34.23, 'CHRF Score': 56.26}\n"
          ]
        },
        {
          "name": "stderr",
          "output_type": "stream",
          "text": [
            "\rProcessing links:   0%|          | 138/62202 [33:36<251:57:29, 14.61s/it]"
          ]
        },
        {
          "name": "stdout",
          "output_type": "stream",
          "text": [
            "✅ Saved to translation_comet_bleu_chrf_results_first_5_chapters.csv\n"
          ]
        },
        {
          "name": "stderr",
          "output_type": "stream",
          "text": [
            "\n"
          ]
        }
      ],
      "source": [
        "# Code for translation of the first 5 chapters of the old testametn\n",
        "\n",
        "import xml.etree.ElementTree as ET\n",
        "from tqdm import tqdm\n",
        "from transformers import M2M100ForConditionalGeneration, M2M100Tokenizer\n",
        "from comet import download_model, load_from_checkpoint\n",
        "import pandas as pd\n",
        "import sacrebleu\n",
        "\n",
        "# M2M100\n",
        "model_name = \"facebook/m2m100_418M\"\n",
        "tokenizer = M2M100Tokenizer.from_pretrained(model_name)\n",
        "model = M2M100ForConditionalGeneration.from_pretrained(model_name)\n",
        "tokenizer.src_lang = \"ru\"  # Source language\n",
        "\n",
        "# COMET\n",
        "comet_model_path = download_model(\"Unbabel/wmt22-comet-da\")\n",
        "comet = load_from_checkpoint(comet_model_path)\n",
        "\n",
        "# Load alignment and language files\n",
        "alignment_file = 'en-ru.xml' # Alignment file\n",
        "english_file = 'English.xml' # Target language file\n",
        "dutch_file = 'Russian.xml' # Source language file\n",
        "\n",
        "alignment_root = ET.parse(alignment_file).getroot()\n",
        "english_root = ET.parse(english_file).getroot()\n",
        "dutch_root = ET.parse(dutch_file).getroot()\n",
        "\n",
        "# Find segements with the id\n",
        "def find_segment(root, seg_id):\n",
        "    for seg in root.findall(\".//s\"):\n",
        "        if seg.get('id') == seg_id:\n",
        "            sentence_number = seg.get('id')\n",
        "            text = ' '.join([w.text for w in seg.findall('w') if w.text])\n",
        "            return text, sentence_number if sentence_number else 'N/A'\n",
        "    return None, 'N/A'\n",
        "\n",
        "# Initialize score storage\n",
        "results = []\n",
        "chapter_scores = []\n",
        "current_chapter = None\n",
        "\n",
        "# Get alignment from file\n",
        "links = alignment_root.findall(\".//link\")\n",
        "\n",
        "# Loop trough segments and use tqdm to view progress\n",
        "for link in tqdm(links, desc=\"Processing links\"):\n",
        "    xtargets = link.get('xtargets').split(';')\n",
        "    if len(xtargets) != 2:\n",
        "        continue\n",
        "\n",
        "    en_ids = xtargets[0].split()\n",
        "    nl_ids = xtargets[1].split()\n",
        "\n",
        "    ref_en, en_number = zip(*[find_segment(english_root, en_id) for en_id in en_ids])\n",
        "    ref_en = \" \".join(filter(None, ref_en))\n",
        "\n",
        "    src_nl, nl_number = zip(*[find_segment(dutch_root, nl_id) for nl_id in nl_ids])\n",
        "    src_nl = \" \".join(filter(None, src_nl))\n",
        "\n",
        "    # Sentence number format 'b.GEN.#.#.#'\n",
        "    chapter = en_ids[0].split('.')[2] if en_ids else 'Unknown'\n",
        "\n",
        "    # Stop if chapter is bigger than 5\n",
        "    if chapter.isdigit() and int(chapter) > 5:\n",
        "        break\n",
        "\n",
        "    # Check chapter end and append data summary\n",
        "    if chapter != current_chapter:\n",
        "        if current_chapter is not None:\n",
        "            chapter_df = pd.DataFrame(chapter_scores)\n",
        "            avg_comet = chapter_df[\"COMET Score\"].mean()\n",
        "            avg_bleu = chapter_df[\"SacreBLEU Score\"].mean()\n",
        "            avg_chrf = chapter_df[\"CHRF Score\"].mean()\n",
        "            results.append({\n",
        "                \"Dutch Source\": \"Chapter Average:\",\n",
        "                \"Reference English\": current_chapter,\n",
        "                \"Translated English\": \"\",\n",
        "                \"COMET Score\": round(avg_comet, 4),\n",
        "                \"SacreBLEU Score\": round(avg_bleu, 2),\n",
        "                \"CHRF Score\": round(avg_chrf, 2),\n",
        "                \"English Sentence Numbers\": \"\",\n",
        "                \"Dutch Sentence Numbers\": \"\"\n",
        "            })\n",
        "        current_chapter = chapter\n",
        "        chapter_scores = []\n",
        "\n",
        "    if not ref_en or not src_nl:\n",
        "        continue\n",
        "\n",
        "    # Translation\n",
        "    inputs = tokenizer(src_nl, return_tensors=\"pt\")\n",
        "    translated_tokens = model.generate(**inputs, forced_bos_token_id=tokenizer.get_lang_id(\"en\"))\n",
        "    translated_en = tokenizer.batch_decode(translated_tokens, skip_special_tokens=True)[0]\n",
        "\n",
        "    # COMET\n",
        "    comet_input = [{\n",
        "        \"src\": src_nl,\n",
        "        \"mt\": translated_en,\n",
        "        \"ref\": ref_en\n",
        "    }]\n",
        "    score = comet.predict(comet_input, batch_size=1)\n",
        "    comet_score = score.system_score\n",
        "\n",
        "    # SacreBLEU\n",
        "    bleu = sacrebleu.sentence_bleu(translated_en, [ref_en])\n",
        "    bleu_score = bleu.score\n",
        "\n",
        "    # CHRF\n",
        "    chrf = sacrebleu.sentence_chrf(translated_en, [ref_en])\n",
        "    chrf_score = chrf.score\n",
        "\n",
        "    chapter_scores.append({\n",
        "        \"COMET Score\": comet_score,\n",
        "        \"SacreBLEU Score\": bleu_score,\n",
        "        \"CHRF Score\": chrf_score\n",
        "    })\n",
        "\n",
        "    print({\n",
        "        \"English Sentence Numbers\": \", \".join(en_ids),\n",
        "        \"Dutch Sentence Numbers\": \", \".join(nl_ids),\n",
        "        \"Dutch Source\": src_nl,\n",
        "        \"Reference English\": ref_en,\n",
        "        \"Translated English\": translated_en,\n",
        "        \"COMET Score\": round(comet_score, 4),\n",
        "        \"SacreBLEU Score\": round(bleu_score, 2),\n",
        "        \"CHRF Score\": round(chrf_score, 2)\n",
        "    })\n",
        "\n",
        "    # Append to results\n",
        "    results.append({\n",
        "        \"English Sentence Numbers\": \", \".join(en_ids),\n",
        "        \"Dutch Sentence Numbers\": \", \".join(nl_ids),\n",
        "        \"Dutch Source\": src_nl,\n",
        "        \"Reference English\": ref_en,\n",
        "        \"Translated English\": translated_en,\n",
        "        \"COMET Score\": round(comet_score, 4),\n",
        "        \"SacreBLEU Score\": round(bleu_score, 2),\n",
        "        \"CHRF Score\": round(chrf_score, 2)\n",
        "    })\n",
        "\n",
        "# Save results to CSV\n",
        "df = pd.DataFrame(results)\n",
        "df.to_csv(\"translation_comet_bleu_chrf_results_first_5_chapters.csv\", index=False)\n",
        "print(\"Saved\")\n"
      ]
    },
    {
      "cell_type": "code",
      "execution_count": null,
      "metadata": {
        "colab": {
          "base_uri": "https://localhost:8080/",
          "height": 1000,
          "referenced_widgets": [
            "5cfa14d3b4b34ca9853335069751c024",
            "241816a705db451e854a3f9c92b8d68e",
            "9046749d5af54c5fbb254bfe732590c7",
            "5f56cdf60b744b7aa28cd243f11ca548",
            "fa0ef6a0485a439fbccdb5618e21ae36",
            "8c5e738844c040a48e22a37cf671631d",
            "59c6f49bb4834cefa13dc69829029a69",
            "0533f404aecc4481a9c94bac1fb70252",
            "fd3083e7e74b45e78ff5189b73804ce2",
            "b6ee1cc74f324c9ba8a8183f439748fa",
            "2db272c957864dbfb65d991b6d06f118"
          ]
        },
        "id": "ZeWSe3wh5ZYD",
        "outputId": "3a579aeb-3cc2-46bd-ef16-8f8cd288196a"
      },
      "outputs": [
        {
          "data": {
            "application/vnd.jupyter.widget-view+json": {
              "model_id": "5cfa14d3b4b34ca9853335069751c024",
              "version_major": 2,
              "version_minor": 0
            },
            "text/plain": [
              "Fetching 5 files:   0%|          | 0/5 [00:00<?, ?it/s]"
            ]
          },
          "metadata": {},
          "output_type": "display_data"
        },
        {
          "name": "stderr",
          "output_type": "stream",
          "text": [
            "INFO:pytorch_lightning.utilities.migration.utils:Lightning automatically upgraded your loaded checkpoint from v1.8.3.post1 to v2.5.1. To apply the upgrade to your files permanently, run `python -m pytorch_lightning.utilities.upgrade_checkpoint ../root/.cache/huggingface/hub/models--Unbabel--wmt22-comet-da/snapshots/2760a223ac957f30acfb18c8aa649b01cf1d75f2/checkpoints/model.ckpt`\n",
            "/usr/local/lib/python3.11/dist-packages/pytorch_lightning/core/saving.py:195: Found keys that are not in the model state dict but in the checkpoint: ['encoder.model.embeddings.position_ids']\n",
            "Processing links:   0%|          | 0/62202 [00:00<?, ?it/s]INFO:pytorch_lightning.utilities.rank_zero:You are using the plain ModelCheckpoint callback. Consider using LitModelCheckpoint which with seamless uploading to Model registry.\n",
            "INFO:pytorch_lightning.utilities.rank_zero:GPU available: False, used: False\n",
            "INFO:pytorch_lightning.utilities.rank_zero:TPU available: False, using: 0 TPU cores\n",
            "INFO:pytorch_lightning.utilities.rank_zero:HPU available: False, using: 0 HPUs\n",
            "Predicting DataLoader 0: 100%|██████████| 1/1 [00:02<00:00,  2.05s/it]\n",
            "Processing links:  37%|███▋      | 23145/62202 [00:27<00:46, 841.01it/s]"
          ]
        },
        {
          "name": "stdout",
          "output_type": "stream",
          "text": [
            "{'English Sentence Numbers': 'b.MAT.1.1.1', 'Dutch Sentence Numbers': 'b.MAT.1.1.1', 'Dutch Source': 'Родословие Иисуса Христа , Сына Давидова , Сына Авраамова .', 'Reference English': 'The book of the generation of Jesus Christ , the son of David , the son of Abraham .', 'Translated English': 'The family of Jesus Christ, the Son of David, the Son of Abraham.', 'COMET Score': 0.7626, 'SacreBLEU Score': 38.85, 'CHRF Score': 58.84}\n"
          ]
        },
        {
          "name": "stderr",
          "output_type": "stream",
          "text": [
            "\rProcessing links:  37%|███▋      | 23145/62202 [00:40<00:46, 841.01it/s]INFO:pytorch_lightning.utilities.rank_zero:You are using the plain ModelCheckpoint callback. Consider using LitModelCheckpoint which with seamless uploading to Model registry.\n",
            "INFO:pytorch_lightning.utilities.rank_zero:GPU available: False, used: False\n",
            "INFO:pytorch_lightning.utilities.rank_zero:TPU available: False, using: 0 TPU cores\n",
            "INFO:pytorch_lightning.utilities.rank_zero:HPU available: False, using: 0 HPUs\n",
            "Predicting DataLoader 0: 100%|██████████| 1/1 [00:01<00:00,  1.60s/it]\n",
            "Processing links:  37%|███▋      | 23146/62202 [00:45<01:29, 437.91it/s]"
          ]
        },
        {
          "name": "stdout",
          "output_type": "stream",
          "text": [
            "{'English Sentence Numbers': 'b.MAT.1.2.1, b.MAT.1.2.2, b.MAT.1.2.3', 'Dutch Sentence Numbers': 'b.MAT.1.2.1', 'Dutch Source': 'Авраам родил Исаака ; Исаак родил Иакова ; Иаков родил Иуду и братьев его ;', 'Reference English': 'Abraham begat Isaac ; and Isaac begat Jacob ; and Jacob begat Judas and his brethren ;', 'Translated English': 'Abraham gave birth to Isaac, Isaac gave birth to Jacob, and Jacob gave birth to Judah and his brothers.', 'COMET Score': 0.737, 'SacreBLEU Score': 5.81, 'CHRF Score': 40.1}\n"
          ]
        },
        {
          "name": "stderr",
          "output_type": "stream",
          "text": [
            "INFO:pytorch_lightning.utilities.rank_zero:You are using the plain ModelCheckpoint callback. Consider using LitModelCheckpoint which with seamless uploading to Model registry.\n",
            "INFO:pytorch_lightning.utilities.rank_zero:GPU available: False, used: False\n",
            "INFO:pytorch_lightning.utilities.rank_zero:TPU available: False, using: 0 TPU cores\n",
            "INFO:pytorch_lightning.utilities.rank_zero:HPU available: False, using: 0 HPUs\n",
            "Predicting DataLoader 0: 100%|██████████| 1/1 [00:01<00:00,  1.78s/it]\n",
            "Processing links:  37%|███▋      | 23147/62202 [01:00<02:20, 278.95it/s]"
          ]
        },
        {
          "name": "stdout",
          "output_type": "stream",
          "text": [
            "{'English Sentence Numbers': 'b.MAT.1.3.1, b.MAT.1.3.2, b.MAT.1.3.3', 'Dutch Sentence Numbers': 'b.MAT.1.3.1', 'Dutch Source': 'Иуда родил Фареса и Зару от Фамари ; Фарес родил Есрома ; Есром родил Арама ;', 'Reference English': 'And Judas begat Phares and Zara of Thamar ; and Phares begat Esrom ; and Esrom begat Aram ;', 'Translated English': 'Judah gave birth to Pharaoh and Zaru from Phamari; Pharaoh gave birth to Esrom; Esrom gave birth to Aram;', 'COMET Score': 0.6381, 'SacreBLEU Score': 5.62, 'CHRF Score': 32.4}\n"
          ]
        },
        {
          "name": "stderr",
          "output_type": "stream",
          "text": [
            "INFO:pytorch_lightning.utilities.rank_zero:You are using the plain ModelCheckpoint callback. Consider using LitModelCheckpoint which with seamless uploading to Model registry.\n",
            "INFO:pytorch_lightning.utilities.rank_zero:GPU available: False, used: False\n",
            "INFO:pytorch_lightning.utilities.rank_zero:TPU available: False, using: 0 TPU cores\n",
            "INFO:pytorch_lightning.utilities.rank_zero:HPU available: False, using: 0 HPUs\n",
            "Predicting DataLoader 0: 100%|██████████| 1/1 [00:01<00:00,  1.65s/it]\n",
            "Processing links:  37%|███▋      | 23148/62202 [01:13<03:24, 191.37it/s]"
          ]
        },
        {
          "name": "stdout",
          "output_type": "stream",
          "text": [
            "{'English Sentence Numbers': 'b.MAT.1.4.1, b.MAT.1.4.2, b.MAT.1.4.3', 'Dutch Sentence Numbers': 'b.MAT.1.4.1', 'Dutch Source': 'Арам родил Аминадава ; Аминадав родил Наассона ; Наассонродил Салмона ;', 'Reference English': 'And Aram begat Aminadab ; and Aminadab begat Naasson ; and Naasson begat Salmon ;', 'Translated English': 'Aram gave birth to Aminadov; Aminadov gave birth to Naasson; Naasson gave birth to Salomon;', 'COMET Score': 0.6732, 'SacreBLEU Score': 5.65, 'CHRF Score': 36.28}\n"
          ]
        },
        {
          "name": "stderr",
          "output_type": "stream",
          "text": [
            "INFO:pytorch_lightning.utilities.rank_zero:You are using the plain ModelCheckpoint callback. Consider using LitModelCheckpoint which with seamless uploading to Model registry.\n",
            "INFO:pytorch_lightning.utilities.rank_zero:GPU available: False, used: False\n",
            "INFO:pytorch_lightning.utilities.rank_zero:TPU available: False, using: 0 TPU cores\n",
            "INFO:pytorch_lightning.utilities.rank_zero:HPU available: False, using: 0 HPUs\n",
            "Predicting DataLoader 0: 100%|██████████| 1/1 [00:01<00:00,  1.71s/it]\n",
            "Processing links:  37%|███▋      | 23149/62202 [01:27<05:06, 127.26it/s]"
          ]
        },
        {
          "name": "stdout",
          "output_type": "stream",
          "text": [
            "{'English Sentence Numbers': 'b.MAT.1.5.1, b.MAT.1.5.2, b.MAT.1.5.3', 'Dutch Sentence Numbers': 'b.MAT.1.5.1', 'Dutch Source': 'Салмон родил Вооза от Рахавы ; Вооз родил Овида от Руфи ; Овид родил Иессея ;', 'Reference English': 'And Salmon begat Booz of Rachab ; and Booz begat Obed of Ruth ; and Obed begat Jesse ;', 'Translated English': 'Solomon gave birth to Vooz from Rakhva; Vooz gave birth to Ovid from Rufy; Ovid gave birth to Yeshua;', 'COMET Score': 0.6181, 'SacreBLEU Score': 2.27, 'CHRF Score': 15.09}\n"
          ]
        },
        {
          "name": "stderr",
          "output_type": "stream",
          "text": [
            "INFO:pytorch_lightning.utilities.rank_zero:You are using the plain ModelCheckpoint callback. Consider using LitModelCheckpoint which with seamless uploading to Model registry.\n",
            "INFO:pytorch_lightning.utilities.rank_zero:GPU available: False, used: False\n",
            "INFO:pytorch_lightning.utilities.rank_zero:TPU available: False, using: 0 TPU cores\n",
            "INFO:pytorch_lightning.utilities.rank_zero:HPU available: False, using: 0 HPUs\n",
            "Predicting DataLoader 0: 100%|██████████| 1/1 [00:01<00:00,  1.54s/it]\n",
            "Processing links:  37%|███▋      | 23150/62202 [01:39<07:03, 92.18it/s] "
          ]
        },
        {
          "name": "stdout",
          "output_type": "stream",
          "text": [
            "{'English Sentence Numbers': 'b.MAT.1.6.1, b.MAT.1.6.2', 'Dutch Sentence Numbers': 'b.MAT.1.6.1', 'Dutch Source': 'Иессей родил Давида царя ; Давид царь родил Соломона от бывшей за Уриею ;', 'Reference English': 'And Jesse begat David the king ; and David the king begat Solomon of her that had been the wife of Urias ;', 'Translated English': 'Jesus gave birth to King David; King David gave birth to Solomon from the former of Uriya.', 'COMET Score': 0.5068, 'SacreBLEU Score': 2.57, 'CHRF Score': 26.16}\n"
          ]
        },
        {
          "name": "stderr",
          "output_type": "stream",
          "text": [
            "INFO:pytorch_lightning.utilities.rank_zero:You are using the plain ModelCheckpoint callback. Consider using LitModelCheckpoint which with seamless uploading to Model registry.\n",
            "INFO:pytorch_lightning.utilities.rank_zero:GPU available: False, used: False\n",
            "INFO:pytorch_lightning.utilities.rank_zero:TPU available: False, using: 0 TPU cores\n",
            "INFO:pytorch_lightning.utilities.rank_zero:HPU available: False, using: 0 HPUs\n",
            "Predicting DataLoader 0: 100%|██████████| 1/1 [00:01<00:00,  1.47s/it]\n",
            "Processing links:  37%|███▋      | 23151/62202 [01:51<09:58, 65.29it/s]"
          ]
        },
        {
          "name": "stdout",
          "output_type": "stream",
          "text": [
            "{'English Sentence Numbers': 'b.MAT.1.7.1, b.MAT.1.7.2, b.MAT.1.7.3', 'Dutch Sentence Numbers': 'b.MAT.1.7.1', 'Dutch Source': 'Соломон родил Ровоама ; Ровоам родил Авию ; Авия родил Асу ;', 'Reference English': 'And Solomon begat Roboam ; and Roboam begat Abia ; and Abia begat Asa ;', 'Translated English': 'Solomon gave birth to Roboam; Roboam gave birth to Avia; Avia gave birth to Asu;', 'COMET Score': 0.5149, 'SacreBLEU Score': 5.65, 'CHRF Score': 31.92}\n"
          ]
        },
        {
          "name": "stderr",
          "output_type": "stream",
          "text": [
            "INFO:pytorch_lightning.utilities.rank_zero:You are using the plain ModelCheckpoint callback. Consider using LitModelCheckpoint which with seamless uploading to Model registry.\n",
            "INFO:pytorch_lightning.utilities.rank_zero:GPU available: False, used: False\n",
            "INFO:pytorch_lightning.utilities.rank_zero:TPU available: False, using: 0 TPU cores\n",
            "INFO:pytorch_lightning.utilities.rank_zero:HPU available: False, using: 0 HPUs\n",
            "Predicting DataLoader 0: 100%|██████████| 1/1 [00:01<00:00,  1.57s/it]\n",
            "Processing links:  37%|███▋      | 23152/62202 [02:03<14:11, 45.87it/s]"
          ]
        },
        {
          "name": "stdout",
          "output_type": "stream",
          "text": [
            "{'English Sentence Numbers': 'b.MAT.1.8.1, b.MAT.1.8.2, b.MAT.1.8.3', 'Dutch Sentence Numbers': 'b.MAT.1.8.1', 'Dutch Source': 'Аса родил Иосафата ; Иосафат родил Иорама ; Иорам родил Озию ;', 'Reference English': 'And Asa begat Josaphat ; and Josaphat begat Joram ; and Joram begat Ozias ;', 'Translated English': 'Asha gave birth to Josafat; Josafat gave birth to Joram; Joram gave birth to Osia.', 'COMET Score': 0.5367, 'SacreBLEU Score': 5.11, 'CHRF Score': 25.76}\n"
          ]
        },
        {
          "name": "stderr",
          "output_type": "stream",
          "text": [
            "INFO:pytorch_lightning.utilities.rank_zero:You are using the plain ModelCheckpoint callback. Consider using LitModelCheckpoint which with seamless uploading to Model registry.\n",
            "INFO:pytorch_lightning.utilities.rank_zero:GPU available: False, used: False\n",
            "INFO:pytorch_lightning.utilities.rank_zero:TPU available: False, using: 0 TPU cores\n",
            "INFO:pytorch_lightning.utilities.rank_zero:HPU available: False, using: 0 HPUs\n",
            "Predicting DataLoader 0: 100%|██████████| 1/1 [00:01<00:00,  1.59s/it]\n",
            "Processing links:  37%|███▋      | 23153/62202 [02:16<20:32, 31.69it/s]"
          ]
        },
        {
          "name": "stdout",
          "output_type": "stream",
          "text": [
            "{'English Sentence Numbers': 'b.MAT.1.9.1, b.MAT.1.9.2, b.MAT.1.9.3', 'Dutch Sentence Numbers': 'b.MAT.1.9.1', 'Dutch Source': 'Озия родил Иоафама ; Иоафам родил Ахаза ; Ахаз родил Езекию ;', 'Reference English': 'And Ozias begat Joatham ; and Joatham begat Achaz ; and Achaz begat Ezekias ;', 'Translated English': 'Osia gave birth to Joafam; Joafam gave birth to Ahaz; Ahaz gave birth to Ezekiya;', 'COMET Score': 0.5647, 'SacreBLEU Score': 2.83, 'CHRF Score': 22.43}\n"
          ]
        },
        {
          "name": "stderr",
          "output_type": "stream",
          "text": [
            "INFO:pytorch_lightning.utilities.rank_zero:You are using the plain ModelCheckpoint callback. Consider using LitModelCheckpoint which with seamless uploading to Model registry.\n",
            "INFO:pytorch_lightning.utilities.rank_zero:GPU available: False, used: False\n",
            "INFO:pytorch_lightning.utilities.rank_zero:TPU available: False, using: 0 TPU cores\n",
            "INFO:pytorch_lightning.utilities.rank_zero:HPU available: False, using: 0 HPUs\n",
            "Predicting DataLoader 0: 100%|██████████| 1/1 [00:01<00:00,  1.58s/it]\n",
            "Processing links:  37%|███▋      | 23154/62202 [02:30<29:44, 21.88it/s]"
          ]
        },
        {
          "name": "stdout",
          "output_type": "stream",
          "text": [
            "{'English Sentence Numbers': 'b.MAT.1.10.1, b.MAT.1.10.2, b.MAT.1.10.3', 'Dutch Sentence Numbers': 'b.MAT.1.10.1', 'Dutch Source': 'Езекия родил Манассию ; Манассия родил Амона ; Амон родил Иосию ;', 'Reference English': 'And Ezekias begat Manasses ; and Manasses begat Amon ; and Amon begat Josias ;', 'Translated English': 'Ezechias gave birth to Manassia; Manassia gave birth to Amon; Amon gave birth to Yosia;', 'COMET Score': 0.5821, 'SacreBLEU Score': 5.4, 'CHRF Score': 28.6}\n"
          ]
        },
        {
          "name": "stderr",
          "output_type": "stream",
          "text": [
            "INFO:pytorch_lightning.utilities.rank_zero:You are using the plain ModelCheckpoint callback. Consider using LitModelCheckpoint which with seamless uploading to Model registry.\n",
            "INFO:pytorch_lightning.utilities.rank_zero:GPU available: False, used: False\n",
            "INFO:pytorch_lightning.utilities.rank_zero:TPU available: False, using: 0 TPU cores\n",
            "INFO:pytorch_lightning.utilities.rank_zero:HPU available: False, using: 0 HPUs\n",
            "Predicting DataLoader 0: 100%|██████████| 1/1 [00:01<00:00,  1.70s/it]\n",
            "Processing links:  37%|███▋      | 23155/62202 [02:44<44:15, 14.70it/s]"
          ]
        },
        {
          "name": "stdout",
          "output_type": "stream",
          "text": [
            "{'English Sentence Numbers': 'b.MAT.1.11.1', 'Dutch Sentence Numbers': 'b.MAT.1.11.1', 'Dutch Source': 'Иосия родил Иоакима ; Иоаким родил Иехонию и братьев его , перед переселением в Вавилон .', 'Reference English': 'And Josias begat Jechonias and his brethren , about the time they were carried away to Babylon :', 'Translated English': 'Joshua gave birth to Yohakim; Yohakim gave birth to Yehon and his brothers before he moved to Babylon.', 'COMET Score': 0.5298, 'SacreBLEU Score': 5.42, 'CHRF Score': 28.51}\n"
          ]
        },
        {
          "name": "stderr",
          "output_type": "stream",
          "text": [
            "INFO:pytorch_lightning.utilities.rank_zero:You are using the plain ModelCheckpoint callback. Consider using LitModelCheckpoint which with seamless uploading to Model registry.\n",
            "INFO:pytorch_lightning.utilities.rank_zero:GPU available: False, used: False\n",
            "INFO:pytorch_lightning.utilities.rank_zero:TPU available: False, using: 0 TPU cores\n",
            "INFO:pytorch_lightning.utilities.rank_zero:HPU available: False, using: 0 HPUs\n",
            "Predicting DataLoader 0: 100%|██████████| 1/1 [00:01<00:00,  1.65s/it]\n",
            "Processing links:  37%|███▋      | 23156/62202 [02:58<1:02:53, 10.35it/s]"
          ]
        },
        {
          "name": "stdout",
          "output_type": "stream",
          "text": [
            "{'English Sentence Numbers': 'b.MAT.1.12.1, b.MAT.1.12.2', 'Dutch Sentence Numbers': 'b.MAT.1.12.1', 'Dutch Source': 'По переселении же в Вавилон , Иехония родил Салафииля ; Салафииль родил Зоровавеля ;', 'Reference English': 'And after they were brought to Babylon , Jechonias begat Salathiel ; and Salathiel begat Zorobabel ;', 'Translated English': 'After moving to Babylon, Yehoniah gave birth to Salaphil; Salaphil gave birth to Zorovel.', 'COMET Score': 0.6049, 'SacreBLEU Score': 9.15, 'CHRF Score': 29.15}\n"
          ]
        },
        {
          "name": "stderr",
          "output_type": "stream",
          "text": [
            "INFO:pytorch_lightning.utilities.rank_zero:You are using the plain ModelCheckpoint callback. Consider using LitModelCheckpoint which with seamless uploading to Model registry.\n",
            "INFO:pytorch_lightning.utilities.rank_zero:GPU available: False, used: False\n",
            "INFO:pytorch_lightning.utilities.rank_zero:TPU available: False, using: 0 TPU cores\n",
            "INFO:pytorch_lightning.utilities.rank_zero:HPU available: False, using: 0 HPUs\n",
            "Predicting DataLoader 0: 100%|██████████| 1/1 [00:01<00:00,  1.60s/it]\n",
            "Processing links:  37%|███▋      | 23157/62202 [03:11<1:29:29,  7.27it/s]"
          ]
        },
        {
          "name": "stdout",
          "output_type": "stream",
          "text": [
            "{'English Sentence Numbers': 'b.MAT.1.13.1, b.MAT.1.13.2, b.MAT.1.13.3', 'Dutch Sentence Numbers': 'b.MAT.1.13.1', 'Dutch Source': 'Зоровавель родил Авиуда ; Авиуд родил Елиакима ; Елиакимродил Азора ;', 'Reference English': 'And Zorobabel begat Abiud ; and Abiud begat Eliakim ; and Eliakim begat Azor ;', 'Translated English': 'Zorovel gave birth to Avid; Avid gave birth to Eliakim; Eliakimrodil Azor;', 'COMET Score': 0.4326, 'SacreBLEU Score': 7.86, 'CHRF Score': 29.91}\n"
          ]
        },
        {
          "name": "stderr",
          "output_type": "stream",
          "text": [
            "INFO:pytorch_lightning.utilities.rank_zero:You are using the plain ModelCheckpoint callback. Consider using LitModelCheckpoint which with seamless uploading to Model registry.\n",
            "INFO:pytorch_lightning.utilities.rank_zero:GPU available: False, used: False\n",
            "INFO:pytorch_lightning.utilities.rank_zero:TPU available: False, using: 0 TPU cores\n",
            "INFO:pytorch_lightning.utilities.rank_zero:HPU available: False, using: 0 HPUs\n",
            "Predicting DataLoader 0: 100%|██████████| 1/1 [00:01<00:00,  1.53s/it]\n",
            "Processing links:  37%|███▋      | 23158/62202 [03:24<2:05:08,  5.20it/s]"
          ]
        },
        {
          "name": "stdout",
          "output_type": "stream",
          "text": [
            "{'English Sentence Numbers': 'b.MAT.1.14.1, b.MAT.1.14.2, b.MAT.1.14.3', 'Dutch Sentence Numbers': 'b.MAT.1.14.1', 'Dutch Source': 'Азор родил Садока ; Садок родил Ахима ; Ахим родил Елиуда ;', 'Reference English': 'And Azor begat Sadoc ; and Sadoc begat Achim ; and Achim begat Eliud ;', 'Translated English': 'Asor gave birth to Sadoq; Sadoq gave birth to Ahima; Ahim gave birth to Eliud;', 'COMET Score': 0.6166, 'SacreBLEU Score': 5.11, 'CHRF Score': 23.5}\n"
          ]
        },
        {
          "name": "stderr",
          "output_type": "stream",
          "text": [
            "INFO:pytorch_lightning.utilities.rank_zero:You are using the plain ModelCheckpoint callback. Consider using LitModelCheckpoint which with seamless uploading to Model registry.\n",
            "INFO:pytorch_lightning.utilities.rank_zero:GPU available: False, used: False\n",
            "INFO:pytorch_lightning.utilities.rank_zero:TPU available: False, using: 0 TPU cores\n",
            "INFO:pytorch_lightning.utilities.rank_zero:HPU available: False, using: 0 HPUs\n",
            "Predicting DataLoader 0: 100%|██████████| 1/1 [00:01<00:00,  1.58s/it]\n",
            "Processing links:  37%|███▋      | 23159/62202 [03:36<2:54:42,  3.72it/s]"
          ]
        },
        {
          "name": "stdout",
          "output_type": "stream",
          "text": [
            "{'English Sentence Numbers': 'b.MAT.1.15.1, b.MAT.1.15.2, b.MAT.1.15.3', 'Dutch Sentence Numbers': 'b.MAT.1.15.1', 'Dutch Source': 'Елиуд родил Елеазара ; Елеазар родил Матфана ; Матфанродил Иакова ;', 'Reference English': 'And Eliud begat Eleazar ; and Eleazar begat Matthan ; and Matthan begat Jacob ;', 'Translated English': 'Elliod gave birth to Eleazar; Eleazar gave birth to Matthan; Matthanodil Jacob;', 'COMET Score': 0.5208, 'SacreBLEU Score': 9.46, 'CHRF Score': 42.0}\n"
          ]
        },
        {
          "name": "stderr",
          "output_type": "stream",
          "text": [
            "INFO:pytorch_lightning.utilities.rank_zero:You are using the plain ModelCheckpoint callback. Consider using LitModelCheckpoint which with seamless uploading to Model registry.\n",
            "INFO:pytorch_lightning.utilities.rank_zero:GPU available: False, used: False\n",
            "INFO:pytorch_lightning.utilities.rank_zero:TPU available: False, using: 0 TPU cores\n",
            "INFO:pytorch_lightning.utilities.rank_zero:HPU available: False, using: 0 HPUs\n",
            "Predicting DataLoader 0: 100%|██████████| 1/1 [00:01<00:00,  1.53s/it]\n",
            "Processing links:  37%|███▋      | 23160/62202 [03:47<3:56:28,  2.75it/s]"
          ]
        },
        {
          "name": "stdout",
          "output_type": "stream",
          "text": [
            "{'English Sentence Numbers': 'b.MAT.1.16.1', 'Dutch Sentence Numbers': 'b.MAT.1.16.1', 'Dutch Source': 'Иаков родил Иосифа , мужа Марии , от Которой родился Иисус , называемый Христос .', 'Reference English': 'And Jacob begat Joseph the husband of Mary , of whom was born Jesus , who is called Christ .', 'Translated English': 'Jacob gave birth to Joseph, the husband of Mary, from whom Jesus, called Christ, was born.', 'COMET Score': 0.8323, 'SacreBLEU Score': 25.73, 'CHRF Score': 59.23}\n"
          ]
        },
        {
          "name": "stderr",
          "output_type": "stream",
          "text": [
            "INFO:pytorch_lightning.utilities.rank_zero:You are using the plain ModelCheckpoint callback. Consider using LitModelCheckpoint which with seamless uploading to Model registry.\n",
            "INFO:pytorch_lightning.utilities.rank_zero:GPU available: False, used: False\n",
            "INFO:pytorch_lightning.utilities.rank_zero:TPU available: False, using: 0 TPU cores\n",
            "INFO:pytorch_lightning.utilities.rank_zero:HPU available: False, using: 0 HPUs\n",
            "Predicting DataLoader 0: 100%|██████████| 1/1 [00:02<00:00,  2.62s/it]\n",
            "Processing links:  37%|███▋      | 23161/62202 [04:08<6:41:12,  1.62it/s]"
          ]
        },
        {
          "name": "stdout",
          "output_type": "stream",
          "text": [
            "{'English Sentence Numbers': 'b.MAT.1.17.1', 'Dutch Sentence Numbers': 'b.MAT.1.17.1', 'Dutch Source': 'Итак всех родов от Авраама до Давида четырнадцать родов ; и от Давида до переселения в Вавилон четырнадцать родов ; и от переселения в Вавилон до Христа четырнадцать родов .', 'Reference English': 'So all the generations from Abraham to David are fourteen generations ; and from David until the carrying away into Babylon are fourteen generations ; and from the carrying away into Babylon unto Christ are fourteen generations .', 'Translated English': 'Thus all the tribes from Abraham to David have fourteen tribes; and from David to the settlement to Babylon fourteen tribes; and from the settlement to Babylon to Christ fourteen tribes.', 'COMET Score': 0.6878, 'SacreBLEU Score': 21.71, 'CHRF Score': 46.5}\n"
          ]
        },
        {
          "name": "stderr",
          "output_type": "stream",
          "text": [
            "INFO:pytorch_lightning.utilities.rank_zero:You are using the plain ModelCheckpoint callback. Consider using LitModelCheckpoint which with seamless uploading to Model registry.\n",
            "INFO:pytorch_lightning.utilities.rank_zero:GPU available: False, used: False\n",
            "INFO:pytorch_lightning.utilities.rank_zero:TPU available: False, using: 0 TPU cores\n",
            "INFO:pytorch_lightning.utilities.rank_zero:HPU available: False, using: 0 HPUs\n",
            "Predicting DataLoader 0: 100%|██████████| 1/1 [00:02<00:00,  2.24s/it]\n",
            "Processing links:  37%|███▋      | 23162/62202 [04:28<10:26:21,  1.04it/s]"
          ]
        },
        {
          "name": "stdout",
          "output_type": "stream",
          "text": [
            "{'English Sentence Numbers': 'b.MAT.1.18.1', 'Dutch Sentence Numbers': 'b.MAT.1.18.1', 'Dutch Source': 'Рождество Иисуса Христа было так : по обручении Матери Его Марии с Иосифом , прежде нежели сочетались они , оказалось , что Она имеет во чреве от Духа Святаго .', 'Reference English': 'Now the birth of Jesus Christ was on this wise : When as his mother Mary was espoused to Joseph , before they came together , she was found with child of the Holy Ghost .', 'Translated English': 'The birth of Jesus Christ was as follows: after the marriage of His Mother Mary with Joseph, before they united, it was revealed that She has in the intestine from the Holy Spirit.', 'COMET Score': 0.6587, 'SacreBLEU Score': 19.73, 'CHRF Score': 46.65}\n"
          ]
        },
        {
          "name": "stderr",
          "output_type": "stream",
          "text": [
            "INFO:pytorch_lightning.utilities.rank_zero:You are using the plain ModelCheckpoint callback. Consider using LitModelCheckpoint which with seamless uploading to Model registry.\n",
            "INFO:pytorch_lightning.utilities.rank_zero:GPU available: False, used: False\n",
            "INFO:pytorch_lightning.utilities.rank_zero:TPU available: False, using: 0 TPU cores\n",
            "INFO:pytorch_lightning.utilities.rank_zero:HPU available: False, using: 0 HPUs\n",
            "Predicting DataLoader 0: 100%|██████████| 1/1 [00:01<00:00,  1.68s/it]\n",
            "Processing links:  37%|███▋      | 23163/62202 [04:41<13:35:12,  1.25s/it]"
          ]
        },
        {
          "name": "stdout",
          "output_type": "stream",
          "text": [
            "{'English Sentence Numbers': 'b.MAT.1.19.1', 'Dutch Sentence Numbers': 'b.MAT.1.19.1', 'Dutch Source': 'Иосиф же муж Ее , будучи праведен и не желая огласить Ее , хотел тайно отпустить Ее .', 'Reference English': 'Then Joseph her husband , being a just man , and not willing to make her a publick example , was minded to put her away privily .', 'Translated English': 'Joseph, her husband, being righteous and not willing to reveal her, secretly wanted to release her.', 'COMET Score': 0.6201, 'SacreBLEU Score': 18.8, 'CHRF Score': 40.55}\n"
          ]
        },
        {
          "name": "stderr",
          "output_type": "stream",
          "text": [
            "INFO:pytorch_lightning.utilities.rank_zero:You are using the plain ModelCheckpoint callback. Consider using LitModelCheckpoint which with seamless uploading to Model registry.\n",
            "INFO:pytorch_lightning.utilities.rank_zero:GPU available: False, used: False\n",
            "INFO:pytorch_lightning.utilities.rank_zero:TPU available: False, using: 0 TPU cores\n",
            "INFO:pytorch_lightning.utilities.rank_zero:HPU available: False, using: 0 HPUs\n",
            "Predicting DataLoader 0: 100%|██████████| 1/1 [00:03<00:00,  3.18s/it]\n",
            "Processing links:  37%|███▋      | 23164/62202 [05:06<22:08:55,  2.04s/it]"
          ]
        },
        {
          "name": "stdout",
          "output_type": "stream",
          "text": [
            "{'English Sentence Numbers': 'b.MAT.1.20.1', 'Dutch Sentence Numbers': 'b.MAT.1.20.1', 'Dutch Source': 'Но когда он помыслил это , - се , Ангел Господень явился ему во сне и сказал : Иосиф , сын Давидов ! не бойся принять Марию , жену твою , ибо родившееся в Ней есть от Духа Святаго ;', 'Reference English': 'But while he thought on these things , behold , the angel of the Lord appeared unto him in a dream , saying , Joseph , thou son of David , fear not to take unto thee Mary thy wife : for that which is conceived in her is of the Holy Ghost .', 'Translated English': 'But when he thought this, the angel of the Lord appeared to him in a dream and said, Joseph, the son of David, do not be afraid to accept Mary, your wife, for the one who was born in her is from the Holy Spirit.', 'COMET Score': 0.6891, 'SacreBLEU Score': 27.02, 'CHRF Score': 48.61}\n"
          ]
        },
        {
          "name": "stderr",
          "output_type": "stream",
          "text": [
            "INFO:pytorch_lightning.utilities.rank_zero:You are using the plain ModelCheckpoint callback. Consider using LitModelCheckpoint which with seamless uploading to Model registry.\n",
            "INFO:pytorch_lightning.utilities.rank_zero:GPU available: False, used: False\n",
            "INFO:pytorch_lightning.utilities.rank_zero:TPU available: False, using: 0 TPU cores\n",
            "INFO:pytorch_lightning.utilities.rank_zero:HPU available: False, using: 0 HPUs\n",
            "Predicting DataLoader 0: 100%|██████████| 1/1 [00:01<00:00,  1.81s/it]\n",
            "Processing links:  37%|███▋      | 23165/62202 [05:19<27:40:23,  2.55s/it]"
          ]
        },
        {
          "name": "stdout",
          "output_type": "stream",
          "text": [
            "{'English Sentence Numbers': 'b.MAT.1.21.1, b.MAT.1.21.2', 'Dutch Sentence Numbers': 'b.MAT.1.21.1', 'Dutch Source': 'родит же Сына , и наречешь Ему имя Иисус , ибо Он спасет людей Своих от грехов их .', 'Reference English': 'And she shall bring forth a son , and thou shalt call his name JESUS : for he shall save his people from their sins .', 'Translated English': 'He will give birth to a Son, and you will call him the name Jesus, for He will save His people from their sins.', 'COMET Score': 0.7985, 'SacreBLEU Score': 17.1, 'CHRF Score': 43.08}\n"
          ]
        },
        {
          "name": "stderr",
          "output_type": "stream",
          "text": [
            "INFO:pytorch_lightning.utilities.rank_zero:You are using the plain ModelCheckpoint callback. Consider using LitModelCheckpoint which with seamless uploading to Model registry.\n",
            "INFO:pytorch_lightning.utilities.rank_zero:GPU available: False, used: False\n",
            "INFO:pytorch_lightning.utilities.rank_zero:TPU available: False, using: 0 TPU cores\n",
            "INFO:pytorch_lightning.utilities.rank_zero:HPU available: False, using: 0 HPUs\n",
            "Predicting DataLoader 0: 100%|██████████| 1/1 [00:02<00:00,  2.09s/it]\n",
            "Processing links:  37%|███▋      | 23166/62202 [05:29<32:43:51,  3.02s/it]"
          ]
        },
        {
          "name": "stdout",
          "output_type": "stream",
          "text": [
            "{'English Sentence Numbers': 'b.MAT.1.22.1', 'Dutch Sentence Numbers': 'b.MAT.1.22.1', 'Dutch Source': 'А все сие произошло , да сбудется реченное Господом через пророка , который говорит :', 'Reference English': 'Now all this was done , that it might be fulfilled which was spoken of the Lord by the prophet , saying ,', 'Translated English': 'And all this happened to be done what the Lord said through the prophet, who says:', 'COMET Score': 0.7261, 'SacreBLEU Score': 9.48, 'CHRF Score': 34.06}\n"
          ]
        },
        {
          "name": "stderr",
          "output_type": "stream",
          "text": [
            "INFO:pytorch_lightning.utilities.rank_zero:You are using the plain ModelCheckpoint callback. Consider using LitModelCheckpoint which with seamless uploading to Model registry.\n",
            "INFO:pytorch_lightning.utilities.rank_zero:GPU available: False, used: False\n",
            "INFO:pytorch_lightning.utilities.rank_zero:TPU available: False, using: 0 TPU cores\n",
            "INFO:pytorch_lightning.utilities.rank_zero:HPU available: False, using: 0 HPUs\n",
            "Predicting DataLoader 0: 100%|██████████| 1/1 [00:01<00:00,  1.96s/it]\n",
            "Processing links:  37%|███▋      | 23167/62202 [05:44<43:03:25,  3.97s/it]"
          ]
        },
        {
          "name": "stdout",
          "output_type": "stream",
          "text": [
            "{'English Sentence Numbers': 'b.MAT.1.23.1, b.MAT.1.23.2', 'Dutch Sentence Numbers': 'b.MAT.1.23.1', 'Dutch Source': 'се , Дева во чреве приимет и родит Сына , и нарекут имя Ему Еммануил , что значит : с нами Бог .', 'Reference English': 'Behold , a virgin shall be with child , and shall bring forth a son , and they shall call his name Emmanuel , which being interpreted is , God with us .', 'Translated English': 'The Virgin in the intestine will receive and give birth to a Son, and the name of Him shall be Emmanuel, which means God with us.', 'COMET Score': 0.669, 'SacreBLEU Score': 13.13, 'CHRF Score': 39.96}\n"
          ]
        },
        {
          "name": "stderr",
          "output_type": "stream",
          "text": [
            "INFO:pytorch_lightning.utilities.rank_zero:You are using the plain ModelCheckpoint callback. Consider using LitModelCheckpoint which with seamless uploading to Model registry.\n",
            "INFO:pytorch_lightning.utilities.rank_zero:GPU available: False, used: False\n",
            "INFO:pytorch_lightning.utilities.rank_zero:TPU available: False, using: 0 TPU cores\n",
            "INFO:pytorch_lightning.utilities.rank_zero:HPU available: False, using: 0 HPUs\n",
            "Predicting DataLoader 0: 100%|██████████| 1/1 [00:01<00:00,  1.76s/it]\n",
            "Processing links:  37%|███▋      | 23168/62202 [05:57<52:53:59,  4.88s/it]"
          ]
        },
        {
          "name": "stdout",
          "output_type": "stream",
          "text": [
            "{'English Sentence Numbers': 'b.MAT.1.24.1', 'Dutch Sentence Numbers': 'b.MAT.1.24.1', 'Dutch Source': 'Встав от сна , Иосиф поступил , как повелел ему Ангел Господень , и принял жену свою ,', 'Reference English': 'Then Joseph being raised from sleep did as the angel of the Lord had bidden him , and took unto him his wife :', 'Translated English': '“Joseph stood up from his sleep and did as the angel of the Lord commanded him, and took his wife.', 'COMET Score': 0.7394, 'SacreBLEU Score': 37.97, 'CHRF Score': 53.33}\n"
          ]
        },
        {
          "name": "stderr",
          "output_type": "stream",
          "text": [
            "INFO:pytorch_lightning.utilities.rank_zero:You are using the plain ModelCheckpoint callback. Consider using LitModelCheckpoint which with seamless uploading to Model registry.\n",
            "INFO:pytorch_lightning.utilities.rank_zero:GPU available: False, used: False\n",
            "INFO:pytorch_lightning.utilities.rank_zero:TPU available: False, using: 0 TPU cores\n",
            "INFO:pytorch_lightning.utilities.rank_zero:HPU available: False, using: 0 HPUs\n",
            "Predicting DataLoader 0: 100%|██████████| 1/1 [00:01<00:00,  1.53s/it]\n",
            "Processing links:  37%|███▋      | 23169/62202 [06:05<58:08:51,  5.36s/it]"
          ]
        },
        {
          "name": "stdout",
          "output_type": "stream",
          "text": [
            "{'English Sentence Numbers': 'b.MAT.1.25.1, b.MAT.1.25.2', 'Dutch Sentence Numbers': 'b.MAT.1.25.1, b.MAT.1.25.2', 'Dutch Source': 'и не знал Ее . Как наконец Она родила Сына Своего первенца , и он нарек Ему имя : Иисус .', 'Reference English': 'And knew her not till she had brought forth her firstborn son : and he called his name JESUS .', 'Translated English': 'When she finally gave birth to her first son, he called him Jesus.', 'COMET Score': 0.7456, 'SacreBLEU Score': 4.96, 'CHRF Score': 29.34}\n"
          ]
        },
        {
          "name": "stderr",
          "output_type": "stream",
          "text": [
            "INFO:pytorch_lightning.utilities.rank_zero:You are using the plain ModelCheckpoint callback. Consider using LitModelCheckpoint which with seamless uploading to Model registry.\n",
            "INFO:pytorch_lightning.utilities.rank_zero:GPU available: False, used: False\n",
            "INFO:pytorch_lightning.utilities.rank_zero:TPU available: False, using: 0 TPU cores\n",
            "INFO:pytorch_lightning.utilities.rank_zero:HPU available: False, using: 0 HPUs\n",
            "Predicting DataLoader 0: 100%|██████████| 1/1 [00:02<00:00,  2.86s/it]\n",
            "Processing links:  37%|███▋      | 23170/62202 [06:21<75:10:12,  6.93s/it]"
          ]
        },
        {
          "name": "stdout",
          "output_type": "stream",
          "text": [
            "{'English Sentence Numbers': 'b.MAT.2.1.1', 'Dutch Sentence Numbers': 'b.MAT.2.1.1', 'Dutch Source': 'Когда же Иисус родился в Вифлееме Иудейском во дницаря Ирода , пришли в Иерусалим волхвы с востока и говорят :', 'Reference English': 'Now when Jesus was born in Bethlehem of Judaea in the days of Herod the king , behold , there came wise men from the east to Jerusalem ,', 'Translated English': 'And when Jesus was born in Bethlehem, in the Jewish city of Herod, the witches came to Jerusalem from the east and said,', 'COMET Score': 0.683, 'SacreBLEU Score': 26.94, 'CHRF Score': 55.61}\n"
          ]
        },
        {
          "name": "stderr",
          "output_type": "stream",
          "text": [
            "INFO:pytorch_lightning.utilities.rank_zero:You are using the plain ModelCheckpoint callback. Consider using LitModelCheckpoint which with seamless uploading to Model registry.\n",
            "INFO:pytorch_lightning.utilities.rank_zero:GPU available: False, used: False\n",
            "INFO:pytorch_lightning.utilities.rank_zero:TPU available: False, using: 0 TPU cores\n",
            "INFO:pytorch_lightning.utilities.rank_zero:HPU available: False, using: 0 HPUs\n",
            "Predicting DataLoader 0: 100%|██████████| 1/1 [00:01<00:00,  1.90s/it]\n",
            "Processing links:  37%|███▋      | 23171/62202 [06:35<90:33:40,  8.35s/it]"
          ]
        },
        {
          "name": "stdout",
          "output_type": "stream",
          "text": [
            "{'English Sentence Numbers': 'b.MAT.2.2.1, b.MAT.2.2.2', 'Dutch Sentence Numbers': 'b.MAT.2.2.1', 'Dutch Source': 'где родившийся Царь Иудейский ? ибо мы видели звезду Его на востоке и пришли поклониться Ему .', 'Reference English': 'Saying , Where is he that is born King of the Jews ? for we have seen his star in the east , and are come to worship him .', 'Translated English': 'Where was the king of Judah born? for we saw his star in the east and came to worship him.', 'COMET Score': 0.7181, 'SacreBLEU Score': 24.6, 'CHRF Score': 46.52}\n"
          ]
        },
        {
          "name": "stderr",
          "output_type": "stream",
          "text": [
            "INFO:pytorch_lightning.utilities.rank_zero:You are using the plain ModelCheckpoint callback. Consider using LitModelCheckpoint which with seamless uploading to Model registry.\n",
            "INFO:pytorch_lightning.utilities.rank_zero:GPU available: False, used: False\n",
            "INFO:pytorch_lightning.utilities.rank_zero:TPU available: False, using: 0 TPU cores\n",
            "INFO:pytorch_lightning.utilities.rank_zero:HPU available: False, using: 0 HPUs\n",
            "Predicting DataLoader 0: 100%|██████████| 1/1 [00:01<00:00,  1.91s/it]\n",
            "Processing links:  37%|███▋      | 23172/62202 [06:45<94:11:31,  8.69s/it]"
          ]
        },
        {
          "name": "stdout",
          "output_type": "stream",
          "text": [
            "{'English Sentence Numbers': 'b.MAT.2.3.1', 'Dutch Sentence Numbers': 'b.MAT.2.3.1', 'Dutch Source': 'Услышав это , Ирод царь встревожился , и весь Иерусалимс ним .', 'Reference English': 'When Herod the king had heard these things , he was troubled , and all Jerusalem with him .', 'Translated English': 'When the king Herod heard this, he worried, and all Jerusalem with him.', 'COMET Score': 0.8028, 'SacreBLEU Score': 39.45, 'CHRF Score': 59.96}\n"
          ]
        },
        {
          "name": "stderr",
          "output_type": "stream",
          "text": [
            "INFO:pytorch_lightning.utilities.rank_zero:You are using the plain ModelCheckpoint callback. Consider using LitModelCheckpoint which with seamless uploading to Model registry.\n",
            "INFO:pytorch_lightning.utilities.rank_zero:GPU available: False, used: False\n",
            "INFO:pytorch_lightning.utilities.rank_zero:TPU available: False, using: 0 TPU cores\n",
            "INFO:pytorch_lightning.utilities.rank_zero:HPU available: False, using: 0 HPUs\n",
            "Predicting DataLoader 0: 100%|██████████| 1/1 [00:02<00:00,  2.73s/it]\n",
            "Processing links:  37%|███▋      | 23173/62202 [07:00<108:06:12,  9.97s/it]"
          ]
        },
        {
          "name": "stdout",
          "output_type": "stream",
          "text": [
            "{'English Sentence Numbers': 'b.MAT.2.4.1', 'Dutch Sentence Numbers': 'b.MAT.2.4.1', 'Dutch Source': 'И , собрав всех первосвященников и книжников народных , спрашивал у них : где должно родиться Христу ?', 'Reference English': 'And when he had gathered all the chief priests and scribes of the people together , he demanded of them where Christ should be born .', 'Translated English': 'And when he gathered all the chief priests and the writers of the people, he asked them, Where shall Christ be born?', 'COMET Score': 0.7541, 'SacreBLEU Score': 31.63, 'CHRF Score': 56.25}\n"
          ]
        },
        {
          "name": "stderr",
          "output_type": "stream",
          "text": [
            "INFO:pytorch_lightning.utilities.rank_zero:You are using the plain ModelCheckpoint callback. Consider using LitModelCheckpoint which with seamless uploading to Model registry.\n",
            "INFO:pytorch_lightning.utilities.rank_zero:GPU available: False, used: False\n",
            "INFO:pytorch_lightning.utilities.rank_zero:TPU available: False, using: 0 TPU cores\n",
            "INFO:pytorch_lightning.utilities.rank_zero:HPU available: False, using: 0 HPUs\n",
            "Predicting DataLoader 0: 100%|██████████| 1/1 [00:01<00:00,  1.58s/it]\n",
            "Processing links:  37%|███▋      | 23174/62202 [07:10<109:34:29, 10.11s/it]"
          ]
        },
        {
          "name": "stdout",
          "output_type": "stream",
          "text": [
            "{'English Sentence Numbers': 'b.MAT.2.5.1', 'Dutch Sentence Numbers': 'b.MAT.2.5.1', 'Dutch Source': 'Они же сказали ему : в Вифлееме Иудейском , ибо так написано через пророка :', 'Reference English': 'And they said unto him , In Bethlehem of Judaea : for thus it is written by the prophet ,', 'Translated English': 'They said to him, in Bethlehem of Judah, for this is written through the prophet:', 'COMET Score': 0.7734, 'SacreBLEU Score': 8.51, 'CHRF Score': 58.86}\n"
          ]
        },
        {
          "name": "stderr",
          "output_type": "stream",
          "text": [
            "INFO:pytorch_lightning.utilities.rank_zero:You are using the plain ModelCheckpoint callback. Consider using LitModelCheckpoint which with seamless uploading to Model registry.\n",
            "INFO:pytorch_lightning.utilities.rank_zero:GPU available: False, used: False\n",
            "INFO:pytorch_lightning.utilities.rank_zero:TPU available: False, using: 0 TPU cores\n",
            "INFO:pytorch_lightning.utilities.rank_zero:HPU available: False, using: 0 HPUs\n",
            "Predicting DataLoader 0: 100%|██████████| 1/1 [00:02<00:00,  2.37s/it]\n",
            "Processing links:  37%|███▋      | 23175/62202 [07:29<132:53:53, 12.26s/it]"
          ]
        },
        {
          "name": "stdout",
          "output_type": "stream",
          "text": [
            "{'English Sentence Numbers': 'b.MAT.2.6.1', 'Dutch Sentence Numbers': 'b.MAT.2.6.1', 'Dutch Source': 'и ты , Вифлеем , земля Иудина , ничем не меньше воеводств Иудиных , ибо из тебя произойдет Вождь , Который упасет народ Мой , Израиля .', 'Reference English': 'And thou Bethlehem , in the land of Juda , art not the least among the princes of Juda : for out of thee shall come a Governor , that shall rule my people Israel .', 'Translated English': 'And you, Bethlehem, the land of Judah, not less than the armies of the Jews, for from you will be a leader who will destroy my people, Israel.', 'COMET Score': 0.5574, 'SacreBLEU Score': 7.52, 'CHRF Score': 38.21}\n"
          ]
        },
        {
          "name": "stderr",
          "output_type": "stream",
          "text": [
            "INFO:pytorch_lightning.utilities.rank_zero:You are using the plain ModelCheckpoint callback. Consider using LitModelCheckpoint which with seamless uploading to Model registry.\n",
            "INFO:pytorch_lightning.utilities.rank_zero:GPU available: False, used: False\n",
            "INFO:pytorch_lightning.utilities.rank_zero:TPU available: False, using: 0 TPU cores\n",
            "INFO:pytorch_lightning.utilities.rank_zero:HPU available: False, using: 0 HPUs\n",
            "Predicting DataLoader 0: 100%|██████████| 1/1 [00:01<00:00,  1.85s/it]\n",
            "Processing links:  37%|███▋      | 23176/62202 [07:41<132:09:46, 12.19s/it]"
          ]
        },
        {
          "name": "stdout",
          "output_type": "stream",
          "text": [
            "{'English Sentence Numbers': 'b.MAT.2.7.1', 'Dutch Sentence Numbers': 'b.MAT.2.7.1', 'Dutch Source': 'Тогда Ирод , тайно призвав волхвов , выведал от них время появления звезды', 'Reference English': 'Then Herod , when he had privily called the wise men , inquired of them diligently what time the star appeared .', 'Translated English': 'Then Herod, secretly calling the witches, revealed from them the time of the star appearance.', 'COMET Score': 0.6298, 'SacreBLEU Score': 9.8, 'CHRF Score': 40.82}\n"
          ]
        },
        {
          "name": "stderr",
          "output_type": "stream",
          "text": [
            "INFO:pytorch_lightning.utilities.rank_zero:You are using the plain ModelCheckpoint callback. Consider using LitModelCheckpoint which with seamless uploading to Model registry.\n",
            "INFO:pytorch_lightning.utilities.rank_zero:GPU available: False, used: False\n",
            "INFO:pytorch_lightning.utilities.rank_zero:TPU available: False, using: 0 TPU cores\n",
            "INFO:pytorch_lightning.utilities.rank_zero:HPU available: False, using: 0 HPUs\n",
            "Predicting DataLoader 0: 100%|██████████| 1/1 [00:02<00:00,  2.20s/it]\n",
            "Processing links:  37%|███▋      | 23177/62202 [07:59<149:11:55, 13.76s/it]"
          ]
        },
        {
          "name": "stdout",
          "output_type": "stream",
          "text": [
            "{'English Sentence Numbers': 'b.MAT.2.8.1, b.MAT.2.8.2', 'Dutch Sentence Numbers': 'b.MAT.2.8.1', 'Dutch Source': 'и , послав их в Вифлеем , сказал : пойдите , тщательно разведайте о Младенце и , когда найдете , известите меня , чтобы и мне пойти поклониться Ему .', 'Reference English': 'And he sent them to Bethlehem , and said , Go and search diligently for the young child ; and when ye have found him , bring me word again , that I may come and worship him also .', 'Translated English': 'And he sent them to Bethlehem, and said, Go, know carefully about the child, and when you find it, tell me, that I may also go to worship him.', 'COMET Score': 0.7885, 'SacreBLEU Score': 36.02, 'CHRF Score': 48.31}\n"
          ]
        },
        {
          "name": "stderr",
          "output_type": "stream",
          "text": [
            "INFO:pytorch_lightning.utilities.rank_zero:You are using the plain ModelCheckpoint callback. Consider using LitModelCheckpoint which with seamless uploading to Model registry.\n",
            "INFO:pytorch_lightning.utilities.rank_zero:GPU available: False, used: False\n",
            "INFO:pytorch_lightning.utilities.rank_zero:TPU available: False, using: 0 TPU cores\n",
            "INFO:pytorch_lightning.utilities.rank_zero:HPU available: False, using: 0 HPUs\n",
            "Predicting DataLoader 0: 100%|██████████| 1/1 [00:02<00:00,  2.36s/it]\n",
            "Processing links:  37%|███▋      | 23178/62202 [08:14<153:52:56, 14.20s/it]"
          ]
        },
        {
          "name": "stdout",
          "output_type": "stream",
          "text": [
            "{'English Sentence Numbers': 'b.MAT.2.9.1', 'Dutch Sentence Numbers': 'b.MAT.2.9.1, b.MAT.2.9.2', 'Dutch Source': 'Они , выслушав царя , пошли . И се , звезда , которую видели они на востоке , шла перед ними , как наконец пришла и остановилась над местом , где былМладенец .', 'Reference English': 'When they had heard the king , they departed ; and , lo , the star , which they saw in the east , went before them , till it came and stood over where the young child was .', 'Translated English': 'And the star, which they saw in the east, walked before them, and finally came and stopped over the place where the young man was.', 'COMET Score': 0.6915, 'SacreBLEU Score': 31.05, 'CHRF Score': 52.44}\n"
          ]
        },
        {
          "name": "stderr",
          "output_type": "stream",
          "text": [
            "INFO:pytorch_lightning.utilities.rank_zero:You are using the plain ModelCheckpoint callback. Consider using LitModelCheckpoint which with seamless uploading to Model registry.\n",
            "INFO:pytorch_lightning.utilities.rank_zero:GPU available: False, used: False\n",
            "INFO:pytorch_lightning.utilities.rank_zero:TPU available: False, using: 0 TPU cores\n",
            "INFO:pytorch_lightning.utilities.rank_zero:HPU available: False, using: 0 HPUs\n",
            "Predicting DataLoader 0: 100%|██████████| 1/1 [00:01<00:00,  1.33s/it]\n",
            "Processing links:  37%|███▋      | 23179/62202 [08:23<136:52:15, 12.63s/it]"
          ]
        },
        {
          "name": "stdout",
          "output_type": "stream",
          "text": [
            "{'English Sentence Numbers': 'b.MAT.2.10.1', 'Dutch Sentence Numbers': 'b.MAT.2.10.1', 'Dutch Source': 'Увидев же звезду , они возрадовались радостью весьма великою ,', 'Reference English': 'When they saw the star , they rejoiced with exceeding great joy .', 'Translated English': 'And when they saw the star, they rejoiced with great joy.', 'COMET Score': 0.8952, 'SacreBLEU Score': 67.03, 'CHRF Score': 77.58}\n"
          ]
        },
        {
          "name": "stderr",
          "output_type": "stream",
          "text": [
            "INFO:pytorch_lightning.utilities.rank_zero:You are using the plain ModelCheckpoint callback. Consider using LitModelCheckpoint which with seamless uploading to Model registry.\n",
            "INFO:pytorch_lightning.utilities.rank_zero:GPU available: False, used: False\n",
            "INFO:pytorch_lightning.utilities.rank_zero:TPU available: False, using: 0 TPU cores\n",
            "INFO:pytorch_lightning.utilities.rank_zero:HPU available: False, using: 0 HPUs\n",
            "Predicting DataLoader 0: 100%|██████████| 1/1 [00:04<00:00,  4.13s/it]\n",
            "Processing links:  37%|███▋      | 23180/62202 [08:46<169:48:50, 15.67s/it]"
          ]
        },
        {
          "name": "stdout",
          "output_type": "stream",
          "text": [
            "{'English Sentence Numbers': 'b.MAT.2.11.1, b.MAT.2.11.2', 'Dutch Sentence Numbers': 'b.MAT.2.11.1', 'Dutch Source': 'и , войдя в дом , увидели Младенцас Мариею , Матерью Его , и , пав , поклонились Ему ; и , открыв сокровища свои , принесли Ему дары : золото , ладан и смирну .', 'Reference English': 'And when they were come into the house , they saw the young child with Mary his mother , and fell down , and worshipped him : and when they had opened their treasures , they presented unto him gifts ; gold , and frankincense , and myrrh .', 'Translated English': 'And when they entered the house, they saw the little ones Mary, his mother, and they worshipped Him, and when they opened their treasures, they brought to Him gifts: gold, gold, and silk.', 'COMET Score': 0.6609, 'SacreBLEU Score': 30.0, 'CHRF Score': 54.06}\n"
          ]
        },
        {
          "name": "stderr",
          "output_type": "stream",
          "text": [
            "INFO:pytorch_lightning.utilities.rank_zero:You are using the plain ModelCheckpoint callback. Consider using LitModelCheckpoint which with seamless uploading to Model registry.\n",
            "INFO:pytorch_lightning.utilities.rank_zero:GPU available: False, used: False\n",
            "INFO:pytorch_lightning.utilities.rank_zero:TPU available: False, using: 0 TPU cores\n",
            "INFO:pytorch_lightning.utilities.rank_zero:HPU available: False, using: 0 HPUs\n",
            "Predicting DataLoader 0: 100%|██████████| 1/1 [00:02<00:00,  2.17s/it]\n",
            "Processing links:  37%|███▋      | 23181/62202 [08:57<156:11:16, 14.41s/it]"
          ]
        },
        {
          "name": "stdout",
          "output_type": "stream",
          "text": [
            "{'English Sentence Numbers': 'b.MAT.2.12.1', 'Dutch Sentence Numbers': 'b.MAT.2.12.1', 'Dutch Source': 'И , получив во сне откровение не возвращаться к Ироду , иным путем отошли в страну свою .', 'Reference English': 'And being warned of God in a dream that they should not return to Herod , they departed into their own country another way .', 'Translated English': 'And having received in a dream the revelation not to return to Herod, otherwise they left their land.', 'COMET Score': 0.7291, 'SacreBLEU Score': 15.45, 'CHRF Score': 38.89}\n"
          ]
        },
        {
          "name": "stderr",
          "output_type": "stream",
          "text": [
            "INFO:pytorch_lightning.utilities.rank_zero:You are using the plain ModelCheckpoint callback. Consider using LitModelCheckpoint which with seamless uploading to Model registry.\n",
            "INFO:pytorch_lightning.utilities.rank_zero:GPU available: False, used: False\n",
            "INFO:pytorch_lightning.utilities.rank_zero:TPU available: False, using: 0 TPU cores\n",
            "INFO:pytorch_lightning.utilities.rank_zero:HPU available: False, using: 0 HPUs\n",
            "Predicting DataLoader 0: 100%|██████████| 1/1 [00:04<00:00,  4.24s/it]\n",
            "Processing links:  37%|███▋      | 23182/62202 [09:23<194:16:01, 17.92s/it]"
          ]
        },
        {
          "name": "stdout",
          "output_type": "stream",
          "text": [
            "{'English Sentence Numbers': 'b.MAT.2.13.1', 'Dutch Sentence Numbers': 'b.MAT.2.13.1', 'Dutch Source': 'Когда же они отошли , - се , Ангел Господень является во сне Иосифу и говорит : встань , возьми Младенца и Матерь Его и беги в Египет , и будь там , доколе не скажу тебе , ибо Ирод хочет искать Младенца , чтобы погубить Его .', 'Reference English': 'And when they were departed , behold , the angel of the Lord appeareth to Joseph in a dream , saying , Arise , and take the young child and his mother , and flee into Egypt , and be thou there until I bring thee word : for Herod will seek the young child to destroy him .', 'Translated English': 'And when they went away, the angel of the Lord is in the dream of Joseph and says, \"Rise up, take the child and his mother, and flee to Egypt, and be there until I tell you, for Herod wants to seek the child to destroy him.\"', 'COMET Score': 0.7258, 'SacreBLEU Score': 35.22, 'CHRF Score': 57.04}\n"
          ]
        },
        {
          "name": "stderr",
          "output_type": "stream",
          "text": [
            "INFO:pytorch_lightning.utilities.rank_zero:You are using the plain ModelCheckpoint callback. Consider using LitModelCheckpoint which with seamless uploading to Model registry.\n",
            "INFO:pytorch_lightning.utilities.rank_zero:GPU available: False, used: False\n",
            "INFO:pytorch_lightning.utilities.rank_zero:TPU available: False, using: 0 TPU cores\n",
            "INFO:pytorch_lightning.utilities.rank_zero:HPU available: False, using: 0 HPUs\n",
            "Predicting DataLoader 0: 100%|██████████| 1/1 [00:01<00:00,  1.47s/it]\n",
            "Processing links:  37%|███▋      | 23183/62202 [09:33<167:15:50, 15.43s/it]"
          ]
        },
        {
          "name": "stdout",
          "output_type": "stream",
          "text": [
            "{'English Sentence Numbers': 'b.MAT.2.14.1', 'Dutch Sentence Numbers': 'b.MAT.2.14.1', 'Dutch Source': 'Он встал , взял Младенца и Матерь Его ночью и пошел в Египет ,', 'Reference English': 'When he arose , he took the young child and his mother by night , and departed into Egypt :', 'Translated English': 'He stood up, took the baby and his mother at night, and went to Egypt.', 'COMET Score': 0.7417, 'SacreBLEU Score': 14.45, 'CHRF Score': 41.84}\n"
          ]
        },
        {
          "name": "stderr",
          "output_type": "stream",
          "text": [
            "INFO:pytorch_lightning.utilities.rank_zero:You are using the plain ModelCheckpoint callback. Consider using LitModelCheckpoint which with seamless uploading to Model registry.\n",
            "INFO:pytorch_lightning.utilities.rank_zero:GPU available: False, used: False\n",
            "INFO:pytorch_lightning.utilities.rank_zero:TPU available: False, using: 0 TPU cores\n",
            "INFO:pytorch_lightning.utilities.rank_zero:HPU available: False, using: 0 HPUs\n",
            "Predicting DataLoader 0: 100%|██████████| 1/1 [00:02<00:00,  2.66s/it]\n",
            "Processing links:  37%|███▋      | 23184/62202 [09:49<171:11:20, 15.79s/it]"
          ]
        },
        {
          "name": "stdout",
          "output_type": "stream",
          "text": [
            "{'English Sentence Numbers': 'b.MAT.2.15.1', 'Dutch Sentence Numbers': 'b.MAT.2.15.1', 'Dutch Source': 'и там был до смерти Ирода , да сбудется реченное Господом через пророка , который говорит : из Египта воззвал Я Сына Моего .', 'Reference English': 'And was there until the death of Herod : that it might be fulfilled which was spoken of the Lord by the prophet , saying , Out of Egypt have I called my son .', 'Translated English': 'And there was before the death of Herod, that the word of the Lord may be done through the prophet, who says, I have called out my Son from Egypt.', 'COMET Score': 0.6825, 'SacreBLEU Score': 14.89, 'CHRF Score': 41.61}\n"
          ]
        },
        {
          "name": "stderr",
          "output_type": "stream",
          "text": [
            "INFO:pytorch_lightning.utilities.rank_zero:You are using the plain ModelCheckpoint callback. Consider using LitModelCheckpoint which with seamless uploading to Model registry.\n",
            "INFO:pytorch_lightning.utilities.rank_zero:GPU available: False, used: False\n",
            "INFO:pytorch_lightning.utilities.rank_zero:TPU available: False, using: 0 TPU cores\n",
            "INFO:pytorch_lightning.utilities.rank_zero:HPU available: False, using: 0 HPUs\n",
            "Predicting DataLoader 0: 100%|██████████| 1/1 [00:03<00:00,  3.63s/it]\n",
            "Processing links:  37%|███▋      | 23185/62202 [10:14<198:14:44, 18.29s/it]"
          ]
        },
        {
          "name": "stdout",
          "output_type": "stream",
          "text": [
            "{'English Sentence Numbers': 'b.MAT.2.16.1', 'Dutch Sentence Numbers': 'b.MAT.2.16.1', 'Dutch Source': 'Тогда Ирод , увидев себя осмеянным волхвами , весьма разгневался , и послал избить всех младенцев в Вифлееме и во всех пределах его , от двух лет и ниже , по времени , которое выведал от волхвов .', 'Reference English': 'Then Herod , when he saw that he was mocked of the wise men , was exceeding wroth , and sent forth , and slew all the children that were in Bethlehem , and in all the coasts thereof , from two years old and under , according to the time which he had diligently inquired of the wise men .', 'Translated English': 'And when Herod saw himself as a laughing wolf, he was very angry, and sent out all the babies in Bethlehem and in all its limits, from two years and below, at the time he had brought out of the wolf.', 'COMET Score': 0.5124, 'SacreBLEU Score': 10.11, 'CHRF Score': 32.97}\n"
          ]
        },
        {
          "name": "stderr",
          "output_type": "stream",
          "text": [
            "INFO:pytorch_lightning.utilities.rank_zero:You are using the plain ModelCheckpoint callback. Consider using LitModelCheckpoint which with seamless uploading to Model registry.\n",
            "INFO:pytorch_lightning.utilities.rank_zero:GPU available: False, used: False\n",
            "INFO:pytorch_lightning.utilities.rank_zero:TPU available: False, using: 0 TPU cores\n",
            "INFO:pytorch_lightning.utilities.rank_zero:HPU available: False, using: 0 HPUs\n",
            "Predicting DataLoader 0: 100%|██████████| 1/1 [00:01<00:00,  1.33s/it]\n",
            "Processing links:  37%|███▋      | 23186/62202 [10:22<167:35:47, 15.46s/it]"
          ]
        },
        {
          "name": "stdout",
          "output_type": "stream",
          "text": [
            "{'English Sentence Numbers': 'b.MAT.2.17.1', 'Dutch Sentence Numbers': 'b.MAT.2.17.1', 'Dutch Source': 'Тогда сбылось реченное через пророка Иеремию , который говорит :', 'Reference English': 'Then was fulfilled that which was spoken by Jeremy the prophet , saying ,', 'Translated English': 'Then it came to pass through the prophet Jeremiah, who said:', 'COMET Score': 0.7238, 'SacreBLEU Score': 6.8, 'CHRF Score': 29.43}\n"
          ]
        },
        {
          "name": "stderr",
          "output_type": "stream",
          "text": [
            "INFO:pytorch_lightning.utilities.rank_zero:You are using the plain ModelCheckpoint callback. Consider using LitModelCheckpoint which with seamless uploading to Model registry.\n",
            "INFO:pytorch_lightning.utilities.rank_zero:GPU available: False, used: False\n",
            "INFO:pytorch_lightning.utilities.rank_zero:TPU available: False, using: 0 TPU cores\n",
            "INFO:pytorch_lightning.utilities.rank_zero:HPU available: False, using: 0 HPUs\n",
            "Predicting DataLoader 0: 100%|██████████| 1/1 [00:02<00:00,  2.16s/it]\n",
            "Processing links:  37%|███▋      | 23187/62202 [10:40<173:45:33, 16.03s/it]"
          ]
        },
        {
          "name": "stdout",
          "output_type": "stream",
          "text": [
            "{'English Sentence Numbers': 'b.MAT.2.18.1', 'Dutch Sentence Numbers': 'b.MAT.2.18.1', 'Dutch Source': 'глас в Раме слышен , плач и рыдание и вопль великий ; Рахиль плачет о детях своих и не хочет утешиться , ибо их нет .', 'Reference English': 'In Rama was there a voice heard , lamentation , and weeping , and great mourning , Rachel weeping for her children , and would not be comforted , because they are not .', 'Translated English': 'The voice in Rama is heard, the cry and the cry and the wrath are great; Rachel is crying for his children and does not want to comfort, for they are not.', 'COMET Score': 0.5785, 'SacreBLEU Score': 9.9, 'CHRF Score': 36.87}\n"
          ]
        },
        {
          "name": "stderr",
          "output_type": "stream",
          "text": [
            "INFO:pytorch_lightning.utilities.rank_zero:You are using the plain ModelCheckpoint callback. Consider using LitModelCheckpoint which with seamless uploading to Model registry.\n",
            "INFO:pytorch_lightning.utilities.rank_zero:GPU available: False, used: False\n",
            "INFO:pytorch_lightning.utilities.rank_zero:TPU available: False, using: 0 TPU cores\n",
            "INFO:pytorch_lightning.utilities.rank_zero:HPU available: False, using: 0 HPUs\n",
            "Predicting DataLoader 0: 100%|██████████| 1/1 [00:01<00:00,  1.61s/it]\n",
            "Processing links:  37%|███▋      | 23188/62202 [10:50<156:14:49, 14.42s/it]"
          ]
        },
        {
          "name": "stdout",
          "output_type": "stream",
          "text": [
            "{'English Sentence Numbers': 'b.MAT.2.19.1', 'Dutch Sentence Numbers': 'b.MAT.2.19.1', 'Dutch Source': 'По смерти же Ирода , - се , Ангел Господень во сне является Иосифу в Египте', 'Reference English': 'But when Herod was dead , behold , an angel of the Lord appeareth in a dream to Joseph in Egypt ,', 'Translated English': 'After Herod’s death, the angel of the Lord in a dream is Joseph in Egypt.', 'COMET Score': 0.5269, 'SacreBLEU Score': 20.19, 'CHRF Score': 47.68}\n"
          ]
        },
        {
          "name": "stderr",
          "output_type": "stream",
          "text": [
            "INFO:pytorch_lightning.utilities.rank_zero:You are using the plain ModelCheckpoint callback. Consider using LitModelCheckpoint which with seamless uploading to Model registry.\n",
            "INFO:pytorch_lightning.utilities.rank_zero:GPU available: False, used: False\n",
            "INFO:pytorch_lightning.utilities.rank_zero:TPU available: False, using: 0 TPU cores\n",
            "INFO:pytorch_lightning.utilities.rank_zero:HPU available: False, using: 0 HPUs\n",
            "Predicting DataLoader 0: 100%|██████████| 1/1 [00:01<00:00,  1.98s/it]\n",
            "Processing links:  37%|███▋      | 23189/62202 [11:05<157:13:11, 14.51s/it]"
          ]
        },
        {
          "name": "stdout",
          "output_type": "stream",
          "text": [
            "{'English Sentence Numbers': 'b.MAT.2.20.1', 'Dutch Sentence Numbers': 'b.MAT.2.20.1', 'Dutch Source': 'и говорит : встань , возьми Младенца и Матерь Его и иди в землю Израилеву , ибо умерли искавшие души Младенца .', 'Reference English': \"Saying , Arise , and take the young child and his mother , and go into the land of Israel : for they are dead which sought the young child 's life .\", 'Translated English': 'He says, “Rise, take the child and his mother, and go to the land of Israel, for the souls of the child have died.”', 'COMET Score': 0.6849, 'SacreBLEU Score': 28.69, 'CHRF Score': 47.77}\n"
          ]
        },
        {
          "name": "stderr",
          "output_type": "stream",
          "text": [
            "INFO:pytorch_lightning.utilities.rank_zero:You are using the plain ModelCheckpoint callback. Consider using LitModelCheckpoint which with seamless uploading to Model registry.\n",
            "INFO:pytorch_lightning.utilities.rank_zero:GPU available: False, used: False\n",
            "INFO:pytorch_lightning.utilities.rank_zero:TPU available: False, using: 0 TPU cores\n",
            "INFO:pytorch_lightning.utilities.rank_zero:HPU available: False, using: 0 HPUs\n",
            "Predicting DataLoader 0: 100%|██████████| 1/1 [00:01<00:00,  1.47s/it]\n",
            "Processing links:  37%|███▋      | 23190/62202 [11:15<143:15:21, 13.22s/it]"
          ]
        },
        {
          "name": "stdout",
          "output_type": "stream",
          "text": [
            "{'English Sentence Numbers': 'b.MAT.2.21.1', 'Dutch Sentence Numbers': 'b.MAT.2.21.1', 'Dutch Source': 'Он встал , взял Младенца и Матерь Его и пришел в землю Израилеву .', 'Reference English': 'And he arose , and took the young child and his mother , and came into the land of Israel .', 'Translated English': 'He stood up, took the child and his mother, and came into the land of Israel.', 'COMET Score': 0.8347, 'SacreBLEU Score': 63.39, 'CHRF Score': 72.07}\n"
          ]
        },
        {
          "name": "stderr",
          "output_type": "stream",
          "text": [
            "INFO:pytorch_lightning.utilities.rank_zero:You are using the plain ModelCheckpoint callback. Consider using LitModelCheckpoint which with seamless uploading to Model registry.\n",
            "INFO:pytorch_lightning.utilities.rank_zero:GPU available: False, used: False\n",
            "INFO:pytorch_lightning.utilities.rank_zero:TPU available: False, using: 0 TPU cores\n",
            "INFO:pytorch_lightning.utilities.rank_zero:HPU available: False, using: 0 HPUs\n",
            "Predicting DataLoader 0: 100%|██████████| 1/1 [00:03<00:00,  3.27s/it]\n",
            "Processing links:  37%|███▋      | 23191/62202 [11:37<171:49:24, 15.86s/it]"
          ]
        },
        {
          "name": "stdout",
          "output_type": "stream",
          "text": [
            "{'English Sentence Numbers': 'b.MAT.2.22.1, b.MAT.2.22.2', 'Dutch Sentence Numbers': 'b.MAT.2.22.1', 'Dutch Source': 'Услышав же , что Архелай царствует в Иудее вместо Ирода , отца своего , убоялся туда идти ; но , получив во сне откровение , пошел в пределы Галилейские', 'Reference English': 'But when he heard that Archelaus did reign in Judaea in the room of his father Herod , he was afraid to go thither : notwithstanding , being warned of God in a dream , he turned aside into the parts of Galilee :', 'Translated English': 'When he heard that Archelaeus reigned in Judea instead of Herod, his father, he feared to go there; but when he had a dream of revelation, he went to the borders of Galilee.', 'COMET Score': 0.7675, 'SacreBLEU Score': 7.58, 'CHRF Score': 43.93}\n"
          ]
        },
        {
          "name": "stderr",
          "output_type": "stream",
          "text": [
            "INFO:pytorch_lightning.utilities.rank_zero:You are using the plain ModelCheckpoint callback. Consider using LitModelCheckpoint which with seamless uploading to Model registry.\n",
            "INFO:pytorch_lightning.utilities.rank_zero:GPU available: False, used: False\n",
            "INFO:pytorch_lightning.utilities.rank_zero:TPU available: False, using: 0 TPU cores\n",
            "INFO:pytorch_lightning.utilities.rank_zero:HPU available: False, using: 0 HPUs\n",
            "Predicting DataLoader 0: 100%|██████████| 1/1 [00:02<00:00,  2.04s/it]\n",
            "Processing links:  37%|███▋      | 23192/62202 [11:55<176:10:24, 16.26s/it]"
          ]
        },
        {
          "name": "stdout",
          "output_type": "stream",
          "text": [
            "{'English Sentence Numbers': 'b.MAT.2.23.1', 'Dutch Sentence Numbers': 'b.MAT.2.23.1', 'Dutch Source': 'и , придя , поселился в городе , называемом Назарет , да сбудется реченное через пророков , что Он Назореемнаречется .', 'Reference English': 'And he came and dwelt in a city called Nazareth : that it might be fulfilled which was spoken by the prophets , He shall be called a Nazarene .', 'Translated English': 'And when he came, he settled in a city called Nazareth, so that what was said through the prophets, that he would be called Nazareth, would come to pass.', 'COMET Score': 0.7262, 'SacreBLEU Score': 17.42, 'CHRF Score': 46.04}\n"
          ]
        },
        {
          "name": "stderr",
          "output_type": "stream",
          "text": [
            "INFO:pytorch_lightning.utilities.rank_zero:You are using the plain ModelCheckpoint callback. Consider using LitModelCheckpoint which with seamless uploading to Model registry.\n",
            "INFO:pytorch_lightning.utilities.rank_zero:GPU available: False, used: False\n",
            "INFO:pytorch_lightning.utilities.rank_zero:TPU available: False, using: 0 TPU cores\n",
            "INFO:pytorch_lightning.utilities.rank_zero:HPU available: False, using: 0 HPUs\n",
            "Predicting DataLoader 0: 100%|██████████| 1/1 [00:01<00:00,  1.38s/it]\n",
            "Processing links:  37%|███▋      | 23193/62202 [12:05<158:04:23, 14.59s/it]"
          ]
        },
        {
          "name": "stdout",
          "output_type": "stream",
          "text": [
            "{'English Sentence Numbers': 'b.MAT.3.1.1', 'Dutch Sentence Numbers': 'b.MAT.3.1.1', 'Dutch Source': 'В те дни приходит Иоанн Креститель и проповедует в пустыне Иудейской', 'Reference English': 'In those days came John the Baptist , preaching in the wilderness of Judaea ,', 'Translated English': 'In those days John the Baptist comes and preaches in the Jewish desert.', 'COMET Score': 0.8084, 'SacreBLEU Score': 18.81, 'CHRF Score': 50.0}\n"
          ]
        },
        {
          "name": "stderr",
          "output_type": "stream",
          "text": [
            "INFO:pytorch_lightning.utilities.rank_zero:You are using the plain ModelCheckpoint callback. Consider using LitModelCheckpoint which with seamless uploading to Model registry.\n",
            "INFO:pytorch_lightning.utilities.rank_zero:GPU available: False, used: False\n",
            "INFO:pytorch_lightning.utilities.rank_zero:TPU available: False, using: 0 TPU cores\n",
            "INFO:pytorch_lightning.utilities.rank_zero:HPU available: False, using: 0 HPUs\n",
            "Predicting DataLoader 0: 100%|██████████| 1/1 [00:01<00:00,  1.86s/it]\n",
            "Processing links:  37%|███▋      | 23194/62202 [12:15<143:14:12, 13.22s/it]"
          ]
        },
        {
          "name": "stdout",
          "output_type": "stream",
          "text": [
            "{'English Sentence Numbers': 'b.MAT.3.2.1', 'Dutch Sentence Numbers': 'b.MAT.3.2.1', 'Dutch Source': 'и говорит : покайтесь , ибо приблизилось Царство Небесное .', 'Reference English': 'And saying , Repent ye : for the kingdom of heaven is at hand .', 'Translated English': 'And he says, “Torry, for the kingdom of heaven is approaching.”', 'COMET Score': 0.6836, 'SacreBLEU Score': 35.83, 'CHRF Score': 53.83}\n"
          ]
        },
        {
          "name": "stderr",
          "output_type": "stream",
          "text": [
            "INFO:pytorch_lightning.utilities.rank_zero:You are using the plain ModelCheckpoint callback. Consider using LitModelCheckpoint which with seamless uploading to Model registry.\n",
            "INFO:pytorch_lightning.utilities.rank_zero:GPU available: False, used: False\n",
            "INFO:pytorch_lightning.utilities.rank_zero:TPU available: False, using: 0 TPU cores\n",
            "INFO:pytorch_lightning.utilities.rank_zero:HPU available: False, using: 0 HPUs\n",
            "Predicting DataLoader 0: 100%|██████████| 1/1 [00:02<00:00,  2.17s/it]\n",
            "Processing links:  37%|███▋      | 23195/62202 [12:34<160:03:08, 14.77s/it]"
          ]
        },
        {
          "name": "stdout",
          "output_type": "stream",
          "text": [
            "{'English Sentence Numbers': 'b.MAT.3.3.1, b.MAT.3.3.2', 'Dutch Sentence Numbers': 'b.MAT.3.3.1', 'Dutch Source': 'Ибо он тот , о котором сказал пророк Исаия : глас вопиющего в пустыне : приготовьте путь Господу , прямыми сделайте стези Ему .', 'Reference English': 'For this is he that was spoken of by the prophet Esaias , saying , The voice of one crying in the wilderness , Prepare ye the way of the Lord , make his paths straight .', 'Translated English': 'For he is the one about whom the prophet Isaiah said: The voice of the drinker in the desert: Prepare the way to the LORD, and make his traces straight.', 'COMET Score': 0.7171, 'SacreBLEU Score': 8.43, 'CHRF Score': 41.35}\n"
          ]
        },
        {
          "name": "stderr",
          "output_type": "stream",
          "text": [
            "INFO:pytorch_lightning.utilities.rank_zero:You are using the plain ModelCheckpoint callback. Consider using LitModelCheckpoint which with seamless uploading to Model registry.\n",
            "INFO:pytorch_lightning.utilities.rank_zero:GPU available: False, used: False\n",
            "INFO:pytorch_lightning.utilities.rank_zero:TPU available: False, using: 0 TPU cores\n",
            "INFO:pytorch_lightning.utilities.rank_zero:HPU available: False, using: 0 HPUs\n",
            "Predicting DataLoader 0: 100%|██████████| 1/1 [00:01<00:00,  1.97s/it]\n",
            "Processing links:  37%|███▋      | 23196/62202 [12:49<160:32:52, 14.82s/it]"
          ]
        },
        {
          "name": "stdout",
          "output_type": "stream",
          "text": [
            "{'English Sentence Numbers': 'b.MAT.3.4.1, b.MAT.3.4.2', 'Dutch Sentence Numbers': 'b.MAT.3.4.1', 'Dutch Source': 'Сам же Иоанн имел одежду из верблюжьего волоса и пояс кожаный на чреслах своих , а пищею его были акриды и дикий мед .', 'Reference English': \"And the same John had his raiment of camel 's hair , and a leathern girdle about his loins ; and his meat was locusts and wild honey .\", 'Translated English': 'John himself had clothes of rubber hair, and a leather belt on his chairs, and his food was acryd and wild honey.', 'COMET Score': 0.6263, 'SacreBLEU Score': 19.54, 'CHRF Score': 40.23}\n"
          ]
        },
        {
          "name": "stderr",
          "output_type": "stream",
          "text": [
            "INFO:pytorch_lightning.utilities.rank_zero:You are using the plain ModelCheckpoint callback. Consider using LitModelCheckpoint which with seamless uploading to Model registry.\n",
            "INFO:pytorch_lightning.utilities.rank_zero:GPU available: False, used: False\n",
            "INFO:pytorch_lightning.utilities.rank_zero:TPU available: False, using: 0 TPU cores\n",
            "INFO:pytorch_lightning.utilities.rank_zero:HPU available: False, using: 0 HPUs\n",
            "Predicting DataLoader 0: 100%|██████████| 1/1 [00:01<00:00,  1.49s/it]\n",
            "Processing links:  37%|███▋      | 23197/62202 [12:59<145:36:50, 13.44s/it]"
          ]
        },
        {
          "name": "stdout",
          "output_type": "stream",
          "text": [
            "{'English Sentence Numbers': 'b.MAT.3.5.1', 'Dutch Sentence Numbers': 'b.MAT.3.5.1', 'Dutch Source': 'Тогда Иерусалим и вся Иудея и вся окрестность Иорданская выходили к нему', 'Reference English': 'Then went out to him Jerusalem , and all Judaea , and all the region round about Jordan ,', 'Translated English': 'Then Jerusalem and all the Jews and all the surroundings of Jordan came out to him.', 'COMET Score': 0.711, 'SacreBLEU Score': 15.66, 'CHRF Score': 46.36}\n"
          ]
        },
        {
          "name": "stderr",
          "output_type": "stream",
          "text": [
            "INFO:pytorch_lightning.utilities.rank_zero:You are using the plain ModelCheckpoint callback. Consider using LitModelCheckpoint which with seamless uploading to Model registry.\n",
            "INFO:pytorch_lightning.utilities.rank_zero:GPU available: False, used: False\n",
            "INFO:pytorch_lightning.utilities.rank_zero:TPU available: False, using: 0 TPU cores\n",
            "INFO:pytorch_lightning.utilities.rank_zero:HPU available: False, using: 0 HPUs\n",
            "Predicting DataLoader 0: 100%|██████████| 1/1 [00:01<00:00,  1.78s/it]\n",
            "Processing links:  37%|███▋      | 23198/62202 [13:08<131:55:30, 12.18s/it]"
          ]
        },
        {
          "name": "stdout",
          "output_type": "stream",
          "text": [
            "{'English Sentence Numbers': 'b.MAT.3.6.1', 'Dutch Sentence Numbers': 'b.MAT.3.6.1', 'Dutch Source': 'и крестились от него в Иордане , исповедуя грехи свои .', 'Reference English': 'And were baptized of him in Jordan , confessing their sins .', 'Translated English': 'And they baptized from him in Jordan, confessing their sins.', 'COMET Score': 0.8246, 'SacreBLEU Score': 64.84, 'CHRF Score': 77.86}\n"
          ]
        },
        {
          "name": "stderr",
          "output_type": "stream",
          "text": [
            "INFO:pytorch_lightning.utilities.rank_zero:You are using the plain ModelCheckpoint callback. Consider using LitModelCheckpoint which with seamless uploading to Model registry.\n",
            "INFO:pytorch_lightning.utilities.rank_zero:GPU available: False, used: False\n",
            "INFO:pytorch_lightning.utilities.rank_zero:TPU available: False, using: 0 TPU cores\n",
            "INFO:pytorch_lightning.utilities.rank_zero:HPU available: False, using: 0 HPUs\n",
            "Predicting DataLoader 0: 100%|██████████| 1/1 [00:02<00:00,  2.44s/it]\n",
            "Processing links:  37%|███▋      | 23199/62202 [13:30<162:08:37, 14.97s/it]"
          ]
        },
        {
          "name": "stdout",
          "output_type": "stream",
          "text": [
            "{'English Sentence Numbers': 'b.MAT.3.7.1', 'Dutch Sentence Numbers': 'b.MAT.3.7.1', 'Dutch Source': 'Увидев же Иоанн многих фарисеев и саддукеев , идущихк нему креститься , сказал им : порождения ехиднины ! кто внушил вам бежать от будущего гнева ?', 'Reference English': 'But when he saw many of the Pharisees and Sadducees come to his baptism , he said unto them , O generation of vipers , who hath warned you to flee from the wrath to come ?', 'Translated English': 'And when John saw many of the Pharisees and the Sadducees coming to baptize him, he said to them, “Generation of the Eidine, who has instructed you to flee from the future anger?”', 'COMET Score': 0.7049, 'SacreBLEU Score': 28.97, 'CHRF Score': 58.59}\n"
          ]
        },
        {
          "name": "stderr",
          "output_type": "stream",
          "text": [
            "INFO:pytorch_lightning.utilities.rank_zero:You are using the plain ModelCheckpoint callback. Consider using LitModelCheckpoint which with seamless uploading to Model registry.\n",
            "INFO:pytorch_lightning.utilities.rank_zero:GPU available: False, used: False\n",
            "INFO:pytorch_lightning.utilities.rank_zero:TPU available: False, using: 0 TPU cores\n",
            "INFO:pytorch_lightning.utilities.rank_zero:HPU available: False, using: 0 HPUs\n",
            "Predicting DataLoader 0: 100%|██████████| 1/1 [00:01<00:00,  1.16s/it]\n",
            "Processing links:  37%|███▋      | 23200/62202 [13:36<134:57:39, 12.46s/it]"
          ]
        },
        {
          "name": "stdout",
          "output_type": "stream",
          "text": [
            "{'English Sentence Numbers': 'b.MAT.3.8.1', 'Dutch Sentence Numbers': 'b.MAT.3.8.1', 'Dutch Source': 'сотворите же достойный плод покаяния', 'Reference English': 'Bring forth therefore fruits meet for repentance :', 'Translated English': 'Create the fruit of repentance.', 'COMET Score': 0.7246, 'SacreBLEU Score': 5.82, 'CHRF Score': 34.64}\n"
          ]
        },
        {
          "name": "stderr",
          "output_type": "stream",
          "text": [
            "INFO:pytorch_lightning.utilities.rank_zero:You are using the plain ModelCheckpoint callback. Consider using LitModelCheckpoint which with seamless uploading to Model registry.\n",
            "INFO:pytorch_lightning.utilities.rank_zero:GPU available: False, used: False\n",
            "INFO:pytorch_lightning.utilities.rank_zero:TPU available: False, using: 0 TPU cores\n",
            "INFO:pytorch_lightning.utilities.rank_zero:HPU available: False, using: 0 HPUs\n",
            "Predicting DataLoader 0: 100%|██████████| 1/1 [00:02<00:00,  2.15s/it]\n",
            "Processing links:  37%|███▋      | 23201/62202 [13:52<145:53:13, 13.47s/it]"
          ]
        },
        {
          "name": "stdout",
          "output_type": "stream",
          "text": [
            "{'English Sentence Numbers': 'b.MAT.3.9.1', 'Dutch Sentence Numbers': 'b.MAT.3.9.1', 'Dutch Source': 'и не думайте говорить в себе : „ отец у нас Авраам \" , ибо говорю вам , что Бог может из камней сих воздвигнуть детей Аврааму .', 'Reference English': 'And think not to say within yourselves , We have Abraham to our father : for I say unto you , that God is able of these stones to raise up children unto Abraham .', 'Translated English': 'And do not think to say in yourself, ‘Abraham is our father,’ for I tell you, that God can raise the children of Abraham from these stones.', 'COMET Score': 0.7331, 'SacreBLEU Score': 12.51, 'CHRF Score': 48.29}\n"
          ]
        },
        {
          "name": "stderr",
          "output_type": "stream",
          "text": [
            "INFO:pytorch_lightning.utilities.rank_zero:You are using the plain ModelCheckpoint callback. Consider using LitModelCheckpoint which with seamless uploading to Model registry.\n",
            "INFO:pytorch_lightning.utilities.rank_zero:GPU available: False, used: False\n",
            "INFO:pytorch_lightning.utilities.rank_zero:TPU available: False, using: 0 TPU cores\n",
            "INFO:pytorch_lightning.utilities.rank_zero:HPU available: False, using: 0 HPUs\n",
            "Predicting DataLoader 0: 100%|██████████| 1/1 [00:01<00:00,  1.96s/it]\n",
            "Processing links:  37%|███▋      | 23202/62202 [14:07<150:40:53, 13.91s/it]"
          ]
        },
        {
          "name": "stdout",
          "output_type": "stream",
          "text": [
            "{'English Sentence Numbers': 'b.MAT.3.10.1, b.MAT.3.10.2', 'Dutch Sentence Numbers': 'b.MAT.3.10.1', 'Dutch Source': 'Уже и секира при корне дерев лежит : всякое дерево , не приносящее доброго плода , срубают и бросают в огонь .', 'Reference English': 'And now also the axe is laid unto the root of the trees : therefore every tree which bringeth not forth good fruit is hewn down , and cast into the fire .', 'Translated English': 'There is already a sequir at the root of the trees: every tree that does not bring good fruit is cut down and thrown into fire.', 'COMET Score': 0.5456, 'SacreBLEU Score': 22.18, 'CHRF Score': 42.7}\n"
          ]
        },
        {
          "name": "stderr",
          "output_type": "stream",
          "text": [
            "INFO:pytorch_lightning.utilities.rank_zero:You are using the plain ModelCheckpoint callback. Consider using LitModelCheckpoint which with seamless uploading to Model registry.\n",
            "INFO:pytorch_lightning.utilities.rank_zero:GPU available: False, used: False\n",
            "INFO:pytorch_lightning.utilities.rank_zero:TPU available: False, using: 0 TPU cores\n",
            "INFO:pytorch_lightning.utilities.rank_zero:HPU available: False, using: 0 HPUs\n",
            "Predicting DataLoader 0: 100%|██████████| 1/1 [00:02<00:00,  2.38s/it]\n",
            "Processing links:  37%|███▋      | 23203/62202 [14:30<180:03:11, 16.62s/it]"
          ]
        },
        {
          "name": "stdout",
          "output_type": "stream",
          "text": [
            "{'English Sentence Numbers': 'b.MAT.3.11.1, b.MAT.3.11.2', 'Dutch Sentence Numbers': 'b.MAT.3.11.1', 'Dutch Source': 'Я крещу вас в воде в покаяние , но Идущий за мною сильнее меня ; я не достоин понести обувь Его ; Он будет крестить вас Духом Святым и огнем ;', 'Reference English': 'I indeed baptize you with water unto repentance : but he that cometh after me is mightier than I , whose shoes I am not worthy to bear : he shall baptize you with the Holy Ghost , and with fire :', 'Translated English': 'I will baptize you in water to repentance, but the one who follows me is stronger than me; I am not worthy to carry his shoes; he will baptize you with the Holy Spirit and with fire.', 'COMET Score': 0.7472, 'SacreBLEU Score': 23.66, 'CHRF Score': 50.95}\n"
          ]
        },
        {
          "name": "stderr",
          "output_type": "stream",
          "text": [
            "INFO:pytorch_lightning.utilities.rank_zero:You are using the plain ModelCheckpoint callback. Consider using LitModelCheckpoint which with seamless uploading to Model registry.\n",
            "INFO:pytorch_lightning.utilities.rank_zero:GPU available: False, used: False\n",
            "INFO:pytorch_lightning.utilities.rank_zero:TPU available: False, using: 0 TPU cores\n",
            "INFO:pytorch_lightning.utilities.rank_zero:HPU available: False, using: 0 HPUs\n",
            "Predicting DataLoader 0: 100%|██████████| 1/1 [00:02<00:00,  2.13s/it]\n",
            "Processing links:  37%|███▋      | 23204/62202 [14:47<180:03:15, 16.62s/it]"
          ]
        },
        {
          "name": "stdout",
          "output_type": "stream",
          "text": [
            "{'English Sentence Numbers': 'b.MAT.3.12.1, b.MAT.3.12.2', 'Dutch Sentence Numbers': 'b.MAT.3.12.1', 'Dutch Source': 'лопата Его в руке Его , и Он очистит гумно Свое и соберет пшеницу Свою в житницу , а солому сожжет огнем неугасимым .', 'Reference English': 'Whose fan is in his hand , and he will throughly purge his floor , and gather his wheat into the garner ; but he will burn up the chaff with unquenchable fire .', 'Translated English': 'And he will clean his humus, and he will gather his wheat into the grain, and he will burn it with the fire that is not destroyed.', 'COMET Score': 0.6044, 'SacreBLEU Score': 23.8, 'CHRF Score': 42.15}\n"
          ]
        },
        {
          "name": "stderr",
          "output_type": "stream",
          "text": [
            "INFO:pytorch_lightning.utilities.rank_zero:You are using the plain ModelCheckpoint callback. Consider using LitModelCheckpoint which with seamless uploading to Model registry.\n",
            "INFO:pytorch_lightning.utilities.rank_zero:GPU available: False, used: False\n",
            "INFO:pytorch_lightning.utilities.rank_zero:TPU available: False, using: 0 TPU cores\n",
            "INFO:pytorch_lightning.utilities.rank_zero:HPU available: False, using: 0 HPUs\n",
            "Predicting DataLoader 0: 100%|██████████| 1/1 [00:01<00:00,  1.41s/it]\n",
            "Processing links:  37%|███▋      | 23205/62202 [14:56<156:25:36, 14.44s/it]"
          ]
        },
        {
          "name": "stdout",
          "output_type": "stream",
          "text": [
            "{'English Sentence Numbers': 'b.MAT.3.13.1', 'Dutch Sentence Numbers': 'b.MAT.3.13.1', 'Dutch Source': 'Тогда приходит Иисус из Галилеи на Иордан к Иоанну креститься от него .', 'Reference English': 'Then cometh Jesus from Galilee to Jordan unto John , to be baptized of him .', 'Translated English': 'Then Jesus comes from Galilee to Jordan to John to baptize him.', 'COMET Score': 0.7501, 'SacreBLEU Score': 20.75, 'CHRF Score': 60.29}\n"
          ]
        },
        {
          "name": "stderr",
          "output_type": "stream",
          "text": [
            "INFO:pytorch_lightning.utilities.rank_zero:You are using the plain ModelCheckpoint callback. Consider using LitModelCheckpoint which with seamless uploading to Model registry.\n",
            "INFO:pytorch_lightning.utilities.rank_zero:GPU available: False, used: False\n",
            "INFO:pytorch_lightning.utilities.rank_zero:TPU available: False, using: 0 TPU cores\n",
            "INFO:pytorch_lightning.utilities.rank_zero:HPU available: False, using: 0 HPUs\n",
            "Predicting DataLoader 0: 100%|██████████| 1/1 [00:01<00:00,  1.87s/it]\n",
            "Processing links:  37%|███▋      | 23206/62202 [15:08<147:54:18, 13.65s/it]"
          ]
        },
        {
          "name": "stdout",
          "output_type": "stream",
          "text": [
            "{'English Sentence Numbers': 'b.MAT.3.14.1', 'Dutch Sentence Numbers': 'b.MAT.3.14.1', 'Dutch Source': 'Иоанн же удерживал Его и говорил : мне надобно креститься от Тебя , и Ты ли приходишь ко мне ?', 'Reference English': 'But John forbad him , saying , I have need to be baptized of thee , and comest thou to me ?', 'Translated English': 'John kept him and said, “I have to be baptized from you, and do you come to me?”', 'COMET Score': 0.5816, 'SacreBLEU Score': 13.6, 'CHRF Score': 35.98}\n"
          ]
        },
        {
          "name": "stderr",
          "output_type": "stream",
          "text": [
            "INFO:pytorch_lightning.utilities.rank_zero:You are using the plain ModelCheckpoint callback. Consider using LitModelCheckpoint which with seamless uploading to Model registry.\n",
            "INFO:pytorch_lightning.utilities.rank_zero:GPU available: False, used: False\n",
            "INFO:pytorch_lightning.utilities.rank_zero:TPU available: False, using: 0 TPU cores\n",
            "INFO:pytorch_lightning.utilities.rank_zero:HPU available: False, using: 0 HPUs\n",
            "Predicting DataLoader 0: 100%|██████████| 1/1 [00:02<00:00,  2.20s/it]\n",
            "Processing links:  37%|███▋      | 23207/62202 [15:21<145:12:58, 13.41s/it]"
          ]
        },
        {
          "name": "stdout",
          "output_type": "stream",
          "text": [
            "{'English Sentence Numbers': 'b.MAT.3.15.1, b.MAT.3.15.2', 'Dutch Sentence Numbers': 'b.MAT.3.15.1, b.MAT.3.15.2', 'Dutch Source': 'Но Иисус сказал ему в ответ : оставь теперь , ибо так надлежит нам исполнить всякую правду . Тогда Иоанн допускает Его .', 'Reference English': 'And Jesus answering said unto him , Suffer it to be so now : for thus it becometh us to fulfil all righteousness . Then he suffered him .', 'Translated English': 'But Jesus replied to him, “Let go now, for this is how we have to do all the truth.”', 'COMET Score': 0.5944, 'SacreBLEU Score': 3.7, 'CHRF Score': 18.59}\n"
          ]
        },
        {
          "name": "stderr",
          "output_type": "stream",
          "text": [
            "INFO:pytorch_lightning.utilities.rank_zero:You are using the plain ModelCheckpoint callback. Consider using LitModelCheckpoint which with seamless uploading to Model registry.\n",
            "INFO:pytorch_lightning.utilities.rank_zero:GPU available: False, used: False\n",
            "INFO:pytorch_lightning.utilities.rank_zero:TPU available: False, using: 0 TPU cores\n",
            "INFO:pytorch_lightning.utilities.rank_zero:HPU available: False, using: 0 HPUs\n",
            "Predicting DataLoader 0: 100%|██████████| 1/1 [00:02<00:00,  2.95s/it]\n",
            "Processing links:  37%|███▋      | 23208/62202 [15:42<170:19:39, 15.72s/it]"
          ]
        },
        {
          "name": "stdout",
          "output_type": "stream",
          "text": [
            "{'English Sentence Numbers': 'b.MAT.3.16.1, b.MAT.3.16.2', 'Dutch Sentence Numbers': 'b.MAT.3.16.1', 'Dutch Source': 'И , крестившись , Иисус тотчас вышел из воды , - и се , отверзлись Ему небеса , и увидел Иоанн Духа Божия , Который сходил , как голубь , и ниспускался на Него .', 'Reference English': 'And Jesus , when he was baptized , went up straightway out of the water : and , lo , the heavens were opened unto him , and he saw the Spirit of God descending like a dove , and lighting upon him :', 'Translated English': 'And when Jesus was baptized, Jesus immediately came out of the water, and the heavens turned to him, and he saw John the Spirit of God coming down like a wolf, and falling down upon him.', 'COMET Score': 0.6369, 'SacreBLEU Score': 25.98, 'CHRF Score': 49.69}\n"
          ]
        },
        {
          "name": "stderr",
          "output_type": "stream",
          "text": [
            "INFO:pytorch_lightning.utilities.rank_zero:You are using the plain ModelCheckpoint callback. Consider using LitModelCheckpoint which with seamless uploading to Model registry.\n",
            "INFO:pytorch_lightning.utilities.rank_zero:GPU available: False, used: False\n",
            "INFO:pytorch_lightning.utilities.rank_zero:TPU available: False, using: 0 TPU cores\n",
            "INFO:pytorch_lightning.utilities.rank_zero:HPU available: False, using: 0 HPUs\n",
            "Predicting DataLoader 0: 100%|██████████| 1/1 [00:01<00:00,  1.64s/it]\n",
            "Processing links:  37%|███▋      | 23209/62202 [15:54<160:01:31, 14.77s/it]"
          ]
        },
        {
          "name": "stdout",
          "output_type": "stream",
          "text": [
            "{'English Sentence Numbers': 'b.MAT.3.17.1', 'Dutch Sentence Numbers': 'b.MAT.3.17.1', 'Dutch Source': 'И се , глас с небес глаголющий : Сей есть Сын Мой возлюбленный , в Котором Мое благоволение .', 'Reference English': 'And lo a voice from heaven , saying , This is my beloved Son , in whom I am well pleased .', 'Translated English': 'And behold, a voice from heaven speaks: This is my beloved Son, in whom my favour is.', 'COMET Score': 0.7927, 'SacreBLEU Score': 45.12, 'CHRF Score': 59.37}\n"
          ]
        },
        {
          "name": "stderr",
          "output_type": "stream",
          "text": [
            "INFO:pytorch_lightning.utilities.rank_zero:You are using the plain ModelCheckpoint callback. Consider using LitModelCheckpoint which with seamless uploading to Model registry.\n",
            "INFO:pytorch_lightning.utilities.rank_zero:GPU available: False, used: False\n",
            "INFO:pytorch_lightning.utilities.rank_zero:TPU available: False, using: 0 TPU cores\n",
            "INFO:pytorch_lightning.utilities.rank_zero:HPU available: False, using: 0 HPUs\n",
            "Predicting DataLoader 0: 100%|██████████| 1/1 [00:01<00:00,  1.45s/it]\n",
            "Processing links:  37%|███▋      | 23210/62202 [16:06<148:55:06, 13.75s/it]"
          ]
        },
        {
          "name": "stdout",
          "output_type": "stream",
          "text": [
            "{'English Sentence Numbers': 'b.MAT.4.1.1', 'Dutch Sentence Numbers': 'b.MAT.4.1.1', 'Dutch Source': 'Тогда Иисус возведен был Духом в пустыню , для искушения от диавола ,', 'Reference English': 'Then was Jesus led up of the Spirit into the wilderness to be tempted of the devil .', 'Translated English': 'Then Jesus was raised by the Spirit into the desert, to be tempted by the devil.', 'COMET Score': 0.8263, 'SacreBLEU Score': 26.53, 'CHRF Score': 55.44}\n"
          ]
        },
        {
          "name": "stderr",
          "output_type": "stream",
          "text": [
            "INFO:pytorch_lightning.utilities.rank_zero:You are using the plain ModelCheckpoint callback. Consider using LitModelCheckpoint which with seamless uploading to Model registry.\n",
            "INFO:pytorch_lightning.utilities.rank_zero:GPU available: False, used: False\n",
            "INFO:pytorch_lightning.utilities.rank_zero:TPU available: False, using: 0 TPU cores\n",
            "INFO:pytorch_lightning.utilities.rank_zero:HPU available: False, using: 0 HPUs\n",
            "Predicting DataLoader 0: 100%|██████████| 1/1 [00:01<00:00,  1.44s/it]\n",
            "Processing links:  37%|███▋      | 23211/62202 [16:16<138:01:16, 12.74s/it]"
          ]
        },
        {
          "name": "stdout",
          "output_type": "stream",
          "text": [
            "{'English Sentence Numbers': 'b.MAT.4.2.1', 'Dutch Sentence Numbers': 'b.MAT.4.2.1', 'Dutch Source': 'и , постившись сорок дней и сорок ночей , напоследоквзалкал .', 'Reference English': 'And when he had fasted forty days and forty nights , he was afterward an hungred .', 'Translated English': 'And after fasting forty days and forty nights, he ended.', 'COMET Score': 0.625, 'SacreBLEU Score': 36.2, 'CHRF Score': 51.56}\n"
          ]
        },
        {
          "name": "stderr",
          "output_type": "stream",
          "text": [
            "INFO:pytorch_lightning.utilities.rank_zero:You are using the plain ModelCheckpoint callback. Consider using LitModelCheckpoint which with seamless uploading to Model registry.\n",
            "INFO:pytorch_lightning.utilities.rank_zero:GPU available: False, used: False\n",
            "INFO:pytorch_lightning.utilities.rank_zero:TPU available: False, using: 0 TPU cores\n",
            "INFO:pytorch_lightning.utilities.rank_zero:HPU available: False, using: 0 HPUs\n",
            "Predicting DataLoader 0: 100%|██████████| 1/1 [00:01<00:00,  1.83s/it]\n",
            "Processing links:  37%|███▋      | 23212/62202 [16:30<140:57:52, 13.02s/it]"
          ]
        },
        {
          "name": "stdout",
          "output_type": "stream",
          "text": [
            "{'English Sentence Numbers': 'b.MAT.4.3.1', 'Dutch Sentence Numbers': 'b.MAT.4.3.1', 'Dutch Source': 'И приступил к Нему искуситель и сказал : если Ты Сын Божий , скажи , чтобы камни сии сделалисьхлебами .', 'Reference English': 'And when the tempter came to him , he said , If thou be the Son of God , command that these stones be made bread .', 'Translated English': 'And the temptator came to him and said, If you are the Son of God, say that these stones should be made bread.', 'COMET Score': 0.8001, 'SacreBLEU Score': 34.94, 'CHRF Score': 63.43}\n"
          ]
        },
        {
          "name": "stderr",
          "output_type": "stream",
          "text": [
            "INFO:pytorch_lightning.utilities.rank_zero:You are using the plain ModelCheckpoint callback. Consider using LitModelCheckpoint which with seamless uploading to Model registry.\n",
            "INFO:pytorch_lightning.utilities.rank_zero:GPU available: False, used: False\n",
            "INFO:pytorch_lightning.utilities.rank_zero:TPU available: False, using: 0 TPU cores\n",
            "INFO:pytorch_lightning.utilities.rank_zero:HPU available: False, using: 0 HPUs\n",
            "Predicting DataLoader 0: 100%|██████████| 1/1 [00:01<00:00,  1.84s/it]\n",
            "Processing links:  37%|███▋      | 23213/62202 [16:44<146:41:13, 13.54s/it]"
          ]
        },
        {
          "name": "stdout",
          "output_type": "stream",
          "text": [
            "{'English Sentence Numbers': 'b.MAT.4.4.1', 'Dutch Sentence Numbers': 'b.MAT.4.4.1', 'Dutch Source': 'Он же сказал ему в ответ : написано : не хлебом одним будет жить человек , но всяким словом , исходящим из уст Божиих .', 'Reference English': 'But he answered and said , It is written , Man shall not live by bread alone , but by every word that proceedeth out of the mouth of God .', 'Translated English': 'He replied to him, “It is written that man will live not with one bread, but with every word that comes from the mouths of God.”', 'COMET Score': 0.7703, 'SacreBLEU Score': 10.46, 'CHRF Score': 41.44}\n"
          ]
        },
        {
          "name": "stderr",
          "output_type": "stream",
          "text": [
            "INFO:pytorch_lightning.utilities.rank_zero:You are using the plain ModelCheckpoint callback. Consider using LitModelCheckpoint which with seamless uploading to Model registry.\n",
            "INFO:pytorch_lightning.utilities.rank_zero:GPU available: False, used: False\n",
            "INFO:pytorch_lightning.utilities.rank_zero:TPU available: False, using: 0 TPU cores\n",
            "INFO:pytorch_lightning.utilities.rank_zero:HPU available: False, using: 0 HPUs\n",
            "Predicting DataLoader 0: 100%|██████████| 1/1 [00:01<00:00,  1.51s/it]\n",
            "Processing links:  37%|███▋      | 23214/62202 [16:56<141:05:41, 13.03s/it]"
          ]
        },
        {
          "name": "stdout",
          "output_type": "stream",
          "text": [
            "{'English Sentence Numbers': 'b.MAT.4.5.1, b.MAT.4.5.2', 'Dutch Sentence Numbers': 'b.MAT.4.5.1', 'Dutch Source': 'Потом берет Его диавол в святой город и поставляет Его на крыле храма ,', 'Reference English': 'Then the devil taketh him up into the holy city , and setteth him on a pinnacle of the temple ,', 'Translated English': 'Then the devil takes him into the holy city and brings him on the wing of the temple.', 'COMET Score': 0.616, 'SacreBLEU Score': 23.71, 'CHRF Score': 56.63}\n"
          ]
        },
        {
          "name": "stderr",
          "output_type": "stream",
          "text": [
            "INFO:pytorch_lightning.utilities.rank_zero:You are using the plain ModelCheckpoint callback. Consider using LitModelCheckpoint which with seamless uploading to Model registry.\n",
            "INFO:pytorch_lightning.utilities.rank_zero:GPU available: False, used: False\n",
            "INFO:pytorch_lightning.utilities.rank_zero:TPU available: False, using: 0 TPU cores\n",
            "INFO:pytorch_lightning.utilities.rank_zero:HPU available: False, using: 0 HPUs\n",
            "Predicting DataLoader 0: 100%|██████████| 1/1 [00:03<00:00,  3.53s/it]\n",
            "Processing links:  37%|███▋      | 23215/62202 [17:20<175:35:54, 16.21s/it]"
          ]
        },
        {
          "name": "stdout",
          "output_type": "stream",
          "text": [
            "{'English Sentence Numbers': 'b.MAT.4.6.1', 'Dutch Sentence Numbers': 'b.MAT.4.6.1', 'Dutch Source': 'и говорит Ему : если Ты Сын Божий , бросься вниз , ибо написано : Ангелам Своим заповедает о Тебе , и на руках понесут Тебя , да не преткнешься о камень ногою Твоею .', 'Reference English': 'And saith unto him , If thou be the Son of God , cast thyself down : for it is written , He shall give his angels charge concerning thee : and in their hands they shall bear thee up , lest at any time thou dash thy foot against a stone .', 'Translated English': 'And he says to him: If you are the Son of God, go down, for it is written: His angels will command about you, and they will carry you on their hands, so that you will not swallow the stone with your foot.', 'COMET Score': 0.6356, 'SacreBLEU Score': 14.52, 'CHRF Score': 35.88}\n"
          ]
        },
        {
          "name": "stderr",
          "output_type": "stream",
          "text": [
            "INFO:pytorch_lightning.utilities.rank_zero:You are using the plain ModelCheckpoint callback. Consider using LitModelCheckpoint which with seamless uploading to Model registry.\n",
            "INFO:pytorch_lightning.utilities.rank_zero:GPU available: False, used: False\n",
            "INFO:pytorch_lightning.utilities.rank_zero:TPU available: False, using: 0 TPU cores\n",
            "INFO:pytorch_lightning.utilities.rank_zero:HPU available: False, using: 0 HPUs\n",
            "Predicting DataLoader 0: 100%|██████████| 1/1 [00:02<00:00,  2.10s/it]\n",
            "Processing links:  37%|███▋      | 23216/62202 [17:30<157:23:00, 14.53s/it]"
          ]
        },
        {
          "name": "stdout",
          "output_type": "stream",
          "text": [
            "{'English Sentence Numbers': 'b.MAT.4.7.1', 'Dutch Sentence Numbers': 'b.MAT.4.7.1', 'Dutch Source': 'Иисус сказал ему : написано также : не искушай Господа Бога твоего .', 'Reference English': 'Jesus said unto him , It is written again , Thou shalt not tempt the Lord thy God .', 'Translated English': 'Jesus said to him, It is also written: Do not tempt the LORD your God.', 'COMET Score': 0.8117, 'SacreBLEU Score': 22.89, 'CHRF Score': 51.44}\n"
          ]
        },
        {
          "name": "stderr",
          "output_type": "stream",
          "text": [
            "INFO:pytorch_lightning.utilities.rank_zero:You are using the plain ModelCheckpoint callback. Consider using LitModelCheckpoint which with seamless uploading to Model registry.\n",
            "INFO:pytorch_lightning.utilities.rank_zero:GPU available: False, used: False\n",
            "INFO:pytorch_lightning.utilities.rank_zero:TPU available: False, using: 0 TPU cores\n",
            "INFO:pytorch_lightning.utilities.rank_zero:HPU available: False, using: 0 HPUs\n",
            "Predicting DataLoader 0: 100%|██████████| 1/1 [00:02<00:00,  2.39s/it]\n",
            "Processing links:  37%|███▋      | 23217/62202 [17:44<153:22:20, 14.16s/it]"
          ]
        },
        {
          "name": "stdout",
          "output_type": "stream",
          "text": [
            "{'English Sentence Numbers': 'b.MAT.4.8.1', 'Dutch Sentence Numbers': 'b.MAT.4.8.1', 'Dutch Source': 'Опять берет Его диавол на весьма высокую гору и показывает Ему все царства мира и славу их ,', 'Reference English': 'Again , the devil taketh him up into an exceeding high mountain , and sheweth him all the kingdoms of the world , and the glory of them ;', 'Translated English': 'Again the devil takes him to a very high mountain and shows him all the kingdoms of the world and their glory.', 'COMET Score': 0.7498, 'SacreBLEU Score': 25.52, 'CHRF Score': 55.87}\n"
          ]
        },
        {
          "name": "stderr",
          "output_type": "stream",
          "text": [
            "INFO:pytorch_lightning.utilities.rank_zero:You are using the plain ModelCheckpoint callback. Consider using LitModelCheckpoint which with seamless uploading to Model registry.\n",
            "INFO:pytorch_lightning.utilities.rank_zero:GPU available: False, used: False\n",
            "INFO:pytorch_lightning.utilities.rank_zero:TPU available: False, using: 0 TPU cores\n",
            "INFO:pytorch_lightning.utilities.rank_zero:HPU available: False, using: 0 HPUs\n",
            "Predicting DataLoader 0: 100%|██████████| 1/1 [00:01<00:00,  1.63s/it]\n",
            "Processing links:  37%|███▋      | 23218/62202 [17:54<139:27:05, 12.88s/it]"
          ]
        },
        {
          "name": "stdout",
          "output_type": "stream",
          "text": [
            "{'English Sentence Numbers': 'b.MAT.4.9.1', 'Dutch Sentence Numbers': 'b.MAT.4.9.1', 'Dutch Source': 'и говорит Ему : все это дам Тебе , если , пав , поклонишься мне .', 'Reference English': 'And saith unto him , All these things will I give thee , if thou wilt fall down and worship me .', 'Translated English': 'And he says to him, I will give you all this, if you worship me.', 'COMET Score': 0.6605, 'SacreBLEU Score': 10.53, 'CHRF Score': 32.08}\n"
          ]
        },
        {
          "name": "stderr",
          "output_type": "stream",
          "text": [
            "INFO:pytorch_lightning.utilities.rank_zero:You are using the plain ModelCheckpoint callback. Consider using LitModelCheckpoint which with seamless uploading to Model registry.\n",
            "INFO:pytorch_lightning.utilities.rank_zero:GPU available: False, used: False\n",
            "INFO:pytorch_lightning.utilities.rank_zero:TPU available: False, using: 0 TPU cores\n",
            "INFO:pytorch_lightning.utilities.rank_zero:HPU available: False, using: 0 HPUs\n",
            "Predicting DataLoader 0: 100%|██████████| 1/1 [00:02<00:00,  2.67s/it]\n",
            "Processing links:  37%|███▋      | 23219/62202 [18:10<150:26:26, 13.89s/it]"
          ]
        },
        {
          "name": "stdout",
          "output_type": "stream",
          "text": [
            "{'English Sentence Numbers': 'b.MAT.4.10.1, b.MAT.4.10.2', 'Dutch Sentence Numbers': 'b.MAT.4.10.1', 'Dutch Source': 'Тогда Иисус говорит ему : отойди от Меня , сатана , ибонаписано : Господу Богу твоему поклоняйся и Ему одному служи .', 'Reference English': 'Then saith Jesus unto him , Get thee hence , Satan : for it is written , Thou shalt worship the Lord thy God , and him only shalt thou serve .', 'Translated English': 'Then Jesus said to him, ‘Go away from me, Satan, and it is written, ‘Please the Lord your God, and serve Him alone.’', 'COMET Score': 0.6817, 'SacreBLEU Score': 14.76, 'CHRF Score': 37.26}\n"
          ]
        },
        {
          "name": "stderr",
          "output_type": "stream",
          "text": [
            "INFO:pytorch_lightning.utilities.rank_zero:You are using the plain ModelCheckpoint callback. Consider using LitModelCheckpoint which with seamless uploading to Model registry.\n",
            "INFO:pytorch_lightning.utilities.rank_zero:GPU available: False, used: False\n",
            "INFO:pytorch_lightning.utilities.rank_zero:TPU available: False, using: 0 TPU cores\n",
            "INFO:pytorch_lightning.utilities.rank_zero:HPU available: False, using: 0 HPUs\n",
            "Predicting DataLoader 0: 100%|██████████| 1/1 [00:01<00:00,  1.47s/it]\n",
            "Processing links:  37%|███▋      | 23220/62202 [18:19<133:29:37, 12.33s/it]"
          ]
        },
        {
          "name": "stdout",
          "output_type": "stream",
          "text": [
            "{'English Sentence Numbers': 'b.MAT.4.11.1', 'Dutch Sentence Numbers': 'b.MAT.4.11.1', 'Dutch Source': 'Тогда оставляет Его диавол , и се , Ангелы приступили и служили Ему .', 'Reference English': 'Then the devil leaveth him , and , behold , angels came and ministered unto him .', 'Translated English': 'Then the devil leaves him, and the angels came and served him.', 'COMET Score': 0.7016, 'SacreBLEU Score': 21.25, 'CHRF Score': 54.89}\n"
          ]
        },
        {
          "name": "stderr",
          "output_type": "stream",
          "text": [
            "INFO:pytorch_lightning.utilities.rank_zero:You are using the plain ModelCheckpoint callback. Consider using LitModelCheckpoint which with seamless uploading to Model registry.\n",
            "INFO:pytorch_lightning.utilities.rank_zero:GPU available: False, used: False\n",
            "INFO:pytorch_lightning.utilities.rank_zero:TPU available: False, using: 0 TPU cores\n",
            "INFO:pytorch_lightning.utilities.rank_zero:HPU available: False, using: 0 HPUs\n",
            "Predicting DataLoader 0: 100%|██████████| 1/1 [00:01<00:00,  1.44s/it]\n",
            "Processing links:  37%|███▋      | 23221/62202 [18:28<125:00:26, 11.54s/it]"
          ]
        },
        {
          "name": "stdout",
          "output_type": "stream",
          "text": [
            "{'English Sentence Numbers': 'b.MAT.4.12.1', 'Dutch Sentence Numbers': 'b.MAT.4.12.1', 'Dutch Source': 'Услышав же Иисус , что Иоанн отдан под стражу , удалился в Галилею', 'Reference English': 'Now when Jesus had heard that John was cast into prison , he departed into Galilee ;', 'Translated English': 'When Jesus heard that John was taken in custody, he went to Galilee.', 'COMET Score': 0.8353, 'SacreBLEU Score': 18.4, 'CHRF Score': 48.2}\n"
          ]
        },
        {
          "name": "stderr",
          "output_type": "stream",
          "text": [
            "INFO:pytorch_lightning.utilities.rank_zero:You are using the plain ModelCheckpoint callback. Consider using LitModelCheckpoint which with seamless uploading to Model registry.\n",
            "INFO:pytorch_lightning.utilities.rank_zero:GPU available: False, used: False\n",
            "INFO:pytorch_lightning.utilities.rank_zero:TPU available: False, using: 0 TPU cores\n",
            "INFO:pytorch_lightning.utilities.rank_zero:HPU available: False, using: 0 HPUs\n",
            "Predicting DataLoader 0: 100%|██████████| 1/1 [00:01<00:00,  1.97s/it]\n",
            "Processing links:  37%|███▋      | 23222/62202 [18:44<139:59:39, 12.93s/it]"
          ]
        },
        {
          "name": "stdout",
          "output_type": "stream",
          "text": [
            "{'English Sentence Numbers': 'b.MAT.4.13.1', 'Dutch Sentence Numbers': 'b.MAT.4.13.1', 'Dutch Source': 'и , оставив Назарет , пришел и поселился в Капернауме приморском , в пределах Завулоновых и Неффалимовых ,', 'Reference English': 'And leaving Nazareth , he came and dwelt in Capernaum , which is upon the sea coast , in the borders of Zabulon and Nephthalim :', 'Translated English': 'And after leaving Nazareth, he came and settled in Capernaum, the coast of the sea, within the borders of Zabulon and Nephalim,', 'COMET Score': 0.8149, 'SacreBLEU Score': 39.93, 'CHRF Score': 68.36}\n"
          ]
        },
        {
          "name": "stderr",
          "output_type": "stream",
          "text": [
            "INFO:pytorch_lightning.utilities.rank_zero:You are using the plain ModelCheckpoint callback. Consider using LitModelCheckpoint which with seamless uploading to Model registry.\n",
            "INFO:pytorch_lightning.utilities.rank_zero:GPU available: False, used: False\n",
            "INFO:pytorch_lightning.utilities.rank_zero:TPU available: False, using: 0 TPU cores\n",
            "INFO:pytorch_lightning.utilities.rank_zero:HPU available: False, using: 0 HPUs\n",
            "Predicting DataLoader 0: 100%|██████████| 1/1 [00:01<00:00,  1.36s/it]\n",
            "Processing links:  37%|███▋      | 23223/62202 [18:52<123:54:26, 11.44s/it]"
          ]
        },
        {
          "name": "stdout",
          "output_type": "stream",
          "text": [
            "{'English Sentence Numbers': 'b.MAT.4.14.1', 'Dutch Sentence Numbers': 'b.MAT.4.14.1', 'Dutch Source': 'да сбудется реченное через пророка Исаию , который говорит :', 'Reference English': 'That it might be fulfilled which was spoken by Esaias the prophet , saying ,', 'Translated English': 'to be said through the prophet Isaiah, who says:', 'COMET Score': 0.6204, 'SacreBLEU Score': 6.2, 'CHRF Score': 24.92}\n"
          ]
        },
        {
          "name": "stderr",
          "output_type": "stream",
          "text": [
            "INFO:pytorch_lightning.utilities.rank_zero:You are using the plain ModelCheckpoint callback. Consider using LitModelCheckpoint which with seamless uploading to Model registry.\n",
            "INFO:pytorch_lightning.utilities.rank_zero:GPU available: False, used: False\n",
            "INFO:pytorch_lightning.utilities.rank_zero:TPU available: False, using: 0 TPU cores\n",
            "INFO:pytorch_lightning.utilities.rank_zero:HPU available: False, using: 0 HPUs\n",
            "Predicting DataLoader 0: 100%|██████████| 1/1 [00:01<00:00,  1.94s/it]\n",
            "Processing links:  37%|███▋      | 23224/62202 [19:07<133:06:09, 12.29s/it]"
          ]
        },
        {
          "name": "stdout",
          "output_type": "stream",
          "text": [
            "{'English Sentence Numbers': 'b.MAT.4.15.1', 'Dutch Sentence Numbers': 'b.MAT.4.15.1', 'Dutch Source': 'земля Завулонова и земля Неффалимова , на пути приморском , за Иорданом , Галилея языческая ,', 'Reference English': 'The land of Zabulon , and the land of Nephthalim , by the way of the sea , beyond Jordan , Galilee of the Gentiles ;', 'Translated English': 'The land of Zabulon and the land of Nephalimov, on the way of the sea, after the Jordan, Galilee, the pagan,', 'COMET Score': 0.6703, 'SacreBLEU Score': 42.49, 'CHRF Score': 64.96}\n"
          ]
        },
        {
          "name": "stderr",
          "output_type": "stream",
          "text": [
            "INFO:pytorch_lightning.utilities.rank_zero:You are using the plain ModelCheckpoint callback. Consider using LitModelCheckpoint which with seamless uploading to Model registry.\n",
            "INFO:pytorch_lightning.utilities.rank_zero:GPU available: False, used: False\n",
            "INFO:pytorch_lightning.utilities.rank_zero:TPU available: False, using: 0 TPU cores\n",
            "INFO:pytorch_lightning.utilities.rank_zero:HPU available: False, using: 0 HPUs\n",
            "Predicting DataLoader 0: 100%|██████████| 1/1 [00:01<00:00,  1.71s/it]\n",
            "Processing links:  37%|███▋      | 23225/62202 [19:20<136:58:44, 12.65s/it]"
          ]
        },
        {
          "name": "stdout",
          "output_type": "stream",
          "text": [
            "{'English Sentence Numbers': 'b.MAT.4.16.1', 'Dutch Sentence Numbers': 'b.MAT.4.16.1', 'Dutch Source': 'народ , сидящий во тьме , увидел свет великий , и сидящим в стране и тени смертной воссиял свет .', 'Reference English': 'The people which sat in darkness saw great light ; and to them which sat in the region and shadow of death light is sprung up .', 'Translated English': 'The people sitting in the darkness saw the great light, and sitting in the land and the shadow of death lighted.', 'COMET Score': 0.642, 'SacreBLEU Score': 10.14, 'CHRF Score': 50.88}\n"
          ]
        },
        {
          "name": "stderr",
          "output_type": "stream",
          "text": [
            "INFO:pytorch_lightning.utilities.rank_zero:You are using the plain ModelCheckpoint callback. Consider using LitModelCheckpoint which with seamless uploading to Model registry.\n",
            "INFO:pytorch_lightning.utilities.rank_zero:GPU available: False, used: False\n",
            "INFO:pytorch_lightning.utilities.rank_zero:TPU available: False, using: 0 TPU cores\n",
            "INFO:pytorch_lightning.utilities.rank_zero:HPU available: False, using: 0 HPUs\n",
            "Predicting DataLoader 0: 100%|██████████| 1/1 [00:01<00:00,  1.63s/it]\n",
            "Processing links:  37%|███▋      | 23226/62202 [19:33<138:52:30, 12.83s/it]"
          ]
        },
        {
          "name": "stdout",
          "output_type": "stream",
          "text": [
            "{'English Sentence Numbers': 'b.MAT.4.17.1, b.MAT.4.17.2', 'Dutch Sentence Numbers': 'b.MAT.4.17.1', 'Dutch Source': 'С того времени Иисус начал проповедыватьи говорить : покайтесь , ибо приблизилось Царство Небесное .', 'Reference English': 'From that time Jesus began to preach , and to say , Repent : for the kingdom of heaven is at hand .', 'Translated English': 'From that time, Jesus began to preach, saying, “Take torture, for the kingdom of heaven has approached.”', 'COMET Score': 0.6856, 'SacreBLEU Score': 37.49, 'CHRF Score': 63.39}\n"
          ]
        },
        {
          "name": "stderr",
          "output_type": "stream",
          "text": [
            "INFO:pytorch_lightning.utilities.rank_zero:You are using the plain ModelCheckpoint callback. Consider using LitModelCheckpoint which with seamless uploading to Model registry.\n",
            "INFO:pytorch_lightning.utilities.rank_zero:GPU available: False, used: False\n",
            "INFO:pytorch_lightning.utilities.rank_zero:TPU available: False, using: 0 TPU cores\n",
            "INFO:pytorch_lightning.utilities.rank_zero:HPU available: False, using: 0 HPUs\n",
            "Predicting DataLoader 0: 100%|██████████| 1/1 [00:03<00:00,  3.03s/it]\n",
            "Processing links:  37%|███▋      | 23227/62202 [19:53<160:31:55, 14.83s/it]"
          ]
        },
        {
          "name": "stdout",
          "output_type": "stream",
          "text": [
            "{'English Sentence Numbers': 'b.MAT.4.18.1', 'Dutch Sentence Numbers': 'b.MAT.4.18.1', 'Dutch Source': 'Проходя же близ моря Галилейского , Он увидел двух братьев : Симона , называемого Петром , и Андрея , брата его , закидывающих сети в море , ибо они были рыболовы ,', 'Reference English': 'And Jesus , walking by the sea of Galilee , saw two brethren , Simon called Peter , and Andrew his brother , casting a net into the sea : for they were fishers .', 'Translated English': 'And passing near the sea of Galilee, he saw two brothers, Simon, called Peter, and Andrew, his brother, throwing networks into the sea, for they were fishermen.', 'COMET Score': 0.8042, 'SacreBLEU Score': 33.04, 'CHRF Score': 63.85}\n"
          ]
        },
        {
          "name": "stderr",
          "output_type": "stream",
          "text": [
            "INFO:pytorch_lightning.utilities.rank_zero:You are using the plain ModelCheckpoint callback. Consider using LitModelCheckpoint which with seamless uploading to Model registry.\n",
            "INFO:pytorch_lightning.utilities.rank_zero:GPU available: False, used: False\n",
            "INFO:pytorch_lightning.utilities.rank_zero:TPU available: False, using: 0 TPU cores\n",
            "INFO:pytorch_lightning.utilities.rank_zero:HPU available: False, using: 0 HPUs\n",
            "Predicting DataLoader 0: 100%|██████████| 1/1 [00:01<00:00,  1.45s/it]\n",
            "Processing links:  37%|███▋      | 23228/62202 [20:03<145:30:36, 13.44s/it]"
          ]
        },
        {
          "name": "stdout",
          "output_type": "stream",
          "text": [
            "{'English Sentence Numbers': 'b.MAT.4.19.1', 'Dutch Sentence Numbers': 'b.MAT.4.19.1', 'Dutch Source': 'и говорит им : идите за Мною , и Я сделаю вас ловцами человеков .', 'Reference English': 'And he saith unto them , Follow me , and I will make you fishers of men .', 'Translated English': 'And he says to them, Go after me, and I will make you the hunters of men.', 'COMET Score': 0.7114, 'SacreBLEU Score': 41.23, 'CHRF Score': 62.19}\n"
          ]
        },
        {
          "name": "stderr",
          "output_type": "stream",
          "text": [
            "INFO:pytorch_lightning.utilities.rank_zero:You are using the plain ModelCheckpoint callback. Consider using LitModelCheckpoint which with seamless uploading to Model registry.\n",
            "INFO:pytorch_lightning.utilities.rank_zero:GPU available: False, used: False\n",
            "INFO:pytorch_lightning.utilities.rank_zero:TPU available: False, using: 0 TPU cores\n",
            "INFO:pytorch_lightning.utilities.rank_zero:HPU available: False, using: 0 HPUs\n",
            "Predicting DataLoader 0: 100%|██████████| 1/1 [00:01<00:00,  1.24s/it]\n",
            "Processing links:  37%|███▋      | 23229/62202 [20:11<127:09:00, 11.75s/it]"
          ]
        },
        {
          "name": "stdout",
          "output_type": "stream",
          "text": [
            "{'English Sentence Numbers': 'b.MAT.4.20.1', 'Dutch Sentence Numbers': 'b.MAT.4.20.1', 'Dutch Source': 'И они тотчас , оставив сети , последовали за Ним .', 'Reference English': 'And they straightway left their nets , and followed him .', 'Translated English': 'And they immediately, leaving the net, followed him.', 'COMET Score': 0.8189, 'SacreBLEU Score': 18.36, 'CHRF Score': 40.51}\n"
          ]
        },
        {
          "name": "stderr",
          "output_type": "stream",
          "text": [
            "INFO:pytorch_lightning.utilities.rank_zero:You are using the plain ModelCheckpoint callback. Consider using LitModelCheckpoint which with seamless uploading to Model registry.\n",
            "INFO:pytorch_lightning.utilities.rank_zero:GPU available: False, used: False\n",
            "INFO:pytorch_lightning.utilities.rank_zero:TPU available: False, using: 0 TPU cores\n",
            "INFO:pytorch_lightning.utilities.rank_zero:HPU available: False, using: 0 HPUs\n",
            "Predicting DataLoader 0: 100%|██████████| 1/1 [00:05<00:00,  5.47s/it]\n",
            "Processing links:  37%|███▋      | 23230/62202 [20:35<166:05:31, 15.34s/it]"
          ]
        },
        {
          "name": "stdout",
          "output_type": "stream",
          "text": [
            "{'English Sentence Numbers': 'b.MAT.4.21.1, b.MAT.4.21.2', 'Dutch Sentence Numbers': 'b.MAT.4.21.1', 'Dutch Source': 'Оттуда , идя далее , увидел Он других двух братьев , Иакова Зеведеева и Иоанна , брата его , в лодке с Зеведеем , отцом их , починивающих сети свои , и призвал их .', 'Reference English': 'And going on from thence , he saw other two brethren , James the son of Zebedee , and John his brother , in a ship with Zebedee their father , mending their nets ; and he called them .', 'Translated English': 'From there he saw the other two brothers, Jacob Zebedeev and John, his brother, in the boat with Zebedeev, their father, who were refining their networks, and he called them.', 'COMET Score': 0.6015, 'SacreBLEU Score': 22.5, 'CHRF Score': 56.17}\n"
          ]
        },
        {
          "name": "stderr",
          "output_type": "stream",
          "text": [
            "INFO:pytorch_lightning.utilities.rank_zero:You are using the plain ModelCheckpoint callback. Consider using LitModelCheckpoint which with seamless uploading to Model registry.\n",
            "INFO:pytorch_lightning.utilities.rank_zero:GPU available: False, used: False\n",
            "INFO:pytorch_lightning.utilities.rank_zero:TPU available: False, using: 0 TPU cores\n",
            "INFO:pytorch_lightning.utilities.rank_zero:HPU available: False, using: 0 HPUs\n",
            "Predicting DataLoader 0: 100%|██████████| 1/1 [00:01<00:00,  1.33s/it]\n",
            "Processing links:  37%|███▋      | 23231/62202 [20:43<142:17:33, 13.14s/it]"
          ]
        },
        {
          "name": "stdout",
          "output_type": "stream",
          "text": [
            "{'English Sentence Numbers': 'b.MAT.4.22.1', 'Dutch Sentence Numbers': 'b.MAT.4.22.1', 'Dutch Source': 'И они тотчас , оставив лодку и отца своего , последовали за Ним .', 'Reference English': 'And they immediately left the ship and their father , and followed him .', 'Translated English': 'And they immediately left the boat and their father and followed him.', 'COMET Score': 0.886, 'SacreBLEU Score': 53.72, 'CHRF Score': 82.39}\n"
          ]
        },
        {
          "name": "stderr",
          "output_type": "stream",
          "text": [
            "INFO:pytorch_lightning.utilities.rank_zero:You are using the plain ModelCheckpoint callback. Consider using LitModelCheckpoint which with seamless uploading to Model registry.\n",
            "INFO:pytorch_lightning.utilities.rank_zero:GPU available: False, used: False\n",
            "INFO:pytorch_lightning.utilities.rank_zero:TPU available: False, using: 0 TPU cores\n",
            "INFO:pytorch_lightning.utilities.rank_zero:HPU available: False, using: 0 HPUs\n",
            "Predicting DataLoader 0: 100%|██████████| 1/1 [00:02<00:00,  2.45s/it]\n",
            "Processing links:  37%|███▋      | 23232/62202 [21:03<166:46:14, 15.41s/it]"
          ]
        },
        {
          "name": "stdout",
          "output_type": "stream",
          "text": [
            "{'English Sentence Numbers': 'b.MAT.4.23.1', 'Dutch Sentence Numbers': 'b.MAT.4.23.1', 'Dutch Source': 'И ходил Иисус по всей Галилее , уча в синагогах их и проповедуя Евангелие Царствия , и исцеляя всякую болезнь и всякую немощь в людях .', 'Reference English': 'And Jesus went about all Galilee , teaching in their synagogues , and preaching the gospel of the kingdom , and healing all manner of sickness and all manner of disease among the people .', 'Translated English': 'And Jesus walked throughout the whole of Galilee, teaching in their synagogues, and preaching the gospel of the kingdom, and healing all sickness and all illness in the people.', 'COMET Score': 0.8585, 'SacreBLEU Score': 59.83, 'CHRF Score': 73.04}\n"
          ]
        },
        {
          "name": "stderr",
          "output_type": "stream",
          "text": [
            "INFO:pytorch_lightning.utilities.rank_zero:You are using the plain ModelCheckpoint callback. Consider using LitModelCheckpoint which with seamless uploading to Model registry.\n",
            "INFO:pytorch_lightning.utilities.rank_zero:GPU available: False, used: False\n",
            "INFO:pytorch_lightning.utilities.rank_zero:TPU available: False, using: 0 TPU cores\n",
            "INFO:pytorch_lightning.utilities.rank_zero:HPU available: False, using: 0 HPUs\n",
            "Predicting DataLoader 0: 100%|██████████| 1/1 [00:04<00:00,  4.25s/it]\n",
            "Processing links:  37%|███▋      | 23233/62202 [21:28<196:01:01, 18.11s/it]"
          ]
        },
        {
          "name": "stdout",
          "output_type": "stream",
          "text": [
            "{'English Sentence Numbers': 'b.MAT.4.24.1, b.MAT.4.24.2', 'Dutch Sentence Numbers': 'b.MAT.4.24.1', 'Dutch Source': 'И прошел о Нем слух по всей Сирии ; и приводили к Нему всех немощных , одержимых различными болезнями и припадками , и бесноватых , и лунатиков , и расслабленных , и Он исцелял их .', 'Reference English': 'And his fame went throughout all Syria : and they brought unto him all sick people that were taken with divers diseases and torments , and those which were possessed with devils , and those which were lunatick , and those that had the palsy ; and he healed them .', 'Translated English': 'And a hearing came about him throughout Syria, and they brought to him all the weak, who were affected by various diseases and attacks, and the wicked, and the lunar, and the relaxed, and he healed them.', 'COMET Score': 0.667, 'SacreBLEU Score': 13.47, 'CHRF Score': 40.5}\n"
          ]
        },
        {
          "name": "stderr",
          "output_type": "stream",
          "text": [
            "INFO:pytorch_lightning.utilities.rank_zero:You are using the plain ModelCheckpoint callback. Consider using LitModelCheckpoint which with seamless uploading to Model registry.\n",
            "INFO:pytorch_lightning.utilities.rank_zero:GPU available: False, used: False\n",
            "INFO:pytorch_lightning.utilities.rank_zero:TPU available: False, using: 0 TPU cores\n",
            "INFO:pytorch_lightning.utilities.rank_zero:HPU available: False, using: 0 HPUs\n",
            "Predicting DataLoader 0: 100%|██████████| 1/1 [00:02<00:00,  2.00s/it]\n",
            "Processing links:  37%|███▋      | 23234/62202 [21:43<188:12:57, 17.39s/it]"
          ]
        },
        {
          "name": "stdout",
          "output_type": "stream",
          "text": [
            "{'English Sentence Numbers': 'b.MAT.4.25.1', 'Dutch Sentence Numbers': 'b.MAT.4.25.1', 'Dutch Source': 'И следовало за Ним множество народа из Галилеи иДесятиградия , и Иерусалима , и Иудеи , и из-за Иордана .', 'Reference English': 'And there followed him great multitudes of people from Galilee , and from Decapolis , and from Jerusalem , and from Judaea , and from beyond Jordan .', 'Translated English': 'And a great multitude of people followed him from Galilee and the Ten-Grad, and Jerusalem, and the Jews, and from the outside of Jordan.', 'COMET Score': 0.7405, 'SacreBLEU Score': 13.66, 'CHRF Score': 55.97}\n"
          ]
        },
        {
          "name": "stderr",
          "output_type": "stream",
          "text": [
            "INFO:pytorch_lightning.utilities.rank_zero:You are using the plain ModelCheckpoint callback. Consider using LitModelCheckpoint which with seamless uploading to Model registry.\n",
            "INFO:pytorch_lightning.utilities.rank_zero:GPU available: False, used: False\n",
            "INFO:pytorch_lightning.utilities.rank_zero:TPU available: False, using: 0 TPU cores\n",
            "INFO:pytorch_lightning.utilities.rank_zero:HPU available: False, using: 0 HPUs\n",
            "Predicting DataLoader 0: 100%|██████████| 1/1 [00:01<00:00,  1.71s/it]\n",
            "Processing links:  37%|███▋      | 23235/62202 [21:56<172:59:40, 15.98s/it]"
          ]
        },
        {
          "name": "stdout",
          "output_type": "stream",
          "text": [
            "{'English Sentence Numbers': 'b.MAT.5.1.1, b.MAT.5.1.2', 'Dutch Sentence Numbers': 'b.MAT.5.1.1', 'Dutch Source': 'Увидев народ , Он взошел на гору ; и , когда сел , приступили к Нему ученики Его .', 'Reference English': 'And seeing the multitudes , he went up into a mountain : and when he was set , his disciples came unto him :', 'Translated English': 'When he saw the people, he went up to the mountain, and when he sat, his disciples came to him.', 'COMET Score': 0.7323, 'SacreBLEU Score': 25.74, 'CHRF Score': 50.27}\n"
          ]
        },
        {
          "name": "stderr",
          "output_type": "stream",
          "text": [
            "INFO:pytorch_lightning.utilities.rank_zero:You are using the plain ModelCheckpoint callback. Consider using LitModelCheckpoint which with seamless uploading to Model registry.\n",
            "INFO:pytorch_lightning.utilities.rank_zero:GPU available: False, used: False\n",
            "INFO:pytorch_lightning.utilities.rank_zero:TPU available: False, using: 0 TPU cores\n",
            "INFO:pytorch_lightning.utilities.rank_zero:HPU available: False, using: 0 HPUs\n",
            "Predicting DataLoader 0: 100%|██████████| 1/1 [00:01<00:00,  1.26s/it]\n",
            "Processing links:  37%|███▋      | 23236/62202 [22:04<145:48:35, 13.47s/it]"
          ]
        },
        {
          "name": "stdout",
          "output_type": "stream",
          "text": [
            "{'English Sentence Numbers': 'b.MAT.5.2.1', 'Dutch Sentence Numbers': 'b.MAT.5.2.1', 'Dutch Source': 'И Он , отверзши уста Свои , учил их , говоря :', 'Reference English': 'And he opened his mouth , and taught them , saying ,', 'Translated English': 'And he opened his mouth, and taught them, saying,', 'COMET Score': 0.9113, 'SacreBLEU Score': 100.0, 'CHRF Score': 100.0}\n"
          ]
        },
        {
          "name": "stderr",
          "output_type": "stream",
          "text": [
            "INFO:pytorch_lightning.utilities.rank_zero:You are using the plain ModelCheckpoint callback. Consider using LitModelCheckpoint which with seamless uploading to Model registry.\n",
            "INFO:pytorch_lightning.utilities.rank_zero:GPU available: False, used: False\n",
            "INFO:pytorch_lightning.utilities.rank_zero:TPU available: False, using: 0 TPU cores\n",
            "INFO:pytorch_lightning.utilities.rank_zero:HPU available: False, using: 0 HPUs\n",
            "Predicting DataLoader 0: 100%|██████████| 1/1 [00:01<00:00,  1.37s/it]\n",
            "Processing links:  37%|███▋      | 23237/62202 [22:14<134:44:29, 12.45s/it]"
          ]
        },
        {
          "name": "stdout",
          "output_type": "stream",
          "text": [
            "{'English Sentence Numbers': 'b.MAT.5.3.1', 'Dutch Sentence Numbers': 'b.MAT.5.3.1', 'Dutch Source': 'Блаженны нищие духом , ибо их есть Царство Небесное .', 'Reference English': 'Blessed are the poor in spirit : for theirs is the kingdom of heaven .', 'Translated English': 'Blessed are the poor with the spirit, for they are the kingdom of heaven.', 'COMET Score': 0.7782, 'SacreBLEU Score': 40.33, 'CHRF Score': 70.24}\n"
          ]
        },
        {
          "name": "stderr",
          "output_type": "stream",
          "text": [
            "INFO:pytorch_lightning.utilities.rank_zero:You are using the plain ModelCheckpoint callback. Consider using LitModelCheckpoint which with seamless uploading to Model registry.\n",
            "INFO:pytorch_lightning.utilities.rank_zero:GPU available: False, used: False\n",
            "INFO:pytorch_lightning.utilities.rank_zero:TPU available: False, using: 0 TPU cores\n",
            "INFO:pytorch_lightning.utilities.rank_zero:HPU available: False, using: 0 HPUs\n",
            "Predicting DataLoader 0: 100%|██████████| 1/1 [00:01<00:00,  1.31s/it]\n",
            "Processing links:  37%|███▋      | 23238/62202 [22:22<121:48:30, 11.25s/it]"
          ]
        },
        {
          "name": "stdout",
          "output_type": "stream",
          "text": [
            "{'English Sentence Numbers': 'b.MAT.5.4.1', 'Dutch Sentence Numbers': 'b.MAT.5.4.1', 'Dutch Source': 'Блаженны плачущие , ибо они утешатся .', 'Reference English': 'Blessed are they that mourn : for they shall be comforted .', 'Translated English': 'Blessed are the crying, for they will be comforted.', 'COMET Score': 0.7715, 'SacreBLEU Score': 18.72, 'CHRF Score': 60.26}\n"
          ]
        },
        {
          "name": "stderr",
          "output_type": "stream",
          "text": [
            "INFO:pytorch_lightning.utilities.rank_zero:You are using the plain ModelCheckpoint callback. Consider using LitModelCheckpoint which with seamless uploading to Model registry.\n",
            "INFO:pytorch_lightning.utilities.rank_zero:GPU available: False, used: False\n",
            "INFO:pytorch_lightning.utilities.rank_zero:TPU available: False, using: 0 TPU cores\n",
            "INFO:pytorch_lightning.utilities.rank_zero:HPU available: False, using: 0 HPUs\n",
            "Predicting DataLoader 0: 100%|██████████| 1/1 [00:01<00:00,  1.52s/it]\n",
            "Processing links:  37%|███▋      | 23239/62202 [22:31<113:46:00, 10.51s/it]"
          ]
        },
        {
          "name": "stdout",
          "output_type": "stream",
          "text": [
            "{'English Sentence Numbers': 'b.MAT.5.5.1', 'Dutch Sentence Numbers': 'b.MAT.5.5.1', 'Dutch Source': 'Блаженны кроткие , ибо они наследуют землю .', 'Reference English': 'Blessed are the meek : for they shall inherit the earth .', 'Translated English': 'Blessed are the humble, for they inherit the earth.', 'COMET Score': 0.8746, 'SacreBLEU Score': 34.53, 'CHRF Score': 67.53}\n"
          ]
        },
        {
          "name": "stderr",
          "output_type": "stream",
          "text": [
            "INFO:pytorch_lightning.utilities.rank_zero:You are using the plain ModelCheckpoint callback. Consider using LitModelCheckpoint which with seamless uploading to Model registry.\n",
            "INFO:pytorch_lightning.utilities.rank_zero:GPU available: False, used: False\n",
            "INFO:pytorch_lightning.utilities.rank_zero:TPU available: False, using: 0 TPU cores\n",
            "INFO:pytorch_lightning.utilities.rank_zero:HPU available: False, using: 0 HPUs\n",
            "Predicting DataLoader 0: 100%|██████████| 1/1 [00:01<00:00,  1.46s/it]\n",
            "Processing links:  37%|███▋      | 23240/62202 [22:42<113:33:57, 10.49s/it]"
          ]
        },
        {
          "name": "stdout",
          "output_type": "stream",
          "text": [
            "{'English Sentence Numbers': 'b.MAT.5.6.1', 'Dutch Sentence Numbers': 'b.MAT.5.6.1', 'Dutch Source': 'Блаженны алчущие и жаждущие правды , ибо они насытятся .', 'Reference English': 'Blessed are they which do hunger and thirst after righteousness : for they shall be filled .', 'Translated English': 'Blessed are the hungry and thirsty of truth, for they will be saturated.', 'COMET Score': 0.7297, 'SacreBLEU Score': 7.48, 'CHRF Score': 42.23}\n"
          ]
        },
        {
          "name": "stderr",
          "output_type": "stream",
          "text": [
            "INFO:pytorch_lightning.utilities.rank_zero:You are using the plain ModelCheckpoint callback. Consider using LitModelCheckpoint which with seamless uploading to Model registry.\n",
            "INFO:pytorch_lightning.utilities.rank_zero:GPU available: False, used: False\n",
            "INFO:pytorch_lightning.utilities.rank_zero:TPU available: False, using: 0 TPU cores\n",
            "INFO:pytorch_lightning.utilities.rank_zero:HPU available: False, using: 0 HPUs\n",
            "Predicting DataLoader 0: 100%|██████████| 1/1 [00:01<00:00,  1.29s/it]\n",
            "Processing links:  37%|███▋      | 23241/62202 [22:51<108:57:57, 10.07s/it]"
          ]
        },
        {
          "name": "stdout",
          "output_type": "stream",
          "text": [
            "{'English Sentence Numbers': 'b.MAT.5.7.1', 'Dutch Sentence Numbers': 'b.MAT.5.7.1', 'Dutch Source': 'Блаженны милостивые , ибо они помилованы будут .', 'Reference English': 'Blessed are the merciful : for they shall obtain mercy .', 'Translated English': 'Blessed are the mercyful, for they will be mercyful.', 'COMET Score': 0.795, 'SacreBLEU Score': 18.36, 'CHRF Score': 53.92}\n"
          ]
        },
        {
          "name": "stderr",
          "output_type": "stream",
          "text": [
            "INFO:pytorch_lightning.utilities.rank_zero:You are using the plain ModelCheckpoint callback. Consider using LitModelCheckpoint which with seamless uploading to Model registry.\n",
            "INFO:pytorch_lightning.utilities.rank_zero:GPU available: False, used: False\n",
            "INFO:pytorch_lightning.utilities.rank_zero:TPU available: False, using: 0 TPU cores\n",
            "INFO:pytorch_lightning.utilities.rank_zero:HPU available: False, using: 0 HPUs\n",
            "Predicting DataLoader 0: 100%|██████████| 1/1 [00:01<00:00,  1.59s/it]\n",
            "Processing links:  37%|███▋      | 23242/62202 [23:00<107:08:12,  9.90s/it]"
          ]
        },
        {
          "name": "stdout",
          "output_type": "stream",
          "text": [
            "{'English Sentence Numbers': 'b.MAT.5.8.1', 'Dutch Sentence Numbers': 'b.MAT.5.8.1', 'Dutch Source': 'Блаженны чистые сердцем , ибо они Бога узрят .', 'Reference English': 'Blessed are the pure in heart : for they shall see God .', 'Translated English': 'Blessed are those who are pure with their hearts, for they see God.', 'COMET Score': 0.8705, 'SacreBLEU Score': 14.87, 'CHRF Score': 57.58}\n"
          ]
        },
        {
          "name": "stderr",
          "output_type": "stream",
          "text": [
            "INFO:pytorch_lightning.utilities.rank_zero:You are using the plain ModelCheckpoint callback. Consider using LitModelCheckpoint which with seamless uploading to Model registry.\n",
            "INFO:pytorch_lightning.utilities.rank_zero:GPU available: False, used: False\n",
            "INFO:pytorch_lightning.utilities.rank_zero:TPU available: False, using: 0 TPU cores\n",
            "INFO:pytorch_lightning.utilities.rank_zero:HPU available: False, using: 0 HPUs\n",
            "Predicting DataLoader 0: 100%|██████████| 1/1 [00:01<00:00,  1.37s/it]\n",
            "Processing links:  37%|███▋      | 23243/62202 [23:09<104:05:02,  9.62s/it]"
          ]
        },
        {
          "name": "stdout",
          "output_type": "stream",
          "text": [
            "{'English Sentence Numbers': 'b.MAT.5.9.1', 'Dutch Sentence Numbers': 'b.MAT.5.9.1', 'Dutch Source': 'Блаженны миротворцы , ибо они будут наречены сынами Божиими .', 'Reference English': 'Blessed are the peacemakers : for they shall be called the children of God .', 'Translated English': 'Blessed are the peace makers, for they will be called the sons of God.', 'COMET Score': 0.9227, 'SacreBLEU Score': 22.68, 'CHRF Score': 69.19}\n"
          ]
        },
        {
          "name": "stderr",
          "output_type": "stream",
          "text": [
            "INFO:pytorch_lightning.utilities.rank_zero:You are using the plain ModelCheckpoint callback. Consider using LitModelCheckpoint which with seamless uploading to Model registry.\n",
            "INFO:pytorch_lightning.utilities.rank_zero:GPU available: False, used: False\n",
            "INFO:pytorch_lightning.utilities.rank_zero:TPU available: False, using: 0 TPU cores\n",
            "INFO:pytorch_lightning.utilities.rank_zero:HPU available: False, using: 0 HPUs\n",
            "Predicting DataLoader 0: 100%|██████████| 1/1 [00:01<00:00,  1.52s/it]\n",
            "Processing links:  37%|███▋      | 23244/62202 [23:20<108:57:14, 10.07s/it]"
          ]
        },
        {
          "name": "stdout",
          "output_type": "stream",
          "text": [
            "{'English Sentence Numbers': 'b.MAT.5.10.1', 'Dutch Sentence Numbers': 'b.MAT.5.10.1', 'Dutch Source': 'Блаженны изгнанные за правду , ибо их есть Царство Небесное .', 'Reference English': \"Blessed are they which are persecuted for righteousness ' sake : for theirs is the kingdom of heaven .\", 'Translated English': 'Blessed are those who are exiled for the truth, for they are the kingdom of heaven.', 'COMET Score': 0.6936, 'SacreBLEU Score': 24.49, 'CHRF Score': 47.99}\n"
          ]
        },
        {
          "name": "stderr",
          "output_type": "stream",
          "text": [
            "INFO:pytorch_lightning.utilities.rank_zero:You are using the plain ModelCheckpoint callback. Consider using LitModelCheckpoint which with seamless uploading to Model registry.\n",
            "INFO:pytorch_lightning.utilities.rank_zero:GPU available: False, used: False\n",
            "INFO:pytorch_lightning.utilities.rank_zero:TPU available: False, using: 0 TPU cores\n",
            "INFO:pytorch_lightning.utilities.rank_zero:HPU available: False, using: 0 HPUs\n",
            "Predicting DataLoader 0: 100%|██████████| 1/1 [00:01<00:00,  1.77s/it]\n",
            "Processing links:  37%|███▋      | 23245/62202 [23:34<119:21:03, 11.03s/it]"
          ]
        },
        {
          "name": "stdout",
          "output_type": "stream",
          "text": [
            "{'English Sentence Numbers': 'b.MAT.5.11.1', 'Dutch Sentence Numbers': 'b.MAT.5.11.1', 'Dutch Source': 'Блаженны вы , когда будут поносить вас и гнать и всячески неправедно злословить за Меня .', 'Reference English': 'Blessed are ye , when men shall revile you , and persecute you , and shall say all manner of evil against you falsely , for my sake .', 'Translated English': 'Blessed are you when they will endure you and disgrace you and disgrace me in any way.', 'COMET Score': 0.4729, 'SacreBLEU Score': 3.4, 'CHRF Score': 23.76}\n"
          ]
        },
        {
          "name": "stderr",
          "output_type": "stream",
          "text": [
            "INFO:pytorch_lightning.utilities.rank_zero:You are using the plain ModelCheckpoint callback. Consider using LitModelCheckpoint which with seamless uploading to Model registry.\n",
            "INFO:pytorch_lightning.utilities.rank_zero:GPU available: False, used: False\n",
            "INFO:pytorch_lightning.utilities.rank_zero:TPU available: False, using: 0 TPU cores\n",
            "INFO:pytorch_lightning.utilities.rank_zero:HPU available: False, using: 0 HPUs\n",
            "Predicting DataLoader 0: 100%|██████████| 1/1 [00:01<00:00,  1.77s/it]\n",
            "Processing links:  37%|███▋      | 23246/62202 [23:49<132:59:07, 12.29s/it]"
          ]
        },
        {
          "name": "stdout",
          "output_type": "stream",
          "text": [
            "{'English Sentence Numbers': 'b.MAT.5.12.1, b.MAT.5.12.2', 'Dutch Sentence Numbers': 'b.MAT.5.12.1', 'Dutch Source': 'Радуйтесь и веселитесь , ибо велика ваша награда на небесах : так гнали и пророков , бывших прежде вас .', 'Reference English': 'Rejoice , and be exceeding glad : for great is your reward in heaven : for so persecuted they the prophets which were before you .', 'Translated English': 'Rejoice and rejoice, for your reward is great in the heavens; so have the prophets who were before you been wasted.', 'COMET Score': 0.6693, 'SacreBLEU Score': 9.74, 'CHRF Score': 49.92}\n"
          ]
        },
        {
          "name": "stderr",
          "output_type": "stream",
          "text": [
            "INFO:pytorch_lightning.utilities.rank_zero:You are using the plain ModelCheckpoint callback. Consider using LitModelCheckpoint which with seamless uploading to Model registry.\n",
            "INFO:pytorch_lightning.utilities.rank_zero:GPU available: False, used: False\n",
            "INFO:pytorch_lightning.utilities.rank_zero:TPU available: False, using: 0 TPU cores\n",
            "INFO:pytorch_lightning.utilities.rank_zero:HPU available: False, using: 0 HPUs\n",
            "Predicting DataLoader 0: 100%|██████████| 1/1 [00:02<00:00,  2.51s/it]\n",
            "Processing links:  37%|███▋      | 23247/62202 [24:08<154:29:30, 14.28s/it]"
          ]
        },
        {
          "name": "stdout",
          "output_type": "stream",
          "text": [
            "{'English Sentence Numbers': 'b.MAT.5.13.1, b.MAT.5.13.2', 'Dutch Sentence Numbers': 'b.MAT.5.13.1, b.MAT.5.13.2, b.MAT.5.13.3', 'Dutch Source': 'Вы - соль земли . Если же соль потеряет силу , то чем сделаешь ее соленою ? Она уже ни к чему негодна , как разве выбросить еевон на попрание людям .', 'Reference English': 'Ye are the salt of the earth : but if the salt have lost his savour , wherewith shall it be salted ? it is thenceforth good for nothing , but to be cast out , and to be trodden under foot of men .', 'Translated English': 'You are the salt of the earth; but if the salt loses its strength, what will you make it salt? it is no matter how to throw it out to repay people.', 'COMET Score': 0.48, 'SacreBLEU Score': 19.29, 'CHRF Score': 33.98}\n"
          ]
        },
        {
          "name": "stderr",
          "output_type": "stream",
          "text": [
            "INFO:pytorch_lightning.utilities.rank_zero:You are using the plain ModelCheckpoint callback. Consider using LitModelCheckpoint which with seamless uploading to Model registry.\n",
            "INFO:pytorch_lightning.utilities.rank_zero:GPU available: False, used: False\n",
            "INFO:pytorch_lightning.utilities.rank_zero:TPU available: False, using: 0 TPU cores\n",
            "INFO:pytorch_lightning.utilities.rank_zero:HPU available: False, using: 0 HPUs\n",
            "Predicting DataLoader 0: 100%|██████████| 1/1 [00:01<00:00,  1.58s/it]\n",
            "Processing links:  37%|███▋      | 23248/62202 [24:19<145:21:01, 13.43s/it]"
          ]
        },
        {
          "name": "stdout",
          "output_type": "stream",
          "text": [
            "{'English Sentence Numbers': 'b.MAT.5.14.1, b.MAT.5.14.2', 'Dutch Sentence Numbers': 'b.MAT.5.14.1, b.MAT.5.14.2', 'Dutch Source': 'Вы - свет мира . Не может укрыться город , стоящий на верху горы .', 'Reference English': 'Ye are the light of the world . A city that is set on an hill cannot be hid .', 'Translated English': 'You are the light of the world.The city standing on the top of the mountain cannot be hidden.', 'COMET Score': 0.7514, 'SacreBLEU Score': 32.89, 'CHRF Score': 56.26}\n"
          ]
        },
        {
          "name": "stderr",
          "output_type": "stream",
          "text": [
            "INFO:pytorch_lightning.utilities.rank_zero:You are using the plain ModelCheckpoint callback. Consider using LitModelCheckpoint which with seamless uploading to Model registry.\n",
            "INFO:pytorch_lightning.utilities.rank_zero:GPU available: False, used: False\n",
            "INFO:pytorch_lightning.utilities.rank_zero:TPU available: False, using: 0 TPU cores\n",
            "INFO:pytorch_lightning.utilities.rank_zero:HPU available: False, using: 0 HPUs\n",
            "Predicting DataLoader 0: 100%|██████████| 1/1 [00:01<00:00,  1.98s/it]\n",
            "Processing links:  37%|███▋      | 23249/62202 [24:35<152:17:54, 14.08s/it]"
          ]
        },
        {
          "name": "stdout",
          "output_type": "stream",
          "text": [
            "{'English Sentence Numbers': 'b.MAT.5.15.1', 'Dutch Sentence Numbers': 'b.MAT.5.15.1', 'Dutch Source': 'И , зажегши свечу , не ставят ее под сосудом , но на подсвечнике , и светит всем в доме .', 'Reference English': 'Neither do men light a candle , and put it under a bushel , but on a candlestick ; and it giveth light unto all that are in the house .', 'Translated English': 'And when the candle is burned, they will not put it under the vessel, but on the candle, and it will shine all in the house.', 'COMET Score': 0.5613, 'SacreBLEU Score': 17.77, 'CHRF Score': 42.28}\n"
          ]
        },
        {
          "name": "stderr",
          "output_type": "stream",
          "text": [
            "INFO:pytorch_lightning.utilities.rank_zero:You are using the plain ModelCheckpoint callback. Consider using LitModelCheckpoint which with seamless uploading to Model registry.\n",
            "INFO:pytorch_lightning.utilities.rank_zero:GPU available: False, used: False\n",
            "INFO:pytorch_lightning.utilities.rank_zero:TPU available: False, using: 0 TPU cores\n",
            "INFO:pytorch_lightning.utilities.rank_zero:HPU available: False, using: 0 HPUs\n",
            "Predicting DataLoader 0: 100%|██████████| 1/1 [00:01<00:00,  1.62s/it]\n",
            "Processing links:  37%|███▋      | 23250/62202 [24:48<149:06:16, 13.78s/it]"
          ]
        },
        {
          "name": "stdout",
          "output_type": "stream",
          "text": [
            "{'English Sentence Numbers': 'b.MAT.5.16.1', 'Dutch Sentence Numbers': 'b.MAT.5.16.1', 'Dutch Source': 'Так да светит свет ваш пред людьми , чтобы они видели ваши добрые дела и прославляли Отца вашего Небесного .', 'Reference English': 'Let your light so shine before men , that they may see your good works , and glorify your Father which is in heaven .', 'Translated English': 'So let your light shine before men, so that they may see your good works and glorify your Heavenly Father.', 'COMET Score': 0.8678, 'SacreBLEU Score': 41.66, 'CHRF Score': 72.02}\n"
          ]
        },
        {
          "name": "stderr",
          "output_type": "stream",
          "text": [
            "INFO:pytorch_lightning.utilities.rank_zero:You are using the plain ModelCheckpoint callback. Consider using LitModelCheckpoint which with seamless uploading to Model registry.\n",
            "INFO:pytorch_lightning.utilities.rank_zero:GPU available: False, used: False\n",
            "INFO:pytorch_lightning.utilities.rank_zero:TPU available: False, using: 0 TPU cores\n",
            "INFO:pytorch_lightning.utilities.rank_zero:HPU available: False, using: 0 HPUs\n",
            "Predicting DataLoader 0: 100%|██████████| 1/1 [00:01<00:00,  1.72s/it]\n",
            "Processing links:  37%|███▋      | 23251/62202 [25:01<148:31:33, 13.73s/it]"
          ]
        },
        {
          "name": "stdout",
          "output_type": "stream",
          "text": [
            "{'English Sentence Numbers': 'b.MAT.5.17.1, b.MAT.5.17.2', 'Dutch Sentence Numbers': 'b.MAT.5.17.1', 'Dutch Source': 'Не думайте , что Я пришел нарушить закон или пророков : не нарушить пришел Я , но исполнить .', 'Reference English': 'Think not that I am come to destroy the law , or the prophets : I am not come to destroy , but to fulfil .', 'Translated English': 'Do not think that I have come to violate the law or the prophets; I have come not to violate, but to fulfill.', 'COMET Score': 0.803, 'SacreBLEU Score': 13.69, 'CHRF Score': 47.66}\n"
          ]
        },
        {
          "name": "stderr",
          "output_type": "stream",
          "text": [
            "INFO:pytorch_lightning.utilities.rank_zero:You are using the plain ModelCheckpoint callback. Consider using LitModelCheckpoint which with seamless uploading to Model registry.\n",
            "INFO:pytorch_lightning.utilities.rank_zero:GPU available: False, used: False\n",
            "INFO:pytorch_lightning.utilities.rank_zero:TPU available: False, using: 0 TPU cores\n",
            "INFO:pytorch_lightning.utilities.rank_zero:HPU available: False, using: 0 HPUs\n",
            "Predicting DataLoader 0: 100%|██████████| 1/1 [00:02<00:00,  2.12s/it]\n",
            "Processing links:  37%|███▋      | 23252/62202 [25:20<163:01:43, 15.07s/it]"
          ]
        },
        {
          "name": "stdout",
          "output_type": "stream",
          "text": [
            "{'English Sentence Numbers': 'b.MAT.5.18.1', 'Dutch Sentence Numbers': 'b.MAT.5.18.1', 'Dutch Source': 'Ибо истинно говорю вам : доколе не прейдет небо и земля , ни одна иота или ни одна черта не прейдет из закона , пока не исполнится все .', 'Reference English': 'For verily I say unto you , Till heaven and earth pass , one jot or one tittle shall in no wise pass from the law , till all be fulfilled .', 'Translated English': 'For truly I tell you, until the heavens and the earth pass, none of the youths and none of the traits will pass from the law, until all things are fulfilled.', 'COMET Score': 0.5893, 'SacreBLEU Score': 16.9, 'CHRF Score': 44.77}\n"
          ]
        },
        {
          "name": "stderr",
          "output_type": "stream",
          "text": [
            "INFO:pytorch_lightning.utilities.rank_zero:You are using the plain ModelCheckpoint callback. Consider using LitModelCheckpoint which with seamless uploading to Model registry.\n",
            "INFO:pytorch_lightning.utilities.rank_zero:GPU available: False, used: False\n",
            "INFO:pytorch_lightning.utilities.rank_zero:TPU available: False, using: 0 TPU cores\n",
            "INFO:pytorch_lightning.utilities.rank_zero:HPU available: False, using: 0 HPUs\n",
            "Predicting DataLoader 0: 100%|██████████| 1/1 [00:02<00:00,  2.93s/it]\n",
            "Processing links:  37%|███▋      | 23253/62202 [25:45<195:05:20, 18.03s/it]"
          ]
        },
        {
          "name": "stdout",
          "output_type": "stream",
          "text": [
            "{'English Sentence Numbers': 'b.MAT.5.19.1', 'Dutch Sentence Numbers': 'b.MAT.5.19.1', 'Dutch Source': 'Итак , кто нарушит одну из заповедей сих малейших и научит так людей , тот малейшим наречется в Царстве Небесном ; а кто сотворит и научит , тот великим наречется в Царстве Небесном .', 'Reference English': 'Whosoever therefore shall break one of these least commandments , and shall teach men so , he shall be called the least in the kingdom of heaven : but whosoever shall do and teach them , the same shall be called great in the kingdom of heaven .', 'Translated English': 'So whoever breaches one of these smallest commandments and teaches the people, the smallest shall be called in the kingdom of heaven; and whoever creates and teaches, the greatest shall be called in the kingdom of heaven.', 'COMET Score': 0.6998, 'SacreBLEU Score': 25.88, 'CHRF Score': 56.83}\n"
          ]
        },
        {
          "name": "stderr",
          "output_type": "stream",
          "text": [
            "INFO:pytorch_lightning.utilities.rank_zero:You are using the plain ModelCheckpoint callback. Consider using LitModelCheckpoint which with seamless uploading to Model registry.\n",
            "INFO:pytorch_lightning.utilities.rank_zero:GPU available: False, used: False\n",
            "INFO:pytorch_lightning.utilities.rank_zero:TPU available: False, using: 0 TPU cores\n",
            "INFO:pytorch_lightning.utilities.rank_zero:HPU available: False, using: 0 HPUs\n",
            "Predicting DataLoader 0: 100%|██████████| 1/1 [00:02<00:00,  2.88s/it]\n",
            "Processing links:  37%|███▋      | 23254/62202 [26:04<200:11:02, 18.50s/it]"
          ]
        },
        {
          "name": "stdout",
          "output_type": "stream",
          "text": [
            "{'English Sentence Numbers': 'b.MAT.5.20.1', 'Dutch Sentence Numbers': 'b.MAT.5.20.1', 'Dutch Source': 'Ибо , говорю вам , если праведность ваша не превзойдет праведности книжников и фарисеев , то вы не войдете в Царство Небесное .', 'Reference English': 'For I say unto you , That except your righteousness shall exceed the righteousness of the scribes and Pharisees , ye shall in no case enter into the kingdom of heaven .', 'Translated English': 'For I tell you, if your righteousness does not exceed the righteousness of the writers and of the Pharisees, then you will not enter the kingdom of heaven.', 'COMET Score': 0.7931, 'SacreBLEU Score': 28.61, 'CHRF Score': 57.71}\n"
          ]
        },
        {
          "name": "stderr",
          "output_type": "stream",
          "text": [
            "INFO:pytorch_lightning.utilities.rank_zero:You are using the plain ModelCheckpoint callback. Consider using LitModelCheckpoint which with seamless uploading to Model registry.\n",
            "INFO:pytorch_lightning.utilities.rank_zero:GPU available: False, used: False\n",
            "INFO:pytorch_lightning.utilities.rank_zero:TPU available: False, using: 0 TPU cores\n",
            "INFO:pytorch_lightning.utilities.rank_zero:HPU available: False, using: 0 HPUs\n",
            "Predicting DataLoader 0: 100%|██████████| 1/1 [00:02<00:00,  2.15s/it]\n",
            "Processing links:  37%|███▋      | 23255/62202 [26:17<182:04:45, 16.83s/it]"
          ]
        },
        {
          "name": "stdout",
          "output_type": "stream",
          "text": [
            "{'English Sentence Numbers': 'b.MAT.5.21.1', 'Dutch Sentence Numbers': 'b.MAT.5.21.1', 'Dutch Source': 'Вы слышали , что сказано древним : не убивай , кто же убьет , подлежит суду .', 'Reference English': 'Ye have heard that it was said by them of old time , Thou shalt not kill ; and whosoever shall kill shall be in danger of the judgment :', 'Translated English': 'You have heard that it was said to the ancients: Don’t kill, but whoever kills will be judged.', 'COMET Score': 0.6788, 'SacreBLEU Score': 16.96, 'CHRF Score': 37.94}\n"
          ]
        },
        {
          "name": "stderr",
          "output_type": "stream",
          "text": [
            "INFO:pytorch_lightning.utilities.rank_zero:You are using the plain ModelCheckpoint callback. Consider using LitModelCheckpoint which with seamless uploading to Model registry.\n",
            "INFO:pytorch_lightning.utilities.rank_zero:GPU available: False, used: False\n",
            "INFO:pytorch_lightning.utilities.rank_zero:TPU available: False, using: 0 TPU cores\n",
            "INFO:pytorch_lightning.utilities.rank_zero:HPU available: False, using: 0 HPUs\n",
            "Predicting DataLoader 0: 100%|██████████| 1/1 [00:04<00:00,  4.34s/it]\n",
            "Processing links:  37%|███▋      | 23256/62202 [26:44<215:04:01, 19.88s/it]"
          ]
        },
        {
          "name": "stdout",
          "output_type": "stream",
          "text": [
            "{'English Sentence Numbers': 'b.MAT.5.22.1', 'Dutch Sentence Numbers': 'b.MAT.5.22.1', 'Dutch Source': 'А Я говорю вам , что всякий , гневающийся на брата своего напрасно , подлежит суду ; кто же скажет брату своему : „ рака \" , подлежит синедриону ; а кто скажет : „ безумный \" , подлежит геенне огненной .', 'Reference English': 'But I say unto you , That whosoever is angry with his brother without a cause shall be in danger of the judgment : and whosoever shall say to his brother , Raca , shall be in danger of the council : but whosoever shall say , Thou fool , shall be in danger of hell fire .', 'Translated English': 'And I tell you that anyone who is angry over his brother will be subject to trial; and whoever says to his brother, ‘cancer,’ will be subject to sinedrian; and whoever says, ‘mighty,’ will be subject to the hell of fire.', 'COMET Score': 0.5525, 'SacreBLEU Score': 7.08, 'CHRF Score': 32.92}\n"
          ]
        },
        {
          "name": "stderr",
          "output_type": "stream",
          "text": [
            "INFO:pytorch_lightning.utilities.rank_zero:You are using the plain ModelCheckpoint callback. Consider using LitModelCheckpoint which with seamless uploading to Model registry.\n",
            "INFO:pytorch_lightning.utilities.rank_zero:GPU available: False, used: False\n",
            "INFO:pytorch_lightning.utilities.rank_zero:TPU available: False, using: 0 TPU cores\n",
            "INFO:pytorch_lightning.utilities.rank_zero:HPU available: False, using: 0 HPUs\n",
            "Predicting DataLoader 0: 100%|██████████| 1/1 [00:02<00:00,  2.34s/it]\n",
            "Processing links:  37%|███▋      | 23257/62202 [26:56<187:50:26, 17.36s/it]"
          ]
        },
        {
          "name": "stdout",
          "output_type": "stream",
          "text": [
            "{'English Sentence Numbers': 'b.MAT.5.23.1', 'Dutch Sentence Numbers': 'b.MAT.5.23.1', 'Dutch Source': 'Итак , если ты принесешь дар твой к жертвеннику и там вспомнишь , что брат твой имеет что-нибудьпротив тебя ,', 'Reference English': 'Therefore if thou bring thy gift to the altar , and there rememberest that thy brother hath ought against thee ;', 'Translated English': 'So if you bring your gift to the sacrifice and remember that your brother has something against you,', 'COMET Score': 0.5088, 'SacreBLEU Score': 9.17, 'CHRF Score': 38.61}\n"
          ]
        },
        {
          "name": "stderr",
          "output_type": "stream",
          "text": [
            "INFO:pytorch_lightning.utilities.rank_zero:You are using the plain ModelCheckpoint callback. Consider using LitModelCheckpoint which with seamless uploading to Model registry.\n",
            "INFO:pytorch_lightning.utilities.rank_zero:GPU available: False, used: False\n",
            "INFO:pytorch_lightning.utilities.rank_zero:TPU available: False, using: 0 TPU cores\n",
            "INFO:pytorch_lightning.utilities.rank_zero:HPU available: False, using: 0 HPUs\n",
            "Predicting DataLoader 0: 100%|██████████| 1/1 [00:01<00:00,  1.98s/it]\n",
            "Processing links:  37%|███▋      | 23258/62202 [27:10<178:18:01, 16.48s/it]"
          ]
        },
        {
          "name": "stdout",
          "output_type": "stream",
          "text": [
            "{'English Sentence Numbers': 'b.MAT.5.24.1, b.MAT.5.24.2', 'Dutch Sentence Numbers': 'b.MAT.5.24.1', 'Dutch Source': 'оставь там дар твой пред жертвенником , и пойди прежде примирись с братом твоим , и тогда приди и принеси дар твой .', 'Reference English': 'Leave there thy gift before the altar , and go thy way ; first be reconciled to thy brother , and then come and offer thy gift .', 'Translated English': 'Leave your gift there before the sacrifice, and go first and reconcile with your brother, and then come and bring your gift.', 'COMET Score': 0.7151, 'SacreBLEU Score': 26.15, 'CHRF Score': 51.41}\n"
          ]
        },
        {
          "name": "stderr",
          "output_type": "stream",
          "text": [
            "INFO:pytorch_lightning.utilities.rank_zero:You are using the plain ModelCheckpoint callback. Consider using LitModelCheckpoint which with seamless uploading to Model registry.\n",
            "INFO:pytorch_lightning.utilities.rank_zero:GPU available: False, used: False\n",
            "INFO:pytorch_lightning.utilities.rank_zero:TPU available: False, using: 0 TPU cores\n",
            "INFO:pytorch_lightning.utilities.rank_zero:HPU available: False, using: 0 HPUs\n",
            "Predicting DataLoader 0: 100%|██████████| 1/1 [00:03<00:00,  3.51s/it]\n",
            "Processing links:  37%|███▋      | 23259/62202 [27:33<200:43:11, 18.56s/it]"
          ]
        },
        {
          "name": "stdout",
          "output_type": "stream",
          "text": [
            "{'English Sentence Numbers': 'b.MAT.5.25.1', 'Dutch Sentence Numbers': 'b.MAT.5.25.1', 'Dutch Source': 'Мирись с соперником твоим скорее , пока ты еще на пути с ним , чтобы соперник не отдал тебя судье , а судья не отдал бы тебя слуге , и не ввергли бы тебя в темницу ;', 'Reference English': 'Agree with thine adversary quickly , whiles thou art in the way with him ; lest at any time the adversary deliver thee to the judge , and the judge deliver thee to the officer , and thou be cast into prison .', 'Translated English': 'Treat with your opponent as soon as you are on the way with him, so that the opponent will not give you a judge, and the judge will not give you a servant, and they will not put you into prison.', 'COMET Score': 0.5795, 'SacreBLEU Score': 17.1, 'CHRF Score': 35.4}\n"
          ]
        },
        {
          "name": "stderr",
          "output_type": "stream",
          "text": [
            "INFO:pytorch_lightning.utilities.rank_zero:You are using the plain ModelCheckpoint callback. Consider using LitModelCheckpoint which with seamless uploading to Model registry.\n",
            "INFO:pytorch_lightning.utilities.rank_zero:GPU available: False, used: False\n",
            "INFO:pytorch_lightning.utilities.rank_zero:TPU available: False, using: 0 TPU cores\n",
            "INFO:pytorch_lightning.utilities.rank_zero:HPU available: False, using: 0 HPUs\n",
            "Predicting DataLoader 0: 100%|██████████| 1/1 [00:01<00:00,  1.65s/it]\n",
            "Processing links:  37%|███▋      | 23260/62202 [27:44<173:26:10, 16.03s/it]"
          ]
        },
        {
          "name": "stdout",
          "output_type": "stream",
          "text": [
            "{'English Sentence Numbers': 'b.MAT.5.26.1', 'Dutch Sentence Numbers': 'b.MAT.5.26.1', 'Dutch Source': 'истинно говорю тебе : ты не выйдешь оттуда , пока не отдашь до последнего кодранта .', 'Reference English': 'Verily I say unto thee , Thou shalt by no means come out thence , till thou hast paid the uttermost farthing .', 'Translated English': 'I tell you, you will not come out from there until you give up to the last code.', 'COMET Score': 0.4339, 'SacreBLEU Score': 4.34, 'CHRF Score': 22.54}\n"
          ]
        },
        {
          "name": "stderr",
          "output_type": "stream",
          "text": [
            "INFO:pytorch_lightning.utilities.rank_zero:You are using the plain ModelCheckpoint callback. Consider using LitModelCheckpoint which with seamless uploading to Model registry.\n",
            "INFO:pytorch_lightning.utilities.rank_zero:GPU available: False, used: False\n",
            "INFO:pytorch_lightning.utilities.rank_zero:TPU available: False, using: 0 TPU cores\n",
            "INFO:pytorch_lightning.utilities.rank_zero:HPU available: False, using: 0 HPUs\n",
            "Predicting DataLoader 0: 100%|██████████| 1/1 [00:01<00:00,  1.47s/it]\n",
            "Processing links:  37%|███▋      | 23261/62202 [27:53<153:23:48, 14.18s/it]"
          ]
        },
        {
          "name": "stdout",
          "output_type": "stream",
          "text": [
            "{'English Sentence Numbers': 'b.MAT.5.27.1', 'Dutch Sentence Numbers': 'b.MAT.5.27.1', 'Dutch Source': 'Вы слышали , что сказано древним : не прелюбодействуй .', 'Reference English': 'Ye have heard that it was said by them of old time , Thou shalt not commit adultery :', 'Translated English': 'You have heard what is said to the ancient people: Do not prejudice.', 'COMET Score': 0.5621, 'SacreBLEU Score': 5.06, 'CHRF Score': 25.96}\n"
          ]
        },
        {
          "name": "stderr",
          "output_type": "stream",
          "text": [
            "INFO:pytorch_lightning.utilities.rank_zero:You are using the plain ModelCheckpoint callback. Consider using LitModelCheckpoint which with seamless uploading to Model registry.\n",
            "INFO:pytorch_lightning.utilities.rank_zero:GPU available: False, used: False\n",
            "INFO:pytorch_lightning.utilities.rank_zero:TPU available: False, using: 0 TPU cores\n",
            "INFO:pytorch_lightning.utilities.rank_zero:HPU available: False, using: 0 HPUs\n",
            "Predicting DataLoader 0: 100%|██████████| 1/1 [00:01<00:00,  1.77s/it]\n",
            "Processing links:  37%|███▋      | 23262/62202 [28:06<147:04:38, 13.60s/it]"
          ]
        },
        {
          "name": "stdout",
          "output_type": "stream",
          "text": [
            "{'English Sentence Numbers': 'b.MAT.5.28.1', 'Dutch Sentence Numbers': 'b.MAT.5.28.1', 'Dutch Source': 'А Я говорю вам , что всякий , кто смотрит на женщину с вожделением , уже прелюбодействовал с нею в сердце своем .', 'Reference English': 'But I say unto you , That whosoever looketh on a woman to lust after her hath committed adultery with her already in his heart .', 'Translated English': 'But I tell you that anyone who looks at a woman with desire has already acted with her in his heart.', 'COMET Score': 0.6539, 'SacreBLEU Score': 14.11, 'CHRF Score': 35.58}\n"
          ]
        },
        {
          "name": "stderr",
          "output_type": "stream",
          "text": [
            "INFO:pytorch_lightning.utilities.rank_zero:You are using the plain ModelCheckpoint callback. Consider using LitModelCheckpoint which with seamless uploading to Model registry.\n",
            "INFO:pytorch_lightning.utilities.rank_zero:GPU available: False, used: False\n",
            "INFO:pytorch_lightning.utilities.rank_zero:TPU available: False, using: 0 TPU cores\n",
            "INFO:pytorch_lightning.utilities.rank_zero:HPU available: False, using: 0 HPUs\n",
            "Predicting DataLoader 0: 100%|██████████| 1/1 [00:03<00:00,  3.09s/it]\n",
            "Processing links:  37%|███▋      | 23263/62202 [28:25<166:09:53, 15.36s/it]"
          ]
        },
        {
          "name": "stdout",
          "output_type": "stream",
          "text": [
            "{'English Sentence Numbers': 'b.MAT.5.29.1, b.MAT.5.29.2', 'Dutch Sentence Numbers': 'b.MAT.5.29.1', 'Dutch Source': 'Если же правый глаз твой соблазняет тебя , вырви его и брось от себя , ибо лучше для тебя , чтобы погиб один из членов твоих , а не все тело твое было ввержено в геенну .', 'Reference English': 'And if thy right eye offend thee , pluck it out , and cast it from thee : for it is profitable for thee that one of thy members should perish , and not that thy whole body should be cast into hell .', 'Translated English': 'But if your right eye tempts you, break it out and throw it away, for it is better for you that one of your members dies, not that all your body has been put into hell.', 'COMET Score': 0.588, 'SacreBLEU Score': 9.98, 'CHRF Score': 35.43}\n"
          ]
        },
        {
          "name": "stderr",
          "output_type": "stream",
          "text": [
            "INFO:pytorch_lightning.utilities.rank_zero:You are using the plain ModelCheckpoint callback. Consider using LitModelCheckpoint which with seamless uploading to Model registry.\n",
            "INFO:pytorch_lightning.utilities.rank_zero:GPU available: False, used: False\n",
            "INFO:pytorch_lightning.utilities.rank_zero:TPU available: False, using: 0 TPU cores\n",
            "INFO:pytorch_lightning.utilities.rank_zero:HPU available: False, using: 0 HPUs\n",
            "Predicting DataLoader 0: 100%|██████████| 1/1 [00:02<00:00,  2.72s/it]\n",
            "Processing links:  37%|███▋      | 23264/62202 [28:44<178:31:35, 16.51s/it]"
          ]
        },
        {
          "name": "stdout",
          "output_type": "stream",
          "text": [
            "{'English Sentence Numbers': 'b.MAT.5.30.1, b.MAT.5.30.2', 'Dutch Sentence Numbers': 'b.MAT.5.30.1', 'Dutch Source': 'И если правая твоя рука соблазняет тебя , отсеки ее и брось от себя , ибо лучше для тебя , чтобы погиб один из членов твоих , а не все тело твое было ввержено в геенну .', 'Reference English': 'And if thy right hand offend thee , cut if off , and cast it from thee : for it is profitable for thee that one of thy members should perish , and not that thy whole body should be cast into hell .', 'Translated English': 'And if your right hand tempts you, cut it off and throw away, for it is better for you that one of your members dies, not that all your body has been put into hell.', 'COMET Score': 0.6279, 'SacreBLEU Score': 10.33, 'CHRF Score': 37.01}\n"
          ]
        },
        {
          "name": "stderr",
          "output_type": "stream",
          "text": [
            "INFO:pytorch_lightning.utilities.rank_zero:You are using the plain ModelCheckpoint callback. Consider using LitModelCheckpoint which with seamless uploading to Model registry.\n",
            "INFO:pytorch_lightning.utilities.rank_zero:GPU available: False, used: False\n",
            "INFO:pytorch_lightning.utilities.rank_zero:TPU available: False, using: 0 TPU cores\n",
            "INFO:pytorch_lightning.utilities.rank_zero:HPU available: False, using: 0 HPUs\n",
            "Predicting DataLoader 0: 100%|██████████| 1/1 [00:01<00:00,  1.70s/it]\n",
            "Processing links:  37%|███▋      | 23265/62202 [28:55<158:13:52, 14.63s/it]"
          ]
        },
        {
          "name": "stdout",
          "output_type": "stream",
          "text": [
            "{'English Sentence Numbers': 'b.MAT.5.31.1', 'Dutch Sentence Numbers': 'b.MAT.5.31.1', 'Dutch Source': 'Сказано также , что если кто разведется с женою своею , пусть даст ей разводную .', 'Reference English': 'It hath been said , Whosoever shall put away his wife , let him give her a writing of divorcement :', 'Translated English': 'It is also said that if someone divorces his wife, let him give her a divorce.', 'COMET Score': 0.5417, 'SacreBLEU Score': 34.81, 'CHRF Score': 42.85}\n"
          ]
        },
        {
          "name": "stderr",
          "output_type": "stream",
          "text": [
            "INFO:pytorch_lightning.utilities.rank_zero:You are using the plain ModelCheckpoint callback. Consider using LitModelCheckpoint which with seamless uploading to Model registry.\n",
            "INFO:pytorch_lightning.utilities.rank_zero:GPU available: False, used: False\n",
            "INFO:pytorch_lightning.utilities.rank_zero:TPU available: False, using: 0 TPU cores\n",
            "INFO:pytorch_lightning.utilities.rank_zero:HPU available: False, using: 0 HPUs\n",
            "Predicting DataLoader 0: 100%|██████████| 1/1 [00:02<00:00,  2.78s/it]\n",
            "Processing links:  37%|███▋      | 23266/62202 [29:16<181:45:54, 16.81s/it]"
          ]
        },
        {
          "name": "stdout",
          "output_type": "stream",
          "text": [
            "{'English Sentence Numbers': 'b.MAT.5.32.1', 'Dutch Sentence Numbers': 'b.MAT.5.32.1', 'Dutch Source': 'А Я говорю вам : кто разводится с женою своею , кроме вины прелюбодеяния , тот подает ей повод прелюбодействовать ; и кто женится на разведенной , тот прелюбодействует .', 'Reference English': 'But I say unto you , That whosoever shall put away his wife , saving for the cause of fornication , causeth her to commit adultery : and whosoever shall marry her that is divorced committeth adultery .', 'Translated English': 'But I tell you, whoever divorces his wife, except for the fault of pre-marriage, shall give her a reason to pre-marriage; and whoever marries a divorced woman, shall pre-marriage.', 'COMET Score': 0.5164, 'SacreBLEU Score': 7.1, 'CHRF Score': 30.28}\n"
          ]
        },
        {
          "name": "stderr",
          "output_type": "stream",
          "text": [
            "INFO:pytorch_lightning.utilities.rank_zero:You are using the plain ModelCheckpoint callback. Consider using LitModelCheckpoint which with seamless uploading to Model registry.\n",
            "INFO:pytorch_lightning.utilities.rank_zero:GPU available: False, used: False\n",
            "INFO:pytorch_lightning.utilities.rank_zero:TPU available: False, using: 0 TPU cores\n",
            "INFO:pytorch_lightning.utilities.rank_zero:HPU available: False, using: 0 HPUs\n",
            "Predicting DataLoader 0: 100%|██████████| 1/1 [00:02<00:00,  2.55s/it]\n",
            "Processing links:  37%|███▋      | 23267/62202 [29:31<175:32:03, 16.23s/it]"
          ]
        },
        {
          "name": "stdout",
          "output_type": "stream",
          "text": [
            "{'English Sentence Numbers': 'b.MAT.5.33.1', 'Dutch Sentence Numbers': 'b.MAT.5.33.1', 'Dutch Source': 'Еще слышали вы , что сказано древним : не преступай клятвы , но исполняй пред Господом клятвы твои .', 'Reference English': 'Again , ye have heard that it hath been said by them of old time , Thou shalt not forswear thyself , but shalt perform unto the Lord thine oaths :', 'Translated English': 'And you have heard that it was said to the ancients: Do not blame the oath, but do your oath before the LORD.', 'COMET Score': 0.6909, 'SacreBLEU Score': 10.08, 'CHRF Score': 31.24}\n"
          ]
        },
        {
          "name": "stderr",
          "output_type": "stream",
          "text": [
            "INFO:pytorch_lightning.utilities.rank_zero:You are using the plain ModelCheckpoint callback. Consider using LitModelCheckpoint which with seamless uploading to Model registry.\n",
            "INFO:pytorch_lightning.utilities.rank_zero:GPU available: False, used: False\n",
            "INFO:pytorch_lightning.utilities.rank_zero:TPU available: False, using: 0 TPU cores\n",
            "INFO:pytorch_lightning.utilities.rank_zero:HPU available: False, using: 0 HPUs\n",
            "Predicting DataLoader 0: 100%|██████████| 1/1 [00:02<00:00,  2.13s/it]\n",
            "Processing links:  37%|███▋      | 23268/62202 [29:44<164:33:32, 15.22s/it]"
          ]
        },
        {
          "name": "stdout",
          "output_type": "stream",
          "text": [
            "{'English Sentence Numbers': 'b.MAT.5.34.1', 'Dutch Sentence Numbers': 'b.MAT.5.34.1', 'Dutch Source': 'А Я говорю вам : не клянись вовсе : ни небом , потому что оно престол Божий ;', 'Reference English': \"But I say unto you , Swear not at all ; neither by heaven ; for it is God 's throne :\", 'Translated English': 'But I say to you, do not swear at all, nor the heavens, for it is the throne of God.', 'COMET Score': 0.6966, 'SacreBLEU Score': 13.22, 'CHRF Score': 44.15}\n"
          ]
        },
        {
          "name": "stderr",
          "output_type": "stream",
          "text": [
            "INFO:pytorch_lightning.utilities.rank_zero:You are using the plain ModelCheckpoint callback. Consider using LitModelCheckpoint which with seamless uploading to Model registry.\n",
            "INFO:pytorch_lightning.utilities.rank_zero:GPU available: False, used: False\n",
            "INFO:pytorch_lightning.utilities.rank_zero:TPU available: False, using: 0 TPU cores\n",
            "INFO:pytorch_lightning.utilities.rank_zero:HPU available: False, using: 0 HPUs\n",
            "Predicting DataLoader 0: 100%|██████████| 1/1 [00:02<00:00,  2.28s/it]\n",
            "Processing links:  37%|███▋      | 23269/62202 [29:57<157:28:10, 14.56s/it]"
          ]
        },
        {
          "name": "stdout",
          "output_type": "stream",
          "text": [
            "{'English Sentence Numbers': 'b.MAT.5.35.1', 'Dutch Sentence Numbers': 'b.MAT.5.35.1', 'Dutch Source': 'ни землею , потому что она подножие ног Его ; ниИерусалимом , потому что он город великого Царя ;', 'Reference English': 'Nor by the earth ; for it is his footstool : neither by Jerusalem ; for it is the city of the great King .', 'Translated English': 'Neither the land, because it is the foot of his feet; neither Jerusalem, because it is the city of the great king.', 'COMET Score': 0.6781, 'SacreBLEU Score': 27.66, 'CHRF Score': 49.18}\n"
          ]
        },
        {
          "name": "stderr",
          "output_type": "stream",
          "text": [
            "INFO:pytorch_lightning.utilities.rank_zero:You are using the plain ModelCheckpoint callback. Consider using LitModelCheckpoint which with seamless uploading to Model registry.\n",
            "INFO:pytorch_lightning.utilities.rank_zero:GPU available: False, used: False\n",
            "INFO:pytorch_lightning.utilities.rank_zero:TPU available: False, using: 0 TPU cores\n",
            "INFO:pytorch_lightning.utilities.rank_zero:HPU available: False, using: 0 HPUs\n",
            "Predicting DataLoader 0: 100%|██████████| 1/1 [00:01<00:00,  1.52s/it]\n",
            "Processing links:  37%|███▋      | 23270/62202 [30:07<142:03:00, 13.14s/it]"
          ]
        },
        {
          "name": "stdout",
          "output_type": "stream",
          "text": [
            "{'English Sentence Numbers': 'b.MAT.5.36.1', 'Dutch Sentence Numbers': 'b.MAT.5.36.1', 'Dutch Source': 'ни головою твоею не клянись , потому что не можешь ниодного волоса сделать белым или черным .', 'Reference English': 'Neither shalt thou swear by thy head , because thou canst not make one hair white or black .', 'Translated English': 'Do not swear with your head, for you cannot make any hair white or black.', 'COMET Score': 0.5902, 'SacreBLEU Score': 23.93, 'CHRF Score': 43.13}\n"
          ]
        },
        {
          "name": "stderr",
          "output_type": "stream",
          "text": [
            "INFO:pytorch_lightning.utilities.rank_zero:You are using the plain ModelCheckpoint callback. Consider using LitModelCheckpoint which with seamless uploading to Model registry.\n",
            "INFO:pytorch_lightning.utilities.rank_zero:GPU available: False, used: False\n",
            "INFO:pytorch_lightning.utilities.rank_zero:TPU available: False, using: 0 TPU cores\n",
            "INFO:pytorch_lightning.utilities.rank_zero:HPU available: False, using: 0 HPUs\n",
            "Predicting DataLoader 0: 100%|██████████| 1/1 [00:01<00:00,  1.76s/it]\n",
            "Processing links:  37%|███▋      | 23271/62202 [30:20<141:32:04, 13.09s/it]"
          ]
        },
        {
          "name": "stdout",
          "output_type": "stream",
          "text": [
            "{'English Sentence Numbers': 'b.MAT.5.37.1, b.MAT.5.37.2', 'Dutch Sentence Numbers': 'b.MAT.5.37.1', 'Dutch Source': 'Но да будет слово ваше : да , да ; нет , нет ; а что сверх этого , то от лукавого .', 'Reference English': 'But let your communication be , Yea , yea ; Nay , nay : for whatsoever is more than these cometh of evil .', 'Translated English': 'But let your word be: yes, yes; no, no; but what is above this, it is from the evil.', 'COMET Score': 0.7099, 'SacreBLEU Score': 8.42, 'CHRF Score': 27.2}\n"
          ]
        },
        {
          "name": "stderr",
          "output_type": "stream",
          "text": [
            "INFO:pytorch_lightning.utilities.rank_zero:You are using the plain ModelCheckpoint callback. Consider using LitModelCheckpoint which with seamless uploading to Model registry.\n",
            "INFO:pytorch_lightning.utilities.rank_zero:GPU available: False, used: False\n",
            "INFO:pytorch_lightning.utilities.rank_zero:TPU available: False, using: 0 TPU cores\n",
            "INFO:pytorch_lightning.utilities.rank_zero:HPU available: False, using: 0 HPUs\n",
            "Predicting DataLoader 0: 100%|██████████| 1/1 [00:01<00:00,  1.42s/it]\n",
            "Processing links:  37%|███▋      | 23272/62202 [30:29<130:03:28, 12.03s/it]"
          ]
        },
        {
          "name": "stdout",
          "output_type": "stream",
          "text": [
            "{'English Sentence Numbers': 'b.MAT.5.38.1', 'Dutch Sentence Numbers': 'b.MAT.5.38.1', 'Dutch Source': 'Вы слышали , что сказано : око за око и зуб за зуб .', 'Reference English': 'Ye have heard that it hath been said , An eye for an eye , and a tooth for a tooth :', 'Translated English': 'You have heard what is said: eye for eye and tooth for tooth.', 'COMET Score': 0.7089, 'SacreBLEU Score': 6.64, 'CHRF Score': 40.7}\n"
          ]
        },
        {
          "name": "stderr",
          "output_type": "stream",
          "text": [
            "INFO:pytorch_lightning.utilities.rank_zero:You are using the plain ModelCheckpoint callback. Consider using LitModelCheckpoint which with seamless uploading to Model registry.\n",
            "INFO:pytorch_lightning.utilities.rank_zero:GPU available: False, used: False\n",
            "INFO:pytorch_lightning.utilities.rank_zero:TPU available: False, using: 0 TPU cores\n",
            "INFO:pytorch_lightning.utilities.rank_zero:HPU available: False, using: 0 HPUs\n",
            "Predicting DataLoader 0: 100%|██████████| 1/1 [00:01<00:00,  1.89s/it]\n",
            "Processing links:  37%|███▋      | 23273/62202 [30:43<135:35:51, 12.54s/it]"
          ]
        },
        {
          "name": "stdout",
          "output_type": "stream",
          "text": [
            "{'English Sentence Numbers': 'b.MAT.5.39.1', 'Dutch Sentence Numbers': 'b.MAT.5.39.1, b.MAT.5.39.2', 'Dutch Source': 'А Я говорю вам : не противься злому . Но кто ударит тебя в правую щеку твою , обрати к нему и другую ;', 'Reference English': 'But I say unto you , That ye resist not evil : but whosoever shall smite thee on thy right cheek , turn to him the other also .', 'Translated English': 'But I say to you, do not oppose evil; but whoever hits you in your right hand, turn to him and another.', 'COMET Score': 0.5807, 'SacreBLEU Score': 14.51, 'CHRF Score': 35.6}\n"
          ]
        },
        {
          "name": "stderr",
          "output_type": "stream",
          "text": [
            "INFO:pytorch_lightning.utilities.rank_zero:You are using the plain ModelCheckpoint callback. Consider using LitModelCheckpoint which with seamless uploading to Model registry.\n",
            "INFO:pytorch_lightning.utilities.rank_zero:GPU available: False, used: False\n",
            "INFO:pytorch_lightning.utilities.rank_zero:TPU available: False, using: 0 TPU cores\n",
            "INFO:pytorch_lightning.utilities.rank_zero:HPU available: False, using: 0 HPUs\n",
            "Predicting DataLoader 0: 100%|██████████| 1/1 [00:01<00:00,  1.61s/it]\n",
            "Processing links:  37%|███▋      | 23274/62202 [30:55<134:25:16, 12.43s/it]"
          ]
        },
        {
          "name": "stdout",
          "output_type": "stream",
          "text": [
            "{'English Sentence Numbers': 'b.MAT.5.40.1', 'Dutch Sentence Numbers': 'b.MAT.5.40.1', 'Dutch Source': 'и кто захочет судиться с тобою и взять у тебя рубашку , отдай ему и верхнюю одежду ;', 'Reference English': 'And if any man will sue thee at the law , and take away thy coat , let him have thy cloke also .', 'Translated English': 'And whoever wants to judge you and take a shirt from you, give him the upper clothes.', 'COMET Score': 0.5605, 'SacreBLEU Score': 4.26, 'CHRF Score': 21.99}\n"
          ]
        },
        {
          "name": "stderr",
          "output_type": "stream",
          "text": [
            "INFO:pytorch_lightning.utilities.rank_zero:You are using the plain ModelCheckpoint callback. Consider using LitModelCheckpoint which with seamless uploading to Model registry.\n",
            "INFO:pytorch_lightning.utilities.rank_zero:GPU available: False, used: False\n",
            "INFO:pytorch_lightning.utilities.rank_zero:TPU available: False, using: 0 TPU cores\n",
            "INFO:pytorch_lightning.utilities.rank_zero:HPU available: False, using: 0 HPUs\n",
            "Predicting DataLoader 0: 100%|██████████| 1/1 [00:01<00:00,  1.60s/it]\n",
            "Processing links:  37%|███▋      | 23275/62202 [31:06<127:03:09, 11.75s/it]"
          ]
        },
        {
          "name": "stdout",
          "output_type": "stream",
          "text": [
            "{'English Sentence Numbers': 'b.MAT.5.41.1', 'Dutch Sentence Numbers': 'b.MAT.5.41.1', 'Dutch Source': 'и кто принудит тебя идти с ним одно поприще , иди с ним два .', 'Reference English': 'And whosoever shall compel thee to go a mile , go with him twain .', 'Translated English': 'And whoever forces you to go with him in one field, go with him two.', 'COMET Score': 0.5006, 'SacreBLEU Score': 18.3, 'CHRF Score': 40.06}\n"
          ]
        },
        {
          "name": "stderr",
          "output_type": "stream",
          "text": [
            "INFO:pytorch_lightning.utilities.rank_zero:You are using the plain ModelCheckpoint callback. Consider using LitModelCheckpoint which with seamless uploading to Model registry.\n",
            "INFO:pytorch_lightning.utilities.rank_zero:GPU available: False, used: False\n",
            "INFO:pytorch_lightning.utilities.rank_zero:TPU available: False, using: 0 TPU cores\n",
            "INFO:pytorch_lightning.utilities.rank_zero:HPU available: False, using: 0 HPUs\n",
            "Predicting DataLoader 0: 100%|██████████| 1/1 [00:02<00:00,  2.35s/it]\n",
            "Processing links:  37%|███▋      | 23276/62202 [31:17<125:35:46, 11.62s/it]"
          ]
        },
        {
          "name": "stdout",
          "output_type": "stream",
          "text": [
            "{'English Sentence Numbers': 'b.MAT.5.42.1', 'Dutch Sentence Numbers': 'b.MAT.5.42.1', 'Dutch Source': 'Просящему у тебя дай , и от хотящего занять у тебя не отвращайся .', 'Reference English': 'Give to him that asketh thee , and from him that would borrow of thee turn not thou away .', 'Translated English': 'Give the prayer to you, and do not be afraid of the one you want to occupy.', 'COMET Score': 0.3746, 'SacreBLEU Score': 5.25, 'CHRF Score': 22.11}\n"
          ]
        },
        {
          "name": "stderr",
          "output_type": "stream",
          "text": [
            "INFO:pytorch_lightning.utilities.rank_zero:You are using the plain ModelCheckpoint callback. Consider using LitModelCheckpoint which with seamless uploading to Model registry.\n",
            "INFO:pytorch_lightning.utilities.rank_zero:GPU available: False, used: False\n",
            "INFO:pytorch_lightning.utilities.rank_zero:TPU available: False, using: 0 TPU cores\n",
            "INFO:pytorch_lightning.utilities.rank_zero:HPU available: False, using: 0 HPUs\n",
            "Predicting DataLoader 0: 100%|██████████| 1/1 [00:01<00:00,  1.65s/it]\n",
            "Processing links:  37%|███▋      | 23277/62202 [31:27<119:09:53, 11.02s/it]"
          ]
        },
        {
          "name": "stdout",
          "output_type": "stream",
          "text": [
            "{'English Sentence Numbers': 'b.MAT.5.43.1', 'Dutch Sentence Numbers': 'b.MAT.5.43.1', 'Dutch Source': 'Вы слышали , что сказано : люби ближнего твоего и ненавидь врага твоего .', 'Reference English': 'Ye have heard that it hath been said , Thou shalt love thy neighbour , and hate thine enemy .', 'Translated English': 'You have heard that it is said: Love your neighbor and hate your enemy.', 'COMET Score': 0.7363, 'SacreBLEU Score': 16.59, 'CHRF Score': 43.03}\n"
          ]
        },
        {
          "name": "stderr",
          "output_type": "stream",
          "text": [
            "INFO:pytorch_lightning.utilities.rank_zero:You are using the plain ModelCheckpoint callback. Consider using LitModelCheckpoint which with seamless uploading to Model registry.\n",
            "INFO:pytorch_lightning.utilities.rank_zero:GPU available: False, used: False\n",
            "INFO:pytorch_lightning.utilities.rank_zero:TPU available: False, using: 0 TPU cores\n",
            "INFO:pytorch_lightning.utilities.rank_zero:HPU available: False, using: 0 HPUs\n",
            "Predicting DataLoader 0: 100%|██████████| 1/1 [00:03<00:00,  3.25s/it]\n",
            "Processing links:  37%|███▋      | 23278/62202 [31:44<141:00:54, 13.04s/it]"
          ]
        },
        {
          "name": "stdout",
          "output_type": "stream",
          "text": [
            "{'English Sentence Numbers': 'b.MAT.5.44.1', 'Dutch Sentence Numbers': 'b.MAT.5.44.1', 'Dutch Source': 'А Я говорю вам : любите врагов ваших , благословляйте проклинающих вас , благотворите ненавидящим вас и молитесь за обижающих вас и гонящих вас ,', 'Reference English': 'But I say unto you , Love your enemies , bless them that curse you , do good to them that hate you , and pray for them which despitefully use you , and persecute you ;', 'Translated English': 'But I tell you, love your enemies, bless those who blame you, bless those who hate you, and pray for those who offend you and persecute you.', 'COMET Score': 0.7378, 'SacreBLEU Score': 25.92, 'CHRF Score': 50.03}\n"
          ]
        },
        {
          "name": "stderr",
          "output_type": "stream",
          "text": [
            "INFO:pytorch_lightning.utilities.rank_zero:You are using the plain ModelCheckpoint callback. Consider using LitModelCheckpoint which with seamless uploading to Model registry.\n",
            "INFO:pytorch_lightning.utilities.rank_zero:GPU available: False, used: False\n",
            "INFO:pytorch_lightning.utilities.rank_zero:TPU available: False, using: 0 TPU cores\n",
            "INFO:pytorch_lightning.utilities.rank_zero:HPU available: False, using: 0 HPUs\n",
            "Predicting DataLoader 0: 100%|██████████| 1/1 [00:02<00:00,  2.27s/it]\n",
            "Processing links:  37%|███▋      | 23279/62202 [32:03<159:13:29, 14.73s/it]"
          ]
        },
        {
          "name": "stdout",
          "output_type": "stream",
          "text": [
            "{'English Sentence Numbers': 'b.MAT.5.45.1, b.MAT.5.45.2', 'Dutch Sentence Numbers': 'b.MAT.5.45.1', 'Dutch Source': 'да будете сынами Отца вашего Небесного , ибо Онповелевает солнцу Своему восходить над злыми идобрыми и посылает дождь на праведных инеправедных .', 'Reference English': 'That ye may be the children of your Father which is in heaven : for he maketh his sun to rise on the evil and on the good , and sendeth rain on the just and on the unjust .', 'Translated English': 'May you be the sons of your Heavenly Father, for He commands His sun to rise over the evil and the unjust, and sends rain on the just and the unjust.', 'COMET Score': 0.7529, 'SacreBLEU Score': 19.97, 'CHRF Score': 47.93}\n"
          ]
        },
        {
          "name": "stderr",
          "output_type": "stream",
          "text": [
            "INFO:pytorch_lightning.utilities.rank_zero:You are using the plain ModelCheckpoint callback. Consider using LitModelCheckpoint which with seamless uploading to Model registry.\n",
            "INFO:pytorch_lightning.utilities.rank_zero:GPU available: False, used: False\n",
            "INFO:pytorch_lightning.utilities.rank_zero:TPU available: False, using: 0 TPU cores\n",
            "INFO:pytorch_lightning.utilities.rank_zero:HPU available: False, using: 0 HPUs\n",
            "Predicting DataLoader 0: 100%|██████████| 1/1 [00:01<00:00,  1.43s/it]\n",
            "Processing links:  37%|███▋      | 23280/62202 [32:12<142:28:48, 13.18s/it]"
          ]
        },
        {
          "name": "stdout",
          "output_type": "stream",
          "text": [
            "{'English Sentence Numbers': 'b.MAT.5.46.1, b.MAT.5.46.2', 'Dutch Sentence Numbers': 'b.MAT.5.46.1, b.MAT.5.46.2', 'Dutch Source': 'Ибо если вы будете любить любящих вас , какая вам награда ? Не то же ли делают и мытари ?', 'Reference English': 'For if ye love them which love you , what reward have ye ? do not even the publicans the same ?', 'Translated English': 'For if you love those who love you, what is your reward?', 'COMET Score': 0.5833, 'SacreBLEU Score': 13.21, 'CHRF Score': 33.13}\n"
          ]
        },
        {
          "name": "stderr",
          "output_type": "stream",
          "text": [
            "INFO:pytorch_lightning.utilities.rank_zero:You are using the plain ModelCheckpoint callback. Consider using LitModelCheckpoint which with seamless uploading to Model registry.\n",
            "INFO:pytorch_lightning.utilities.rank_zero:GPU available: False, used: False\n",
            "INFO:pytorch_lightning.utilities.rank_zero:TPU available: False, using: 0 TPU cores\n",
            "INFO:pytorch_lightning.utilities.rank_zero:HPU available: False, using: 0 HPUs\n",
            "Predicting DataLoader 0: 100%|██████████| 1/1 [00:01<00:00,  1.98s/it]\n",
            "Processing links:  37%|███▋      | 23281/62202 [32:24<137:21:21, 12.70s/it]"
          ]
        },
        {
          "name": "stdout",
          "output_type": "stream",
          "text": [
            "{'English Sentence Numbers': 'b.MAT.5.47.1, b.MAT.5.47.2', 'Dutch Sentence Numbers': 'b.MAT.5.47.1, b.MAT.5.47.2', 'Dutch Source': 'И если вы приветствуете только братьев ваших , что особенного делаете ? Не так же ли поступают и язычники ?', 'Reference English': 'And if ye salute your brethren only , what do ye more than others ? do not even the publicans so ?', 'Translated English': 'And if you only welcome your brothers, what special do you do?', 'COMET Score': 0.5153, 'SacreBLEU Score': 5.56, 'CHRF Score': 28.62}\n"
          ]
        },
        {
          "name": "stderr",
          "output_type": "stream",
          "text": [
            "INFO:pytorch_lightning.utilities.rank_zero:You are using the plain ModelCheckpoint callback. Consider using LitModelCheckpoint which with seamless uploading to Model registry.\n",
            "INFO:pytorch_lightning.utilities.rank_zero:GPU available: False, used: False\n",
            "INFO:pytorch_lightning.utilities.rank_zero:TPU available: False, using: 0 TPU cores\n",
            "INFO:pytorch_lightning.utilities.rank_zero:HPU available: False, using: 0 HPUs\n",
            "Predicting DataLoader 0: 100%|██████████| 1/1 [00:01<00:00,  1.29s/it]\n",
            "Processing links:  37%|███▋      | 23281/62202 [32:32<54:23, 11.93it/s]    "
          ]
        },
        {
          "name": "stdout",
          "output_type": "stream",
          "text": [
            "{'English Sentence Numbers': 'b.MAT.5.48.1', 'Dutch Sentence Numbers': 'b.MAT.5.48.1', 'Dutch Source': 'Итак будьте совершенны , как совершен Отец ваш Небесный .', 'Reference English': 'Be ye therefore perfect , even as your Father which is in heaven is perfect .', 'Translated English': 'So be perfect, as your Heavenly Father is perfect.', 'COMET Score': 0.7656, 'SacreBLEU Score': 13.46, 'CHRF Score': 42.48}\n",
            "✅ Saved to translation_comet_bleu_chrf_results_MAT_1_to_5.csv\n"
          ]
        },
        {
          "name": "stderr",
          "output_type": "stream",
          "text": [
            "\n"
          ]
        }
      ],
      "source": [
        "# Code for translation of the first 5 chapters of the new testametn\n",
        "\n",
        "import xml.etree.ElementTree as ET\n",
        "from tqdm import tqdm\n",
        "from transformers import M2M100ForConditionalGeneration, M2M100Tokenizer\n",
        "from comet import download_model, load_from_checkpoint\n",
        "import pandas as pd\n",
        "import sacrebleu\n",
        "\n",
        "# M2M100\n",
        "model_name = \"facebook/m2m100_418M\"\n",
        "tokenizer = M2M100Tokenizer.from_pretrained(model_name)\n",
        "model = M2M100ForConditionalGeneration.from_pretrained(model_name)\n",
        "tokenizer.src_lang = \"ru\"  # Source language\n",
        "\n",
        "# COMET\n",
        "comet_model_path = download_model(\"Unbabel/wmt22-comet-da\")\n",
        "comet = load_from_checkpoint(comet_model_path)\n",
        "\n",
        "# Alignment and language files\n",
        "alignment_file = 'en-ru.xml' # Alignment file\n",
        "english_file = 'English.xml' # Target language file\n",
        "dutch_file = 'Russian.xml' # Source language file\n",
        "\n",
        "alignment_root = ET.parse(alignment_file).getroot()\n",
        "english_root = ET.parse(english_file).getroot()\n",
        "dutch_root = ET.parse(dutch_file).getroot()\n",
        "\n",
        "# Find segements with the id\n",
        "def find_segment(root, seg_id):\n",
        "    for seg in root.findall(\".//s\"):\n",
        "        if seg.get('id') == seg_id:\n",
        "            sentence_number = seg.get('id')\n",
        "            text = ' '.join([w.text for w in seg.findall('w') if w.text])\n",
        "            return text, sentence_number if sentence_number else 'N/A'\n",
        "    return None, 'N/A'\n",
        "\n",
        "# Initialize score storage\n",
        "results = []\n",
        "chapter_scores = []\n",
        "current_chapter = None\n",
        "\n",
        "# Get alignment links between L23146 to L23283 (Start and end of Matthew 1 New Testament)\n",
        "links = alignment_root.findall(\".//link\")\n",
        "\n",
        "# Loop trough segments and use tqdm to view progress\n",
        "processing = False\n",
        "for link in tqdm(links):\n",
        "    link_id = link.get('id')\n",
        "\n",
        "    # Start from L23146 (start of the new testament Matthew 1)\n",
        "    if link_id == \"L23146\":\n",
        "        processing = True\n",
        "\n",
        "    if not processing:\n",
        "        continue\n",
        "\n",
        "    xtargets = link.get('xtargets').split(';')\n",
        "    if len(xtargets) != 2:\n",
        "        continue\n",
        "\n",
        "    en_ids = xtargets[0].split()\n",
        "    nl_ids = xtargets[1].split()\n",
        "\n",
        "    ref_en, en_number = zip(*[find_segment(english_root, en_id) for en_id in en_ids])\n",
        "    ref_en = \" \".join(filter(None, ref_en))\n",
        "\n",
        "    src_nl, nl_number = zip(*[find_segment(dutch_root, nl_id) for nl_id in nl_ids])\n",
        "    src_nl = \" \".join(filter(None, src_nl))\n",
        "\n",
        "    # Determine the chapter from the sentence number\n",
        "    chapter = en_ids[0].split('.')[1] if en_ids else 'Unknown'\n",
        "\n",
        "    # Check chapter end and append data summary\n",
        "    if chapter != current_chapter:\n",
        "        if current_chapter is not None:\n",
        "            chapter_df = pd.DataFrame(chapter_scores)\n",
        "            avg_comet = chapter_df[\"COMET Score\"].mean()\n",
        "            avg_bleu = chapter_df[\"SacreBLEU Score\"].mean()\n",
        "            avg_chrf = chapter_df[\"CHRF Score\"].mean()\n",
        "            results.append({\n",
        "                \"Dutch Source\": \"Chapter Average:\",\n",
        "                \"Reference English\": current_chapter,\n",
        "                \"Translated English\": \"\",\n",
        "                \"COMET Score\": round(avg_comet, 4),\n",
        "                \"SacreBLEU Score\": round(avg_bleu, 2),\n",
        "                \"CHRF Score\": round(avg_chrf, 2),\n",
        "                \"English Sentence Numbers\": \"\",\n",
        "                \"Dutch Sentence Numbers\": \"\"\n",
        "            })\n",
        "        current_chapter = chapter\n",
        "        chapter_scores = []\n",
        "\n",
        "    if not ref_en or not src_nl:\n",
        "        continue\n",
        "\n",
        "    # Translation\n",
        "    inputs = tokenizer(src_nl, return_tensors=\"pt\")\n",
        "    translated_tokens = model.generate(**inputs, forced_bos_token_id=tokenizer.get_lang_id(\"en\"))\n",
        "    translated_en = tokenizer.batch_decode(translated_tokens, skip_special_tokens=True)[0]\n",
        "\n",
        "    # COMET\n",
        "    comet_input = [{\n",
        "        \"src\": src_nl,\n",
        "        \"mt\": translated_en,\n",
        "        \"ref\": ref_en\n",
        "    }]\n",
        "    score = comet.predict(comet_input, batch_size=1)\n",
        "    comet_score = score.system_score\n",
        "\n",
        "    # SacreBLEU\n",
        "    bleu = sacrebleu.sentence_bleu(translated_en, [ref_en])\n",
        "    bleu_score = bleu.score\n",
        "\n",
        "    # CHRF++\n",
        "    chrf = sacrebleu.sentence_chrf(translated_en, [ref_en])\n",
        "    chrf_score = chrf.score\n",
        "\n",
        "    chapter_scores.append({\n",
        "        \"COMET Score\": comet_score,\n",
        "        \"SacreBLEU Score\": bleu_score,\n",
        "        \"CHRF Score\": chrf_score\n",
        "    })\n",
        "\n",
        "    print({\n",
        "        \"English Sentence Numbers\": \", \".join(en_ids),\n",
        "        \"Dutch Sentence Numbers\": \", \".join(nl_ids),\n",
        "        \"Dutch Source\": src_nl,\n",
        "        \"Reference English\": ref_en,\n",
        "        \"Translated English\": translated_en,\n",
        "        \"COMET Score\": round(comet_score, 4),\n",
        "        \"SacreBLEU Score\": round(bleu_score, 2),\n",
        "        \"CHRF Score\": round(chrf_score, 2)\n",
        "    })\n",
        "\n",
        "    # Append to results\n",
        "    results.append({\n",
        "        \"English Sentence Numbers\": \", \".join(en_ids),\n",
        "        \"Dutch Sentence Numbers\": \", \".join(nl_ids),\n",
        "        \"Dutch Source\": src_nl,\n",
        "        \"Reference English\": ref_en,\n",
        "        \"Translated English\": translated_en,\n",
        "        \"COMET Score\": round(comet_score, 4),\n",
        "        \"SacreBLEU Score\": round(bleu_score, 2),\n",
        "        \"CHRF Score\": round(chrf_score, 2)\n",
        "    })\n",
        "\n",
        "    # Stop after L23283 (End of Matthew New Testament)\n",
        "    if link_id == \"L23283\":\n",
        "        break\n",
        "\n",
        "# Save the results to CSV\n",
        "df = pd.DataFrame(results)\n",
        "df.to_csv(\"translation_comet_bleu_chrf_results_MAT_1_to_5.csv\", index=False)\n",
        "print(\"Saved\")"
      ]
    }
  ],
  "metadata": {
    "colab": {
      "provenance": []
    },
    "kernelspec": {
      "display_name": "Python 3",
      "name": "python3"
    },
    "language_info": {
      "name": "python"
    },
    "widgets": {
      "application/vnd.jupyter.widget-state+json": {
        "0533f404aecc4481a9c94bac1fb70252": {
          "model_module": "@jupyter-widgets/base",
          "model_module_version": "1.2.0",
          "model_name": "LayoutModel",
          "state": {
            "_model_module": "@jupyter-widgets/base",
            "_model_module_version": "1.2.0",
            "_model_name": "LayoutModel",
            "_view_count": null,
            "_view_module": "@jupyter-widgets/base",
            "_view_module_version": "1.2.0",
            "_view_name": "LayoutView",
            "align_content": null,
            "align_items": null,
            "align_self": null,
            "border": null,
            "bottom": null,
            "display": null,
            "flex": null,
            "flex_flow": null,
            "grid_area": null,
            "grid_auto_columns": null,
            "grid_auto_flow": null,
            "grid_auto_rows": null,
            "grid_column": null,
            "grid_gap": null,
            "grid_row": null,
            "grid_template_areas": null,
            "grid_template_columns": null,
            "grid_template_rows": null,
            "height": null,
            "justify_content": null,
            "justify_items": null,
            "left": null,
            "margin": null,
            "max_height": null,
            "max_width": null,
            "min_height": null,
            "min_width": null,
            "object_fit": null,
            "object_position": null,
            "order": null,
            "overflow": null,
            "overflow_x": null,
            "overflow_y": null,
            "padding": null,
            "right": null,
            "top": null,
            "visibility": null,
            "width": null
          }
        },
        "241816a705db451e854a3f9c92b8d68e": {
          "model_module": "@jupyter-widgets/controls",
          "model_module_version": "1.5.0",
          "model_name": "HTMLModel",
          "state": {
            "_dom_classes": [],
            "_model_module": "@jupyter-widgets/controls",
            "_model_module_version": "1.5.0",
            "_model_name": "HTMLModel",
            "_view_count": null,
            "_view_module": "@jupyter-widgets/controls",
            "_view_module_version": "1.5.0",
            "_view_name": "HTMLView",
            "description": "",
            "description_tooltip": null,
            "layout": "IPY_MODEL_8c5e738844c040a48e22a37cf671631d",
            "placeholder": "​",
            "style": "IPY_MODEL_59c6f49bb4834cefa13dc69829029a69",
            "value": "Fetching 5 files: 100%"
          }
        },
        "2af27885ee9c49a3927f88ee286e9c1a": {
          "model_module": "@jupyter-widgets/base",
          "model_module_version": "1.2.0",
          "model_name": "LayoutModel",
          "state": {
            "_model_module": "@jupyter-widgets/base",
            "_model_module_version": "1.2.0",
            "_model_name": "LayoutModel",
            "_view_count": null,
            "_view_module": "@jupyter-widgets/base",
            "_view_module_version": "1.2.0",
            "_view_name": "LayoutView",
            "align_content": null,
            "align_items": null,
            "align_self": null,
            "border": null,
            "bottom": null,
            "display": null,
            "flex": null,
            "flex_flow": null,
            "grid_area": null,
            "grid_auto_columns": null,
            "grid_auto_flow": null,
            "grid_auto_rows": null,
            "grid_column": null,
            "grid_gap": null,
            "grid_row": null,
            "grid_template_areas": null,
            "grid_template_columns": null,
            "grid_template_rows": null,
            "height": null,
            "justify_content": null,
            "justify_items": null,
            "left": null,
            "margin": null,
            "max_height": null,
            "max_width": null,
            "min_height": null,
            "min_width": null,
            "object_fit": null,
            "object_position": null,
            "order": null,
            "overflow": null,
            "overflow_x": null,
            "overflow_y": null,
            "padding": null,
            "right": null,
            "top": null,
            "visibility": null,
            "width": null
          }
        },
        "2db272c957864dbfb65d991b6d06f118": {
          "model_module": "@jupyter-widgets/controls",
          "model_module_version": "1.5.0",
          "model_name": "DescriptionStyleModel",
          "state": {
            "_model_module": "@jupyter-widgets/controls",
            "_model_module_version": "1.5.0",
            "_model_name": "DescriptionStyleModel",
            "_view_count": null,
            "_view_module": "@jupyter-widgets/base",
            "_view_module_version": "1.2.0",
            "_view_name": "StyleView",
            "description_width": ""
          }
        },
        "363cf3b1b3a54507acfba8c3e3343049": {
          "model_module": "@jupyter-widgets/controls",
          "model_module_version": "1.5.0",
          "model_name": "HTMLModel",
          "state": {
            "_dom_classes": [],
            "_model_module": "@jupyter-widgets/controls",
            "_model_module_version": "1.5.0",
            "_model_name": "HTMLModel",
            "_view_count": null,
            "_view_module": "@jupyter-widgets/controls",
            "_view_module_version": "1.5.0",
            "_view_name": "HTMLView",
            "description": "",
            "description_tooltip": null,
            "layout": "IPY_MODEL_fc5bca0be4cd4df5b3ff81a3d222d947",
            "placeholder": "​",
            "style": "IPY_MODEL_f735d3b4c32f4f71b29c9b305bcd6f50",
            "value": " 5/5 [00:00&lt;00:00, 255.23it/s]"
          }
        },
        "59c6f49bb4834cefa13dc69829029a69": {
          "model_module": "@jupyter-widgets/controls",
          "model_module_version": "1.5.0",
          "model_name": "DescriptionStyleModel",
          "state": {
            "_model_module": "@jupyter-widgets/controls",
            "_model_module_version": "1.5.0",
            "_model_name": "DescriptionStyleModel",
            "_view_count": null,
            "_view_module": "@jupyter-widgets/base",
            "_view_module_version": "1.2.0",
            "_view_name": "StyleView",
            "description_width": ""
          }
        },
        "5cfa14d3b4b34ca9853335069751c024": {
          "model_module": "@jupyter-widgets/controls",
          "model_module_version": "1.5.0",
          "model_name": "HBoxModel",
          "state": {
            "_dom_classes": [],
            "_model_module": "@jupyter-widgets/controls",
            "_model_module_version": "1.5.0",
            "_model_name": "HBoxModel",
            "_view_count": null,
            "_view_module": "@jupyter-widgets/controls",
            "_view_module_version": "1.5.0",
            "_view_name": "HBoxView",
            "box_style": "",
            "children": [
              "IPY_MODEL_241816a705db451e854a3f9c92b8d68e",
              "IPY_MODEL_9046749d5af54c5fbb254bfe732590c7",
              "IPY_MODEL_5f56cdf60b744b7aa28cd243f11ca548"
            ],
            "layout": "IPY_MODEL_fa0ef6a0485a439fbccdb5618e21ae36"
          }
        },
        "5f56cdf60b744b7aa28cd243f11ca548": {
          "model_module": "@jupyter-widgets/controls",
          "model_module_version": "1.5.0",
          "model_name": "HTMLModel",
          "state": {
            "_dom_classes": [],
            "_model_module": "@jupyter-widgets/controls",
            "_model_module_version": "1.5.0",
            "_model_name": "HTMLModel",
            "_view_count": null,
            "_view_module": "@jupyter-widgets/controls",
            "_view_module_version": "1.5.0",
            "_view_name": "HTMLView",
            "description": "",
            "description_tooltip": null,
            "layout": "IPY_MODEL_b6ee1cc74f324c9ba8a8183f439748fa",
            "placeholder": "​",
            "style": "IPY_MODEL_2db272c957864dbfb65d991b6d06f118",
            "value": " 5/5 [00:00&lt;00:00, 95.80it/s]"
          }
        },
        "5fbb44f5998248e0af12a1053acf5853": {
          "model_module": "@jupyter-widgets/controls",
          "model_module_version": "1.5.0",
          "model_name": "HTMLModel",
          "state": {
            "_dom_classes": [],
            "_model_module": "@jupyter-widgets/controls",
            "_model_module_version": "1.5.0",
            "_model_name": "HTMLModel",
            "_view_count": null,
            "_view_module": "@jupyter-widgets/controls",
            "_view_module_version": "1.5.0",
            "_view_name": "HTMLView",
            "description": "",
            "description_tooltip": null,
            "layout": "IPY_MODEL_f977833c61ac4e7497674cf37acb8c92",
            "placeholder": "​",
            "style": "IPY_MODEL_7a67a06b71ef4f34ab1a1ba501bcba1f",
            "value": "Fetching 5 files: 100%"
          }
        },
        "7a67a06b71ef4f34ab1a1ba501bcba1f": {
          "model_module": "@jupyter-widgets/controls",
          "model_module_version": "1.5.0",
          "model_name": "DescriptionStyleModel",
          "state": {
            "_model_module": "@jupyter-widgets/controls",
            "_model_module_version": "1.5.0",
            "_model_name": "DescriptionStyleModel",
            "_view_count": null,
            "_view_module": "@jupyter-widgets/base",
            "_view_module_version": "1.2.0",
            "_view_name": "StyleView",
            "description_width": ""
          }
        },
        "8c5e738844c040a48e22a37cf671631d": {
          "model_module": "@jupyter-widgets/base",
          "model_module_version": "1.2.0",
          "model_name": "LayoutModel",
          "state": {
            "_model_module": "@jupyter-widgets/base",
            "_model_module_version": "1.2.0",
            "_model_name": "LayoutModel",
            "_view_count": null,
            "_view_module": "@jupyter-widgets/base",
            "_view_module_version": "1.2.0",
            "_view_name": "LayoutView",
            "align_content": null,
            "align_items": null,
            "align_self": null,
            "border": null,
            "bottom": null,
            "display": null,
            "flex": null,
            "flex_flow": null,
            "grid_area": null,
            "grid_auto_columns": null,
            "grid_auto_flow": null,
            "grid_auto_rows": null,
            "grid_column": null,
            "grid_gap": null,
            "grid_row": null,
            "grid_template_areas": null,
            "grid_template_columns": null,
            "grid_template_rows": null,
            "height": null,
            "justify_content": null,
            "justify_items": null,
            "left": null,
            "margin": null,
            "max_height": null,
            "max_width": null,
            "min_height": null,
            "min_width": null,
            "object_fit": null,
            "object_position": null,
            "order": null,
            "overflow": null,
            "overflow_x": null,
            "overflow_y": null,
            "padding": null,
            "right": null,
            "top": null,
            "visibility": null,
            "width": null
          }
        },
        "9046749d5af54c5fbb254bfe732590c7": {
          "model_module": "@jupyter-widgets/controls",
          "model_module_version": "1.5.0",
          "model_name": "FloatProgressModel",
          "state": {
            "_dom_classes": [],
            "_model_module": "@jupyter-widgets/controls",
            "_model_module_version": "1.5.0",
            "_model_name": "FloatProgressModel",
            "_view_count": null,
            "_view_module": "@jupyter-widgets/controls",
            "_view_module_version": "1.5.0",
            "_view_name": "ProgressView",
            "bar_style": "success",
            "description": "",
            "description_tooltip": null,
            "layout": "IPY_MODEL_0533f404aecc4481a9c94bac1fb70252",
            "max": 5,
            "min": 0,
            "orientation": "horizontal",
            "style": "IPY_MODEL_fd3083e7e74b45e78ff5189b73804ce2",
            "value": 5
          }
        },
        "b6ee1cc74f324c9ba8a8183f439748fa": {
          "model_module": "@jupyter-widgets/base",
          "model_module_version": "1.2.0",
          "model_name": "LayoutModel",
          "state": {
            "_model_module": "@jupyter-widgets/base",
            "_model_module_version": "1.2.0",
            "_model_name": "LayoutModel",
            "_view_count": null,
            "_view_module": "@jupyter-widgets/base",
            "_view_module_version": "1.2.0",
            "_view_name": "LayoutView",
            "align_content": null,
            "align_items": null,
            "align_self": null,
            "border": null,
            "bottom": null,
            "display": null,
            "flex": null,
            "flex_flow": null,
            "grid_area": null,
            "grid_auto_columns": null,
            "grid_auto_flow": null,
            "grid_auto_rows": null,
            "grid_column": null,
            "grid_gap": null,
            "grid_row": null,
            "grid_template_areas": null,
            "grid_template_columns": null,
            "grid_template_rows": null,
            "height": null,
            "justify_content": null,
            "justify_items": null,
            "left": null,
            "margin": null,
            "max_height": null,
            "max_width": null,
            "min_height": null,
            "min_width": null,
            "object_fit": null,
            "object_position": null,
            "order": null,
            "overflow": null,
            "overflow_x": null,
            "overflow_y": null,
            "padding": null,
            "right": null,
            "top": null,
            "visibility": null,
            "width": null
          }
        },
        "dcd363e2695642bdbfd98d3bdf89fd8c": {
          "model_module": "@jupyter-widgets/controls",
          "model_module_version": "1.5.0",
          "model_name": "ProgressStyleModel",
          "state": {
            "_model_module": "@jupyter-widgets/controls",
            "_model_module_version": "1.5.0",
            "_model_name": "ProgressStyleModel",
            "_view_count": null,
            "_view_module": "@jupyter-widgets/base",
            "_view_module_version": "1.2.0",
            "_view_name": "StyleView",
            "bar_color": null,
            "description_width": ""
          }
        },
        "df5e4219809a47858e4e8f9198949205": {
          "model_module": "@jupyter-widgets/controls",
          "model_module_version": "1.5.0",
          "model_name": "FloatProgressModel",
          "state": {
            "_dom_classes": [],
            "_model_module": "@jupyter-widgets/controls",
            "_model_module_version": "1.5.0",
            "_model_name": "FloatProgressModel",
            "_view_count": null,
            "_view_module": "@jupyter-widgets/controls",
            "_view_module_version": "1.5.0",
            "_view_name": "ProgressView",
            "bar_style": "success",
            "description": "",
            "description_tooltip": null,
            "layout": "IPY_MODEL_e3fbd7cdf7c14ec69537ed01d238a3b8",
            "max": 5,
            "min": 0,
            "orientation": "horizontal",
            "style": "IPY_MODEL_dcd363e2695642bdbfd98d3bdf89fd8c",
            "value": 5
          }
        },
        "e3fbd7cdf7c14ec69537ed01d238a3b8": {
          "model_module": "@jupyter-widgets/base",
          "model_module_version": "1.2.0",
          "model_name": "LayoutModel",
          "state": {
            "_model_module": "@jupyter-widgets/base",
            "_model_module_version": "1.2.0",
            "_model_name": "LayoutModel",
            "_view_count": null,
            "_view_module": "@jupyter-widgets/base",
            "_view_module_version": "1.2.0",
            "_view_name": "LayoutView",
            "align_content": null,
            "align_items": null,
            "align_self": null,
            "border": null,
            "bottom": null,
            "display": null,
            "flex": null,
            "flex_flow": null,
            "grid_area": null,
            "grid_auto_columns": null,
            "grid_auto_flow": null,
            "grid_auto_rows": null,
            "grid_column": null,
            "grid_gap": null,
            "grid_row": null,
            "grid_template_areas": null,
            "grid_template_columns": null,
            "grid_template_rows": null,
            "height": null,
            "justify_content": null,
            "justify_items": null,
            "left": null,
            "margin": null,
            "max_height": null,
            "max_width": null,
            "min_height": null,
            "min_width": null,
            "object_fit": null,
            "object_position": null,
            "order": null,
            "overflow": null,
            "overflow_x": null,
            "overflow_y": null,
            "padding": null,
            "right": null,
            "top": null,
            "visibility": null,
            "width": null
          }
        },
        "ea2308af37e24640be18172f3cb4cd3d": {
          "model_module": "@jupyter-widgets/controls",
          "model_module_version": "1.5.0",
          "model_name": "HBoxModel",
          "state": {
            "_dom_classes": [],
            "_model_module": "@jupyter-widgets/controls",
            "_model_module_version": "1.5.0",
            "_model_name": "HBoxModel",
            "_view_count": null,
            "_view_module": "@jupyter-widgets/controls",
            "_view_module_version": "1.5.0",
            "_view_name": "HBoxView",
            "box_style": "",
            "children": [
              "IPY_MODEL_5fbb44f5998248e0af12a1053acf5853",
              "IPY_MODEL_df5e4219809a47858e4e8f9198949205",
              "IPY_MODEL_363cf3b1b3a54507acfba8c3e3343049"
            ],
            "layout": "IPY_MODEL_2af27885ee9c49a3927f88ee286e9c1a"
          }
        },
        "f735d3b4c32f4f71b29c9b305bcd6f50": {
          "model_module": "@jupyter-widgets/controls",
          "model_module_version": "1.5.0",
          "model_name": "DescriptionStyleModel",
          "state": {
            "_model_module": "@jupyter-widgets/controls",
            "_model_module_version": "1.5.0",
            "_model_name": "DescriptionStyleModel",
            "_view_count": null,
            "_view_module": "@jupyter-widgets/base",
            "_view_module_version": "1.2.0",
            "_view_name": "StyleView",
            "description_width": ""
          }
        },
        "f977833c61ac4e7497674cf37acb8c92": {
          "model_module": "@jupyter-widgets/base",
          "model_module_version": "1.2.0",
          "model_name": "LayoutModel",
          "state": {
            "_model_module": "@jupyter-widgets/base",
            "_model_module_version": "1.2.0",
            "_model_name": "LayoutModel",
            "_view_count": null,
            "_view_module": "@jupyter-widgets/base",
            "_view_module_version": "1.2.0",
            "_view_name": "LayoutView",
            "align_content": null,
            "align_items": null,
            "align_self": null,
            "border": null,
            "bottom": null,
            "display": null,
            "flex": null,
            "flex_flow": null,
            "grid_area": null,
            "grid_auto_columns": null,
            "grid_auto_flow": null,
            "grid_auto_rows": null,
            "grid_column": null,
            "grid_gap": null,
            "grid_row": null,
            "grid_template_areas": null,
            "grid_template_columns": null,
            "grid_template_rows": null,
            "height": null,
            "justify_content": null,
            "justify_items": null,
            "left": null,
            "margin": null,
            "max_height": null,
            "max_width": null,
            "min_height": null,
            "min_width": null,
            "object_fit": null,
            "object_position": null,
            "order": null,
            "overflow": null,
            "overflow_x": null,
            "overflow_y": null,
            "padding": null,
            "right": null,
            "top": null,
            "visibility": null,
            "width": null
          }
        },
        "fa0ef6a0485a439fbccdb5618e21ae36": {
          "model_module": "@jupyter-widgets/base",
          "model_module_version": "1.2.0",
          "model_name": "LayoutModel",
          "state": {
            "_model_module": "@jupyter-widgets/base",
            "_model_module_version": "1.2.0",
            "_model_name": "LayoutModel",
            "_view_count": null,
            "_view_module": "@jupyter-widgets/base",
            "_view_module_version": "1.2.0",
            "_view_name": "LayoutView",
            "align_content": null,
            "align_items": null,
            "align_self": null,
            "border": null,
            "bottom": null,
            "display": null,
            "flex": null,
            "flex_flow": null,
            "grid_area": null,
            "grid_auto_columns": null,
            "grid_auto_flow": null,
            "grid_auto_rows": null,
            "grid_column": null,
            "grid_gap": null,
            "grid_row": null,
            "grid_template_areas": null,
            "grid_template_columns": null,
            "grid_template_rows": null,
            "height": null,
            "justify_content": null,
            "justify_items": null,
            "left": null,
            "margin": null,
            "max_height": null,
            "max_width": null,
            "min_height": null,
            "min_width": null,
            "object_fit": null,
            "object_position": null,
            "order": null,
            "overflow": null,
            "overflow_x": null,
            "overflow_y": null,
            "padding": null,
            "right": null,
            "top": null,
            "visibility": null,
            "width": null
          }
        },
        "fc5bca0be4cd4df5b3ff81a3d222d947": {
          "model_module": "@jupyter-widgets/base",
          "model_module_version": "1.2.0",
          "model_name": "LayoutModel",
          "state": {
            "_model_module": "@jupyter-widgets/base",
            "_model_module_version": "1.2.0",
            "_model_name": "LayoutModel",
            "_view_count": null,
            "_view_module": "@jupyter-widgets/base",
            "_view_module_version": "1.2.0",
            "_view_name": "LayoutView",
            "align_content": null,
            "align_items": null,
            "align_self": null,
            "border": null,
            "bottom": null,
            "display": null,
            "flex": null,
            "flex_flow": null,
            "grid_area": null,
            "grid_auto_columns": null,
            "grid_auto_flow": null,
            "grid_auto_rows": null,
            "grid_column": null,
            "grid_gap": null,
            "grid_row": null,
            "grid_template_areas": null,
            "grid_template_columns": null,
            "grid_template_rows": null,
            "height": null,
            "justify_content": null,
            "justify_items": null,
            "left": null,
            "margin": null,
            "max_height": null,
            "max_width": null,
            "min_height": null,
            "min_width": null,
            "object_fit": null,
            "object_position": null,
            "order": null,
            "overflow": null,
            "overflow_x": null,
            "overflow_y": null,
            "padding": null,
            "right": null,
            "top": null,
            "visibility": null,
            "width": null
          }
        },
        "fd3083e7e74b45e78ff5189b73804ce2": {
          "model_module": "@jupyter-widgets/controls",
          "model_module_version": "1.5.0",
          "model_name": "ProgressStyleModel",
          "state": {
            "_model_module": "@jupyter-widgets/controls",
            "_model_module_version": "1.5.0",
            "_model_name": "ProgressStyleModel",
            "_view_count": null,
            "_view_module": "@jupyter-widgets/base",
            "_view_module_version": "1.2.0",
            "_view_name": "StyleView",
            "bar_color": null,
            "description_width": ""
          }
        }
      }
    }
  },
  "nbformat": 4,
  "nbformat_minor": 0
}
